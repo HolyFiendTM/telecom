{
 "cells": [
  {
   "cell_type": "markdown",
   "metadata": {
    "tags": []
   },
   "source": [
    "# Введение\n",
    "\n",
    "1. Название проекта: Телеком — Поиск клиента с неоптимальными тарифами\n",
    "2. Исходные данные: датасеты telecom_dataset.csv (логи) и telecom_clients.csv (клиенты).\n",
    "3. Цели и задачи: найти клиентов, которые: а) переплачивают на текущих тарифах; б) сэкономят, если перейдут на более дорогой тариф; решить проблему неоптимальных тарифов и потенциального оттока пользователей.\n",
    "4. Этапы исследования: открытие файла с данными и изучение общей информации, предобработка данных, исследовательский анализ данных (изучение ситуации при использовании различных тарифов, изучение выручки и переплат), проверка статистических гипотез, выводы."
   ]
  },
  {
   "cell_type": "code",
   "execution_count": 1,
   "metadata": {},
   "outputs": [],
   "source": [
    "import pandas as pd\n",
    "import numpy as np\n",
    "import datetime as dt\n",
    "import matplotlib.pyplot as plt\n",
    "from scipy import stats"
   ]
  },
  {
   "cell_type": "markdown",
   "metadata": {
    "tags": []
   },
   "source": [
    "## Выгрузка данных"
   ]
  },
  {
   "cell_type": "code",
   "execution_count": 2,
   "metadata": {},
   "outputs": [],
   "source": [
    "calls_log = pd.read_csv('https://code.s3.yandex.net/datasets/telecom_dataset.csv')\n",
    "clients = pd.read_csv('https://code.s3.yandex.net/datasets/telecom_clients.csv')"
   ]
  },
  {
   "cell_type": "markdown",
   "metadata": {},
   "source": [
    "### Датафрейм с логами звонков"
   ]
  },
  {
   "cell_type": "code",
   "execution_count": 3,
   "metadata": {},
   "outputs": [
    {
     "name": "stdout",
     "output_type": "stream",
     "text": [
      "<class 'pandas.core.frame.DataFrame'>\n",
      "RangeIndex: 53902 entries, 0 to 53901\n",
      "Data columns (total 9 columns):\n",
      " #   Column               Non-Null Count  Dtype  \n",
      "---  ------               --------------  -----  \n",
      " 0   user_id              53902 non-null  int64  \n",
      " 1   date                 53902 non-null  object \n",
      " 2   direction            53902 non-null  object \n",
      " 3   internal             53785 non-null  object \n",
      " 4   operator_id          45730 non-null  float64\n",
      " 5   is_missed_call       53902 non-null  bool   \n",
      " 6   calls_count          53902 non-null  int64  \n",
      " 7   call_duration        53902 non-null  int64  \n",
      " 8   total_call_duration  53902 non-null  int64  \n",
      "dtypes: bool(1), float64(1), int64(4), object(3)\n",
      "memory usage: 3.3+ MB\n"
     ]
    },
    {
     "data": {
      "text/html": [
       "<div>\n",
       "<style scoped>\n",
       "    .dataframe tbody tr th:only-of-type {\n",
       "        vertical-align: middle;\n",
       "    }\n",
       "\n",
       "    .dataframe tbody tr th {\n",
       "        vertical-align: top;\n",
       "    }\n",
       "\n",
       "    .dataframe thead th {\n",
       "        text-align: right;\n",
       "    }\n",
       "</style>\n",
       "<table border=\"1\" class=\"dataframe\">\n",
       "  <thead>\n",
       "    <tr style=\"text-align: right;\">\n",
       "      <th></th>\n",
       "      <th>user_id</th>\n",
       "      <th>date</th>\n",
       "      <th>direction</th>\n",
       "      <th>internal</th>\n",
       "      <th>operator_id</th>\n",
       "      <th>is_missed_call</th>\n",
       "      <th>calls_count</th>\n",
       "      <th>call_duration</th>\n",
       "      <th>total_call_duration</th>\n",
       "    </tr>\n",
       "  </thead>\n",
       "  <tbody>\n",
       "    <tr>\n",
       "      <th>0</th>\n",
       "      <td>166377</td>\n",
       "      <td>2019-08-04 00:00:00+03:00</td>\n",
       "      <td>in</td>\n",
       "      <td>False</td>\n",
       "      <td>NaN</td>\n",
       "      <td>True</td>\n",
       "      <td>2</td>\n",
       "      <td>0</td>\n",
       "      <td>4</td>\n",
       "    </tr>\n",
       "    <tr>\n",
       "      <th>1</th>\n",
       "      <td>166377</td>\n",
       "      <td>2019-08-05 00:00:00+03:00</td>\n",
       "      <td>out</td>\n",
       "      <td>True</td>\n",
       "      <td>880022.0</td>\n",
       "      <td>True</td>\n",
       "      <td>3</td>\n",
       "      <td>0</td>\n",
       "      <td>5</td>\n",
       "    </tr>\n",
       "    <tr>\n",
       "      <th>2</th>\n",
       "      <td>166377</td>\n",
       "      <td>2019-08-05 00:00:00+03:00</td>\n",
       "      <td>out</td>\n",
       "      <td>True</td>\n",
       "      <td>880020.0</td>\n",
       "      <td>True</td>\n",
       "      <td>1</td>\n",
       "      <td>0</td>\n",
       "      <td>1</td>\n",
       "    </tr>\n",
       "    <tr>\n",
       "      <th>3</th>\n",
       "      <td>166377</td>\n",
       "      <td>2019-08-05 00:00:00+03:00</td>\n",
       "      <td>out</td>\n",
       "      <td>True</td>\n",
       "      <td>880020.0</td>\n",
       "      <td>False</td>\n",
       "      <td>1</td>\n",
       "      <td>10</td>\n",
       "      <td>18</td>\n",
       "    </tr>\n",
       "    <tr>\n",
       "      <th>4</th>\n",
       "      <td>166377</td>\n",
       "      <td>2019-08-05 00:00:00+03:00</td>\n",
       "      <td>out</td>\n",
       "      <td>False</td>\n",
       "      <td>880022.0</td>\n",
       "      <td>True</td>\n",
       "      <td>3</td>\n",
       "      <td>0</td>\n",
       "      <td>25</td>\n",
       "    </tr>\n",
       "  </tbody>\n",
       "</table>\n",
       "</div>"
      ],
      "text/plain": [
       "   user_id                       date direction internal  operator_id  \\\n",
       "0   166377  2019-08-04 00:00:00+03:00        in    False          NaN   \n",
       "1   166377  2019-08-05 00:00:00+03:00       out     True     880022.0   \n",
       "2   166377  2019-08-05 00:00:00+03:00       out     True     880020.0   \n",
       "3   166377  2019-08-05 00:00:00+03:00       out     True     880020.0   \n",
       "4   166377  2019-08-05 00:00:00+03:00       out    False     880022.0   \n",
       "\n",
       "   is_missed_call  calls_count  call_duration  total_call_duration  \n",
       "0            True            2              0                    4  \n",
       "1            True            3              0                    5  \n",
       "2            True            1              0                    1  \n",
       "3           False            1             10                   18  \n",
       "4            True            3              0                   25  "
      ]
     },
     "execution_count": 3,
     "metadata": {},
     "output_type": "execute_result"
    }
   ],
   "source": [
    "calls_log.info()\n",
    "calls_log.head()"
   ]
  },
  {
   "cell_type": "markdown",
   "metadata": {},
   "source": [
    "Что нужно изменить:\n",
    "- столбец date привести к типу datetime, а после оставить только дату\n",
    "- столбец internal привести к типу boolean\n",
    "- столбец operator_id привести к типу integer\n",
    "\n",
    "Много пропусков в столбце operator_id - произошло это по большей части из-за слишком коротких звонков: клиенты сбрасывали, не дождавшись распределения по операторам колл-центра, в итоге на звонок не был назначен ни один из операторов. Несущественная информация, в изменении не нуждается.\n",
    "\n",
    "Немного пропусков в столбце internal - довольно важная информация, требуется либо вставить какое-то значение (например, самое популярное), либо вовсе удалить эти строчки."
   ]
  },
  {
   "cell_type": "markdown",
   "metadata": {},
   "source": [
    "### Датафрейм с информацией о клиентах"
   ]
  },
  {
   "cell_type": "code",
   "execution_count": 4,
   "metadata": {},
   "outputs": [
    {
     "name": "stdout",
     "output_type": "stream",
     "text": [
      "<class 'pandas.core.frame.DataFrame'>\n",
      "RangeIndex: 732 entries, 0 to 731\n",
      "Data columns (total 3 columns):\n",
      " #   Column       Non-Null Count  Dtype \n",
      "---  ------       --------------  ----- \n",
      " 0   user_id      732 non-null    int64 \n",
      " 1   tariff_plan  732 non-null    object\n",
      " 2   date_start   732 non-null    object\n",
      "dtypes: int64(1), object(2)\n",
      "memory usage: 17.3+ KB\n"
     ]
    },
    {
     "data": {
      "text/html": [
       "<div>\n",
       "<style scoped>\n",
       "    .dataframe tbody tr th:only-of-type {\n",
       "        vertical-align: middle;\n",
       "    }\n",
       "\n",
       "    .dataframe tbody tr th {\n",
       "        vertical-align: top;\n",
       "    }\n",
       "\n",
       "    .dataframe thead th {\n",
       "        text-align: right;\n",
       "    }\n",
       "</style>\n",
       "<table border=\"1\" class=\"dataframe\">\n",
       "  <thead>\n",
       "    <tr style=\"text-align: right;\">\n",
       "      <th></th>\n",
       "      <th>user_id</th>\n",
       "      <th>tariff_plan</th>\n",
       "      <th>date_start</th>\n",
       "    </tr>\n",
       "  </thead>\n",
       "  <tbody>\n",
       "    <tr>\n",
       "      <th>0</th>\n",
       "      <td>166713</td>\n",
       "      <td>A</td>\n",
       "      <td>2019-08-15</td>\n",
       "    </tr>\n",
       "    <tr>\n",
       "      <th>1</th>\n",
       "      <td>166901</td>\n",
       "      <td>A</td>\n",
       "      <td>2019-08-23</td>\n",
       "    </tr>\n",
       "    <tr>\n",
       "      <th>2</th>\n",
       "      <td>168527</td>\n",
       "      <td>A</td>\n",
       "      <td>2019-10-29</td>\n",
       "    </tr>\n",
       "    <tr>\n",
       "      <th>3</th>\n",
       "      <td>167097</td>\n",
       "      <td>A</td>\n",
       "      <td>2019-09-01</td>\n",
       "    </tr>\n",
       "    <tr>\n",
       "      <th>4</th>\n",
       "      <td>168193</td>\n",
       "      <td>A</td>\n",
       "      <td>2019-10-16</td>\n",
       "    </tr>\n",
       "  </tbody>\n",
       "</table>\n",
       "</div>"
      ],
      "text/plain": [
       "   user_id tariff_plan  date_start\n",
       "0   166713           A  2019-08-15\n",
       "1   166901           A  2019-08-23\n",
       "2   168527           A  2019-10-29\n",
       "3   167097           A  2019-09-01\n",
       "4   168193           A  2019-10-16"
      ]
     },
     "execution_count": 4,
     "metadata": {},
     "output_type": "execute_result"
    }
   ],
   "source": [
    "clients.info()\n",
    "clients.head()"
   ]
  },
  {
   "cell_type": "markdown",
   "metadata": {},
   "source": [
    "Всё хорошо, датафрейм в изменениях не нуждается."
   ]
  },
  {
   "cell_type": "markdown",
   "metadata": {},
   "source": [
    "## Предобработка данных"
   ]
  },
  {
   "cell_type": "markdown",
   "metadata": {},
   "source": [
    "### Приведение столбцов к корректным типам данных"
   ]
  },
  {
   "cell_type": "code",
   "execution_count": 5,
   "metadata": {},
   "outputs": [],
   "source": [
    "calls_log['date'] = pd.to_datetime(calls_log['date']).dt.date\n",
    "calls_log = calls_log.astype({'internal': 'boolean', 'operator_id': 'Int64'})"
   ]
  },
  {
   "cell_type": "code",
   "execution_count": 6,
   "metadata": {},
   "outputs": [
    {
     "data": {
      "text/plain": [
       "user_id                  int64\n",
       "date                    object\n",
       "direction               object\n",
       "internal               boolean\n",
       "operator_id              Int64\n",
       "is_missed_call            bool\n",
       "calls_count              int64\n",
       "call_duration            int64\n",
       "total_call_duration      int64\n",
       "dtype: object"
      ]
     },
     "metadata": {},
     "output_type": "display_data"
    },
    {
     "data": {
      "text/html": [
       "<div>\n",
       "<style scoped>\n",
       "    .dataframe tbody tr th:only-of-type {\n",
       "        vertical-align: middle;\n",
       "    }\n",
       "\n",
       "    .dataframe tbody tr th {\n",
       "        vertical-align: top;\n",
       "    }\n",
       "\n",
       "    .dataframe thead th {\n",
       "        text-align: right;\n",
       "    }\n",
       "</style>\n",
       "<table border=\"1\" class=\"dataframe\">\n",
       "  <thead>\n",
       "    <tr style=\"text-align: right;\">\n",
       "      <th></th>\n",
       "      <th>user_id</th>\n",
       "      <th>date</th>\n",
       "      <th>direction</th>\n",
       "      <th>internal</th>\n",
       "      <th>operator_id</th>\n",
       "      <th>is_missed_call</th>\n",
       "      <th>calls_count</th>\n",
       "      <th>call_duration</th>\n",
       "      <th>total_call_duration</th>\n",
       "    </tr>\n",
       "  </thead>\n",
       "  <tbody>\n",
       "    <tr>\n",
       "      <th>0</th>\n",
       "      <td>166377</td>\n",
       "      <td>2019-08-04</td>\n",
       "      <td>in</td>\n",
       "      <td>False</td>\n",
       "      <td>&lt;NA&gt;</td>\n",
       "      <td>True</td>\n",
       "      <td>2</td>\n",
       "      <td>0</td>\n",
       "      <td>4</td>\n",
       "    </tr>\n",
       "    <tr>\n",
       "      <th>1</th>\n",
       "      <td>166377</td>\n",
       "      <td>2019-08-05</td>\n",
       "      <td>out</td>\n",
       "      <td>True</td>\n",
       "      <td>880022</td>\n",
       "      <td>True</td>\n",
       "      <td>3</td>\n",
       "      <td>0</td>\n",
       "      <td>5</td>\n",
       "    </tr>\n",
       "    <tr>\n",
       "      <th>2</th>\n",
       "      <td>166377</td>\n",
       "      <td>2019-08-05</td>\n",
       "      <td>out</td>\n",
       "      <td>True</td>\n",
       "      <td>880020</td>\n",
       "      <td>True</td>\n",
       "      <td>1</td>\n",
       "      <td>0</td>\n",
       "      <td>1</td>\n",
       "    </tr>\n",
       "    <tr>\n",
       "      <th>3</th>\n",
       "      <td>166377</td>\n",
       "      <td>2019-08-05</td>\n",
       "      <td>out</td>\n",
       "      <td>True</td>\n",
       "      <td>880020</td>\n",
       "      <td>False</td>\n",
       "      <td>1</td>\n",
       "      <td>10</td>\n",
       "      <td>18</td>\n",
       "    </tr>\n",
       "    <tr>\n",
       "      <th>4</th>\n",
       "      <td>166377</td>\n",
       "      <td>2019-08-05</td>\n",
       "      <td>out</td>\n",
       "      <td>False</td>\n",
       "      <td>880022</td>\n",
       "      <td>True</td>\n",
       "      <td>3</td>\n",
       "      <td>0</td>\n",
       "      <td>25</td>\n",
       "    </tr>\n",
       "  </tbody>\n",
       "</table>\n",
       "</div>"
      ],
      "text/plain": [
       "   user_id        date direction  internal  operator_id  is_missed_call  \\\n",
       "0   166377  2019-08-04        in     False         <NA>            True   \n",
       "1   166377  2019-08-05       out      True       880022            True   \n",
       "2   166377  2019-08-05       out      True       880020            True   \n",
       "3   166377  2019-08-05       out      True       880020           False   \n",
       "4   166377  2019-08-05       out     False       880022            True   \n",
       "\n",
       "   calls_count  call_duration  total_call_duration  \n",
       "0            2              0                    4  \n",
       "1            3              0                    5  \n",
       "2            1              0                    1  \n",
       "3            1             10                   18  \n",
       "4            3              0                   25  "
      ]
     },
     "execution_count": 6,
     "metadata": {},
     "output_type": "execute_result"
    }
   ],
   "source": [
    "display(calls_log.dtypes)\n",
    "calls_log.head()"
   ]
  },
  {
   "cell_type": "markdown",
   "metadata": {},
   "source": [
    "### Обработка пропущенных значений"
   ]
  },
  {
   "cell_type": "code",
   "execution_count": 7,
   "metadata": {},
   "outputs": [
    {
     "data": {
      "text/plain": [
       "internal\n",
       "False    47621\n",
       "True      6164\n",
       "Name: count, dtype: Int64"
      ]
     },
     "execution_count": 7,
     "metadata": {},
     "output_type": "execute_result"
    }
   ],
   "source": [
    "calls_log['internal'].value_counts()"
   ]
  },
  {
   "cell_type": "markdown",
   "metadata": {},
   "source": [
    "В подавляющем большинстве случаев звонки внешние, что логично. Так как пропусков в столбце internal относительно мало, их можно заменить значением False - маркером внешнего звонка."
   ]
  },
  {
   "cell_type": "code",
   "execution_count": 8,
   "metadata": {},
   "outputs": [
    {
     "data": {
      "text/plain": [
       "0"
      ]
     },
     "execution_count": 8,
     "metadata": {},
     "output_type": "execute_result"
    }
   ],
   "source": [
    "calls_log['internal'].fillna(False, inplace=True)\n",
    "calls_log['internal'].isna().sum() # проверяем, что пропусков больше нет"
   ]
  },
  {
   "cell_type": "markdown",
   "metadata": {},
   "source": [
    "### Обработка дубликатов"
   ]
  },
  {
   "cell_type": "code",
   "execution_count": 9,
   "metadata": {},
   "outputs": [
    {
     "data": {
      "text/plain": [
       "4900"
      ]
     },
     "execution_count": 9,
     "metadata": {},
     "output_type": "execute_result"
    }
   ],
   "source": [
    "calls_log.duplicated().sum()\n",
    "# количество полных дубликатов "
   ]
  },
  {
   "cell_type": "code",
   "execution_count": 10,
   "metadata": {},
   "outputs": [
    {
     "data": {
      "text/html": [
       "<div>\n",
       "<style scoped>\n",
       "    .dataframe tbody tr th:only-of-type {\n",
       "        vertical-align: middle;\n",
       "    }\n",
       "\n",
       "    .dataframe tbody tr th {\n",
       "        vertical-align: top;\n",
       "    }\n",
       "\n",
       "    .dataframe thead th {\n",
       "        text-align: right;\n",
       "    }\n",
       "</style>\n",
       "<table border=\"1\" class=\"dataframe\">\n",
       "  <thead>\n",
       "    <tr style=\"text-align: right;\">\n",
       "      <th></th>\n",
       "      <th>user_id</th>\n",
       "      <th>date</th>\n",
       "      <th>direction</th>\n",
       "      <th>internal</th>\n",
       "      <th>operator_id</th>\n",
       "      <th>is_missed_call</th>\n",
       "      <th>calls_count</th>\n",
       "      <th>call_duration</th>\n",
       "      <th>total_call_duration</th>\n",
       "    </tr>\n",
       "  </thead>\n",
       "  <tbody>\n",
       "    <tr>\n",
       "      <th>6</th>\n",
       "      <td>166377</td>\n",
       "      <td>2019-08-05</td>\n",
       "      <td>out</td>\n",
       "      <td>False</td>\n",
       "      <td>880020</td>\n",
       "      <td>True</td>\n",
       "      <td>8</td>\n",
       "      <td>0</td>\n",
       "      <td>50</td>\n",
       "    </tr>\n",
       "    <tr>\n",
       "      <th>8</th>\n",
       "      <td>166377</td>\n",
       "      <td>2019-08-05</td>\n",
       "      <td>out</td>\n",
       "      <td>False</td>\n",
       "      <td>880020</td>\n",
       "      <td>True</td>\n",
       "      <td>8</td>\n",
       "      <td>0</td>\n",
       "      <td>50</td>\n",
       "    </tr>\n",
       "    <tr>\n",
       "      <th>27</th>\n",
       "      <td>166377</td>\n",
       "      <td>2019-08-12</td>\n",
       "      <td>in</td>\n",
       "      <td>False</td>\n",
       "      <td>&lt;NA&gt;</td>\n",
       "      <td>True</td>\n",
       "      <td>2</td>\n",
       "      <td>0</td>\n",
       "      <td>34</td>\n",
       "    </tr>\n",
       "    <tr>\n",
       "      <th>28</th>\n",
       "      <td>166377</td>\n",
       "      <td>2019-08-12</td>\n",
       "      <td>in</td>\n",
       "      <td>False</td>\n",
       "      <td>&lt;NA&gt;</td>\n",
       "      <td>True</td>\n",
       "      <td>2</td>\n",
       "      <td>0</td>\n",
       "      <td>34</td>\n",
       "    </tr>\n",
       "    <tr>\n",
       "      <th>38</th>\n",
       "      <td>166377</td>\n",
       "      <td>2019-08-14</td>\n",
       "      <td>in</td>\n",
       "      <td>False</td>\n",
       "      <td>&lt;NA&gt;</td>\n",
       "      <td>True</td>\n",
       "      <td>1</td>\n",
       "      <td>0</td>\n",
       "      <td>3</td>\n",
       "    </tr>\n",
       "    <tr>\n",
       "      <th>43</th>\n",
       "      <td>166377</td>\n",
       "      <td>2019-08-14</td>\n",
       "      <td>out</td>\n",
       "      <td>False</td>\n",
       "      <td>880026</td>\n",
       "      <td>False</td>\n",
       "      <td>10</td>\n",
       "      <td>1567</td>\n",
       "      <td>1654</td>\n",
       "    </tr>\n",
       "    <tr>\n",
       "      <th>44</th>\n",
       "      <td>166377</td>\n",
       "      <td>2019-08-14</td>\n",
       "      <td>out</td>\n",
       "      <td>False</td>\n",
       "      <td>880026</td>\n",
       "      <td>False</td>\n",
       "      <td>10</td>\n",
       "      <td>1567</td>\n",
       "      <td>1654</td>\n",
       "    </tr>\n",
       "    <tr>\n",
       "      <th>45</th>\n",
       "      <td>166377</td>\n",
       "      <td>2019-08-14</td>\n",
       "      <td>in</td>\n",
       "      <td>False</td>\n",
       "      <td>&lt;NA&gt;</td>\n",
       "      <td>True</td>\n",
       "      <td>1</td>\n",
       "      <td>0</td>\n",
       "      <td>3</td>\n",
       "    </tr>\n",
       "    <tr>\n",
       "      <th>46</th>\n",
       "      <td>166377</td>\n",
       "      <td>2019-08-15</td>\n",
       "      <td>out</td>\n",
       "      <td>False</td>\n",
       "      <td>880026</td>\n",
       "      <td>False</td>\n",
       "      <td>11</td>\n",
       "      <td>1413</td>\n",
       "      <td>1473</td>\n",
       "    </tr>\n",
       "    <tr>\n",
       "      <th>51</th>\n",
       "      <td>166377</td>\n",
       "      <td>2019-08-15</td>\n",
       "      <td>out</td>\n",
       "      <td>False</td>\n",
       "      <td>880026</td>\n",
       "      <td>False</td>\n",
       "      <td>11</td>\n",
       "      <td>1413</td>\n",
       "      <td>1473</td>\n",
       "    </tr>\n",
       "  </tbody>\n",
       "</table>\n",
       "</div>"
      ],
      "text/plain": [
       "    user_id        date direction  internal  operator_id  is_missed_call  \\\n",
       "6    166377  2019-08-05       out     False       880020            True   \n",
       "8    166377  2019-08-05       out     False       880020            True   \n",
       "27   166377  2019-08-12        in     False         <NA>            True   \n",
       "28   166377  2019-08-12        in     False         <NA>            True   \n",
       "38   166377  2019-08-14        in     False         <NA>            True   \n",
       "43   166377  2019-08-14       out     False       880026           False   \n",
       "44   166377  2019-08-14       out     False       880026           False   \n",
       "45   166377  2019-08-14        in     False         <NA>            True   \n",
       "46   166377  2019-08-15       out     False       880026           False   \n",
       "51   166377  2019-08-15       out     False       880026           False   \n",
       "\n",
       "    calls_count  call_duration  total_call_duration  \n",
       "6             8              0                   50  \n",
       "8             8              0                   50  \n",
       "27            2              0                   34  \n",
       "28            2              0                   34  \n",
       "38            1              0                    3  \n",
       "43           10           1567                 1654  \n",
       "44           10           1567                 1654  \n",
       "45            1              0                    3  \n",
       "46           11           1413                 1473  \n",
       "51           11           1413                 1473  "
      ]
     },
     "execution_count": 10,
     "metadata": {},
     "output_type": "execute_result"
    }
   ],
   "source": [
    "calls_log[calls_log.duplicated(keep=False)].head(10)\n",
    "# проверяем, что это действительно дубликаты, которые необходимо удалить (на всякий случай)"
   ]
  },
  {
   "cell_type": "code",
   "execution_count": 11,
   "metadata": {},
   "outputs": [
    {
     "data": {
      "text/plain": [
       "49002"
      ]
     },
     "execution_count": 11,
     "metadata": {},
     "output_type": "execute_result"
    }
   ],
   "source": [
    "# удалим эти дубликаты\n",
    "calls_log = calls_log.drop_duplicates().reset_index(drop=True)\n",
    "calls_log.shape[0]"
   ]
  },
  {
   "cell_type": "code",
   "execution_count": 12,
   "metadata": {},
   "outputs": [
    {
     "data": {
      "text/plain": [
       "0"
      ]
     },
     "execution_count": 12,
     "metadata": {},
     "output_type": "execute_result"
    }
   ],
   "source": [
    "clients.duplicated(subset=['user_id']).sum()\n",
    "# количество дубликатов в разрезе идентификатора клиента"
   ]
  },
  {
   "cell_type": "markdown",
   "metadata": {},
   "source": [
    "Дубликатов нет, изменять нечего."
   ]
  },
  {
   "cell_type": "markdown",
   "metadata": {},
   "source": [
    "### Промежуточные выводы"
   ]
  },
  {
   "cell_type": "markdown",
   "metadata": {},
   "source": [
    "Были приведены к корректному типу данных некоторые столбцы датафрейма с логами, обработаны пропуски и дубликаты."
   ]
  },
  {
   "cell_type": "markdown",
   "metadata": {},
   "source": [
    "## Исследовательский анализ данных"
   ]
  },
  {
   "cell_type": "markdown",
   "metadata": {},
   "source": [
    "### Подсчёт стоимости одного месяца для каждого клиента"
   ]
  },
  {
   "cell_type": "code",
   "execution_count": 13,
   "metadata": {},
   "outputs": [
    {
     "data": {
      "text/html": [
       "<div>\n",
       "<style scoped>\n",
       "    .dataframe tbody tr th:only-of-type {\n",
       "        vertical-align: middle;\n",
       "    }\n",
       "\n",
       "    .dataframe tbody tr th {\n",
       "        vertical-align: top;\n",
       "    }\n",
       "\n",
       "    .dataframe thead th {\n",
       "        text-align: right;\n",
       "    }\n",
       "</style>\n",
       "<table border=\"1\" class=\"dataframe\">\n",
       "  <thead>\n",
       "    <tr style=\"text-align: right;\">\n",
       "      <th></th>\n",
       "      <th>user_id</th>\n",
       "      <th>date</th>\n",
       "      <th>direction</th>\n",
       "      <th>internal</th>\n",
       "      <th>operator_id</th>\n",
       "      <th>is_missed_call</th>\n",
       "      <th>calls_count</th>\n",
       "      <th>call_duration</th>\n",
       "      <th>total_call_duration</th>\n",
       "      <th>month</th>\n",
       "    </tr>\n",
       "  </thead>\n",
       "  <tbody>\n",
       "    <tr>\n",
       "      <th>0</th>\n",
       "      <td>166377</td>\n",
       "      <td>2019-08-04</td>\n",
       "      <td>in</td>\n",
       "      <td>False</td>\n",
       "      <td>&lt;NA&gt;</td>\n",
       "      <td>True</td>\n",
       "      <td>2</td>\n",
       "      <td>0</td>\n",
       "      <td>4</td>\n",
       "      <td>8</td>\n",
       "    </tr>\n",
       "    <tr>\n",
       "      <th>1</th>\n",
       "      <td>166377</td>\n",
       "      <td>2019-08-05</td>\n",
       "      <td>out</td>\n",
       "      <td>True</td>\n",
       "      <td>880022</td>\n",
       "      <td>True</td>\n",
       "      <td>3</td>\n",
       "      <td>0</td>\n",
       "      <td>5</td>\n",
       "      <td>8</td>\n",
       "    </tr>\n",
       "    <tr>\n",
       "      <th>2</th>\n",
       "      <td>166377</td>\n",
       "      <td>2019-08-05</td>\n",
       "      <td>out</td>\n",
       "      <td>True</td>\n",
       "      <td>880020</td>\n",
       "      <td>True</td>\n",
       "      <td>1</td>\n",
       "      <td>0</td>\n",
       "      <td>1</td>\n",
       "      <td>8</td>\n",
       "    </tr>\n",
       "    <tr>\n",
       "      <th>3</th>\n",
       "      <td>166377</td>\n",
       "      <td>2019-08-05</td>\n",
       "      <td>out</td>\n",
       "      <td>True</td>\n",
       "      <td>880020</td>\n",
       "      <td>False</td>\n",
       "      <td>1</td>\n",
       "      <td>10</td>\n",
       "      <td>18</td>\n",
       "      <td>8</td>\n",
       "    </tr>\n",
       "    <tr>\n",
       "      <th>4</th>\n",
       "      <td>166377</td>\n",
       "      <td>2019-08-05</td>\n",
       "      <td>out</td>\n",
       "      <td>False</td>\n",
       "      <td>880022</td>\n",
       "      <td>True</td>\n",
       "      <td>3</td>\n",
       "      <td>0</td>\n",
       "      <td>25</td>\n",
       "      <td>8</td>\n",
       "    </tr>\n",
       "  </tbody>\n",
       "</table>\n",
       "</div>"
      ],
      "text/plain": [
       "   user_id        date direction  internal  operator_id  is_missed_call  \\\n",
       "0   166377  2019-08-04        in     False         <NA>            True   \n",
       "1   166377  2019-08-05       out      True       880022            True   \n",
       "2   166377  2019-08-05       out      True       880020            True   \n",
       "3   166377  2019-08-05       out      True       880020           False   \n",
       "4   166377  2019-08-05       out     False       880022            True   \n",
       "\n",
       "   calls_count  call_duration  total_call_duration  month  \n",
       "0            2              0                    4      8  \n",
       "1            3              0                    5      8  \n",
       "2            1              0                    1      8  \n",
       "3            1             10                   18      8  \n",
       "4            3              0                   25      8  "
      ]
     },
     "execution_count": 13,
     "metadata": {},
     "output_type": "execute_result"
    }
   ],
   "source": [
    "calls_log['month'] = pd.to_datetime(calls_log['date']).dt.month\n",
    "calls_log.head()"
   ]
  },
  {
   "cell_type": "code",
   "execution_count": 14,
   "metadata": {},
   "outputs": [
    {
     "data": {
      "text/html": [
       "<div>\n",
       "<style scoped>\n",
       "    .dataframe tbody tr th:only-of-type {\n",
       "        vertical-align: middle;\n",
       "    }\n",
       "\n",
       "    .dataframe tbody tr th {\n",
       "        vertical-align: top;\n",
       "    }\n",
       "\n",
       "    .dataframe thead th {\n",
       "        text-align: right;\n",
       "    }\n",
       "</style>\n",
       "<table border=\"1\" class=\"dataframe\">\n",
       "  <thead>\n",
       "    <tr style=\"text-align: right;\">\n",
       "      <th></th>\n",
       "      <th>user_id</th>\n",
       "      <th>month</th>\n",
       "    </tr>\n",
       "  </thead>\n",
       "  <tbody>\n",
       "    <tr>\n",
       "      <th>0</th>\n",
       "      <td>166377</td>\n",
       "      <td>8</td>\n",
       "    </tr>\n",
       "    <tr>\n",
       "      <th>1</th>\n",
       "      <td>166377</td>\n",
       "      <td>9</td>\n",
       "    </tr>\n",
       "    <tr>\n",
       "      <th>2</th>\n",
       "      <td>166377</td>\n",
       "      <td>10</td>\n",
       "    </tr>\n",
       "    <tr>\n",
       "      <th>3</th>\n",
       "      <td>166377</td>\n",
       "      <td>11</td>\n",
       "    </tr>\n",
       "    <tr>\n",
       "      <th>4</th>\n",
       "      <td>166391</td>\n",
       "      <td>8</td>\n",
       "    </tr>\n",
       "  </tbody>\n",
       "</table>\n",
       "</div>"
      ],
      "text/plain": [
       "   user_id  month\n",
       "0   166377      8\n",
       "1   166377      9\n",
       "2   166377     10\n",
       "3   166377     11\n",
       "4   166391      8"
      ]
     },
     "execution_count": 14,
     "metadata": {},
     "output_type": "execute_result"
    }
   ],
   "source": [
    "# создадим сгруппированный по клиентам и месяцам датафрейм\n",
    "grouped_df = calls_log.groupby(['user_id', 'month'])['calls_count'].sum().reset_index().drop('calls_count', axis=1)\n",
    "grouped_df.head()"
   ]
  },
  {
   "cell_type": "code",
   "execution_count": 15,
   "metadata": {},
   "outputs": [
    {
     "data": {
      "text/html": [
       "<div>\n",
       "<style scoped>\n",
       "    .dataframe tbody tr th:only-of-type {\n",
       "        vertical-align: middle;\n",
       "    }\n",
       "\n",
       "    .dataframe tbody tr th {\n",
       "        vertical-align: top;\n",
       "    }\n",
       "\n",
       "    .dataframe thead th {\n",
       "        text-align: right;\n",
       "    }\n",
       "</style>\n",
       "<table border=\"1\" class=\"dataframe\">\n",
       "  <thead>\n",
       "    <tr style=\"text-align: right;\">\n",
       "      <th></th>\n",
       "      <th>user_id</th>\n",
       "      <th>month</th>\n",
       "      <th>internal_out_calls_duration</th>\n",
       "    </tr>\n",
       "  </thead>\n",
       "  <tbody>\n",
       "    <tr>\n",
       "      <th>0</th>\n",
       "      <td>166377</td>\n",
       "      <td>8</td>\n",
       "      <td>96.0</td>\n",
       "    </tr>\n",
       "    <tr>\n",
       "      <th>1</th>\n",
       "      <td>166377</td>\n",
       "      <td>9</td>\n",
       "      <td>9.0</td>\n",
       "    </tr>\n",
       "    <tr>\n",
       "      <th>2</th>\n",
       "      <td>166377</td>\n",
       "      <td>10</td>\n",
       "      <td>5.0</td>\n",
       "    </tr>\n",
       "    <tr>\n",
       "      <th>3</th>\n",
       "      <td>166377</td>\n",
       "      <td>11</td>\n",
       "      <td>127.0</td>\n",
       "    </tr>\n",
       "    <tr>\n",
       "      <th>4</th>\n",
       "      <td>166391</td>\n",
       "      <td>8</td>\n",
       "      <td>7.0</td>\n",
       "    </tr>\n",
       "  </tbody>\n",
       "</table>\n",
       "</div>"
      ],
      "text/plain": [
       "   user_id  month  internal_out_calls_duration\n",
       "0   166377      8                         96.0\n",
       "1   166377      9                          9.0\n",
       "2   166377     10                          5.0\n",
       "3   166377     11                        127.0\n",
       "4   166391      8                          7.0"
      ]
     },
     "execution_count": 15,
     "metadata": {},
     "output_type": "execute_result"
    }
   ],
   "source": [
    "# посчитаем, сколько секунд в месяц операторы каждого колл-центра звонят друг другу\n",
    "internal_out_calls = (calls_log[np.logical_and(calls_log['direction'] == 'out', calls_log['internal'] == True)]\n",
    "              .groupby(['user_id', 'month'])['total_call_duration'].sum()\n",
    "             ).reset_index()\n",
    "\n",
    "internal_out_calls = internal_out_calls.rename(columns={'total_call_duration': 'internal_out_calls_duration'})\n",
    "\n",
    "grouped_df = grouped_df.merge(internal_out_calls, on=['user_id', 'month'], how='left') # объединяем датафреймы\n",
    "grouped_df.head()"
   ]
  },
  {
   "cell_type": "code",
   "execution_count": 16,
   "metadata": {},
   "outputs": [
    {
     "data": {
      "text/html": [
       "<div>\n",
       "<style scoped>\n",
       "    .dataframe tbody tr th:only-of-type {\n",
       "        vertical-align: middle;\n",
       "    }\n",
       "\n",
       "    .dataframe tbody tr th {\n",
       "        vertical-align: top;\n",
       "    }\n",
       "\n",
       "    .dataframe thead th {\n",
       "        text-align: right;\n",
       "    }\n",
       "</style>\n",
       "<table border=\"1\" class=\"dataframe\">\n",
       "  <thead>\n",
       "    <tr style=\"text-align: right;\">\n",
       "      <th></th>\n",
       "      <th>user_id</th>\n",
       "      <th>month</th>\n",
       "      <th>internal_out_calls_duration</th>\n",
       "      <th>external_out_calls_duration</th>\n",
       "    </tr>\n",
       "  </thead>\n",
       "  <tbody>\n",
       "    <tr>\n",
       "      <th>0</th>\n",
       "      <td>166377</td>\n",
       "      <td>8</td>\n",
       "      <td>96.0</td>\n",
       "      <td>78029.0</td>\n",
       "    </tr>\n",
       "    <tr>\n",
       "      <th>1</th>\n",
       "      <td>166377</td>\n",
       "      <td>9</td>\n",
       "      <td>9.0</td>\n",
       "      <td>105835.0</td>\n",
       "    </tr>\n",
       "    <tr>\n",
       "      <th>2</th>\n",
       "      <td>166377</td>\n",
       "      <td>10</td>\n",
       "      <td>5.0</td>\n",
       "      <td>99207.0</td>\n",
       "    </tr>\n",
       "    <tr>\n",
       "      <th>3</th>\n",
       "      <td>166377</td>\n",
       "      <td>11</td>\n",
       "      <td>127.0</td>\n",
       "      <td>95384.0</td>\n",
       "    </tr>\n",
       "    <tr>\n",
       "      <th>4</th>\n",
       "      <td>166391</td>\n",
       "      <td>8</td>\n",
       "      <td>7.0</td>\n",
       "      <td>NaN</td>\n",
       "    </tr>\n",
       "  </tbody>\n",
       "</table>\n",
       "</div>"
      ],
      "text/plain": [
       "   user_id  month  internal_out_calls_duration  external_out_calls_duration\n",
       "0   166377      8                         96.0                      78029.0\n",
       "1   166377      9                          9.0                     105835.0\n",
       "2   166377     10                          5.0                      99207.0\n",
       "3   166377     11                        127.0                      95384.0\n",
       "4   166391      8                          7.0                          NaN"
      ]
     },
     "execution_count": 16,
     "metadata": {},
     "output_type": "execute_result"
    }
   ],
   "source": [
    "# посчитаем, сколько секунд в месяц операторы каждого колл-центра звонят своим клиентам\n",
    "external_out_calls = (calls_log[np.logical_and(calls_log['direction'] == 'out', calls_log['internal'] == False)]\n",
    "                      .groupby(['user_id', 'month'])['total_call_duration'].sum()\n",
    "                     ).reset_index()\n",
    "\n",
    "external_out_calls = external_out_calls.rename(columns={'total_call_duration': 'external_out_calls_duration'})\n",
    "\n",
    "grouped_df = grouped_df.merge(external_out_calls, on=['user_id', 'month'], how='left') # объединяем датафреймы\n",
    "grouped_df.head()"
   ]
  },
  {
   "cell_type": "code",
   "execution_count": 17,
   "metadata": {},
   "outputs": [
    {
     "data": {
      "text/html": [
       "<div>\n",
       "<style scoped>\n",
       "    .dataframe tbody tr th:only-of-type {\n",
       "        vertical-align: middle;\n",
       "    }\n",
       "\n",
       "    .dataframe tbody tr th {\n",
       "        vertical-align: top;\n",
       "    }\n",
       "\n",
       "    .dataframe thead th {\n",
       "        text-align: right;\n",
       "    }\n",
       "</style>\n",
       "<table border=\"1\" class=\"dataframe\">\n",
       "  <thead>\n",
       "    <tr style=\"text-align: right;\">\n",
       "      <th></th>\n",
       "      <th>user_id</th>\n",
       "      <th>month</th>\n",
       "      <th>internal_out_calls_duration</th>\n",
       "      <th>external_out_calls_duration</th>\n",
       "      <th>tariff_plan</th>\n",
       "    </tr>\n",
       "  </thead>\n",
       "  <tbody>\n",
       "    <tr>\n",
       "      <th>0</th>\n",
       "      <td>166377</td>\n",
       "      <td>8</td>\n",
       "      <td>96.0</td>\n",
       "      <td>78029.0</td>\n",
       "      <td>B</td>\n",
       "    </tr>\n",
       "    <tr>\n",
       "      <th>1</th>\n",
       "      <td>166377</td>\n",
       "      <td>9</td>\n",
       "      <td>9.0</td>\n",
       "      <td>105835.0</td>\n",
       "      <td>B</td>\n",
       "    </tr>\n",
       "    <tr>\n",
       "      <th>2</th>\n",
       "      <td>166377</td>\n",
       "      <td>10</td>\n",
       "      <td>5.0</td>\n",
       "      <td>99207.0</td>\n",
       "      <td>B</td>\n",
       "    </tr>\n",
       "    <tr>\n",
       "      <th>3</th>\n",
       "      <td>166377</td>\n",
       "      <td>11</td>\n",
       "      <td>127.0</td>\n",
       "      <td>95384.0</td>\n",
       "      <td>B</td>\n",
       "    </tr>\n",
       "    <tr>\n",
       "      <th>4</th>\n",
       "      <td>166391</td>\n",
       "      <td>8</td>\n",
       "      <td>7.0</td>\n",
       "      <td>NaN</td>\n",
       "      <td>C</td>\n",
       "    </tr>\n",
       "  </tbody>\n",
       "</table>\n",
       "</div>"
      ],
      "text/plain": [
       "   user_id  month  internal_out_calls_duration  external_out_calls_duration  \\\n",
       "0   166377      8                         96.0                      78029.0   \n",
       "1   166377      9                          9.0                     105835.0   \n",
       "2   166377     10                          5.0                      99207.0   \n",
       "3   166377     11                        127.0                      95384.0   \n",
       "4   166391      8                          7.0                          NaN   \n",
       "\n",
       "  tariff_plan  \n",
       "0           B  \n",
       "1           B  \n",
       "2           B  \n",
       "3           B  \n",
       "4           C  "
      ]
     },
     "execution_count": 17,
     "metadata": {},
     "output_type": "execute_result"
    }
   ],
   "source": [
    "# добавим в сгруппированный датафрейм информацию о тарифном плане клиента\n",
    "grouped_df = grouped_df.merge(clients, on='user_id').drop('date_start', axis=1)\n",
    "grouped_df.head()"
   ]
  },
  {
   "cell_type": "code",
   "execution_count": 18,
   "metadata": {
    "scrolled": true
   },
   "outputs": [
    {
     "data": {
      "text/html": [
       "<div>\n",
       "<style scoped>\n",
       "    .dataframe tbody tr th:only-of-type {\n",
       "        vertical-align: middle;\n",
       "    }\n",
       "\n",
       "    .dataframe tbody tr th {\n",
       "        vertical-align: top;\n",
       "    }\n",
       "\n",
       "    .dataframe thead th {\n",
       "        text-align: right;\n",
       "    }\n",
       "</style>\n",
       "<table border=\"1\" class=\"dataframe\">\n",
       "  <thead>\n",
       "    <tr style=\"text-align: right;\">\n",
       "      <th></th>\n",
       "      <th>user_id</th>\n",
       "      <th>month</th>\n",
       "      <th>internal_out_calls_duration</th>\n",
       "      <th>external_out_calls_duration</th>\n",
       "      <th>tariff_plan</th>\n",
       "      <th>amount_of_operators</th>\n",
       "    </tr>\n",
       "  </thead>\n",
       "  <tbody>\n",
       "    <tr>\n",
       "      <th>0</th>\n",
       "      <td>166377</td>\n",
       "      <td>8</td>\n",
       "      <td>96.0</td>\n",
       "      <td>78029.0</td>\n",
       "      <td>B</td>\n",
       "      <td>5</td>\n",
       "    </tr>\n",
       "    <tr>\n",
       "      <th>1</th>\n",
       "      <td>166377</td>\n",
       "      <td>9</td>\n",
       "      <td>9.0</td>\n",
       "      <td>105835.0</td>\n",
       "      <td>B</td>\n",
       "      <td>4</td>\n",
       "    </tr>\n",
       "    <tr>\n",
       "      <th>2</th>\n",
       "      <td>166377</td>\n",
       "      <td>10</td>\n",
       "      <td>5.0</td>\n",
       "      <td>99207.0</td>\n",
       "      <td>B</td>\n",
       "      <td>5</td>\n",
       "    </tr>\n",
       "    <tr>\n",
       "      <th>3</th>\n",
       "      <td>166377</td>\n",
       "      <td>11</td>\n",
       "      <td>127.0</td>\n",
       "      <td>95384.0</td>\n",
       "      <td>B</td>\n",
       "      <td>4</td>\n",
       "    </tr>\n",
       "    <tr>\n",
       "      <th>4</th>\n",
       "      <td>166391</td>\n",
       "      <td>8</td>\n",
       "      <td>7.0</td>\n",
       "      <td>NaN</td>\n",
       "      <td>C</td>\n",
       "      <td>2</td>\n",
       "    </tr>\n",
       "  </tbody>\n",
       "</table>\n",
       "</div>"
      ],
      "text/plain": [
       "   user_id  month  internal_out_calls_duration  external_out_calls_duration  \\\n",
       "0   166377      8                         96.0                      78029.0   \n",
       "1   166377      9                          9.0                     105835.0   \n",
       "2   166377     10                          5.0                      99207.0   \n",
       "3   166377     11                        127.0                      95384.0   \n",
       "4   166391      8                          7.0                          NaN   \n",
       "\n",
       "  tariff_plan  amount_of_operators  \n",
       "0           B                    5  \n",
       "1           B                    4  \n",
       "2           B                    5  \n",
       "3           B                    4  \n",
       "4           C                    2  "
      ]
     },
     "execution_count": 18,
     "metadata": {},
     "output_type": "execute_result"
    }
   ],
   "source": [
    "# добавим в сгруппированный датафрейм информацию о количестве операторов\n",
    "amount_of_operators = calls_log.groupby(['user_id', 'month'])['operator_id'].nunique()\n",
    "\n",
    "grouped_df = grouped_df.merge(amount_of_operators, on=['user_id', 'month'])\n",
    "grouped_df = grouped_df.rename(columns={'operator_id': 'amount_of_operators'})\n",
    "grouped_df.head()"
   ]
  },
  {
   "cell_type": "markdown",
   "metadata": {},
   "source": [
    "Заменим все значения NaN на 0: если информации об этих звонках нет, значит, вероятнее всего, самих этих звонков не было => время равно 0."
   ]
  },
  {
   "cell_type": "code",
   "execution_count": 19,
   "metadata": {},
   "outputs": [
    {
     "data": {
      "text/html": [
       "<div>\n",
       "<style scoped>\n",
       "    .dataframe tbody tr th:only-of-type {\n",
       "        vertical-align: middle;\n",
       "    }\n",
       "\n",
       "    .dataframe tbody tr th {\n",
       "        vertical-align: top;\n",
       "    }\n",
       "\n",
       "    .dataframe thead th {\n",
       "        text-align: right;\n",
       "    }\n",
       "</style>\n",
       "<table border=\"1\" class=\"dataframe\">\n",
       "  <thead>\n",
       "    <tr style=\"text-align: right;\">\n",
       "      <th></th>\n",
       "      <th>user_id</th>\n",
       "      <th>month</th>\n",
       "      <th>internal_out_calls_duration</th>\n",
       "      <th>external_out_calls_duration</th>\n",
       "      <th>tariff_plan</th>\n",
       "      <th>amount_of_operators</th>\n",
       "    </tr>\n",
       "  </thead>\n",
       "  <tbody>\n",
       "    <tr>\n",
       "      <th>0</th>\n",
       "      <td>166377</td>\n",
       "      <td>8</td>\n",
       "      <td>96.0</td>\n",
       "      <td>78029.0</td>\n",
       "      <td>B</td>\n",
       "      <td>5</td>\n",
       "    </tr>\n",
       "    <tr>\n",
       "      <th>1</th>\n",
       "      <td>166377</td>\n",
       "      <td>9</td>\n",
       "      <td>9.0</td>\n",
       "      <td>105835.0</td>\n",
       "      <td>B</td>\n",
       "      <td>4</td>\n",
       "    </tr>\n",
       "    <tr>\n",
       "      <th>2</th>\n",
       "      <td>166377</td>\n",
       "      <td>10</td>\n",
       "      <td>5.0</td>\n",
       "      <td>99207.0</td>\n",
       "      <td>B</td>\n",
       "      <td>5</td>\n",
       "    </tr>\n",
       "    <tr>\n",
       "      <th>3</th>\n",
       "      <td>166377</td>\n",
       "      <td>11</td>\n",
       "      <td>127.0</td>\n",
       "      <td>95384.0</td>\n",
       "      <td>B</td>\n",
       "      <td>4</td>\n",
       "    </tr>\n",
       "    <tr>\n",
       "      <th>4</th>\n",
       "      <td>166391</td>\n",
       "      <td>8</td>\n",
       "      <td>7.0</td>\n",
       "      <td>0.0</td>\n",
       "      <td>C</td>\n",
       "      <td>2</td>\n",
       "    </tr>\n",
       "  </tbody>\n",
       "</table>\n",
       "</div>"
      ],
      "text/plain": [
       "   user_id  month  internal_out_calls_duration  external_out_calls_duration  \\\n",
       "0   166377      8                         96.0                      78029.0   \n",
       "1   166377      9                          9.0                     105835.0   \n",
       "2   166377     10                          5.0                      99207.0   \n",
       "3   166377     11                        127.0                      95384.0   \n",
       "4   166391      8                          7.0                          0.0   \n",
       "\n",
       "  tariff_plan  amount_of_operators  \n",
       "0           B                    5  \n",
       "1           B                    4  \n",
       "2           B                    5  \n",
       "3           B                    4  \n",
       "4           C                    2  "
      ]
     },
     "execution_count": 19,
     "metadata": {},
     "output_type": "execute_result"
    }
   ],
   "source": [
    "grouped_df = grouped_df.fillna(0)\n",
    "grouped_df.head()"
   ]
  },
  {
   "cell_type": "code",
   "execution_count": 20,
   "metadata": {},
   "outputs": [],
   "source": [
    "def calculation(row):\n",
    "    \"\"\"\n",
    "    Функция подсчёта стоимости одного месяца абонентской связи. Она получается по следующей формуле:\n",
    "    Количество превысивших лимит минут для внутренних исходящих звонков (remaining_minutes) * \n",
    "    Цена сверх лимита (exceeding_limit) + \n",
    "    Стоимость исходящих внешних звонков (external_out_price) +\n",
    "    Стоимость тарифа (fixed_price) + \n",
    "    Количество операторов (row['amount_of_operators']) * \n",
    "    Стоимость одного оператора (price_per_operator).\n",
    "    Входящие звонки в расчёт не берём, так как их стоимость равна 0.\n",
    "    \"\"\"\n",
    "    if row['tariff_plan'] == 'A':\n",
    "        remaining_minutes = 2000 - row['internal_out_calls_duration'] / 60\n",
    "        exceeding_limit = 0.1\n",
    "        external_out_price = row['external_out_calls_duration'] / 60 * 0.3\n",
    "        fixed_price = 4000\n",
    "        price_per_operator = 50\n",
    "        \n",
    "    elif row['tariff_plan'] == 'B':\n",
    "        remaining_minutes = 500 - row['internal_out_calls_duration'] / 60\n",
    "        exceeding_limit = 0.15\n",
    "        external_out_price = row['external_out_calls_duration'] / 60 * 0.5\n",
    "        fixed_price = 2000\n",
    "        price_per_operator = 150\n",
    "        \n",
    "    else:\n",
    "        remaining_minutes = 0 - row['internal_out_calls_duration'] / 60\n",
    "        exceeding_limit = 0.3\n",
    "        external_out_price = row['external_out_calls_duration'] / 60 * 0.7\n",
    "        fixed_price = 1000\n",
    "        price_per_operator = 300\n",
    "        \n",
    "        \n",
    "    if remaining_minutes < 0:\n",
    "        internal_out_price = abs(remaining_minutes) * exceeding_limit\n",
    "    else:\n",
    "        internal_out_price = 0\n",
    "        \n",
    "    \n",
    "    return internal_out_price + external_out_price + fixed_price + row['amount_of_operators'] * price_per_operator"
   ]
  },
  {
   "cell_type": "code",
   "execution_count": 21,
   "metadata": {},
   "outputs": [
    {
     "data": {
      "text/html": [
       "<div>\n",
       "<style scoped>\n",
       "    .dataframe tbody tr th:only-of-type {\n",
       "        vertical-align: middle;\n",
       "    }\n",
       "\n",
       "    .dataframe tbody tr th {\n",
       "        vertical-align: top;\n",
       "    }\n",
       "\n",
       "    .dataframe thead th {\n",
       "        text-align: right;\n",
       "    }\n",
       "</style>\n",
       "<table border=\"1\" class=\"dataframe\">\n",
       "  <thead>\n",
       "    <tr style=\"text-align: right;\">\n",
       "      <th></th>\n",
       "      <th>user_id</th>\n",
       "      <th>month</th>\n",
       "      <th>internal_out_calls_duration</th>\n",
       "      <th>external_out_calls_duration</th>\n",
       "      <th>tariff_plan</th>\n",
       "      <th>amount_of_operators</th>\n",
       "      <th>current_price</th>\n",
       "    </tr>\n",
       "  </thead>\n",
       "  <tbody>\n",
       "    <tr>\n",
       "      <th>0</th>\n",
       "      <td>166377</td>\n",
       "      <td>8</td>\n",
       "      <td>96.0</td>\n",
       "      <td>78029.0</td>\n",
       "      <td>B</td>\n",
       "      <td>5</td>\n",
       "      <td>3400.24</td>\n",
       "    </tr>\n",
       "    <tr>\n",
       "      <th>1</th>\n",
       "      <td>166377</td>\n",
       "      <td>9</td>\n",
       "      <td>9.0</td>\n",
       "      <td>105835.0</td>\n",
       "      <td>B</td>\n",
       "      <td>4</td>\n",
       "      <td>3481.96</td>\n",
       "    </tr>\n",
       "    <tr>\n",
       "      <th>2</th>\n",
       "      <td>166377</td>\n",
       "      <td>10</td>\n",
       "      <td>5.0</td>\n",
       "      <td>99207.0</td>\n",
       "      <td>B</td>\n",
       "      <td>5</td>\n",
       "      <td>3576.72</td>\n",
       "    </tr>\n",
       "    <tr>\n",
       "      <th>3</th>\n",
       "      <td>166377</td>\n",
       "      <td>11</td>\n",
       "      <td>127.0</td>\n",
       "      <td>95384.0</td>\n",
       "      <td>B</td>\n",
       "      <td>4</td>\n",
       "      <td>3394.87</td>\n",
       "    </tr>\n",
       "    <tr>\n",
       "      <th>4</th>\n",
       "      <td>166391</td>\n",
       "      <td>8</td>\n",
       "      <td>7.0</td>\n",
       "      <td>0.0</td>\n",
       "      <td>C</td>\n",
       "      <td>2</td>\n",
       "      <td>1600.04</td>\n",
       "    </tr>\n",
       "  </tbody>\n",
       "</table>\n",
       "</div>"
      ],
      "text/plain": [
       "   user_id  month  internal_out_calls_duration  external_out_calls_duration  \\\n",
       "0   166377      8                         96.0                      78029.0   \n",
       "1   166377      9                          9.0                     105835.0   \n",
       "2   166377     10                          5.0                      99207.0   \n",
       "3   166377     11                        127.0                      95384.0   \n",
       "4   166391      8                          7.0                          0.0   \n",
       "\n",
       "  tariff_plan  amount_of_operators  current_price  \n",
       "0           B                    5        3400.24  \n",
       "1           B                    4        3481.96  \n",
       "2           B                    5        3576.72  \n",
       "3           B                    4        3394.87  \n",
       "4           C                    2        1600.04  "
      ]
     },
     "execution_count": 21,
     "metadata": {},
     "output_type": "execute_result"
    }
   ],
   "source": [
    "grouped_df['current_price'] = round(grouped_df.apply(calculation, axis=1), 2)\n",
    "grouped_df.head()"
   ]
  },
  {
   "cell_type": "markdown",
   "metadata": {},
   "source": [
    "### Подсчёт стоимости одного месяца при использовании различных тарифов"
   ]
  },
  {
   "cell_type": "code",
   "execution_count": 22,
   "metadata": {},
   "outputs": [],
   "source": [
    "def calculationA(row):\n",
    "    \"\"\"\n",
    "    Функция подсчёта стоимости одного месяца абонентской связи при использовании тарифа A.\n",
    "    Работает аналогично функции calculation\n",
    "    \"\"\"\n",
    "    remaining_minutes = 2000 - row['internal_out_calls_duration'] / 60\n",
    "    exceeding_limit = 0.1\n",
    "    external_out_price = row['external_out_calls_duration'] / 60 * 0.3\n",
    "    fixed_price = 4000\n",
    "    price_per_operator = 50\n",
    "        \n",
    "        \n",
    "    if remaining_minutes < 0:\n",
    "        internal_out_price = abs(remaining_minutes) * exceeding_limit\n",
    "    else:\n",
    "        internal_out_price = 0\n",
    "        \n",
    "    \n",
    "    return internal_out_price + external_out_price + fixed_price + row['amount_of_operators'] * price_per_operator"
   ]
  },
  {
   "cell_type": "code",
   "execution_count": 23,
   "metadata": {},
   "outputs": [],
   "source": [
    "def calculationB(row):\n",
    "    \"\"\"\n",
    "    Функция подсчёта стоимости одного месяца абонентской связи при использовании тарифа B.\n",
    "    Работает аналогично функции calculation\n",
    "    \"\"\"\n",
    "    remaining_minutes = 500 - row['internal_out_calls_duration'] / 60\n",
    "    exceeding_limit = 0.15\n",
    "    external_out_price = row['external_out_calls_duration'] / 60 * 0.5\n",
    "    fixed_price = 2000\n",
    "    price_per_operator = 150\n",
    "        \n",
    "        \n",
    "    if remaining_minutes < 0:\n",
    "        internal_out_price = abs(remaining_minutes) * exceeding_limit\n",
    "    else:\n",
    "        internal_out_price = 0\n",
    "        \n",
    "    \n",
    "    return internal_out_price + external_out_price + fixed_price + row['amount_of_operators'] * price_per_operator"
   ]
  },
  {
   "cell_type": "code",
   "execution_count": 24,
   "metadata": {},
   "outputs": [],
   "source": [
    "def calculationC(row):\n",
    "    \"\"\"\n",
    "    Функция подсчёта стоимости одного месяца абонентской связи при использовании тарифа C.\n",
    "    Работает аналогично функции calculation\n",
    "    \"\"\"\n",
    "    remaining_minutes = 0 - row['internal_out_calls_duration'] / 60\n",
    "    exceeding_limit = 0.3\n",
    "    external_out_price = row['external_out_calls_duration'] / 60 * 0.7\n",
    "    fixed_price = 1000\n",
    "    price_per_operator = 300\n",
    "        \n",
    "        \n",
    "    if remaining_minutes < 0:\n",
    "        internal_out_price = abs(remaining_minutes) * exceeding_limit\n",
    "    else:\n",
    "        internal_out_price = 0\n",
    "        \n",
    "    \n",
    "    return internal_out_price + external_out_price + fixed_price + row['amount_of_operators'] * price_per_operator"
   ]
  },
  {
   "cell_type": "code",
   "execution_count": 25,
   "metadata": {},
   "outputs": [
    {
     "data": {
      "text/html": [
       "<div>\n",
       "<style scoped>\n",
       "    .dataframe tbody tr th:only-of-type {\n",
       "        vertical-align: middle;\n",
       "    }\n",
       "\n",
       "    .dataframe tbody tr th {\n",
       "        vertical-align: top;\n",
       "    }\n",
       "\n",
       "    .dataframe thead th {\n",
       "        text-align: right;\n",
       "    }\n",
       "</style>\n",
       "<table border=\"1\" class=\"dataframe\">\n",
       "  <thead>\n",
       "    <tr style=\"text-align: right;\">\n",
       "      <th></th>\n",
       "      <th>user_id</th>\n",
       "      <th>month</th>\n",
       "      <th>internal_out_calls_duration</th>\n",
       "      <th>external_out_calls_duration</th>\n",
       "      <th>tariff_plan</th>\n",
       "      <th>amount_of_operators</th>\n",
       "      <th>current_price</th>\n",
       "      <th>price_A</th>\n",
       "      <th>price_B</th>\n",
       "      <th>price_C</th>\n",
       "    </tr>\n",
       "  </thead>\n",
       "  <tbody>\n",
       "    <tr>\n",
       "      <th>0</th>\n",
       "      <td>166377</td>\n",
       "      <td>8</td>\n",
       "      <td>96.0</td>\n",
       "      <td>78029.0</td>\n",
       "      <td>B</td>\n",
       "      <td>5</td>\n",
       "      <td>3400.24</td>\n",
       "      <td>4640.15</td>\n",
       "      <td>3400.24</td>\n",
       "      <td>3410.82</td>\n",
       "    </tr>\n",
       "    <tr>\n",
       "      <th>1</th>\n",
       "      <td>166377</td>\n",
       "      <td>9</td>\n",
       "      <td>9.0</td>\n",
       "      <td>105835.0</td>\n",
       "      <td>B</td>\n",
       "      <td>4</td>\n",
       "      <td>3481.96</td>\n",
       "      <td>4729.18</td>\n",
       "      <td>3481.96</td>\n",
       "      <td>3434.79</td>\n",
       "    </tr>\n",
       "    <tr>\n",
       "      <th>2</th>\n",
       "      <td>166377</td>\n",
       "      <td>10</td>\n",
       "      <td>5.0</td>\n",
       "      <td>99207.0</td>\n",
       "      <td>B</td>\n",
       "      <td>5</td>\n",
       "      <td>3576.72</td>\n",
       "      <td>4746.04</td>\n",
       "      <td>3576.72</td>\n",
       "      <td>3657.44</td>\n",
       "    </tr>\n",
       "    <tr>\n",
       "      <th>3</th>\n",
       "      <td>166377</td>\n",
       "      <td>11</td>\n",
       "      <td>127.0</td>\n",
       "      <td>95384.0</td>\n",
       "      <td>B</td>\n",
       "      <td>4</td>\n",
       "      <td>3394.87</td>\n",
       "      <td>4676.92</td>\n",
       "      <td>3394.87</td>\n",
       "      <td>3313.45</td>\n",
       "    </tr>\n",
       "    <tr>\n",
       "      <th>4</th>\n",
       "      <td>166391</td>\n",
       "      <td>8</td>\n",
       "      <td>7.0</td>\n",
       "      <td>0.0</td>\n",
       "      <td>C</td>\n",
       "      <td>2</td>\n",
       "      <td>1600.04</td>\n",
       "      <td>4100.00</td>\n",
       "      <td>2300.00</td>\n",
       "      <td>1600.04</td>\n",
       "    </tr>\n",
       "    <tr>\n",
       "      <th>5</th>\n",
       "      <td>166391</td>\n",
       "      <td>9</td>\n",
       "      <td>0.0</td>\n",
       "      <td>0.0</td>\n",
       "      <td>C</td>\n",
       "      <td>1</td>\n",
       "      <td>1300.00</td>\n",
       "      <td>4050.00</td>\n",
       "      <td>2150.00</td>\n",
       "      <td>1300.00</td>\n",
       "    </tr>\n",
       "    <tr>\n",
       "      <th>6</th>\n",
       "      <td>166391</td>\n",
       "      <td>10</td>\n",
       "      <td>0.0</td>\n",
       "      <td>0.0</td>\n",
       "      <td>C</td>\n",
       "      <td>0</td>\n",
       "      <td>1000.00</td>\n",
       "      <td>4000.00</td>\n",
       "      <td>2000.00</td>\n",
       "      <td>1000.00</td>\n",
       "    </tr>\n",
       "    <tr>\n",
       "      <th>7</th>\n",
       "      <td>166391</td>\n",
       "      <td>11</td>\n",
       "      <td>0.0</td>\n",
       "      <td>0.0</td>\n",
       "      <td>C</td>\n",
       "      <td>1</td>\n",
       "      <td>1300.00</td>\n",
       "      <td>4050.00</td>\n",
       "      <td>2150.00</td>\n",
       "      <td>1300.00</td>\n",
       "    </tr>\n",
       "    <tr>\n",
       "      <th>8</th>\n",
       "      <td>166392</td>\n",
       "      <td>8</td>\n",
       "      <td>0.0</td>\n",
       "      <td>0.0</td>\n",
       "      <td>C</td>\n",
       "      <td>2</td>\n",
       "      <td>1600.00</td>\n",
       "      <td>4100.00</td>\n",
       "      <td>2300.00</td>\n",
       "      <td>1600.00</td>\n",
       "    </tr>\n",
       "    <tr>\n",
       "      <th>9</th>\n",
       "      <td>166392</td>\n",
       "      <td>9</td>\n",
       "      <td>0.0</td>\n",
       "      <td>0.0</td>\n",
       "      <td>C</td>\n",
       "      <td>2</td>\n",
       "      <td>1600.00</td>\n",
       "      <td>4100.00</td>\n",
       "      <td>2300.00</td>\n",
       "      <td>1600.00</td>\n",
       "    </tr>\n",
       "  </tbody>\n",
       "</table>\n",
       "</div>"
      ],
      "text/plain": [
       "   user_id  month  internal_out_calls_duration  external_out_calls_duration  \\\n",
       "0   166377      8                         96.0                      78029.0   \n",
       "1   166377      9                          9.0                     105835.0   \n",
       "2   166377     10                          5.0                      99207.0   \n",
       "3   166377     11                        127.0                      95384.0   \n",
       "4   166391      8                          7.0                          0.0   \n",
       "5   166391      9                          0.0                          0.0   \n",
       "6   166391     10                          0.0                          0.0   \n",
       "7   166391     11                          0.0                          0.0   \n",
       "8   166392      8                          0.0                          0.0   \n",
       "9   166392      9                          0.0                          0.0   \n",
       "\n",
       "  tariff_plan  amount_of_operators  current_price  price_A  price_B  price_C  \n",
       "0           B                    5        3400.24  4640.15  3400.24  3410.82  \n",
       "1           B                    4        3481.96  4729.18  3481.96  3434.79  \n",
       "2           B                    5        3576.72  4746.04  3576.72  3657.44  \n",
       "3           B                    4        3394.87  4676.92  3394.87  3313.45  \n",
       "4           C                    2        1600.04  4100.00  2300.00  1600.04  \n",
       "5           C                    1        1300.00  4050.00  2150.00  1300.00  \n",
       "6           C                    0        1000.00  4000.00  2000.00  1000.00  \n",
       "7           C                    1        1300.00  4050.00  2150.00  1300.00  \n",
       "8           C                    2        1600.00  4100.00  2300.00  1600.00  \n",
       "9           C                    2        1600.00  4100.00  2300.00  1600.00  "
      ]
     },
     "execution_count": 25,
     "metadata": {},
     "output_type": "execute_result"
    }
   ],
   "source": [
    "grouped_df['price_A'] = round(grouped_df.apply(calculationA, axis=1), 2)\n",
    "grouped_df['price_B'] = round(grouped_df.apply(calculationB, axis=1), 2)\n",
    "grouped_df['price_C'] = round(grouped_df.apply(calculationC, axis=1), 2)\n",
    "\n",
    "grouped_df.head(10)"
   ]
  },
  {
   "cell_type": "markdown",
   "metadata": {},
   "source": [
    "Нас больше не интересует информация, использованная для подсчёта стоимости тарифов, поэтому её можно удалить."
   ]
  },
  {
   "cell_type": "code",
   "execution_count": 26,
   "metadata": {},
   "outputs": [
    {
     "data": {
      "text/html": [
       "<div>\n",
       "<style scoped>\n",
       "    .dataframe tbody tr th:only-of-type {\n",
       "        vertical-align: middle;\n",
       "    }\n",
       "\n",
       "    .dataframe tbody tr th {\n",
       "        vertical-align: top;\n",
       "    }\n",
       "\n",
       "    .dataframe thead th {\n",
       "        text-align: right;\n",
       "    }\n",
       "</style>\n",
       "<table border=\"1\" class=\"dataframe\">\n",
       "  <thead>\n",
       "    <tr style=\"text-align: right;\">\n",
       "      <th></th>\n",
       "      <th>user_id</th>\n",
       "      <th>month</th>\n",
       "      <th>tariff_plan</th>\n",
       "      <th>current_price</th>\n",
       "      <th>price_A</th>\n",
       "      <th>price_B</th>\n",
       "      <th>price_C</th>\n",
       "    </tr>\n",
       "  </thead>\n",
       "  <tbody>\n",
       "    <tr>\n",
       "      <th>0</th>\n",
       "      <td>166377</td>\n",
       "      <td>8</td>\n",
       "      <td>B</td>\n",
       "      <td>3400.24</td>\n",
       "      <td>4640.15</td>\n",
       "      <td>3400.24</td>\n",
       "      <td>3410.82</td>\n",
       "    </tr>\n",
       "    <tr>\n",
       "      <th>1</th>\n",
       "      <td>166377</td>\n",
       "      <td>9</td>\n",
       "      <td>B</td>\n",
       "      <td>3481.96</td>\n",
       "      <td>4729.18</td>\n",
       "      <td>3481.96</td>\n",
       "      <td>3434.79</td>\n",
       "    </tr>\n",
       "    <tr>\n",
       "      <th>2</th>\n",
       "      <td>166377</td>\n",
       "      <td>10</td>\n",
       "      <td>B</td>\n",
       "      <td>3576.72</td>\n",
       "      <td>4746.04</td>\n",
       "      <td>3576.72</td>\n",
       "      <td>3657.44</td>\n",
       "    </tr>\n",
       "    <tr>\n",
       "      <th>3</th>\n",
       "      <td>166377</td>\n",
       "      <td>11</td>\n",
       "      <td>B</td>\n",
       "      <td>3394.87</td>\n",
       "      <td>4676.92</td>\n",
       "      <td>3394.87</td>\n",
       "      <td>3313.45</td>\n",
       "    </tr>\n",
       "    <tr>\n",
       "      <th>4</th>\n",
       "      <td>166391</td>\n",
       "      <td>8</td>\n",
       "      <td>C</td>\n",
       "      <td>1600.04</td>\n",
       "      <td>4100.00</td>\n",
       "      <td>2300.00</td>\n",
       "      <td>1600.04</td>\n",
       "    </tr>\n",
       "  </tbody>\n",
       "</table>\n",
       "</div>"
      ],
      "text/plain": [
       "   user_id  month tariff_plan  current_price  price_A  price_B  price_C\n",
       "0   166377      8           B        3400.24  4640.15  3400.24  3410.82\n",
       "1   166377      9           B        3481.96  4729.18  3481.96  3434.79\n",
       "2   166377     10           B        3576.72  4746.04  3576.72  3657.44\n",
       "3   166377     11           B        3394.87  4676.92  3394.87  3313.45\n",
       "4   166391      8           C        1600.04  4100.00  2300.00  1600.04"
      ]
     },
     "execution_count": 26,
     "metadata": {},
     "output_type": "execute_result"
    }
   ],
   "source": [
    "grouped_df.drop(['internal_out_calls_duration', 'external_out_calls_duration', 'amount_of_operators'], axis=1, inplace=True)\n",
    "grouped_df.head()"
   ]
  },
  {
   "cell_type": "markdown",
   "metadata": {},
   "source": [
    "### Переплата клиентов "
   ]
  },
  {
   "cell_type": "code",
   "execution_count": 27,
   "metadata": {},
   "outputs": [
    {
     "data": {
      "text/html": [
       "<div>\n",
       "<style scoped>\n",
       "    .dataframe tbody tr th:only-of-type {\n",
       "        vertical-align: middle;\n",
       "    }\n",
       "\n",
       "    .dataframe tbody tr th {\n",
       "        vertical-align: top;\n",
       "    }\n",
       "\n",
       "    .dataframe thead th {\n",
       "        text-align: right;\n",
       "    }\n",
       "</style>\n",
       "<table border=\"1\" class=\"dataframe\">\n",
       "  <thead>\n",
       "    <tr style=\"text-align: right;\">\n",
       "      <th></th>\n",
       "      <th>user_id</th>\n",
       "      <th>month</th>\n",
       "      <th>tariff_plan</th>\n",
       "      <th>current_price</th>\n",
       "      <th>price_A</th>\n",
       "      <th>price_B</th>\n",
       "      <th>price_C</th>\n",
       "      <th>best_tariff_price</th>\n",
       "    </tr>\n",
       "  </thead>\n",
       "  <tbody>\n",
       "    <tr>\n",
       "      <th>0</th>\n",
       "      <td>166377</td>\n",
       "      <td>8</td>\n",
       "      <td>B</td>\n",
       "      <td>3400.24</td>\n",
       "      <td>4640.15</td>\n",
       "      <td>3400.24</td>\n",
       "      <td>3410.82</td>\n",
       "      <td>3400.24</td>\n",
       "    </tr>\n",
       "    <tr>\n",
       "      <th>1</th>\n",
       "      <td>166377</td>\n",
       "      <td>9</td>\n",
       "      <td>B</td>\n",
       "      <td>3481.96</td>\n",
       "      <td>4729.18</td>\n",
       "      <td>3481.96</td>\n",
       "      <td>3434.79</td>\n",
       "      <td>3434.79</td>\n",
       "    </tr>\n",
       "    <tr>\n",
       "      <th>2</th>\n",
       "      <td>166377</td>\n",
       "      <td>10</td>\n",
       "      <td>B</td>\n",
       "      <td>3576.72</td>\n",
       "      <td>4746.04</td>\n",
       "      <td>3576.72</td>\n",
       "      <td>3657.44</td>\n",
       "      <td>3576.72</td>\n",
       "    </tr>\n",
       "    <tr>\n",
       "      <th>3</th>\n",
       "      <td>166377</td>\n",
       "      <td>11</td>\n",
       "      <td>B</td>\n",
       "      <td>3394.87</td>\n",
       "      <td>4676.92</td>\n",
       "      <td>3394.87</td>\n",
       "      <td>3313.45</td>\n",
       "      <td>3313.45</td>\n",
       "    </tr>\n",
       "    <tr>\n",
       "      <th>4</th>\n",
       "      <td>166391</td>\n",
       "      <td>8</td>\n",
       "      <td>C</td>\n",
       "      <td>1600.04</td>\n",
       "      <td>4100.00</td>\n",
       "      <td>2300.00</td>\n",
       "      <td>1600.04</td>\n",
       "      <td>1600.04</td>\n",
       "    </tr>\n",
       "  </tbody>\n",
       "</table>\n",
       "</div>"
      ],
      "text/plain": [
       "   user_id  month tariff_plan  current_price  price_A  price_B  price_C  \\\n",
       "0   166377      8           B        3400.24  4640.15  3400.24  3410.82   \n",
       "1   166377      9           B        3481.96  4729.18  3481.96  3434.79   \n",
       "2   166377     10           B        3576.72  4746.04  3576.72  3657.44   \n",
       "3   166377     11           B        3394.87  4676.92  3394.87  3313.45   \n",
       "4   166391      8           C        1600.04  4100.00  2300.00  1600.04   \n",
       "\n",
       "   best_tariff_price  \n",
       "0            3400.24  \n",
       "1            3434.79  \n",
       "2            3576.72  \n",
       "3            3313.45  \n",
       "4            1600.04  "
      ]
     },
     "execution_count": 27,
     "metadata": {},
     "output_type": "execute_result"
    }
   ],
   "source": [
    "# стоимость по самому выгодному тарифу\n",
    "grouped_df['best_tariff_price'] = grouped_df.apply(lambda x: min(x['price_A'], x['price_B'], x['price_C']), axis=1)\n",
    "grouped_df.head()"
   ]
  },
  {
   "cell_type": "code",
   "execution_count": 28,
   "metadata": {},
   "outputs": [
    {
     "data": {
      "text/html": [
       "<div>\n",
       "<style scoped>\n",
       "    .dataframe tbody tr th:only-of-type {\n",
       "        vertical-align: middle;\n",
       "    }\n",
       "\n",
       "    .dataframe tbody tr th {\n",
       "        vertical-align: top;\n",
       "    }\n",
       "\n",
       "    .dataframe thead th {\n",
       "        text-align: right;\n",
       "    }\n",
       "</style>\n",
       "<table border=\"1\" class=\"dataframe\">\n",
       "  <thead>\n",
       "    <tr style=\"text-align: right;\">\n",
       "      <th></th>\n",
       "      <th>user_id</th>\n",
       "      <th>month</th>\n",
       "      <th>tariff_plan</th>\n",
       "      <th>current_price</th>\n",
       "      <th>price_A</th>\n",
       "      <th>price_B</th>\n",
       "      <th>price_C</th>\n",
       "      <th>best_tariff_price</th>\n",
       "      <th>overpayment</th>\n",
       "    </tr>\n",
       "  </thead>\n",
       "  <tbody>\n",
       "    <tr>\n",
       "      <th>0</th>\n",
       "      <td>166377</td>\n",
       "      <td>8</td>\n",
       "      <td>B</td>\n",
       "      <td>3400.24</td>\n",
       "      <td>4640.15</td>\n",
       "      <td>3400.24</td>\n",
       "      <td>3410.82</td>\n",
       "      <td>3400.24</td>\n",
       "      <td>0.00</td>\n",
       "    </tr>\n",
       "    <tr>\n",
       "      <th>1</th>\n",
       "      <td>166377</td>\n",
       "      <td>9</td>\n",
       "      <td>B</td>\n",
       "      <td>3481.96</td>\n",
       "      <td>4729.18</td>\n",
       "      <td>3481.96</td>\n",
       "      <td>3434.79</td>\n",
       "      <td>3434.79</td>\n",
       "      <td>47.17</td>\n",
       "    </tr>\n",
       "    <tr>\n",
       "      <th>2</th>\n",
       "      <td>166377</td>\n",
       "      <td>10</td>\n",
       "      <td>B</td>\n",
       "      <td>3576.72</td>\n",
       "      <td>4746.04</td>\n",
       "      <td>3576.72</td>\n",
       "      <td>3657.44</td>\n",
       "      <td>3576.72</td>\n",
       "      <td>0.00</td>\n",
       "    </tr>\n",
       "    <tr>\n",
       "      <th>3</th>\n",
       "      <td>166377</td>\n",
       "      <td>11</td>\n",
       "      <td>B</td>\n",
       "      <td>3394.87</td>\n",
       "      <td>4676.92</td>\n",
       "      <td>3394.87</td>\n",
       "      <td>3313.45</td>\n",
       "      <td>3313.45</td>\n",
       "      <td>81.42</td>\n",
       "    </tr>\n",
       "    <tr>\n",
       "      <th>4</th>\n",
       "      <td>166391</td>\n",
       "      <td>8</td>\n",
       "      <td>C</td>\n",
       "      <td>1600.04</td>\n",
       "      <td>4100.00</td>\n",
       "      <td>2300.00</td>\n",
       "      <td>1600.04</td>\n",
       "      <td>1600.04</td>\n",
       "      <td>0.00</td>\n",
       "    </tr>\n",
       "  </tbody>\n",
       "</table>\n",
       "</div>"
      ],
      "text/plain": [
       "   user_id  month tariff_plan  current_price  price_A  price_B  price_C  \\\n",
       "0   166377      8           B        3400.24  4640.15  3400.24  3410.82   \n",
       "1   166377      9           B        3481.96  4729.18  3481.96  3434.79   \n",
       "2   166377     10           B        3576.72  4746.04  3576.72  3657.44   \n",
       "3   166377     11           B        3394.87  4676.92  3394.87  3313.45   \n",
       "4   166391      8           C        1600.04  4100.00  2300.00  1600.04   \n",
       "\n",
       "   best_tariff_price  overpayment  \n",
       "0            3400.24         0.00  \n",
       "1            3434.79        47.17  \n",
       "2            3576.72         0.00  \n",
       "3            3313.45        81.42  \n",
       "4            1600.04         0.00  "
      ]
     },
     "execution_count": 28,
     "metadata": {},
     "output_type": "execute_result"
    }
   ],
   "source": [
    "# столбец с переплатой в сравнении с лучшим тарифом\n",
    "grouped_df['overpayment'] = grouped_df['current_price'] - grouped_df['best_tariff_price']\n",
    "\n",
    "grouped_df.head()"
   ]
  },
  {
   "cell_type": "markdown",
   "metadata": {},
   "source": [
    "### Активность клиентов"
   ]
  },
  {
   "cell_type": "markdown",
   "metadata": {},
   "source": [
    "На данном этапе, когда мы получили переплату для каждого месяца, можно разбить клиентов на две группы: актуальных (тех, кто совершал звонки в последний 11 месяц) и неактуальных (кто, соответственно, не совершал). С первыми мы будем работать большую часть времени, а вторых используем для нахождения значения переплаты, достигнув которое пользователи уходят от нас."
   ]
  },
  {
   "cell_type": "code",
   "execution_count": 29,
   "metadata": {},
   "outputs": [
    {
     "data": {
      "text/html": [
       "<div>\n",
       "<style scoped>\n",
       "    .dataframe tbody tr th:only-of-type {\n",
       "        vertical-align: middle;\n",
       "    }\n",
       "\n",
       "    .dataframe tbody tr th {\n",
       "        vertical-align: top;\n",
       "    }\n",
       "\n",
       "    .dataframe thead th {\n",
       "        text-align: right;\n",
       "    }\n",
       "</style>\n",
       "<table border=\"1\" class=\"dataframe\">\n",
       "  <thead>\n",
       "    <tr style=\"text-align: right;\">\n",
       "      <th></th>\n",
       "      <th>user_id</th>\n",
       "      <th>month</th>\n",
       "    </tr>\n",
       "  </thead>\n",
       "  <tbody>\n",
       "    <tr>\n",
       "      <th>0</th>\n",
       "      <td>166399</td>\n",
       "      <td>10</td>\n",
       "    </tr>\n",
       "    <tr>\n",
       "      <th>1</th>\n",
       "      <td>166481</td>\n",
       "      <td>10</td>\n",
       "    </tr>\n",
       "    <tr>\n",
       "      <th>2</th>\n",
       "      <td>166507</td>\n",
       "      <td>8</td>\n",
       "    </tr>\n",
       "    <tr>\n",
       "      <th>3</th>\n",
       "      <td>166554</td>\n",
       "      <td>8</td>\n",
       "    </tr>\n",
       "    <tr>\n",
       "      <th>4</th>\n",
       "      <td>166584</td>\n",
       "      <td>8</td>\n",
       "    </tr>\n",
       "  </tbody>\n",
       "</table>\n",
       "</div>"
      ],
      "text/plain": [
       "   user_id  month\n",
       "0   166399     10\n",
       "1   166481     10\n",
       "2   166507      8\n",
       "3   166554      8\n",
       "4   166584      8"
      ]
     },
     "execution_count": 29,
     "metadata": {},
     "output_type": "execute_result"
    }
   ],
   "source": [
    "# находим клиентов, последний месяц активности которых не равен 11\n",
    "inactive_clients = grouped_df.groupby('user_id')['month'].max().reset_index()\n",
    "inactive_clients = inactive_clients[inactive_clients['month'] != 11].reset_index(drop=True)\n",
    "inactive_clients.head()"
   ]
  },
  {
   "cell_type": "markdown",
   "metadata": {},
   "source": [
    "Мы рассматриваем только последний месяц \"жизни\" неактивных клиентов, так как он наиболее точно отражает \"настроение\" пользователей."
   ]
  },
  {
   "cell_type": "code",
   "execution_count": 30,
   "metadata": {},
   "outputs": [
    {
     "data": {
      "text/html": [
       "<div>\n",
       "<style scoped>\n",
       "    .dataframe tbody tr th:only-of-type {\n",
       "        vertical-align: middle;\n",
       "    }\n",
       "\n",
       "    .dataframe tbody tr th {\n",
       "        vertical-align: top;\n",
       "    }\n",
       "\n",
       "    .dataframe thead th {\n",
       "        text-align: right;\n",
       "    }\n",
       "</style>\n",
       "<table border=\"1\" class=\"dataframe\">\n",
       "  <thead>\n",
       "    <tr style=\"text-align: right;\">\n",
       "      <th></th>\n",
       "      <th>user_id</th>\n",
       "      <th>overpayment</th>\n",
       "    </tr>\n",
       "  </thead>\n",
       "  <tbody>\n",
       "    <tr>\n",
       "      <th>0</th>\n",
       "      <td>166399</td>\n",
       "      <td>0.0</td>\n",
       "    </tr>\n",
       "    <tr>\n",
       "      <th>1</th>\n",
       "      <td>166481</td>\n",
       "      <td>3000.0</td>\n",
       "    </tr>\n",
       "    <tr>\n",
       "      <th>2</th>\n",
       "      <td>166507</td>\n",
       "      <td>0.0</td>\n",
       "    </tr>\n",
       "    <tr>\n",
       "      <th>3</th>\n",
       "      <td>166554</td>\n",
       "      <td>1000.0</td>\n",
       "    </tr>\n",
       "    <tr>\n",
       "      <th>4</th>\n",
       "      <td>166584</td>\n",
       "      <td>0.0</td>\n",
       "    </tr>\n",
       "  </tbody>\n",
       "</table>\n",
       "</div>"
      ],
      "text/plain": [
       "   user_id  overpayment\n",
       "0   166399          0.0\n",
       "1   166481       3000.0\n",
       "2   166507          0.0\n",
       "3   166554       1000.0\n",
       "4   166584          0.0"
      ]
     },
     "execution_count": 30,
     "metadata": {},
     "output_type": "execute_result"
    }
   ],
   "source": [
    "# добавляем в этот датафрейм информацию о переплате\n",
    "grouped_df_inactive = inactive_clients.merge(grouped_df, on=['user_id', 'month'], how='left')\n",
    "grouped_df_inactive = grouped_df_inactive[['user_id', 'overpayment']]\n",
    "grouped_df_inactive.head()"
   ]
  },
  {
   "cell_type": "markdown",
   "metadata": {},
   "source": [
    "Для простоты примем, что все эти клиенты ушли из-за высоких цен на тарифы.\n",
    "\n",
    "В таком случае, если переплата равна 0, то мы ничего не можем сделать для их удержания (только изменить стоимость тарифов, но это вне нашей компетенции), поэтому для анализа следует оставить только тех клиентов, чья переплата больше 0 - за них в теории можно \"побороться\"."
   ]
  },
  {
   "cell_type": "code",
   "execution_count": 31,
   "metadata": {},
   "outputs": [
    {
     "data": {
      "text/html": [
       "<div>\n",
       "<style scoped>\n",
       "    .dataframe tbody tr th:only-of-type {\n",
       "        vertical-align: middle;\n",
       "    }\n",
       "\n",
       "    .dataframe tbody tr th {\n",
       "        vertical-align: top;\n",
       "    }\n",
       "\n",
       "    .dataframe thead th {\n",
       "        text-align: right;\n",
       "    }\n",
       "</style>\n",
       "<table border=\"1\" class=\"dataframe\">\n",
       "  <thead>\n",
       "    <tr style=\"text-align: right;\">\n",
       "      <th></th>\n",
       "      <th>user_id</th>\n",
       "      <th>overpayment</th>\n",
       "    </tr>\n",
       "  </thead>\n",
       "  <tbody>\n",
       "    <tr>\n",
       "      <th>1</th>\n",
       "      <td>166481</td>\n",
       "      <td>3000.00</td>\n",
       "    </tr>\n",
       "    <tr>\n",
       "      <th>3</th>\n",
       "      <td>166554</td>\n",
       "      <td>1000.00</td>\n",
       "    </tr>\n",
       "    <tr>\n",
       "      <th>11</th>\n",
       "      <td>166941</td>\n",
       "      <td>1000.00</td>\n",
       "    </tr>\n",
       "    <tr>\n",
       "      <th>14</th>\n",
       "      <td>166958</td>\n",
       "      <td>850.00</td>\n",
       "    </tr>\n",
       "    <tr>\n",
       "      <th>16</th>\n",
       "      <td>167009</td>\n",
       "      <td>527.32</td>\n",
       "    </tr>\n",
       "  </tbody>\n",
       "</table>\n",
       "</div>"
      ],
      "text/plain": [
       "    user_id  overpayment\n",
       "1    166481      3000.00\n",
       "3    166554      1000.00\n",
       "11   166941      1000.00\n",
       "14   166958       850.00\n",
       "16   167009       527.32"
      ]
     },
     "execution_count": 31,
     "metadata": {},
     "output_type": "execute_result"
    }
   ],
   "source": [
    "grouped_df_inactive = grouped_df_inactive[grouped_df_inactive['overpayment'] > 0]\n",
    "grouped_df_inactive.head()"
   ]
  },
  {
   "cell_type": "code",
   "execution_count": 32,
   "metadata": {},
   "outputs": [
    {
     "name": "stdout",
     "output_type": "stream",
     "text": [
      "850 рублей - медианное значение переплаты, достигнув которое клиенты с повышенным шансом уходят.\n"
     ]
    }
   ],
   "source": [
    "print(f'{round(grouped_df_inactive[\"overpayment\"].median())} рублей - медианное значение переплаты, достигнув которое клиенты с повышенным шансом уходят.')"
   ]
  },
  {
   "cell_type": "code",
   "execution_count": 33,
   "metadata": {},
   "outputs": [
    {
     "data": {
      "image/png": "[encoded data removed]",
      "text/plain": [
       "<Figure size 1000x1000 with 1 Axes>"
      ]
     },
     "metadata": {},
     "output_type": "display_data"
    }
   ],
   "source": [
    "grouped_df_inactive['user_id'] = 0\n",
    "\n",
    "grouped_df_inactive.plot(x='user_id', y='overpayment', style='.', alpha=0.3, figsize=(10, 10), ms=20)\n",
    "plt.axhline(y=850, color='red', linestyle='--')\n",
    "\n",
    "plt.title('Значения переплат, после которых клиенты ушли')\n",
    "plt.xticks([1])\n",
    "plt.yticks([500, 850, 1000, 1500, 2000, 2500, 3000])\n",
    "plt.xlabel('Клиент')\n",
    "plt.ylabel('Значения переплат в рублях');"
   ]
  },
  {
   "cell_type": "markdown",
   "metadata": {},
   "source": [
    "В дальнейшем мы будем использовать значения 850 рублей и выше как нежелательные для переплаты клиентами.\n",
    "\n",
    "На этом работа с неактивными пользователями завершена. Уберём этих пользователей из датафрейма grouped_df, с которым в дальнейшем будем заниматься."
   ]
  },
  {
   "cell_type": "code",
   "execution_count": 34,
   "metadata": {},
   "outputs": [
    {
     "data": {
      "text/html": [
       "<div>\n",
       "<style scoped>\n",
       "    .dataframe tbody tr th:only-of-type {\n",
       "        vertical-align: middle;\n",
       "    }\n",
       "\n",
       "    .dataframe tbody tr th {\n",
       "        vertical-align: top;\n",
       "    }\n",
       "\n",
       "    .dataframe thead th {\n",
       "        text-align: right;\n",
       "    }\n",
       "</style>\n",
       "<table border=\"1\" class=\"dataframe\">\n",
       "  <thead>\n",
       "    <tr style=\"text-align: right;\">\n",
       "      <th></th>\n",
       "      <th>user_id</th>\n",
       "      <th>month</th>\n",
       "      <th>tariff_plan</th>\n",
       "      <th>current_price</th>\n",
       "      <th>price_A</th>\n",
       "      <th>price_B</th>\n",
       "      <th>price_C</th>\n",
       "      <th>best_tariff_price</th>\n",
       "      <th>overpayment</th>\n",
       "    </tr>\n",
       "  </thead>\n",
       "  <tbody>\n",
       "    <tr>\n",
       "      <th>0</th>\n",
       "      <td>166377</td>\n",
       "      <td>8</td>\n",
       "      <td>B</td>\n",
       "      <td>3400.24</td>\n",
       "      <td>4640.15</td>\n",
       "      <td>3400.24</td>\n",
       "      <td>3410.82</td>\n",
       "      <td>3400.24</td>\n",
       "      <td>0.00</td>\n",
       "    </tr>\n",
       "    <tr>\n",
       "      <th>1</th>\n",
       "      <td>166377</td>\n",
       "      <td>9</td>\n",
       "      <td>B</td>\n",
       "      <td>3481.96</td>\n",
       "      <td>4729.18</td>\n",
       "      <td>3481.96</td>\n",
       "      <td>3434.79</td>\n",
       "      <td>3434.79</td>\n",
       "      <td>47.17</td>\n",
       "    </tr>\n",
       "    <tr>\n",
       "      <th>2</th>\n",
       "      <td>166377</td>\n",
       "      <td>10</td>\n",
       "      <td>B</td>\n",
       "      <td>3576.72</td>\n",
       "      <td>4746.04</td>\n",
       "      <td>3576.72</td>\n",
       "      <td>3657.44</td>\n",
       "      <td>3576.72</td>\n",
       "      <td>0.00</td>\n",
       "    </tr>\n",
       "    <tr>\n",
       "      <th>3</th>\n",
       "      <td>166377</td>\n",
       "      <td>11</td>\n",
       "      <td>B</td>\n",
       "      <td>3394.87</td>\n",
       "      <td>4676.92</td>\n",
       "      <td>3394.87</td>\n",
       "      <td>3313.45</td>\n",
       "      <td>3313.45</td>\n",
       "      <td>81.42</td>\n",
       "    </tr>\n",
       "    <tr>\n",
       "      <th>4</th>\n",
       "      <td>166391</td>\n",
       "      <td>8</td>\n",
       "      <td>C</td>\n",
       "      <td>1600.04</td>\n",
       "      <td>4100.00</td>\n",
       "      <td>2300.00</td>\n",
       "      <td>1600.04</td>\n",
       "      <td>1600.04</td>\n",
       "      <td>0.00</td>\n",
       "    </tr>\n",
       "  </tbody>\n",
       "</table>\n",
       "</div>"
      ],
      "text/plain": [
       "   user_id  month tariff_plan  current_price  price_A  price_B  price_C  \\\n",
       "0   166377      8           B        3400.24  4640.15  3400.24  3410.82   \n",
       "1   166377      9           B        3481.96  4729.18  3481.96  3434.79   \n",
       "2   166377     10           B        3576.72  4746.04  3576.72  3657.44   \n",
       "3   166377     11           B        3394.87  4676.92  3394.87  3313.45   \n",
       "4   166391      8           C        1600.04  4100.00  2300.00  1600.04   \n",
       "\n",
       "   best_tariff_price  overpayment  \n",
       "0            3400.24         0.00  \n",
       "1            3434.79        47.17  \n",
       "2            3576.72         0.00  \n",
       "3            3313.45        81.42  \n",
       "4            1600.04         0.00  "
      ]
     },
     "execution_count": 34,
     "metadata": {},
     "output_type": "execute_result"
    }
   ],
   "source": [
    "grouped_df = grouped_df[grouped_df['user_id'].isin(inactive_clients['user_id']) == False].reset_index(drop=True)\n",
    "grouped_df.head()"
   ]
  },
  {
   "cell_type": "markdown",
   "metadata": {},
   "source": [
    "### Исследование переплаты клиентов"
   ]
  },
  {
   "cell_type": "markdown",
   "metadata": {},
   "source": [
    "Для нахождения пользователей, находящихся в \"критической зоне\" (тех, кто много переплачивает и кто может уйти к конкурентам), следует оставить информацию только об 11 месяце: данные до этого момента нас не сильно интересуют, так как вряд ли подскажут нынешнее \"настроение\" клиентов."
   ]
  },
  {
   "cell_type": "code",
   "execution_count": 35,
   "metadata": {},
   "outputs": [
    {
     "data": {
      "text/html": [
       "<div>\n",
       "<style scoped>\n",
       "    .dataframe tbody tr th:only-of-type {\n",
       "        vertical-align: middle;\n",
       "    }\n",
       "\n",
       "    .dataframe tbody tr th {\n",
       "        vertical-align: top;\n",
       "    }\n",
       "\n",
       "    .dataframe thead th {\n",
       "        text-align: right;\n",
       "    }\n",
       "</style>\n",
       "<table border=\"1\" class=\"dataframe\">\n",
       "  <thead>\n",
       "    <tr style=\"text-align: right;\">\n",
       "      <th></th>\n",
       "      <th>user_id</th>\n",
       "      <th>tariff_plan</th>\n",
       "      <th>current_price</th>\n",
       "      <th>price_A</th>\n",
       "      <th>price_B</th>\n",
       "      <th>price_C</th>\n",
       "      <th>best_tariff_price</th>\n",
       "      <th>overpayment</th>\n",
       "    </tr>\n",
       "  </thead>\n",
       "  <tbody>\n",
       "    <tr>\n",
       "      <th>0</th>\n",
       "      <td>166377</td>\n",
       "      <td>B</td>\n",
       "      <td>3394.87</td>\n",
       "      <td>4676.92</td>\n",
       "      <td>3394.87</td>\n",
       "      <td>3313.45</td>\n",
       "      <td>3313.45</td>\n",
       "      <td>81.42</td>\n",
       "    </tr>\n",
       "    <tr>\n",
       "      <th>1</th>\n",
       "      <td>166391</td>\n",
       "      <td>C</td>\n",
       "      <td>1300.00</td>\n",
       "      <td>4050.00</td>\n",
       "      <td>2150.00</td>\n",
       "      <td>1300.00</td>\n",
       "      <td>1300.00</td>\n",
       "      <td>0.00</td>\n",
       "    </tr>\n",
       "    <tr>\n",
       "      <th>2</th>\n",
       "      <td>166392</td>\n",
       "      <td>C</td>\n",
       "      <td>1600.00</td>\n",
       "      <td>4100.00</td>\n",
       "      <td>2300.00</td>\n",
       "      <td>1600.00</td>\n",
       "      <td>1600.00</td>\n",
       "      <td>0.00</td>\n",
       "    </tr>\n",
       "    <tr>\n",
       "      <th>3</th>\n",
       "      <td>166405</td>\n",
       "      <td>B</td>\n",
       "      <td>6590.22</td>\n",
       "      <td>6434.13</td>\n",
       "      <td>6590.22</td>\n",
       "      <td>8146.88</td>\n",
       "      <td>6434.13</td>\n",
       "      <td>156.09</td>\n",
       "    </tr>\n",
       "    <tr>\n",
       "      <th>4</th>\n",
       "      <td>166406</td>\n",
       "      <td>B</td>\n",
       "      <td>2694.12</td>\n",
       "      <td>4336.47</td>\n",
       "      <td>2694.12</td>\n",
       "      <td>2151.76</td>\n",
       "      <td>2151.76</td>\n",
       "      <td>542.36</td>\n",
       "    </tr>\n",
       "  </tbody>\n",
       "</table>\n",
       "</div>"
      ],
      "text/plain": [
       "   user_id tariff_plan  current_price  price_A  price_B  price_C  \\\n",
       "0   166377           B        3394.87  4676.92  3394.87  3313.45   \n",
       "1   166391           C        1300.00  4050.00  2150.00  1300.00   \n",
       "2   166392           C        1600.00  4100.00  2300.00  1600.00   \n",
       "3   166405           B        6590.22  6434.13  6590.22  8146.88   \n",
       "4   166406           B        2694.12  4336.47  2694.12  2151.76   \n",
       "\n",
       "   best_tariff_price  overpayment  \n",
       "0            3313.45        81.42  \n",
       "1            1300.00         0.00  \n",
       "2            1600.00         0.00  \n",
       "3            6434.13       156.09  \n",
       "4            2151.76       542.36  "
      ]
     },
     "execution_count": 35,
     "metadata": {},
     "output_type": "execute_result"
    }
   ],
   "source": [
    "grouped_df_last_month = grouped_df[grouped_df['month'] == 11].reset_index(drop=True).drop('month', axis=1)\n",
    "grouped_df_last_month.head()"
   ]
  },
  {
   "cell_type": "markdown",
   "metadata": {},
   "source": [
    "Добавим столбцы, аналогичные best_tariff_price и overpayment, но для среднего по выгоде тарифа - на него можно будет перевести некоторых клиентов, чей шанс уйти не слишком велик, чтобы избежать дополнительных потерь выручки."
   ]
  },
  {
   "cell_type": "code",
   "execution_count": 36,
   "metadata": {},
   "outputs": [
    {
     "data": {
      "text/html": [
       "<div>\n",
       "<style scoped>\n",
       "    .dataframe tbody tr th:only-of-type {\n",
       "        vertical-align: middle;\n",
       "    }\n",
       "\n",
       "    .dataframe tbody tr th {\n",
       "        vertical-align: top;\n",
       "    }\n",
       "\n",
       "    .dataframe thead th {\n",
       "        text-align: right;\n",
       "    }\n",
       "</style>\n",
       "<table border=\"1\" class=\"dataframe\">\n",
       "  <thead>\n",
       "    <tr style=\"text-align: right;\">\n",
       "      <th></th>\n",
       "      <th>user_id</th>\n",
       "      <th>tariff_plan</th>\n",
       "      <th>current_price</th>\n",
       "      <th>price_A</th>\n",
       "      <th>price_B</th>\n",
       "      <th>price_C</th>\n",
       "      <th>best_tariff_price</th>\n",
       "      <th>overpayment</th>\n",
       "      <th>mid_tariff_price</th>\n",
       "      <th>overpayment_mid</th>\n",
       "    </tr>\n",
       "  </thead>\n",
       "  <tbody>\n",
       "    <tr>\n",
       "      <th>0</th>\n",
       "      <td>166377</td>\n",
       "      <td>B</td>\n",
       "      <td>3394.87</td>\n",
       "      <td>4676.92</td>\n",
       "      <td>3394.87</td>\n",
       "      <td>3313.45</td>\n",
       "      <td>3313.45</td>\n",
       "      <td>81.42</td>\n",
       "      <td>3394.87</td>\n",
       "      <td>0.0</td>\n",
       "    </tr>\n",
       "    <tr>\n",
       "      <th>1</th>\n",
       "      <td>166391</td>\n",
       "      <td>C</td>\n",
       "      <td>1300.00</td>\n",
       "      <td>4050.00</td>\n",
       "      <td>2150.00</td>\n",
       "      <td>1300.00</td>\n",
       "      <td>1300.00</td>\n",
       "      <td>0.00</td>\n",
       "      <td>2150.00</td>\n",
       "      <td>-850.0</td>\n",
       "    </tr>\n",
       "    <tr>\n",
       "      <th>2</th>\n",
       "      <td>166392</td>\n",
       "      <td>C</td>\n",
       "      <td>1600.00</td>\n",
       "      <td>4100.00</td>\n",
       "      <td>2300.00</td>\n",
       "      <td>1600.00</td>\n",
       "      <td>1600.00</td>\n",
       "      <td>0.00</td>\n",
       "      <td>2300.00</td>\n",
       "      <td>-700.0</td>\n",
       "    </tr>\n",
       "    <tr>\n",
       "      <th>3</th>\n",
       "      <td>166405</td>\n",
       "      <td>B</td>\n",
       "      <td>6590.22</td>\n",
       "      <td>6434.13</td>\n",
       "      <td>6590.22</td>\n",
       "      <td>8146.88</td>\n",
       "      <td>6434.13</td>\n",
       "      <td>156.09</td>\n",
       "      <td>6590.22</td>\n",
       "      <td>0.0</td>\n",
       "    </tr>\n",
       "    <tr>\n",
       "      <th>4</th>\n",
       "      <td>166406</td>\n",
       "      <td>B</td>\n",
       "      <td>2694.12</td>\n",
       "      <td>4336.47</td>\n",
       "      <td>2694.12</td>\n",
       "      <td>2151.76</td>\n",
       "      <td>2151.76</td>\n",
       "      <td>542.36</td>\n",
       "      <td>2694.12</td>\n",
       "      <td>0.0</td>\n",
       "    </tr>\n",
       "  </tbody>\n",
       "</table>\n",
       "</div>"
      ],
      "text/plain": [
       "   user_id tariff_plan  current_price  price_A  price_B  price_C  \\\n",
       "0   166377           B        3394.87  4676.92  3394.87  3313.45   \n",
       "1   166391           C        1300.00  4050.00  2150.00  1300.00   \n",
       "2   166392           C        1600.00  4100.00  2300.00  1600.00   \n",
       "3   166405           B        6590.22  6434.13  6590.22  8146.88   \n",
       "4   166406           B        2694.12  4336.47  2694.12  2151.76   \n",
       "\n",
       "   best_tariff_price  overpayment  mid_tariff_price  overpayment_mid  \n",
       "0            3313.45        81.42           3394.87              0.0  \n",
       "1            1300.00         0.00           2150.00           -850.0  \n",
       "2            1600.00         0.00           2300.00           -700.0  \n",
       "3            6434.13       156.09           6590.22              0.0  \n",
       "4            2151.76       542.36           2694.12              0.0  "
      ]
     },
     "execution_count": 36,
     "metadata": {},
     "output_type": "execute_result"
    }
   ],
   "source": [
    "# стоимость по среднему (по выгоде) тарифу\n",
    "grouped_df_last_month['mid_tariff_price'] = (grouped_df_last_month\n",
    "                                             .apply(lambda x: np.median([x['price_A'], x['price_B'], x['price_C']]), axis=1))\n",
    "\n",
    "# столбец с переплатой в сравнении со средним тарифом\n",
    "grouped_df_last_month['overpayment_mid'] = grouped_df_last_month['current_price'] - grouped_df_last_month['mid_tariff_price']\n",
    "\n",
    "grouped_df_last_month.head()"
   ]
  },
  {
   "cell_type": "code",
   "execution_count": 37,
   "metadata": {},
   "outputs": [
    {
     "name": "stdout",
     "output_type": "stream",
     "text": [
      "47.51% клиентов пользуются не самым выгодным тарифом и переплачивают.\n"
     ]
    }
   ],
   "source": [
    "print(f'{round(grouped_df_last_month[grouped_df_last_month[\"overpayment\"] != 0].shape[0] / grouped_df_last_month.shape[0] * 100, 2)}% клиентов пользуются',\n",
    "     'не самым выгодным тарифом и переплачивают.')"
   ]
  },
  {
   "cell_type": "code",
   "execution_count": 38,
   "metadata": {},
   "outputs": [
    {
     "name": "stdout",
     "output_type": "stream",
     "text": [
      "10.34% клиентов пользуются самым невыгодным тарифом и сильно переплачивают.\n"
     ]
    }
   ],
   "source": [
    "print(f'{round(grouped_df_last_month[grouped_df_last_month[\"overpayment_mid\"] > 0].shape[0] / grouped_df_last_month.shape[0] * 100, 2)}% клиентов пользуются',\n",
    "     'самым невыгодным тарифом и сильно переплачивают.')"
   ]
  },
  {
   "cell_type": "code",
   "execution_count": 39,
   "metadata": {},
   "outputs": [
    {
     "data": {
      "image/png": "[encoded data removed]",
      "text/plain": [
       "<Figure size 1500x1000 with 1 Axes>"
      ]
     },
     "metadata": {},
     "output_type": "display_data"
    }
   ],
   "source": [
    "plt.figure(figsize=(15, 10))\n",
    "plt.boxplot(grouped_df_last_month['overpayment'])\n",
    "plt.title('Диаграмма размаха переплаты относительно лучшего тарифа')\n",
    "plt.ylabel('Переплата в рублях')\n",
    "plt.xticks([0])\n",
    "plt.xlabel('Клиент')\n",
    "plt.grid();"
   ]
  },
  {
   "cell_type": "code",
   "execution_count": 40,
   "metadata": {},
   "outputs": [
    {
     "data": {
      "text/plain": [
       "array([   0.  ,  331.9 ,  849.62, 1175.36])"
      ]
     },
     "execution_count": 40,
     "metadata": {},
     "output_type": "execute_result"
    }
   ],
   "source": [
    "np.percentile(grouped_df_last_month['overpayment'], [52, 60, 80, 90]) # перцентили"
   ]
  },
  {
   "cell_type": "markdown",
   "metadata": {},
   "source": [
    "Большая часть клиентов (52%) используют самый выгодный тариф и не переплачивают. Около 8% пользователей переплачивают до 332 рублей, 20% - от 332 до 850, 10% - от 850 до 1175, остальные 10% - больше 1175 рублей."
   ]
  },
  {
   "cell_type": "markdown",
   "metadata": {},
   "source": [
    "### Подсчёт выручки при действующих и более выгодных тарифных планах"
   ]
  },
  {
   "cell_type": "markdown",
   "metadata": {},
   "source": [
    "#### Выручка при действующих тарифных планах"
   ]
  },
  {
   "cell_type": "code",
   "execution_count": 41,
   "metadata": {
    "scrolled": true
   },
   "outputs": [
    {
     "name": "stdout",
     "output_type": "stream",
     "text": [
      "Выручка при действующих тарифных планах: 688789 рублей.\n"
     ]
    }
   ],
   "source": [
    "print(f'Выручка при действующих тарифных планах: {round(grouped_df_last_month[\"current_price\"].sum())} рублей.')"
   ]
  },
  {
   "cell_type": "code",
   "execution_count": 42,
   "metadata": {},
   "outputs": [
    {
     "name": "stdout",
     "output_type": "stream",
     "text": [
      "16.09% клиентов переплачивают больше 850 рублей.\n"
     ]
    }
   ],
   "source": [
    "print(f'{round(100 - stats.percentileofscore(grouped_df_last_month[\"overpayment\"], 850), 2)}% клиентов переплачивают больше 850 рублей.')"
   ]
  },
  {
   "cell_type": "markdown",
   "metadata": {},
   "source": [
    "#### Выручка при самых выгодных тарифных планах"
   ]
  },
  {
   "cell_type": "code",
   "execution_count": 43,
   "metadata": {},
   "outputs": [
    {
     "name": "stdout",
     "output_type": "stream",
     "text": [
      "Выручка, если заменить все тарифные планы на самые выгодные: 571671 рублей.\n",
      "\n",
      "Это на 20.5% меньше выручки по действующим тарифам.\n"
     ]
    }
   ],
   "source": [
    "print('Выручка, если заменить все тарифные планы на самые выгодные: ',\n",
    "      f'{round(grouped_df_last_month[\"best_tariff_price\"].sum())} рублей.\\n\\n',\n",
    "      f'Это на {round((grouped_df_last_month[\"current_price\"].sum() / grouped_df_last_month[\"best_tariff_price\"].sum() - 1) * 100, 1)}',\n",
    "      '% меньше выручки по действующим тарифам.', sep='')"
   ]
  },
  {
   "cell_type": "markdown",
   "metadata": {},
   "source": [
    "Самый действенный способ минимизировать количество уходов клиентов - это просто \"пересадить\" их на самый выгодный тариф. Однако в таком случае сильно страдает значение выручки: на 20% убытков компания вряд ли готова пойти."
   ]
  },
  {
   "cell_type": "markdown",
   "metadata": {},
   "source": [
    "#### Выручка при средних по выгоде тарифных планах"
   ]
  },
  {
   "cell_type": "code",
   "execution_count": 44,
   "metadata": {},
   "outputs": [],
   "source": [
    "def smart_mid_tariff_price(row):\n",
    "    '''\n",
    "    Функция для  подсчёта стоимости месяца по среднему тарифу, если клиент платит больше, чем может, используя этот тариф \n",
    "    (мы же не будем предлагать клиентам изменить тариф на менее выгодный)\n",
    "    '''\n",
    "    if row['overpayment_mid'] > 0:\n",
    "        return row['mid_tariff_price']\n",
    "    return row['current_price']"
   ]
  },
  {
   "cell_type": "code",
   "execution_count": 45,
   "metadata": {},
   "outputs": [
    {
     "data": {
      "text/html": [
       "<div>\n",
       "<style scoped>\n",
       "    .dataframe tbody tr th:only-of-type {\n",
       "        vertical-align: middle;\n",
       "    }\n",
       "\n",
       "    .dataframe tbody tr th {\n",
       "        vertical-align: top;\n",
       "    }\n",
       "\n",
       "    .dataframe thead th {\n",
       "        text-align: right;\n",
       "    }\n",
       "</style>\n",
       "<table border=\"1\" class=\"dataframe\">\n",
       "  <thead>\n",
       "    <tr style=\"text-align: right;\">\n",
       "      <th></th>\n",
       "      <th>user_id</th>\n",
       "      <th>tariff_plan</th>\n",
       "      <th>current_price</th>\n",
       "      <th>price_A</th>\n",
       "      <th>price_B</th>\n",
       "      <th>price_C</th>\n",
       "      <th>best_tariff_price</th>\n",
       "      <th>overpayment</th>\n",
       "      <th>mid_tariff_price</th>\n",
       "      <th>overpayment_mid</th>\n",
       "      <th>smart_mid_tariff_price</th>\n",
       "      <th>overpayment_smart_mid</th>\n",
       "    </tr>\n",
       "  </thead>\n",
       "  <tbody>\n",
       "    <tr>\n",
       "      <th>0</th>\n",
       "      <td>166377</td>\n",
       "      <td>B</td>\n",
       "      <td>3394.87</td>\n",
       "      <td>4676.92</td>\n",
       "      <td>3394.87</td>\n",
       "      <td>3313.45</td>\n",
       "      <td>3313.45</td>\n",
       "      <td>81.42</td>\n",
       "      <td>3394.87</td>\n",
       "      <td>0.0</td>\n",
       "      <td>3394.87</td>\n",
       "      <td>81.42</td>\n",
       "    </tr>\n",
       "    <tr>\n",
       "      <th>1</th>\n",
       "      <td>166391</td>\n",
       "      <td>C</td>\n",
       "      <td>1300.00</td>\n",
       "      <td>4050.00</td>\n",
       "      <td>2150.00</td>\n",
       "      <td>1300.00</td>\n",
       "      <td>1300.00</td>\n",
       "      <td>0.00</td>\n",
       "      <td>2150.00</td>\n",
       "      <td>-850.0</td>\n",
       "      <td>1300.00</td>\n",
       "      <td>0.00</td>\n",
       "    </tr>\n",
       "    <tr>\n",
       "      <th>2</th>\n",
       "      <td>166392</td>\n",
       "      <td>C</td>\n",
       "      <td>1600.00</td>\n",
       "      <td>4100.00</td>\n",
       "      <td>2300.00</td>\n",
       "      <td>1600.00</td>\n",
       "      <td>1600.00</td>\n",
       "      <td>0.00</td>\n",
       "      <td>2300.00</td>\n",
       "      <td>-700.0</td>\n",
       "      <td>1600.00</td>\n",
       "      <td>0.00</td>\n",
       "    </tr>\n",
       "    <tr>\n",
       "      <th>3</th>\n",
       "      <td>166405</td>\n",
       "      <td>B</td>\n",
       "      <td>6590.22</td>\n",
       "      <td>6434.13</td>\n",
       "      <td>6590.22</td>\n",
       "      <td>8146.88</td>\n",
       "      <td>6434.13</td>\n",
       "      <td>156.09</td>\n",
       "      <td>6590.22</td>\n",
       "      <td>0.0</td>\n",
       "      <td>6590.22</td>\n",
       "      <td>156.09</td>\n",
       "    </tr>\n",
       "    <tr>\n",
       "      <th>4</th>\n",
       "      <td>166406</td>\n",
       "      <td>B</td>\n",
       "      <td>2694.12</td>\n",
       "      <td>4336.47</td>\n",
       "      <td>2694.12</td>\n",
       "      <td>2151.76</td>\n",
       "      <td>2151.76</td>\n",
       "      <td>542.36</td>\n",
       "      <td>2694.12</td>\n",
       "      <td>0.0</td>\n",
       "      <td>2694.12</td>\n",
       "      <td>542.36</td>\n",
       "    </tr>\n",
       "  </tbody>\n",
       "</table>\n",
       "</div>"
      ],
      "text/plain": [
       "   user_id tariff_plan  current_price  price_A  price_B  price_C  \\\n",
       "0   166377           B        3394.87  4676.92  3394.87  3313.45   \n",
       "1   166391           C        1300.00  4050.00  2150.00  1300.00   \n",
       "2   166392           C        1600.00  4100.00  2300.00  1600.00   \n",
       "3   166405           B        6590.22  6434.13  6590.22  8146.88   \n",
       "4   166406           B        2694.12  4336.47  2694.12  2151.76   \n",
       "\n",
       "   best_tariff_price  overpayment  mid_tariff_price  overpayment_mid  \\\n",
       "0            3313.45        81.42           3394.87              0.0   \n",
       "1            1300.00         0.00           2150.00           -850.0   \n",
       "2            1600.00         0.00           2300.00           -700.0   \n",
       "3            6434.13       156.09           6590.22              0.0   \n",
       "4            2151.76       542.36           2694.12              0.0   \n",
       "\n",
       "   smart_mid_tariff_price  overpayment_smart_mid  \n",
       "0                 3394.87                  81.42  \n",
       "1                 1300.00                   0.00  \n",
       "2                 1600.00                   0.00  \n",
       "3                 6590.22                 156.09  \n",
       "4                 2694.12                 542.36  "
      ]
     },
     "execution_count": 45,
     "metadata": {},
     "output_type": "execute_result"
    }
   ],
   "source": [
    "grouped_df_last_month['smart_mid_tariff_price'] = grouped_df_last_month.apply(smart_mid_tariff_price, axis=1)\n",
    "grouped_df_last_month['overpayment_smart_mid'] = grouped_df_last_month['smart_mid_tariff_price'] - grouped_df_last_month['best_tariff_price']\n",
    "grouped_df_last_month.head()"
   ]
  },
  {
   "cell_type": "code",
   "execution_count": 46,
   "metadata": {},
   "outputs": [
    {
     "name": "stdout",
     "output_type": "stream",
     "text": [
      "Выручка, если заменить невыгодные тарифные планы на средние по выгоде: 646406 рублей\n",
      "Это на 6.6% меньше выручки по действующим тарифам.\n"
     ]
    }
   ],
   "source": [
    "print('Выручка, если заменить невыгодные тарифные планы на средние по выгоде: ',\n",
    "      f'{round(grouped_df_last_month[\"smart_mid_tariff_price\"].sum())} рублей\\n',\n",
    "      f'Это на {round((grouped_df_last_month[\"current_price\"].sum() / grouped_df_last_month[\"smart_mid_tariff_price\"].sum() - 1) * 100, 1)}',\n",
    "      '% меньше выручки по действующим тарифам.', sep='')"
   ]
  },
  {
   "cell_type": "code",
   "execution_count": 47,
   "metadata": {},
   "outputs": [
    {
     "name": "stdout",
     "output_type": "stream",
     "text": [
      "7.28% клиентов переплачивают больше 850 рублей.\n"
     ]
    }
   ],
   "source": [
    "print(f'{round(100 - stats.percentileofscore(grouped_df_last_month[\"overpayment_smart_mid\"], 850), 2)}% клиентов переплачивают больше 850 рублей.')"
   ]
  },
  {
   "cell_type": "markdown",
   "metadata": {},
   "source": [
    "Хоть выручка и упала на 6.6%, количество клиентов с высокой переплатой (больше 850 рублей) уменьшилось до 7.3%.\n",
    "\n",
    "Уже неплохо, но, скорее всего, можно лучше."
   ]
  },
  {
   "cell_type": "markdown",
   "metadata": {},
   "source": [
    "#### Выручка при \"умной\" тарификации"
   ]
  },
  {
   "cell_type": "markdown",
   "metadata": {},
   "source": [
    "Будем изменять тарифные планы исходя из значения переплаты клиента:\n",
    "- переплата выше 850 рублей:\n",
    "- - если у пользователя самый невыгодный тариф, тогда мы пытаемся перейти на средний тариф; если и с ним переплата больше 850 рублей, тогда переходим на самый выгодный;\n",
    "- - если у пользователя средний тариф, то переходим на самый выгодный;\n",
    "- переплата ниже 850 рублей:\n",
    "- - оставляем клиента на том же тарифном плане."
   ]
  },
  {
   "cell_type": "code",
   "execution_count": 48,
   "metadata": {},
   "outputs": [],
   "source": [
    "def smart_tariff_price(row):\n",
    "    '''\n",
    "    Функция для подсчёта стоимости месяца при самых подходящих тарифных условиях\n",
    "    '''\n",
    "    if row['overpayment'] > 850:\n",
    "        if row['overpayment_smart_mid'] > 850:\n",
    "            return row['best_tariff_price']\n",
    "        return row['smart_mid_tariff_price']\n",
    "            \n",
    "    return row['current_price']"
   ]
  },
  {
   "cell_type": "code",
   "execution_count": 49,
   "metadata": {},
   "outputs": [
    {
     "data": {
      "text/html": [
       "<div>\n",
       "<style scoped>\n",
       "    .dataframe tbody tr th:only-of-type {\n",
       "        vertical-align: middle;\n",
       "    }\n",
       "\n",
       "    .dataframe tbody tr th {\n",
       "        vertical-align: top;\n",
       "    }\n",
       "\n",
       "    .dataframe thead th {\n",
       "        text-align: right;\n",
       "    }\n",
       "</style>\n",
       "<table border=\"1\" class=\"dataframe\">\n",
       "  <thead>\n",
       "    <tr style=\"text-align: right;\">\n",
       "      <th></th>\n",
       "      <th>user_id</th>\n",
       "      <th>tariff_plan</th>\n",
       "      <th>current_price</th>\n",
       "      <th>price_A</th>\n",
       "      <th>price_B</th>\n",
       "      <th>price_C</th>\n",
       "      <th>best_tariff_price</th>\n",
       "      <th>overpayment</th>\n",
       "      <th>mid_tariff_price</th>\n",
       "      <th>overpayment_mid</th>\n",
       "      <th>smart_mid_tariff_price</th>\n",
       "      <th>overpayment_smart_mid</th>\n",
       "      <th>smart_tariff_price</th>\n",
       "      <th>overpayment_smart</th>\n",
       "    </tr>\n",
       "  </thead>\n",
       "  <tbody>\n",
       "    <tr>\n",
       "      <th>0</th>\n",
       "      <td>166377</td>\n",
       "      <td>B</td>\n",
       "      <td>3394.87</td>\n",
       "      <td>4676.92</td>\n",
       "      <td>3394.87</td>\n",
       "      <td>3313.45</td>\n",
       "      <td>3313.45</td>\n",
       "      <td>81.42</td>\n",
       "      <td>3394.87</td>\n",
       "      <td>0.0</td>\n",
       "      <td>3394.87</td>\n",
       "      <td>81.42</td>\n",
       "      <td>3394.87</td>\n",
       "      <td>81.42</td>\n",
       "    </tr>\n",
       "    <tr>\n",
       "      <th>1</th>\n",
       "      <td>166391</td>\n",
       "      <td>C</td>\n",
       "      <td>1300.00</td>\n",
       "      <td>4050.00</td>\n",
       "      <td>2150.00</td>\n",
       "      <td>1300.00</td>\n",
       "      <td>1300.00</td>\n",
       "      <td>0.00</td>\n",
       "      <td>2150.00</td>\n",
       "      <td>-850.0</td>\n",
       "      <td>1300.00</td>\n",
       "      <td>0.00</td>\n",
       "      <td>1300.00</td>\n",
       "      <td>0.00</td>\n",
       "    </tr>\n",
       "    <tr>\n",
       "      <th>2</th>\n",
       "      <td>166392</td>\n",
       "      <td>C</td>\n",
       "      <td>1600.00</td>\n",
       "      <td>4100.00</td>\n",
       "      <td>2300.00</td>\n",
       "      <td>1600.00</td>\n",
       "      <td>1600.00</td>\n",
       "      <td>0.00</td>\n",
       "      <td>2300.00</td>\n",
       "      <td>-700.0</td>\n",
       "      <td>1600.00</td>\n",
       "      <td>0.00</td>\n",
       "      <td>1600.00</td>\n",
       "      <td>0.00</td>\n",
       "    </tr>\n",
       "    <tr>\n",
       "      <th>3</th>\n",
       "      <td>166405</td>\n",
       "      <td>B</td>\n",
       "      <td>6590.22</td>\n",
       "      <td>6434.13</td>\n",
       "      <td>6590.22</td>\n",
       "      <td>8146.88</td>\n",
       "      <td>6434.13</td>\n",
       "      <td>156.09</td>\n",
       "      <td>6590.22</td>\n",
       "      <td>0.0</td>\n",
       "      <td>6590.22</td>\n",
       "      <td>156.09</td>\n",
       "      <td>6590.22</td>\n",
       "      <td>156.09</td>\n",
       "    </tr>\n",
       "    <tr>\n",
       "      <th>4</th>\n",
       "      <td>166406</td>\n",
       "      <td>B</td>\n",
       "      <td>2694.12</td>\n",
       "      <td>4336.47</td>\n",
       "      <td>2694.12</td>\n",
       "      <td>2151.76</td>\n",
       "      <td>2151.76</td>\n",
       "      <td>542.36</td>\n",
       "      <td>2694.12</td>\n",
       "      <td>0.0</td>\n",
       "      <td>2694.12</td>\n",
       "      <td>542.36</td>\n",
       "      <td>2694.12</td>\n",
       "      <td>542.36</td>\n",
       "    </tr>\n",
       "  </tbody>\n",
       "</table>\n",
       "</div>"
      ],
      "text/plain": [
       "   user_id tariff_plan  current_price  price_A  price_B  price_C  \\\n",
       "0   166377           B        3394.87  4676.92  3394.87  3313.45   \n",
       "1   166391           C        1300.00  4050.00  2150.00  1300.00   \n",
       "2   166392           C        1600.00  4100.00  2300.00  1600.00   \n",
       "3   166405           B        6590.22  6434.13  6590.22  8146.88   \n",
       "4   166406           B        2694.12  4336.47  2694.12  2151.76   \n",
       "\n",
       "   best_tariff_price  overpayment  mid_tariff_price  overpayment_mid  \\\n",
       "0            3313.45        81.42           3394.87              0.0   \n",
       "1            1300.00         0.00           2150.00           -850.0   \n",
       "2            1600.00         0.00           2300.00           -700.0   \n",
       "3            6434.13       156.09           6590.22              0.0   \n",
       "4            2151.76       542.36           2694.12              0.0   \n",
       "\n",
       "   smart_mid_tariff_price  overpayment_smart_mid  smart_tariff_price  \\\n",
       "0                 3394.87                  81.42             3394.87   \n",
       "1                 1300.00                   0.00             1300.00   \n",
       "2                 1600.00                   0.00             1600.00   \n",
       "3                 6590.22                 156.09             6590.22   \n",
       "4                 2694.12                 542.36             2694.12   \n",
       "\n",
       "   overpayment_smart  \n",
       "0              81.42  \n",
       "1               0.00  \n",
       "2               0.00  \n",
       "3             156.09  \n",
       "4             542.36  "
      ]
     },
     "execution_count": 49,
     "metadata": {},
     "output_type": "execute_result"
    }
   ],
   "source": [
    "grouped_df_last_month['smart_tariff_price'] = grouped_df_last_month.apply(smart_tariff_price, axis=1)\n",
    "grouped_df_last_month['overpayment_smart'] = grouped_df_last_month['smart_tariff_price'] - grouped_df_last_month['best_tariff_price']\n",
    "grouped_df_last_month.head()"
   ]
  },
  {
   "cell_type": "code",
   "execution_count": 50,
   "metadata": {},
   "outputs": [
    {
     "name": "stdout",
     "output_type": "stream",
     "text": [
      "Выручка, если использовать умную систему тарификации: 633200 рублей\n",
      "Это на 8.8% меньше выручки по действующим тарифам.\n"
     ]
    }
   ],
   "source": [
    "print('Выручка, если использовать умную систему тарификации: ',\n",
    "      f'{round(grouped_df_last_month[\"smart_tariff_price\"].sum())} рублей\\n',\n",
    "      f'Это на {round((grouped_df_last_month[\"current_price\"].sum() / grouped_df_last_month[\"smart_tariff_price\"].sum() - 1) * 100, 1)}',\n",
    "      '% меньше выручки по действующим тарифам.', sep='')"
   ]
  },
  {
   "cell_type": "code",
   "execution_count": 51,
   "metadata": {},
   "outputs": [
    {
     "name": "stdout",
     "output_type": "stream",
     "text": [
      "2.3% клиентов переплачивают больше 850 рублей.\n"
     ]
    }
   ],
   "source": [
    "print(f'{round(100 - stats.percentileofscore(grouped_df_last_month[\"overpayment_smart\"], 850), 2)}% клиентов переплачивают больше 850 рублей.')"
   ]
  },
  {
   "cell_type": "markdown",
   "metadata": {},
   "source": [
    "Система \"умной\" тарификации позволила бы компании сократить количество клиентов, сильно рискующих уйти, до 2.3%. Выручка сократится на 8.8%, но в долгосрочной перспективе это обязательно окупится."
   ]
  },
  {
   "cell_type": "code",
   "execution_count": 52,
   "metadata": {},
   "outputs": [
    {
     "data": {
      "text/html": [
       "<div>\n",
       "<style scoped>\n",
       "    .dataframe tbody tr th:only-of-type {\n",
       "        vertical-align: middle;\n",
       "    }\n",
       "\n",
       "    .dataframe tbody tr th {\n",
       "        vertical-align: top;\n",
       "    }\n",
       "\n",
       "    .dataframe thead th {\n",
       "        text-align: right;\n",
       "    }\n",
       "</style>\n",
       "<table border=\"1\" class=\"dataframe\">\n",
       "  <thead>\n",
       "    <tr style=\"text-align: right;\">\n",
       "      <th></th>\n",
       "      <th>Выручка за последний месяц в руб.</th>\n",
       "      <th>Потеря выручки в %</th>\n",
       "      <th>Количество клиентов в крит. зоне в %</th>\n",
       "    </tr>\n",
       "  </thead>\n",
       "  <tbody>\n",
       "    <tr>\n",
       "      <th>При действующих тарифах</th>\n",
       "      <td>688789</td>\n",
       "      <td>0.0</td>\n",
       "      <td>16.09</td>\n",
       "    </tr>\n",
       "    <tr>\n",
       "      <th>При самых выгодных тарифах</th>\n",
       "      <td>571671</td>\n",
       "      <td>20.5</td>\n",
       "      <td>0.00</td>\n",
       "    </tr>\n",
       "    <tr>\n",
       "      <th>При средних по выгоде тарифах</th>\n",
       "      <td>646406</td>\n",
       "      <td>6.6</td>\n",
       "      <td>7.28</td>\n",
       "    </tr>\n",
       "    <tr>\n",
       "      <th>При умной тарификации</th>\n",
       "      <td>633200</td>\n",
       "      <td>8.8</td>\n",
       "      <td>2.30</td>\n",
       "    </tr>\n",
       "  </tbody>\n",
       "</table>\n",
       "</div>"
      ],
      "text/plain": [
       "                               Выручка за последний месяц в руб.  \\\n",
       "При действующих тарифах                                   688789   \n",
       "При самых выгодных тарифах                                571671   \n",
       "При средних по выгоде тарифах                             646406   \n",
       "При умной тарификации                                     633200   \n",
       "\n",
       "                               Потеря выручки в %  \\\n",
       "При действующих тарифах                       0.0   \n",
       "При самых выгодных тарифах                   20.5   \n",
       "При средних по выгоде тарифах                 6.6   \n",
       "При умной тарификации                         8.8   \n",
       "\n",
       "                               Количество клиентов в крит. зоне в %  \n",
       "При действующих тарифах                                       16.09  \n",
       "При самых выгодных тарифах                                     0.00  \n",
       "При средних по выгоде тарифах                                  7.28  \n",
       "При умной тарификации                                          2.30  "
      ]
     },
     "execution_count": 52,
     "metadata": {},
     "output_type": "execute_result"
    }
   ],
   "source": [
    "# таблица с информацией о выручке и количестве клиентов, попавших в критическую зону (переплачивают больше 850 рублей),\n",
    "# при различных тарифах\n",
    "res_df = []\n",
    "\n",
    "res_df.append({'Выручка за последний месяц в руб.': 688789, 'Потеря выручки в %': 0, 'Количество клиентов в крит. зоне в %': 16.09})\n",
    "res_df.append({'Выручка за последний месяц в руб.': 571671, 'Потеря выручки в %': 20.5, 'Количество клиентов в крит. зоне в %': 0})\n",
    "res_df.append({'Выручка за последний месяц в руб.': 646406, 'Потеря выручки в %': 6.6, 'Количество клиентов в крит. зоне в %': 7.28})\n",
    "res_df.append({'Выручка за последний месяц в руб.': 633200, 'Потеря выручки в %': 8.8, 'Количество клиентов в крит. зоне в %': 2.3})\n",
    "\n",
    "res_df = pd.DataFrame(res_df)\n",
    "res_df.index = ['При действующих тарифах', 'При самых выгодных тарифах', 'При средних по выгоде тарифах', 'При умной тарификации']\n",
    "res_df"
   ]
  },
  {
   "cell_type": "markdown",
   "metadata": {},
   "source": [
    "### Анализ выручки"
   ]
  },
  {
   "cell_type": "markdown",
   "metadata": {},
   "source": [
    "#### Текущая общая выручка"
   ]
  },
  {
   "cell_type": "code",
   "execution_count": 53,
   "metadata": {},
   "outputs": [
    {
     "name": "stdout",
     "output_type": "stream",
     "text": [
      "1829626.23 рублей за 4 месяца компания заработала с активных клиентов.\n"
     ]
    }
   ],
   "source": [
    "print(f'{grouped_df[\"current_price\"].sum()} рублей за 4 месяца компания заработала с активных клиентов.')"
   ]
  },
  {
   "cell_type": "markdown",
   "metadata": {},
   "source": [
    "#### Выручка в разрезе тарифов"
   ]
  },
  {
   "cell_type": "code",
   "execution_count": 54,
   "metadata": {},
   "outputs": [
    {
     "data": {
      "text/html": [
       "<div>\n",
       "<style scoped>\n",
       "    .dataframe tbody tr th:only-of-type {\n",
       "        vertical-align: middle;\n",
       "    }\n",
       "\n",
       "    .dataframe tbody tr th {\n",
       "        vertical-align: top;\n",
       "    }\n",
       "\n",
       "    .dataframe thead th {\n",
       "        text-align: right;\n",
       "    }\n",
       "</style>\n",
       "<table border=\"1\" class=\"dataframe\">\n",
       "  <thead>\n",
       "    <tr style=\"text-align: right;\">\n",
       "      <th></th>\n",
       "      <th>tariff_plan</th>\n",
       "      <th>current_price</th>\n",
       "    </tr>\n",
       "  </thead>\n",
       "  <tbody>\n",
       "    <tr>\n",
       "      <th>0</th>\n",
       "      <td>B</td>\n",
       "      <td>707224.72</td>\n",
       "    </tr>\n",
       "    <tr>\n",
       "      <th>1</th>\n",
       "      <td>C</td>\n",
       "      <td>654214.53</td>\n",
       "    </tr>\n",
       "    <tr>\n",
       "      <th>2</th>\n",
       "      <td>A</td>\n",
       "      <td>468186.98</td>\n",
       "    </tr>\n",
       "  </tbody>\n",
       "</table>\n",
       "</div>"
      ],
      "text/plain": [
       "  tariff_plan  current_price\n",
       "0           B      707224.72\n",
       "1           C      654214.53\n",
       "2           A      468186.98"
      ]
     },
     "execution_count": 54,
     "metadata": {},
     "output_type": "execute_result"
    }
   ],
   "source": [
    "revenue_by_tariffs = grouped_df.groupby('tariff_plan')['current_price'].sum().sort_values(ascending=False).reset_index()\n",
    "revenue_by_tariffs"
   ]
  },
  {
   "cell_type": "code",
   "execution_count": 55,
   "metadata": {},
   "outputs": [
    {
     "data": {
      "image/png": "[encoded data removed]",
      "text/plain": [
       "<Figure size 1000x700 with 1 Axes>"
      ]
     },
     "metadata": {},
     "output_type": "display_data"
    }
   ],
   "source": [
    "plt.figure(figsize=(10, 7))\n",
    "plt.bar(x=revenue_by_tariffs['tariff_plan'], height=revenue_by_tariffs['current_price'])\n",
    "plt.title('Общая выручка в разрезе тарифов')\n",
    "plt.xlabel('Тариф')\n",
    "plt.ylabel('Выручка в рублях');"
   ]
  },
  {
   "cell_type": "markdown",
   "metadata": {},
   "source": [
    "Больше всего прибыли компании приносят клиенты с тарифом B, меньше всего - с тарифом A."
   ]
  },
  {
   "cell_type": "markdown",
   "metadata": {},
   "source": [
    "#### Средняя стоимость месячной абонентской платы в разрезе тарифов"
   ]
  },
  {
   "cell_type": "code",
   "execution_count": 56,
   "metadata": {},
   "outputs": [
    {
     "data": {
      "text/html": [
       "<div>\n",
       "<style scoped>\n",
       "    .dataframe tbody tr th:only-of-type {\n",
       "        vertical-align: middle;\n",
       "    }\n",
       "\n",
       "    .dataframe tbody tr th {\n",
       "        vertical-align: top;\n",
       "    }\n",
       "\n",
       "    .dataframe thead th {\n",
       "        text-align: right;\n",
       "    }\n",
       "</style>\n",
       "<table border=\"1\" class=\"dataframe\">\n",
       "  <thead>\n",
       "    <tr style=\"text-align: right;\">\n",
       "      <th></th>\n",
       "      <th>tariff_plan</th>\n",
       "      <th>current_price</th>\n",
       "    </tr>\n",
       "  </thead>\n",
       "  <tbody>\n",
       "    <tr>\n",
       "      <th>0</th>\n",
       "      <td>A</td>\n",
       "      <td>5508.082118</td>\n",
       "    </tr>\n",
       "    <tr>\n",
       "      <th>1</th>\n",
       "      <td>B</td>\n",
       "      <td>2668.772528</td>\n",
       "    </tr>\n",
       "    <tr>\n",
       "      <th>2</th>\n",
       "      <td>C</td>\n",
       "      <td>1832.533697</td>\n",
       "    </tr>\n",
       "  </tbody>\n",
       "</table>\n",
       "</div>"
      ],
      "text/plain": [
       "  tariff_plan  current_price\n",
       "0           A    5508.082118\n",
       "1           B    2668.772528\n",
       "2           C    1832.533697"
      ]
     },
     "execution_count": 56,
     "metadata": {},
     "output_type": "execute_result"
    }
   ],
   "source": [
    "avg_revenue_by_tariffs = grouped_df.groupby('tariff_plan')['current_price'].mean().sort_values(ascending=False).reset_index()\n",
    "avg_revenue_by_tariffs"
   ]
  },
  {
   "cell_type": "code",
   "execution_count": 57,
   "metadata": {},
   "outputs": [
    {
     "data": {
      "image/png": "[encoded data removed]",
      "text/plain": [
       "<Figure size 1000x700 with 1 Axes>"
      ]
     },
     "metadata": {},
     "output_type": "display_data"
    }
   ],
   "source": [
    "plt.figure(figsize=(10, 7))\n",
    "plt.bar(x=avg_revenue_by_tariffs['tariff_plan'], height=avg_revenue_by_tariffs['current_price'])\n",
    "plt.title('Средняя стоимость месячной абонентской платы в разрезе тарифов')\n",
    "plt.xlabel('Тариф')\n",
    "plt.ylabel('Средняя стоимость в рублях');"
   ]
  },
  {
   "cell_type": "markdown",
   "metadata": {},
   "source": [
    "Средний клиент с тарифом A платит намного больше, чем клиент с тарифом B или С: разница выше 100%."
   ]
  },
  {
   "cell_type": "markdown",
   "metadata": {},
   "source": [
    "#### Количество клиентов в разрезе тарифов"
   ]
  },
  {
   "cell_type": "code",
   "execution_count": 58,
   "metadata": {},
   "outputs": [
    {
     "data": {
      "text/html": [
       "<div>\n",
       "<style scoped>\n",
       "    .dataframe tbody tr th:only-of-type {\n",
       "        vertical-align: middle;\n",
       "    }\n",
       "\n",
       "    .dataframe tbody tr th {\n",
       "        vertical-align: top;\n",
       "    }\n",
       "\n",
       "    .dataframe thead th {\n",
       "        text-align: right;\n",
       "    }\n",
       "</style>\n",
       "<table border=\"1\" class=\"dataframe\">\n",
       "  <thead>\n",
       "    <tr style=\"text-align: right;\">\n",
       "      <th></th>\n",
       "      <th>tariff_plan</th>\n",
       "      <th>user_id</th>\n",
       "    </tr>\n",
       "  </thead>\n",
       "  <tbody>\n",
       "    <tr>\n",
       "      <th>0</th>\n",
       "      <td>C</td>\n",
       "      <td>357</td>\n",
       "    </tr>\n",
       "    <tr>\n",
       "      <th>1</th>\n",
       "      <td>B</td>\n",
       "      <td>265</td>\n",
       "    </tr>\n",
       "    <tr>\n",
       "      <th>2</th>\n",
       "      <td>A</td>\n",
       "      <td>85</td>\n",
       "    </tr>\n",
       "  </tbody>\n",
       "</table>\n",
       "</div>"
      ],
      "text/plain": [
       "  tariff_plan  user_id\n",
       "0           C      357\n",
       "1           B      265\n",
       "2           A       85"
      ]
     },
     "execution_count": 58,
     "metadata": {},
     "output_type": "execute_result"
    }
   ],
   "source": [
    "amount_by_tariffs = grouped_df.groupby('tariff_plan')['user_id'].count().sort_values(ascending=False).reset_index()\n",
    "amount_by_tariffs"
   ]
  },
  {
   "cell_type": "code",
   "execution_count": 59,
   "metadata": {},
   "outputs": [
    {
     "data": {
      "image/png": "[encoded data removed]",
      "text/plain": [
       "<Figure size 1000x700 with 1 Axes>"
      ]
     },
     "metadata": {},
     "output_type": "display_data"
    }
   ],
   "source": [
    "plt.figure(figsize=(10, 7))\n",
    "plt.bar(x=amount_by_tariffs['tariff_plan'], height=amount_by_tariffs['user_id'])\n",
    "plt.title('Количество клиентов разрезе тарифов')\n",
    "plt.xlabel('Тариф')\n",
    "plt.ylabel('Количество клиентов');"
   ]
  },
  {
   "cell_type": "markdown",
   "metadata": {},
   "source": [
    "Больше всего клиентов с тарифом C, меньше всего - с тарифом A."
   ]
  },
  {
   "cell_type": "markdown",
   "metadata": {},
   "source": [
    "#### Изменение медианной выручки с клиента с течением времени"
   ]
  },
  {
   "cell_type": "code",
   "execution_count": 60,
   "metadata": {},
   "outputs": [],
   "source": [
    "# для правильности подсчёта оставим в датафрейме только тех клиентов, которые с нами все 4 месяца\n",
    "constant_clients = grouped_df.groupby('user_id')['month'].count().reset_index()\n",
    "constant_clients = constant_clients[constant_clients['month'] == 4]['user_id']"
   ]
  },
  {
   "cell_type": "code",
   "execution_count": 61,
   "metadata": {},
   "outputs": [
    {
     "data": {
      "text/html": [
       "<div>\n",
       "<style scoped>\n",
       "    .dataframe tbody tr th:only-of-type {\n",
       "        vertical-align: middle;\n",
       "    }\n",
       "\n",
       "    .dataframe tbody tr th {\n",
       "        vertical-align: top;\n",
       "    }\n",
       "\n",
       "    .dataframe thead th {\n",
       "        text-align: right;\n",
       "    }\n",
       "</style>\n",
       "<table border=\"1\" class=\"dataframe\">\n",
       "  <thead>\n",
       "    <tr style=\"text-align: right;\">\n",
       "      <th></th>\n",
       "      <th>user_id</th>\n",
       "      <th>month</th>\n",
       "      <th>tariff_plan</th>\n",
       "      <th>current_price</th>\n",
       "      <th>price_A</th>\n",
       "      <th>price_B</th>\n",
       "      <th>price_C</th>\n",
       "      <th>best_tariff_price</th>\n",
       "      <th>overpayment</th>\n",
       "    </tr>\n",
       "  </thead>\n",
       "  <tbody>\n",
       "    <tr>\n",
       "      <th>0</th>\n",
       "      <td>166377</td>\n",
       "      <td>8</td>\n",
       "      <td>B</td>\n",
       "      <td>3400.24</td>\n",
       "      <td>4640.15</td>\n",
       "      <td>3400.24</td>\n",
       "      <td>3410.82</td>\n",
       "      <td>3400.24</td>\n",
       "      <td>0.00</td>\n",
       "    </tr>\n",
       "    <tr>\n",
       "      <th>1</th>\n",
       "      <td>166377</td>\n",
       "      <td>9</td>\n",
       "      <td>B</td>\n",
       "      <td>3481.96</td>\n",
       "      <td>4729.18</td>\n",
       "      <td>3481.96</td>\n",
       "      <td>3434.79</td>\n",
       "      <td>3434.79</td>\n",
       "      <td>47.17</td>\n",
       "    </tr>\n",
       "    <tr>\n",
       "      <th>2</th>\n",
       "      <td>166377</td>\n",
       "      <td>10</td>\n",
       "      <td>B</td>\n",
       "      <td>3576.72</td>\n",
       "      <td>4746.04</td>\n",
       "      <td>3576.72</td>\n",
       "      <td>3657.44</td>\n",
       "      <td>3576.72</td>\n",
       "      <td>0.00</td>\n",
       "    </tr>\n",
       "    <tr>\n",
       "      <th>3</th>\n",
       "      <td>166377</td>\n",
       "      <td>11</td>\n",
       "      <td>B</td>\n",
       "      <td>3394.87</td>\n",
       "      <td>4676.92</td>\n",
       "      <td>3394.87</td>\n",
       "      <td>3313.45</td>\n",
       "      <td>3313.45</td>\n",
       "      <td>81.42</td>\n",
       "    </tr>\n",
       "    <tr>\n",
       "      <th>4</th>\n",
       "      <td>166391</td>\n",
       "      <td>8</td>\n",
       "      <td>C</td>\n",
       "      <td>1600.04</td>\n",
       "      <td>4100.00</td>\n",
       "      <td>2300.00</td>\n",
       "      <td>1600.04</td>\n",
       "      <td>1600.04</td>\n",
       "      <td>0.00</td>\n",
       "    </tr>\n",
       "  </tbody>\n",
       "</table>\n",
       "</div>"
      ],
      "text/plain": [
       "   user_id  month tariff_plan  current_price  price_A  price_B  price_C  \\\n",
       "0   166377      8           B        3400.24  4640.15  3400.24  3410.82   \n",
       "1   166377      9           B        3481.96  4729.18  3481.96  3434.79   \n",
       "2   166377     10           B        3576.72  4746.04  3576.72  3657.44   \n",
       "3   166377     11           B        3394.87  4676.92  3394.87  3313.45   \n",
       "4   166391      8           C        1600.04  4100.00  2300.00  1600.04   \n",
       "\n",
       "   best_tariff_price  overpayment  \n",
       "0            3400.24         0.00  \n",
       "1            3434.79        47.17  \n",
       "2            3576.72         0.00  \n",
       "3            3313.45        81.42  \n",
       "4            1600.04         0.00  "
      ]
     },
     "execution_count": 61,
     "metadata": {},
     "output_type": "execute_result"
    }
   ],
   "source": [
    "# создаём лог с этими клиентами\n",
    "constant_clients_log = grouped_df[grouped_df['user_id'].isin(constant_clients)]\n",
    "constant_clients_log.head()"
   ]
  },
  {
   "cell_type": "code",
   "execution_count": 62,
   "metadata": {},
   "outputs": [
    {
     "data": {
      "text/html": [
       "<div>\n",
       "<style scoped>\n",
       "    .dataframe tbody tr th:only-of-type {\n",
       "        vertical-align: middle;\n",
       "    }\n",
       "\n",
       "    .dataframe tbody tr th {\n",
       "        vertical-align: top;\n",
       "    }\n",
       "\n",
       "    .dataframe thead th {\n",
       "        text-align: right;\n",
       "    }\n",
       "</style>\n",
       "<table border=\"1\" class=\"dataframe\">\n",
       "  <thead>\n",
       "    <tr style=\"text-align: right;\">\n",
       "      <th>month</th>\n",
       "      <th>8</th>\n",
       "      <th>9</th>\n",
       "      <th>10</th>\n",
       "      <th>11</th>\n",
       "    </tr>\n",
       "    <tr>\n",
       "      <th>tariff_plan</th>\n",
       "      <th></th>\n",
       "      <th></th>\n",
       "      <th></th>\n",
       "      <th></th>\n",
       "    </tr>\n",
       "  </thead>\n",
       "  <tbody>\n",
       "    <tr>\n",
       "      <th>A</th>\n",
       "      <td>4102.065</td>\n",
       "      <td>4165.475</td>\n",
       "      <td>4226.405</td>\n",
       "      <td>4174.700</td>\n",
       "    </tr>\n",
       "    <tr>\n",
       "      <th>B</th>\n",
       "      <td>2293.745</td>\n",
       "      <td>2487.075</td>\n",
       "      <td>2533.440</td>\n",
       "      <td>2353.900</td>\n",
       "    </tr>\n",
       "    <tr>\n",
       "      <th>C</th>\n",
       "      <td>1324.820</td>\n",
       "      <td>1514.620</td>\n",
       "      <td>1460.335</td>\n",
       "      <td>1416.515</td>\n",
       "    </tr>\n",
       "  </tbody>\n",
       "</table>\n",
       "</div>"
      ],
      "text/plain": [
       "month              8         9         10        11\n",
       "tariff_plan                                        \n",
       "A            4102.065  4165.475  4226.405  4174.700\n",
       "B            2293.745  2487.075  2533.440  2353.900\n",
       "C            1324.820  1514.620  1460.335  1416.515"
      ]
     },
     "execution_count": 62,
     "metadata": {},
     "output_type": "execute_result"
    }
   ],
   "source": [
    "# приводим датафрейм к удобному виду\n",
    "monthly_income = constant_clients_log.groupby(['tariff_plan', 'month'])['current_price'].median().unstack()\n",
    "monthly_income"
   ]
  },
  {
   "cell_type": "code",
   "execution_count": 63,
   "metadata": {},
   "outputs": [
    {
     "data": {
      "image/png": "[encoded data removed]",
      "text/plain": [
       "<Figure size 1000x700 with 1 Axes>"
      ]
     },
     "metadata": {},
     "output_type": "display_data"
    }
   ],
   "source": [
    "plt.figure(figsize=(10, 7))\n",
    "\n",
    "for i in range(len(monthly_income.index)):\n",
    "    plt.plot(monthly_income.iloc[i].index, monthly_income.iloc[i].values, label=monthly_income.index[i])\n",
    "    \n",
    "plt.legend(loc='upper left')\n",
    "plt.title('Медианная месячная абонентская плата по тарифам')\n",
    "plt.xlabel('Месяц')\n",
    "plt.ylabel('Медианная абонентская плата в рублях');"
   ]
  },
  {
   "cell_type": "markdown",
   "metadata": {},
   "source": [
    "Исходя из графика можно предположить, что с течением времени выручка, которую приносит один клиент, остаётся примерно на одном и том же уровне, независимо от тарифа."
   ]
  },
  {
   "cell_type": "markdown",
   "metadata": {},
   "source": [
    "### Промежуточные выводы"
   ]
  },
  {
   "cell_type": "markdown",
   "metadata": {},
   "source": [
    "- 850 рублей - это значение переплаты, за которое нежелательно переступать, иначе сильно увеличивается риск ухода клиента;\n",
    "- большая часть клиентов (52%) используют самый выгодный тариф и не переплачивают, около 8% пользователей переплачивают до 332 рублей, 20% - от 332 до 850, 10% - от 850 до 1175, остальные 10% - больше 1175 рублей;\n",
    "- система \"умной\" тарификации позволяет максимально минимизировать количество ушедших клиентов, при этом не слишком сильно \"просесть\" в выручке: "
   ]
  },
  {
   "cell_type": "code",
   "execution_count": 64,
   "metadata": {},
   "outputs": [
    {
     "data": {
      "text/html": [
       "<div>\n",
       "<style scoped>\n",
       "    .dataframe tbody tr th:only-of-type {\n",
       "        vertical-align: middle;\n",
       "    }\n",
       "\n",
       "    .dataframe tbody tr th {\n",
       "        vertical-align: top;\n",
       "    }\n",
       "\n",
       "    .dataframe thead th {\n",
       "        text-align: right;\n",
       "    }\n",
       "</style>\n",
       "<table border=\"1\" class=\"dataframe\">\n",
       "  <thead>\n",
       "    <tr style=\"text-align: right;\">\n",
       "      <th></th>\n",
       "      <th>Выручка за последний месяц в руб.</th>\n",
       "      <th>Потеря выручки в %</th>\n",
       "      <th>Количество клиентов в крит. зоне в %</th>\n",
       "    </tr>\n",
       "  </thead>\n",
       "  <tbody>\n",
       "    <tr>\n",
       "      <th>При действующих тарифах</th>\n",
       "      <td>688789</td>\n",
       "      <td>0.0</td>\n",
       "      <td>16.09</td>\n",
       "    </tr>\n",
       "    <tr>\n",
       "      <th>При самых выгодных тарифах</th>\n",
       "      <td>571671</td>\n",
       "      <td>20.5</td>\n",
       "      <td>0.00</td>\n",
       "    </tr>\n",
       "    <tr>\n",
       "      <th>При средних по выгоде тарифах</th>\n",
       "      <td>646406</td>\n",
       "      <td>6.6</td>\n",
       "      <td>7.28</td>\n",
       "    </tr>\n",
       "    <tr>\n",
       "      <th>При умной тарификации</th>\n",
       "      <td>633200</td>\n",
       "      <td>8.8</td>\n",
       "      <td>2.30</td>\n",
       "    </tr>\n",
       "  </tbody>\n",
       "</table>\n",
       "</div>"
      ],
      "text/plain": [
       "                               Выручка за последний месяц в руб.  \\\n",
       "При действующих тарифах                                   688789   \n",
       "При самых выгодных тарифах                                571671   \n",
       "При средних по выгоде тарифах                             646406   \n",
       "При умной тарификации                                     633200   \n",
       "\n",
       "                               Потеря выручки в %  \\\n",
       "При действующих тарифах                       0.0   \n",
       "При самых выгодных тарифах                   20.5   \n",
       "При средних по выгоде тарифах                 6.6   \n",
       "При умной тарификации                         8.8   \n",
       "\n",
       "                               Количество клиентов в крит. зоне в %  \n",
       "При действующих тарифах                                       16.09  \n",
       "При самых выгодных тарифах                                     0.00  \n",
       "При средних по выгоде тарифах                                  7.28  \n",
       "При умной тарификации                                          2.30  "
      ]
     },
     "execution_count": 64,
     "metadata": {},
     "output_type": "execute_result"
    }
   ],
   "source": [
    "res_df"
   ]
  },
  {
   "cell_type": "markdown",
   "metadata": {},
   "source": [
    "- больше всего прибыли компании приносят клиенты с тарифом B, меньше всего - с тарифом A;\n",
    "- cредний клиент с тарифом A платит намного больше, чем клиент с тарифом B или С: разница выше 100%;\n",
    "- больше всего клиентов с тарифом C, меньше всего - с тарифом A;\n",
    "- с течением времени выручка, которую приносит один клиент, остаётся примерно на одном и том же уровне, независимо от тарифа."
   ]
  },
  {
   "cell_type": "markdown",
   "metadata": {},
   "source": [
    "## Проверка статистических гипотез"
   ]
  },
  {
   "cell_type": "markdown",
   "metadata": {},
   "source": [
    "### Цена услуг различается на тарифных планах A и B"
   ]
  },
  {
   "cell_type": "markdown",
   "metadata": {},
   "source": [
    "Нулевая гипотеза: средняя стоимость месячной абонентской платы для тарифных планов A и B одинаковая. Альтернативная гипотеза: средняя стоимость месячной абонентской платы для тарифных планов A и B различается."
   ]
  },
  {
   "cell_type": "code",
   "execution_count": 65,
   "metadata": {},
   "outputs": [
    {
     "name": "stdout",
     "output_type": "stream",
     "text": [
      "p-значение: 4.477856042790941e-33\n",
      "Отвергаем нулевую гипотезу\n"
     ]
    }
   ],
   "source": [
    "results = stats.ttest_ind(grouped_df['price_A'], grouped_df['price_B'], alternative = 'two-sided')\n",
    "alpha = 0.05\n",
    "\n",
    "print('p-значение:', results.pvalue)\n",
    "\n",
    "if (results.pvalue < alpha):\n",
    "    print('Отвергаем нулевую гипотезу')\n",
    "else:\n",
    "    print('Нельзя отвергнуть нулевую гипотезу')"
   ]
  },
  {
   "cell_type": "markdown",
   "metadata": {},
   "source": [
    "Всё-таки средняя стоимость месячной абонентской платы для тарифных планов A и B различается."
   ]
  },
  {
   "cell_type": "markdown",
   "metadata": {},
   "source": [
    "### Средняя переплата, которую совершают пользователи тарифа A, не превышает 1000 рублей."
   ]
  },
  {
   "cell_type": "markdown",
   "metadata": {},
   "source": [
    "Нулевая гипотеза: средняя переплата, которую совершают пользователи тарифа A, равна 1000 рублей. Альтернативная гипотеза: средняя переплата, которую совершают пользователи тарифа A, превышает 1000 рублей."
   ]
  },
  {
   "cell_type": "code",
   "execution_count": 66,
   "metadata": {},
   "outputs": [
    {
     "name": "stdout",
     "output_type": "stream",
     "text": [
      "p-значение: 3.3944298338718224e-13\n",
      "Отвергаем нулевую гипотезу\n"
     ]
    }
   ],
   "source": [
    "sample = grouped_df[grouped_df['tariff_plan'] == 'A']['overpayment'].values\n",
    "interested_value = 1000\n",
    "alpha = 0.05\n",
    "\n",
    "results = stats.ttest_1samp(sample, interested_value, alternative='greater')\n",
    "print('p-значение:', results.pvalue)\n",
    "\n",
    "if (results.pvalue < alpha):\n",
    "    print('Отвергаем нулевую гипотезу')\n",
    "else:\n",
    "    print('Нельзя отвергнуть нулевую гипотезу')"
   ]
  },
  {
   "cell_type": "markdown",
   "metadata": {},
   "source": [
    "Средняя переплата, которую совершают пользователи тарифа A, превышает 1000 рублей."
   ]
  },
  {
   "cell_type": "markdown",
   "metadata": {},
   "source": [
    "# Выводы"
   ]
  },
  {
   "cell_type": "markdown",
   "metadata": {},
   "source": [
    "*Все выводы, кроме найденного критического значения переплаты, равного 850 рублей, основаны на информации об актуальных клиентах*\n",
    "\n",
    "Существует несколько глобальных стратегий для избежания оттока большого количества клиентов к конкурентам из-за высокой переплаты:\n",
    "- перевести всех клиентов на самый выгодный для них тарифный план (так мы максимально снизим потенциальный отток клиентов, но при этом крайне много потеряем в выручке);\n",
    "- перевести всех клиентов самого дорогого тарифного плана на средний по выгоде (ситуация улучшается, но клиентов из критической зоны всё равно многовато);\n",
    "- использовать умную тарификацию: если переплата больше 850 рублей, то перевести клиента на следующий по уровню выгоды тарифный план (например, с тарифа C на тариф B); повторить, если переплата снова больше 850 рублей, а тариф не самый выгодный (количество клиентов из критической зоны становится крайне мало, но при этом довольно сильно уменьшается выручка)\n",
    "\n",
    "Ниже представлена таблица с информацией о клиентах при использовании вышеприведённых стратегий:"
   ]
  },
  {
   "cell_type": "code",
   "execution_count": 67,
   "metadata": {},
   "outputs": [
    {
     "data": {
      "text/html": [
       "<div>\n",
       "<style scoped>\n",
       "    .dataframe tbody tr th:only-of-type {\n",
       "        vertical-align: middle;\n",
       "    }\n",
       "\n",
       "    .dataframe tbody tr th {\n",
       "        vertical-align: top;\n",
       "    }\n",
       "\n",
       "    .dataframe thead th {\n",
       "        text-align: right;\n",
       "    }\n",
       "</style>\n",
       "<table border=\"1\" class=\"dataframe\">\n",
       "  <thead>\n",
       "    <tr style=\"text-align: right;\">\n",
       "      <th></th>\n",
       "      <th>Выручка за последний месяц в руб.</th>\n",
       "      <th>Потеря выручки в %</th>\n",
       "      <th>Количество клиентов в крит. зоне в %</th>\n",
       "    </tr>\n",
       "  </thead>\n",
       "  <tbody>\n",
       "    <tr>\n",
       "      <th>При действующих тарифах</th>\n",
       "      <td>688789</td>\n",
       "      <td>0.0</td>\n",
       "      <td>16.09</td>\n",
       "    </tr>\n",
       "    <tr>\n",
       "      <th>При самых выгодных тарифах</th>\n",
       "      <td>571671</td>\n",
       "      <td>20.5</td>\n",
       "      <td>0.00</td>\n",
       "    </tr>\n",
       "    <tr>\n",
       "      <th>При средних по выгоде тарифах</th>\n",
       "      <td>646406</td>\n",
       "      <td>6.6</td>\n",
       "      <td>7.28</td>\n",
       "    </tr>\n",
       "    <tr>\n",
       "      <th>При умной тарификации</th>\n",
       "      <td>633200</td>\n",
       "      <td>8.8</td>\n",
       "      <td>2.30</td>\n",
       "    </tr>\n",
       "  </tbody>\n",
       "</table>\n",
       "</div>"
      ],
      "text/plain": [
       "                               Выручка за последний месяц в руб.  \\\n",
       "При действующих тарифах                                   688789   \n",
       "При самых выгодных тарифах                                571671   \n",
       "При средних по выгоде тарифах                             646406   \n",
       "При умной тарификации                                     633200   \n",
       "\n",
       "                               Потеря выручки в %  \\\n",
       "При действующих тарифах                       0.0   \n",
       "При самых выгодных тарифах                   20.5   \n",
       "При средних по выгоде тарифах                 6.6   \n",
       "При умной тарификации                         8.8   \n",
       "\n",
       "                               Количество клиентов в крит. зоне в %  \n",
       "При действующих тарифах                                       16.09  \n",
       "При самых выгодных тарифах                                     0.00  \n",
       "При средних по выгоде тарифах                                  7.28  \n",
       "При умной тарификации                                          2.30  "
      ]
     },
     "execution_count": 67,
     "metadata": {},
     "output_type": "execute_result"
    }
   ],
   "source": [
    "res_df"
   ]
  },
  {
   "cell_type": "markdown",
   "metadata": {},
   "source": [
    "- большая часть клиентов (52%) используют самый выгодный тариф и не переплачивают, около 8% пользователей переплачивают до 332 рублей, 20% - от 332 до 850, 10% - от 850 до 1175, остальные 10% - больше 1175 рублей;\n",
    "- больше всего прибыли компании приносят клиенты с тарифом B, меньше всего - с тарифом A;\n",
    "- cредний клиент с тарифом A платит намного больше, чем клиент с тарифом B или С: разница выше 100%;\n",
    "- больше всего клиентов с тарифом C, меньше всего - с тарифом A;\n",
    "- с течением времени выручка, которую приносит один клиент, остаётся примерно на одном и том же уровне, независимо от тарифа."
   ]
  },
  {
   "cell_type": "markdown",
   "metadata": {},
   "source": [
    "**Рекомендации:**\n",
    "- перевести клиентов на тарифные планы в соответствии с системой умной тарификации."
   ]
  }
 ],
 "metadata": {
  "ExecuteTimeLog": [
   {
    "duration": 397,
    "start_time": "2024-04-10T15:34:21.668Z"
   },
   {
    "duration": 62,
    "start_time": "2024-04-10T15:40:16.664Z"
   },
   {
    "duration": 2,
    "start_time": "2024-04-10T15:40:18.773Z"
   },
   {
    "duration": 9,
    "start_time": "2024-04-10T15:40:19.319Z"
   },
   {
    "duration": 230,
    "start_time": "2024-04-10T15:40:22.700Z"
   },
   {
    "duration": 360,
    "start_time": "2024-04-10T15:40:27.047Z"
   },
   {
    "duration": 229,
    "start_time": "2024-04-10T15:41:24.286Z"
   },
   {
    "duration": 14,
    "start_time": "2024-04-10T15:41:36.141Z"
   },
   {
    "duration": 29,
    "start_time": "2024-04-10T15:42:04.665Z"
   },
   {
    "duration": 6,
    "start_time": "2024-04-10T16:00:13.672Z"
   },
   {
    "duration": 15,
    "start_time": "2024-04-10T16:00:45.947Z"
   },
   {
    "duration": 12,
    "start_time": "2024-04-10T16:04:09.142Z"
   },
   {
    "duration": 6,
    "start_time": "2024-04-10T16:04:14.110Z"
   },
   {
    "duration": 15,
    "start_time": "2024-04-10T16:14:26.739Z"
   },
   {
    "duration": 16,
    "start_time": "2024-04-10T16:54:54.860Z"
   },
   {
    "duration": 7,
    "start_time": "2024-04-10T16:55:55.910Z"
   },
   {
    "duration": 14,
    "start_time": "2024-04-10T16:56:14.052Z"
   },
   {
    "duration": 5,
    "start_time": "2024-04-10T16:56:19.461Z"
   },
   {
    "duration": 14,
    "start_time": "2024-04-10T16:56:24.170Z"
   },
   {
    "duration": 2,
    "start_time": "2024-04-10T16:57:39.129Z"
   },
   {
    "duration": 9,
    "start_time": "2024-04-10T16:57:44.759Z"
   },
   {
    "duration": 12,
    "start_time": "2024-04-10T16:57:53.131Z"
   },
   {
    "duration": 16,
    "start_time": "2024-04-10T16:58:12.015Z"
   },
   {
    "duration": 27,
    "start_time": "2024-04-10T16:58:18.605Z"
   },
   {
    "duration": 28,
    "start_time": "2024-04-10T16:59:42.523Z"
   },
   {
    "duration": 12,
    "start_time": "2024-04-10T17:00:23.247Z"
   },
   {
    "duration": 28,
    "start_time": "2024-04-10T17:00:27.076Z"
   },
   {
    "duration": 26,
    "start_time": "2024-04-10T17:00:56.566Z"
   },
   {
    "duration": 12,
    "start_time": "2024-04-10T17:01:40.779Z"
   },
   {
    "duration": 16,
    "start_time": "2024-04-10T17:02:36.197Z"
   },
   {
    "duration": 6,
    "start_time": "2024-04-10T17:02:43.205Z"
   },
   {
    "duration": 15,
    "start_time": "2024-04-10T17:03:20.670Z"
   },
   {
    "duration": 24,
    "start_time": "2024-04-10T17:03:30.632Z"
   },
   {
    "duration": 31,
    "start_time": "2024-04-10T17:08:43.751Z"
   },
   {
    "duration": 38,
    "start_time": "2024-04-10T17:08:44.249Z"
   },
   {
    "duration": 5,
    "start_time": "2024-04-10T17:11:10.368Z"
   },
   {
    "duration": 5,
    "start_time": "2024-04-10T17:11:13.292Z"
   },
   {
    "duration": 14,
    "start_time": "2024-04-10T17:11:18.898Z"
   },
   {
    "duration": 8,
    "start_time": "2024-04-10T17:14:59.145Z"
   },
   {
    "duration": 4,
    "start_time": "2024-04-10T17:15:19.798Z"
   },
   {
    "duration": 5,
    "start_time": "2024-04-10T17:15:31.767Z"
   },
   {
    "duration": 6,
    "start_time": "2024-04-10T17:15:36.361Z"
   },
   {
    "duration": 4,
    "start_time": "2024-04-10T17:15:47.769Z"
   },
   {
    "duration": 19,
    "start_time": "2024-04-10T17:16:49.937Z"
   },
   {
    "duration": 14,
    "start_time": "2024-04-10T17:19:39.533Z"
   },
   {
    "duration": 18,
    "start_time": "2024-04-10T17:21:20.033Z"
   },
   {
    "duration": 25,
    "start_time": "2024-04-10T17:22:15.732Z"
   },
   {
    "duration": 26,
    "start_time": "2024-04-10T17:23:24.740Z"
   },
   {
    "duration": 26,
    "start_time": "2024-04-10T17:23:29.965Z"
   },
   {
    "duration": 22,
    "start_time": "2024-04-10T17:23:49.562Z"
   },
   {
    "duration": 13,
    "start_time": "2024-04-10T17:24:48.248Z"
   },
   {
    "duration": 10,
    "start_time": "2024-04-10T17:28:47.054Z"
   },
   {
    "duration": 6,
    "start_time": "2024-04-10T17:28:58.701Z"
   },
   {
    "duration": 9,
    "start_time": "2024-04-10T17:29:06.798Z"
   },
   {
    "duration": 6,
    "start_time": "2024-04-10T17:29:19.784Z"
   },
   {
    "duration": 5,
    "start_time": "2024-04-10T17:29:36.628Z"
   },
   {
    "duration": 48,
    "start_time": "2024-04-10T17:33:14.581Z"
   },
   {
    "duration": 11,
    "start_time": "2024-04-10T19:22:44.860Z"
   },
   {
    "duration": 9,
    "start_time": "2024-04-10T19:22:47.250Z"
   },
   {
    "duration": 17,
    "start_time": "2024-04-10T19:23:03.434Z"
   },
   {
    "duration": 17,
    "start_time": "2024-04-10T19:23:08.334Z"
   },
   {
    "duration": 8,
    "start_time": "2024-04-10T19:25:03.420Z"
   },
   {
    "duration": 11,
    "start_time": "2024-04-10T19:25:08.111Z"
   },
   {
    "duration": 7,
    "start_time": "2024-04-10T19:25:49.941Z"
   },
   {
    "duration": 10,
    "start_time": "2024-04-10T19:25:52.960Z"
   },
   {
    "duration": 10,
    "start_time": "2024-04-10T19:26:03.225Z"
   },
   {
    "duration": 6,
    "start_time": "2024-04-10T19:26:25.831Z"
   },
   {
    "duration": 18,
    "start_time": "2024-04-10T19:26:36.716Z"
   },
   {
    "duration": 9,
    "start_time": "2024-04-10T19:27:35.817Z"
   },
   {
    "duration": 9,
    "start_time": "2024-04-10T19:27:37.732Z"
   },
   {
    "duration": 16,
    "start_time": "2024-04-10T19:28:54.024Z"
   },
   {
    "duration": 8,
    "start_time": "2024-04-10T19:29:18.986Z"
   },
   {
    "duration": 10,
    "start_time": "2024-04-10T19:29:27.948Z"
   },
   {
    "duration": 10,
    "start_time": "2024-04-10T19:29:48.503Z"
   },
   {
    "duration": 8,
    "start_time": "2024-04-10T19:30:06.502Z"
   },
   {
    "duration": 492,
    "start_time": "2024-04-10T19:30:13.557Z"
   },
   {
    "duration": 106,
    "start_time": "2024-04-10T19:30:26.345Z"
   },
   {
    "duration": 93,
    "start_time": "2024-04-10T19:30:30.024Z"
   },
   {
    "duration": 99,
    "start_time": "2024-04-10T19:31:00.290Z"
   },
   {
    "duration": 110,
    "start_time": "2024-04-10T19:31:06.490Z"
   },
   {
    "duration": 6,
    "start_time": "2024-04-10T19:32:09.813Z"
   },
   {
    "duration": 5,
    "start_time": "2024-04-10T19:32:19.927Z"
   },
   {
    "duration": 4,
    "start_time": "2024-04-10T19:32:24.346Z"
   },
   {
    "duration": 5,
    "start_time": "2024-04-10T19:32:26.914Z"
   },
   {
    "duration": 6,
    "start_time": "2024-04-10T19:32:31.441Z"
   },
   {
    "duration": 5,
    "start_time": "2024-04-10T19:33:46.211Z"
   },
   {
    "duration": 5,
    "start_time": "2024-04-10T19:34:05.588Z"
   },
   {
    "duration": 5,
    "start_time": "2024-04-10T19:34:14.529Z"
   },
   {
    "duration": 5,
    "start_time": "2024-04-10T19:34:22.346Z"
   },
   {
    "duration": 5,
    "start_time": "2024-04-10T19:34:34.898Z"
   },
   {
    "duration": 9,
    "start_time": "2024-04-10T19:36:14.088Z"
   },
   {
    "duration": 6,
    "start_time": "2024-04-10T19:36:41.063Z"
   },
   {
    "duration": 21,
    "start_time": "2024-04-10T19:36:47.101Z"
   },
   {
    "duration": 6,
    "start_time": "2024-04-10T19:36:53.088Z"
   },
   {
    "duration": 5,
    "start_time": "2024-04-10T19:37:07.245Z"
   },
   {
    "duration": 13,
    "start_time": "2024-04-10T19:37:19.744Z"
   },
   {
    "duration": 4,
    "start_time": "2024-04-10T19:37:59.745Z"
   },
   {
    "duration": 7,
    "start_time": "2024-04-10T19:38:03.616Z"
   },
   {
    "duration": 4,
    "start_time": "2024-04-10T19:38:16.701Z"
   },
   {
    "duration": 4,
    "start_time": "2024-04-10T19:40:53.776Z"
   },
   {
    "duration": 6,
    "start_time": "2024-04-10T19:41:25.837Z"
   },
   {
    "duration": 8,
    "start_time": "2024-04-10T19:41:50.022Z"
   },
   {
    "duration": 10,
    "start_time": "2024-04-10T19:41:57.577Z"
   },
   {
    "duration": 6,
    "start_time": "2024-04-10T19:42:05.982Z"
   },
   {
    "duration": 5,
    "start_time": "2024-04-10T19:42:10.136Z"
   },
   {
    "duration": 4,
    "start_time": "2024-04-10T19:42:49.975Z"
   },
   {
    "duration": 8,
    "start_time": "2024-04-10T19:43:30.454Z"
   },
   {
    "duration": 5,
    "start_time": "2024-04-10T19:43:43.894Z"
   },
   {
    "duration": 6,
    "start_time": "2024-04-10T19:44:00.454Z"
   },
   {
    "duration": 10,
    "start_time": "2024-04-10T19:44:19.793Z"
   },
   {
    "duration": 7,
    "start_time": "2024-04-10T19:44:58.348Z"
   },
   {
    "duration": 7,
    "start_time": "2024-04-10T19:45:08.465Z"
   },
   {
    "duration": 13,
    "start_time": "2024-04-10T19:45:37.824Z"
   },
   {
    "duration": 8,
    "start_time": "2024-04-10T19:45:49.130Z"
   },
   {
    "duration": 6,
    "start_time": "2024-04-10T19:45:59.353Z"
   },
   {
    "duration": 40,
    "start_time": "2024-04-10T19:46:13.409Z"
   },
   {
    "duration": 7,
    "start_time": "2024-04-10T19:46:16.268Z"
   },
   {
    "duration": 8,
    "start_time": "2024-04-10T19:46:24.011Z"
   },
   {
    "duration": 7,
    "start_time": "2024-04-10T19:46:48.090Z"
   },
   {
    "duration": 8,
    "start_time": "2024-04-10T19:46:55.422Z"
   },
   {
    "duration": 8,
    "start_time": "2024-04-10T19:47:01.668Z"
   },
   {
    "duration": 9,
    "start_time": "2024-04-10T19:47:11.862Z"
   },
   {
    "duration": 7,
    "start_time": "2024-04-10T19:47:20.179Z"
   },
   {
    "duration": 5,
    "start_time": "2024-04-10T19:47:26.548Z"
   },
   {
    "duration": 6,
    "start_time": "2024-04-10T19:48:42.484Z"
   },
   {
    "duration": 9,
    "start_time": "2024-04-10T19:48:51.723Z"
   },
   {
    "duration": 9,
    "start_time": "2024-04-10T19:49:07.608Z"
   },
   {
    "duration": 9,
    "start_time": "2024-04-10T19:49:17.624Z"
   },
   {
    "duration": 13,
    "start_time": "2024-04-10T19:50:13.053Z"
   },
   {
    "duration": 8,
    "start_time": "2024-04-10T19:50:41.775Z"
   },
   {
    "duration": 8,
    "start_time": "2024-04-10T19:50:49.669Z"
   },
   {
    "duration": 20,
    "start_time": "2024-04-10T19:50:58.234Z"
   },
   {
    "duration": 772,
    "start_time": "2024-04-11T14:01:01.066Z"
   },
   {
    "duration": 703,
    "start_time": "2024-04-11T14:01:01.840Z"
   },
   {
    "duration": 29,
    "start_time": "2024-04-11T14:01:02.544Z"
   },
   {
    "duration": 34,
    "start_time": "2024-04-11T14:01:02.575Z"
   },
   {
    "duration": 62,
    "start_time": "2024-04-11T14:01:02.610Z"
   },
   {
    "duration": 21,
    "start_time": "2024-04-11T14:01:02.673Z"
   },
   {
    "duration": 65,
    "start_time": "2024-04-11T14:01:02.695Z"
   },
   {
    "duration": 30,
    "start_time": "2024-04-11T14:01:02.761Z"
   },
   {
    "duration": 75,
    "start_time": "2024-04-11T14:01:02.793Z"
   },
   {
    "duration": 118,
    "start_time": "2024-04-11T14:01:02.870Z"
   },
   {
    "duration": 57,
    "start_time": "2024-04-11T14:01:02.989Z"
   },
   {
    "duration": 72,
    "start_time": "2024-04-11T14:01:03.047Z"
   },
   {
    "duration": 47,
    "start_time": "2024-04-11T14:01:03.120Z"
   },
   {
    "duration": 42,
    "start_time": "2024-04-11T14:01:03.170Z"
   },
   {
    "duration": 36,
    "start_time": "2024-04-11T14:01:03.214Z"
   },
   {
    "duration": 27,
    "start_time": "2024-04-11T14:01:03.251Z"
   },
   {
    "duration": 25,
    "start_time": "2024-04-11T14:01:03.279Z"
   },
   {
    "duration": 51,
    "start_time": "2024-04-11T14:01:03.305Z"
   },
   {
    "duration": 35,
    "start_time": "2024-04-11T14:01:03.357Z"
   },
   {
    "duration": 34,
    "start_time": "2024-04-11T14:01:03.393Z"
   },
   {
    "duration": 4,
    "start_time": "2024-04-11T14:01:10.039Z"
   },
   {
    "duration": 3,
    "start_time": "2024-04-11T14:02:45.510Z"
   },
   {
    "duration": 235,
    "start_time": "2024-04-11T14:02:45.515Z"
   },
   {
    "duration": 24,
    "start_time": "2024-04-11T14:02:45.752Z"
   },
   {
    "duration": 19,
    "start_time": "2024-04-11T14:02:45.778Z"
   },
   {
    "duration": 46,
    "start_time": "2024-04-11T14:02:45.799Z"
   },
   {
    "duration": 21,
    "start_time": "2024-04-11T14:02:45.847Z"
   },
   {
    "duration": 12,
    "start_time": "2024-04-11T14:02:45.870Z"
   },
   {
    "duration": 14,
    "start_time": "2024-04-11T14:02:45.883Z"
   },
   {
    "duration": 21,
    "start_time": "2024-04-11T14:02:45.898Z"
   },
   {
    "duration": 47,
    "start_time": "2024-04-11T14:02:45.920Z"
   },
   {
    "duration": 20,
    "start_time": "2024-04-11T14:02:45.968Z"
   },
   {
    "duration": 6,
    "start_time": "2024-04-11T14:02:45.989Z"
   },
   {
    "duration": 17,
    "start_time": "2024-04-11T14:02:45.997Z"
   },
   {
    "duration": 33,
    "start_time": "2024-04-11T14:02:46.016Z"
   },
   {
    "duration": 4,
    "start_time": "2024-04-11T14:02:46.051Z"
   },
   {
    "duration": 9,
    "start_time": "2024-04-11T14:02:46.057Z"
   },
   {
    "duration": 8,
    "start_time": "2024-04-11T14:02:56.690Z"
   },
   {
    "duration": 65,
    "start_time": "2024-04-11T14:03:32.826Z"
   },
   {
    "duration": 6,
    "start_time": "2024-04-11T14:03:59.812Z"
   },
   {
    "duration": 9,
    "start_time": "2024-04-11T14:04:08.653Z"
   },
   {
    "duration": 5,
    "start_time": "2024-04-11T14:04:10.815Z"
   },
   {
    "duration": 8,
    "start_time": "2024-04-11T14:04:22.912Z"
   },
   {
    "duration": 6,
    "start_time": "2024-04-11T14:04:24.897Z"
   },
   {
    "duration": 7,
    "start_time": "2024-04-11T14:04:33.235Z"
   },
   {
    "duration": 6,
    "start_time": "2024-04-11T14:04:40.105Z"
   },
   {
    "duration": 11,
    "start_time": "2024-04-11T14:04:58.622Z"
   },
   {
    "duration": 4,
    "start_time": "2024-04-11T14:05:33.037Z"
   },
   {
    "duration": 10,
    "start_time": "2024-04-11T14:05:35.948Z"
   },
   {
    "duration": 12,
    "start_time": "2024-04-11T14:05:43.267Z"
   },
   {
    "duration": 9,
    "start_time": "2024-04-11T14:05:47.578Z"
   },
   {
    "duration": 12,
    "start_time": "2024-04-11T14:06:05.061Z"
   },
   {
    "duration": 13,
    "start_time": "2024-04-11T14:06:08.263Z"
   },
   {
    "duration": 11,
    "start_time": "2024-04-11T14:06:13.354Z"
   },
   {
    "duration": 3,
    "start_time": "2024-04-11T14:06:18.524Z"
   },
   {
    "duration": 279,
    "start_time": "2024-04-11T14:06:18.529Z"
   },
   {
    "duration": 22,
    "start_time": "2024-04-11T14:06:18.810Z"
   },
   {
    "duration": 52,
    "start_time": "2024-04-11T14:06:18.834Z"
   },
   {
    "duration": 45,
    "start_time": "2024-04-11T14:06:18.888Z"
   },
   {
    "duration": 40,
    "start_time": "2024-04-11T14:06:18.935Z"
   },
   {
    "duration": 23,
    "start_time": "2024-04-11T14:06:18.976Z"
   },
   {
    "duration": 26,
    "start_time": "2024-04-11T14:06:19.000Z"
   },
   {
    "duration": 45,
    "start_time": "2024-04-11T14:06:19.027Z"
   },
   {
    "duration": 33,
    "start_time": "2024-04-11T14:06:19.074Z"
   },
   {
    "duration": 18,
    "start_time": "2024-04-11T14:06:19.108Z"
   },
   {
    "duration": 19,
    "start_time": "2024-04-11T14:06:19.128Z"
   },
   {
    "duration": 27,
    "start_time": "2024-04-11T14:06:19.148Z"
   },
   {
    "duration": 36,
    "start_time": "2024-04-11T14:06:19.177Z"
   },
   {
    "duration": 26,
    "start_time": "2024-04-11T14:06:19.215Z"
   },
   {
    "duration": 20,
    "start_time": "2024-04-11T14:06:19.242Z"
   },
   {
    "duration": 38,
    "start_time": "2024-04-11T14:06:19.263Z"
   },
   {
    "duration": 10,
    "start_time": "2024-04-11T14:06:20.980Z"
   },
   {
    "duration": 6,
    "start_time": "2024-04-11T14:06:48.591Z"
   },
   {
    "duration": 6,
    "start_time": "2024-04-11T14:07:11.550Z"
   },
   {
    "duration": 7,
    "start_time": "2024-04-11T14:07:16.851Z"
   },
   {
    "duration": 7,
    "start_time": "2024-04-11T14:07:22.774Z"
   },
   {
    "duration": 11,
    "start_time": "2024-04-11T14:07:43.326Z"
   },
   {
    "duration": 14,
    "start_time": "2024-04-11T14:09:03.417Z"
   },
   {
    "duration": 11,
    "start_time": "2024-04-11T14:12:34.810Z"
   },
   {
    "duration": 12,
    "start_time": "2024-04-11T14:14:36.259Z"
   },
   {
    "duration": 4,
    "start_time": "2024-04-11T14:14:40.312Z"
   },
   {
    "duration": 4,
    "start_time": "2024-04-11T14:14:44.175Z"
   },
   {
    "duration": 12,
    "start_time": "2024-04-11T14:16:41.732Z"
   },
   {
    "duration": 11,
    "start_time": "2024-04-11T14:17:21.686Z"
   },
   {
    "duration": 11,
    "start_time": "2024-04-11T14:17:26.796Z"
   },
   {
    "duration": 10,
    "start_time": "2024-04-11T14:17:37.289Z"
   },
   {
    "duration": 17,
    "start_time": "2024-04-11T14:19:04.981Z"
   },
   {
    "duration": 16,
    "start_time": "2024-04-11T14:19:21.182Z"
   },
   {
    "duration": 13,
    "start_time": "2024-04-11T14:19:41.245Z"
   },
   {
    "duration": 14,
    "start_time": "2024-04-11T14:19:53.959Z"
   },
   {
    "duration": 18,
    "start_time": "2024-04-11T14:20:28.666Z"
   },
   {
    "duration": 16,
    "start_time": "2024-04-11T14:22:29.944Z"
   },
   {
    "duration": 642,
    "start_time": "2024-04-11T14:22:42.614Z"
   },
   {
    "duration": 244,
    "start_time": "2024-04-11T14:22:43.258Z"
   },
   {
    "duration": 38,
    "start_time": "2024-04-11T14:22:43.504Z"
   },
   {
    "duration": 14,
    "start_time": "2024-04-11T14:22:43.544Z"
   },
   {
    "duration": 37,
    "start_time": "2024-04-11T14:22:43.561Z"
   },
   {
    "duration": 46,
    "start_time": "2024-04-11T14:22:43.599Z"
   },
   {
    "duration": 13,
    "start_time": "2024-04-11T14:22:43.647Z"
   },
   {
    "duration": 6,
    "start_time": "2024-04-11T14:22:43.661Z"
   },
   {
    "duration": 42,
    "start_time": "2024-04-11T14:22:43.669Z"
   },
   {
    "duration": 39,
    "start_time": "2024-04-11T14:22:43.713Z"
   },
   {
    "duration": 22,
    "start_time": "2024-04-11T14:22:43.754Z"
   },
   {
    "duration": 5,
    "start_time": "2024-04-11T14:22:43.778Z"
   },
   {
    "duration": 27,
    "start_time": "2024-04-11T14:22:43.785Z"
   },
   {
    "duration": 21,
    "start_time": "2024-04-11T14:22:43.815Z"
   },
   {
    "duration": 13,
    "start_time": "2024-04-11T14:22:43.838Z"
   },
   {
    "duration": 32,
    "start_time": "2024-04-11T14:22:43.853Z"
   },
   {
    "duration": 27,
    "start_time": "2024-04-11T14:22:43.887Z"
   },
   {
    "duration": 27,
    "start_time": "2024-04-11T14:22:43.916Z"
   },
   {
    "duration": 15,
    "start_time": "2024-04-11T14:23:39.147Z"
   },
   {
    "duration": 69,
    "start_time": "2024-04-11T14:27:28.101Z"
   },
   {
    "duration": 13,
    "start_time": "2024-04-11T14:27:40.999Z"
   },
   {
    "duration": 28,
    "start_time": "2024-04-11T14:28:14.688Z"
   },
   {
    "duration": 24,
    "start_time": "2024-04-11T14:30:35.784Z"
   },
   {
    "duration": 23,
    "start_time": "2024-04-11T14:30:41.288Z"
   },
   {
    "duration": 30,
    "start_time": "2024-04-11T14:30:44.299Z"
   },
   {
    "duration": 29,
    "start_time": "2024-04-11T14:31:36.812Z"
   },
   {
    "duration": 17,
    "start_time": "2024-04-11T14:31:41.895Z"
   },
   {
    "duration": 29,
    "start_time": "2024-04-11T14:31:49.466Z"
   },
   {
    "duration": 549,
    "start_time": "2024-04-11T14:31:59.189Z"
   },
   {
    "duration": 232,
    "start_time": "2024-04-11T14:31:59.739Z"
   },
   {
    "duration": 29,
    "start_time": "2024-04-11T14:31:59.973Z"
   },
   {
    "duration": 14,
    "start_time": "2024-04-11T14:32:00.004Z"
   },
   {
    "duration": 46,
    "start_time": "2024-04-11T14:32:00.020Z"
   },
   {
    "duration": 21,
    "start_time": "2024-04-11T14:32:00.068Z"
   },
   {
    "duration": 49,
    "start_time": "2024-04-11T14:32:00.090Z"
   },
   {
    "duration": 63,
    "start_time": "2024-04-11T14:32:00.140Z"
   },
   {
    "duration": 98,
    "start_time": "2024-04-11T14:32:00.204Z"
   },
   {
    "duration": 42,
    "start_time": "2024-04-11T14:32:00.303Z"
   },
   {
    "duration": 42,
    "start_time": "2024-04-11T14:32:00.346Z"
   },
   {
    "duration": 28,
    "start_time": "2024-04-11T14:32:00.389Z"
   },
   {
    "duration": 70,
    "start_time": "2024-04-11T14:32:00.419Z"
   },
   {
    "duration": 76,
    "start_time": "2024-04-11T14:32:00.491Z"
   },
   {
    "duration": 34,
    "start_time": "2024-04-11T14:32:00.569Z"
   },
   {
    "duration": 56,
    "start_time": "2024-04-11T14:32:00.604Z"
   },
   {
    "duration": 67,
    "start_time": "2024-04-11T14:32:00.661Z"
   },
   {
    "duration": 114,
    "start_time": "2024-04-11T14:32:00.729Z"
   },
   {
    "duration": 62,
    "start_time": "2024-04-11T14:32:00.845Z"
   },
   {
    "duration": 42,
    "start_time": "2024-04-11T14:55:57.472Z"
   },
   {
    "duration": 43,
    "start_time": "2024-04-11T14:56:02.635Z"
   },
   {
    "duration": 3,
    "start_time": "2024-04-11T14:56:05.325Z"
   },
   {
    "duration": 2,
    "start_time": "2024-04-11T14:56:41.073Z"
   },
   {
    "duration": 2,
    "start_time": "2024-04-11T15:09:13.868Z"
   },
   {
    "duration": 19,
    "start_time": "2024-04-11T15:09:17.822Z"
   },
   {
    "duration": 9,
    "start_time": "2024-04-11T15:10:06.417Z"
   },
   {
    "duration": 13,
    "start_time": "2024-04-11T15:10:24.551Z"
   },
   {
    "duration": 31,
    "start_time": "2024-04-11T15:10:33.040Z"
   },
   {
    "duration": 16,
    "start_time": "2024-04-11T15:10:42.395Z"
   },
   {
    "duration": 5,
    "start_time": "2024-04-11T15:13:13.333Z"
   },
   {
    "duration": 4,
    "start_time": "2024-04-11T15:13:18.294Z"
   },
   {
    "duration": 10,
    "start_time": "2024-04-11T15:15:41.968Z"
   },
   {
    "duration": 15,
    "start_time": "2024-04-11T15:21:13.184Z"
   },
   {
    "duration": 11,
    "start_time": "2024-04-11T15:24:14.073Z"
   },
   {
    "duration": 12,
    "start_time": "2024-04-11T15:24:56.741Z"
   },
   {
    "duration": 12,
    "start_time": "2024-04-11T15:27:15.574Z"
   },
   {
    "duration": 13,
    "start_time": "2024-04-11T15:28:25.044Z"
   },
   {
    "duration": 11,
    "start_time": "2024-04-11T15:28:28.067Z"
   },
   {
    "duration": 12,
    "start_time": "2024-04-11T15:28:33.306Z"
   },
   {
    "duration": 24,
    "start_time": "2024-04-11T15:29:10.603Z"
   },
   {
    "duration": 14,
    "start_time": "2024-04-11T15:29:24.660Z"
   },
   {
    "duration": 15,
    "start_time": "2024-04-11T15:31:20.236Z"
   },
   {
    "duration": 15,
    "start_time": "2024-04-11T15:31:26.270Z"
   },
   {
    "duration": 15,
    "start_time": "2024-04-11T15:31:34.173Z"
   },
   {
    "duration": 15,
    "start_time": "2024-04-11T15:31:44.706Z"
   },
   {
    "duration": 15,
    "start_time": "2024-04-11T15:31:53.047Z"
   },
   {
    "duration": 24,
    "start_time": "2024-04-11T15:32:03.131Z"
   },
   {
    "duration": 15,
    "start_time": "2024-04-11T15:33:27.503Z"
   },
   {
    "duration": 16,
    "start_time": "2024-04-11T15:33:37.267Z"
   },
   {
    "duration": 13,
    "start_time": "2024-04-11T15:34:11.196Z"
   },
   {
    "duration": 24,
    "start_time": "2024-04-11T15:34:14.958Z"
   },
   {
    "duration": 619,
    "start_time": "2024-04-11T15:34:25.044Z"
   },
   {
    "duration": 752,
    "start_time": "2024-04-11T15:34:25.665Z"
   },
   {
    "duration": 28,
    "start_time": "2024-04-11T15:34:26.419Z"
   },
   {
    "duration": 19,
    "start_time": "2024-04-11T15:34:26.449Z"
   },
   {
    "duration": 35,
    "start_time": "2024-04-11T15:34:26.470Z"
   },
   {
    "duration": 39,
    "start_time": "2024-04-11T15:34:26.507Z"
   },
   {
    "duration": 13,
    "start_time": "2024-04-11T15:34:26.548Z"
   },
   {
    "duration": 5,
    "start_time": "2024-04-11T15:34:26.563Z"
   },
   {
    "duration": 35,
    "start_time": "2024-04-11T15:34:26.570Z"
   },
   {
    "duration": 45,
    "start_time": "2024-04-11T15:34:26.607Z"
   },
   {
    "duration": 19,
    "start_time": "2024-04-11T15:34:26.653Z"
   },
   {
    "duration": 5,
    "start_time": "2024-04-11T15:34:26.673Z"
   },
   {
    "duration": 20,
    "start_time": "2024-04-11T15:34:26.679Z"
   },
   {
    "duration": 17,
    "start_time": "2024-04-11T15:34:26.701Z"
   },
   {
    "duration": 17,
    "start_time": "2024-04-11T15:34:26.719Z"
   },
   {
    "duration": 8,
    "start_time": "2024-04-11T15:34:26.737Z"
   },
   {
    "duration": 10,
    "start_time": "2024-04-11T15:34:26.746Z"
   },
   {
    "duration": 37,
    "start_time": "2024-04-11T15:34:26.757Z"
   },
   {
    "duration": 56,
    "start_time": "2024-04-11T15:34:26.796Z"
   },
   {
    "duration": 17,
    "start_time": "2024-04-11T15:34:26.853Z"
   },
   {
    "duration": 24,
    "start_time": "2024-04-11T15:34:26.872Z"
   },
   {
    "duration": 49,
    "start_time": "2024-04-11T15:34:26.897Z"
   },
   {
    "duration": 35,
    "start_time": "2024-04-11T16:04:07.074Z"
   },
   {
    "duration": 643,
    "start_time": "2024-04-11T16:04:16.743Z"
   },
   {
    "duration": 241,
    "start_time": "2024-04-11T16:04:17.387Z"
   },
   {
    "duration": 28,
    "start_time": "2024-04-11T16:04:17.629Z"
   },
   {
    "duration": 27,
    "start_time": "2024-04-11T16:04:17.659Z"
   },
   {
    "duration": 37,
    "start_time": "2024-04-11T16:04:17.687Z"
   },
   {
    "duration": 28,
    "start_time": "2024-04-11T16:04:17.726Z"
   },
   {
    "duration": 10,
    "start_time": "2024-04-11T16:04:17.756Z"
   },
   {
    "duration": 4,
    "start_time": "2024-04-11T16:04:17.768Z"
   },
   {
    "duration": 18,
    "start_time": "2024-04-11T16:04:17.773Z"
   },
   {
    "duration": 21,
    "start_time": "2024-04-11T16:04:17.793Z"
   },
   {
    "duration": 42,
    "start_time": "2024-04-11T16:04:17.816Z"
   },
   {
    "duration": 4,
    "start_time": "2024-04-11T16:04:17.860Z"
   },
   {
    "duration": 24,
    "start_time": "2024-04-11T16:04:17.866Z"
   },
   {
    "duration": 11,
    "start_time": "2024-04-11T16:04:17.891Z"
   },
   {
    "duration": 4,
    "start_time": "2024-04-11T16:04:17.903Z"
   },
   {
    "duration": 23,
    "start_time": "2024-04-11T16:04:17.908Z"
   },
   {
    "duration": 15,
    "start_time": "2024-04-11T16:04:17.932Z"
   },
   {
    "duration": 20,
    "start_time": "2024-04-11T16:04:17.948Z"
   },
   {
    "duration": 25,
    "start_time": "2024-04-11T16:04:17.970Z"
   },
   {
    "duration": 14,
    "start_time": "2024-04-11T16:04:17.996Z"
   },
   {
    "duration": 47,
    "start_time": "2024-04-11T16:04:18.011Z"
   },
   {
    "duration": 6,
    "start_time": "2024-04-11T16:04:18.059Z"
   },
   {
    "duration": 17,
    "start_time": "2024-04-11T16:07:33.701Z"
   },
   {
    "duration": 16,
    "start_time": "2024-04-11T16:07:37.735Z"
   },
   {
    "duration": 31,
    "start_time": "2024-04-11T16:08:38.095Z"
   },
   {
    "duration": 608,
    "start_time": "2024-04-11T16:08:45.627Z"
   },
   {
    "duration": 260,
    "start_time": "2024-04-11T16:08:46.238Z"
   },
   {
    "duration": 28,
    "start_time": "2024-04-11T16:08:46.499Z"
   },
   {
    "duration": 12,
    "start_time": "2024-04-11T16:08:46.528Z"
   },
   {
    "duration": 68,
    "start_time": "2024-04-11T16:08:46.542Z"
   },
   {
    "duration": 30,
    "start_time": "2024-04-11T16:08:46.613Z"
   },
   {
    "duration": 11,
    "start_time": "2024-04-11T16:08:46.644Z"
   },
   {
    "duration": 22,
    "start_time": "2024-04-11T16:08:46.657Z"
   },
   {
    "duration": 18,
    "start_time": "2024-04-11T16:08:46.680Z"
   },
   {
    "duration": 23,
    "start_time": "2024-04-11T16:08:46.699Z"
   },
   {
    "duration": 30,
    "start_time": "2024-04-11T16:08:46.723Z"
   },
   {
    "duration": 5,
    "start_time": "2024-04-11T16:08:46.755Z"
   },
   {
    "duration": 23,
    "start_time": "2024-04-11T16:08:46.762Z"
   },
   {
    "duration": 10,
    "start_time": "2024-04-11T16:08:46.787Z"
   },
   {
    "duration": 9,
    "start_time": "2024-04-11T16:08:46.798Z"
   },
   {
    "duration": 7,
    "start_time": "2024-04-11T16:08:46.808Z"
   },
   {
    "duration": 29,
    "start_time": "2024-04-11T16:08:46.817Z"
   },
   {
    "duration": 17,
    "start_time": "2024-04-11T16:08:46.848Z"
   },
   {
    "duration": 27,
    "start_time": "2024-04-11T16:08:46.866Z"
   },
   {
    "duration": 15,
    "start_time": "2024-04-11T16:08:46.894Z"
   },
   {
    "duration": 41,
    "start_time": "2024-04-11T16:08:46.910Z"
   },
   {
    "duration": 31,
    "start_time": "2024-04-11T16:08:46.952Z"
   },
   {
    "duration": 5,
    "start_time": "2024-04-11T16:08:46.984Z"
   },
   {
    "duration": 5,
    "start_time": "2024-04-11T16:12:00.705Z"
   },
   {
    "duration": 16,
    "start_time": "2024-04-11T16:12:11.912Z"
   },
   {
    "duration": 644,
    "start_time": "2024-04-11T16:12:48.080Z"
   },
   {
    "duration": 664,
    "start_time": "2024-04-11T16:12:51.750Z"
   },
   {
    "duration": 659,
    "start_time": "2024-04-11T16:13:39.397Z"
   },
   {
    "duration": 698,
    "start_time": "2024-04-11T16:13:52.805Z"
   },
   {
    "duration": 696,
    "start_time": "2024-04-11T16:16:27.528Z"
   },
   {
    "duration": 14,
    "start_time": "2024-04-11T16:20:25.193Z"
   },
   {
    "duration": 9,
    "start_time": "2024-04-11T16:21:58.222Z"
   },
   {
    "duration": 14,
    "start_time": "2024-04-11T16:22:05.857Z"
   },
   {
    "duration": 329,
    "start_time": "2024-04-11T16:23:49.744Z"
   },
   {
    "duration": 16,
    "start_time": "2024-04-11T16:23:56.116Z"
   },
   {
    "duration": 17,
    "start_time": "2024-04-11T16:24:13.457Z"
   },
   {
    "duration": 15,
    "start_time": "2024-04-11T16:24:18.633Z"
   },
   {
    "duration": 13,
    "start_time": "2024-04-11T16:24:40.286Z"
   },
   {
    "duration": 14,
    "start_time": "2024-04-11T16:24:42.849Z"
   },
   {
    "duration": 16,
    "start_time": "2024-04-11T16:24:46.359Z"
   },
   {
    "duration": 11,
    "start_time": "2024-04-11T16:25:58.071Z"
   },
   {
    "duration": 13,
    "start_time": "2024-04-11T16:26:05.132Z"
   },
   {
    "duration": 12,
    "start_time": "2024-04-11T16:26:19.235Z"
   },
   {
    "duration": 628,
    "start_time": "2024-04-11T16:26:26.617Z"
   },
   {
    "duration": 271,
    "start_time": "2024-04-11T16:26:27.248Z"
   },
   {
    "duration": 27,
    "start_time": "2024-04-11T16:26:27.520Z"
   },
   {
    "duration": 13,
    "start_time": "2024-04-11T16:26:27.549Z"
   },
   {
    "duration": 52,
    "start_time": "2024-04-11T16:26:27.564Z"
   },
   {
    "duration": 34,
    "start_time": "2024-04-11T16:26:27.617Z"
   },
   {
    "duration": 15,
    "start_time": "2024-04-11T16:26:27.652Z"
   },
   {
    "duration": 6,
    "start_time": "2024-04-11T16:26:27.668Z"
   },
   {
    "duration": 21,
    "start_time": "2024-04-11T16:26:27.676Z"
   },
   {
    "duration": 46,
    "start_time": "2024-04-11T16:26:27.700Z"
   },
   {
    "duration": 21,
    "start_time": "2024-04-11T16:26:27.748Z"
   },
   {
    "duration": 4,
    "start_time": "2024-04-11T16:26:27.771Z"
   },
   {
    "duration": 39,
    "start_time": "2024-04-11T16:26:27.776Z"
   },
   {
    "duration": 36,
    "start_time": "2024-04-11T16:26:27.817Z"
   },
   {
    "duration": 17,
    "start_time": "2024-04-11T16:26:27.855Z"
   },
   {
    "duration": 33,
    "start_time": "2024-04-11T16:26:27.873Z"
   },
   {
    "duration": 22,
    "start_time": "2024-04-11T16:26:27.908Z"
   },
   {
    "duration": 26,
    "start_time": "2024-04-11T16:26:27.931Z"
   },
   {
    "duration": 22,
    "start_time": "2024-04-11T16:26:27.958Z"
   },
   {
    "duration": 85,
    "start_time": "2024-04-11T16:26:27.981Z"
   },
   {
    "duration": 0,
    "start_time": "2024-04-11T16:26:28.068Z"
   },
   {
    "duration": 0,
    "start_time": "2024-04-11T16:26:28.069Z"
   },
   {
    "duration": 0,
    "start_time": "2024-04-11T16:26:28.070Z"
   },
   {
    "duration": 15,
    "start_time": "2024-04-11T16:27:55.070Z"
   },
   {
    "duration": 15,
    "start_time": "2024-04-11T16:30:47.077Z"
   },
   {
    "duration": 17,
    "start_time": "2024-04-11T16:32:26.808Z"
   },
   {
    "duration": 10,
    "start_time": "2024-04-11T16:33:11.606Z"
   },
   {
    "duration": 14,
    "start_time": "2024-04-11T16:33:33.704Z"
   },
   {
    "duration": 616,
    "start_time": "2024-04-11T16:33:42.326Z"
   },
   {
    "duration": 335,
    "start_time": "2024-04-11T16:33:42.944Z"
   },
   {
    "duration": 26,
    "start_time": "2024-04-11T16:33:43.280Z"
   },
   {
    "duration": 12,
    "start_time": "2024-04-11T16:33:43.308Z"
   },
   {
    "duration": 33,
    "start_time": "2024-04-11T16:33:43.321Z"
   },
   {
    "duration": 20,
    "start_time": "2024-04-11T16:33:43.355Z"
   },
   {
    "duration": 10,
    "start_time": "2024-04-11T16:33:43.376Z"
   },
   {
    "duration": 4,
    "start_time": "2024-04-11T16:33:43.387Z"
   },
   {
    "duration": 18,
    "start_time": "2024-04-11T16:33:43.393Z"
   },
   {
    "duration": 47,
    "start_time": "2024-04-11T16:33:43.413Z"
   },
   {
    "duration": 20,
    "start_time": "2024-04-11T16:33:43.461Z"
   },
   {
    "duration": 4,
    "start_time": "2024-04-11T16:33:43.482Z"
   },
   {
    "duration": 16,
    "start_time": "2024-04-11T16:33:43.488Z"
   },
   {
    "duration": 11,
    "start_time": "2024-04-11T16:33:43.507Z"
   },
   {
    "duration": 28,
    "start_time": "2024-04-11T16:33:43.519Z"
   },
   {
    "duration": 9,
    "start_time": "2024-04-11T16:33:43.548Z"
   },
   {
    "duration": 9,
    "start_time": "2024-04-11T16:33:43.558Z"
   },
   {
    "duration": 18,
    "start_time": "2024-04-11T16:33:43.569Z"
   },
   {
    "duration": 9,
    "start_time": "2024-04-11T16:33:43.588Z"
   },
   {
    "duration": 15,
    "start_time": "2024-04-11T16:33:43.598Z"
   },
   {
    "duration": 44,
    "start_time": "2024-04-11T16:33:43.614Z"
   },
   {
    "duration": 9,
    "start_time": "2024-04-11T16:33:43.659Z"
   },
   {
    "duration": 13,
    "start_time": "2024-04-11T16:33:43.670Z"
   },
   {
    "duration": 19,
    "start_time": "2024-04-11T16:33:43.685Z"
   },
   {
    "duration": 870,
    "start_time": "2024-04-11T16:33:43.706Z"
   },
   {
    "duration": 11,
    "start_time": "2024-04-11T16:34:08.972Z"
   },
   {
    "duration": 12,
    "start_time": "2024-04-11T16:34:13.992Z"
   },
   {
    "duration": 609,
    "start_time": "2024-04-11T16:34:18.236Z"
   },
   {
    "duration": 210,
    "start_time": "2024-04-11T16:34:18.847Z"
   },
   {
    "duration": 28,
    "start_time": "2024-04-11T16:34:19.059Z"
   },
   {
    "duration": 13,
    "start_time": "2024-04-11T16:34:19.089Z"
   },
   {
    "duration": 64,
    "start_time": "2024-04-11T16:34:19.105Z"
   },
   {
    "duration": 21,
    "start_time": "2024-04-11T16:34:19.171Z"
   },
   {
    "duration": 12,
    "start_time": "2024-04-11T16:34:19.193Z"
   },
   {
    "duration": 16,
    "start_time": "2024-04-11T16:34:19.207Z"
   },
   {
    "duration": 32,
    "start_time": "2024-04-11T16:34:19.225Z"
   },
   {
    "duration": 25,
    "start_time": "2024-04-11T16:34:19.259Z"
   },
   {
    "duration": 22,
    "start_time": "2024-04-11T16:34:19.285Z"
   },
   {
    "duration": 6,
    "start_time": "2024-04-11T16:34:19.308Z"
   },
   {
    "duration": 41,
    "start_time": "2024-04-11T16:34:19.315Z"
   },
   {
    "duration": 11,
    "start_time": "2024-04-11T16:34:19.358Z"
   },
   {
    "duration": 8,
    "start_time": "2024-04-11T16:34:19.370Z"
   },
   {
    "duration": 11,
    "start_time": "2024-04-11T16:34:19.380Z"
   },
   {
    "duration": 25,
    "start_time": "2024-04-11T16:34:19.393Z"
   },
   {
    "duration": 31,
    "start_time": "2024-04-11T16:34:19.420Z"
   },
   {
    "duration": 9,
    "start_time": "2024-04-11T16:34:19.452Z"
   },
   {
    "duration": 65,
    "start_time": "2024-04-11T16:34:19.462Z"
   },
   {
    "duration": 15,
    "start_time": "2024-04-11T16:34:19.528Z"
   },
   {
    "duration": 8,
    "start_time": "2024-04-11T16:34:19.545Z"
   },
   {
    "duration": 19,
    "start_time": "2024-04-11T16:34:19.555Z"
   },
   {
    "duration": 17,
    "start_time": "2024-04-11T16:34:19.575Z"
   },
   {
    "duration": 791,
    "start_time": "2024-04-11T16:34:19.594Z"
   },
   {
    "duration": 5,
    "start_time": "2024-04-11T16:46:09.888Z"
   },
   {
    "duration": 17,
    "start_time": "2024-04-11T16:46:19.824Z"
   },
   {
    "duration": 13,
    "start_time": "2024-04-11T16:46:24.135Z"
   },
   {
    "duration": 17,
    "start_time": "2024-04-11T16:47:37.243Z"
   },
   {
    "duration": 13,
    "start_time": "2024-04-11T16:47:40.534Z"
   },
   {
    "duration": 14,
    "start_time": "2024-04-11T16:52:22.957Z"
   },
   {
    "duration": 13,
    "start_time": "2024-04-11T16:52:33.830Z"
   },
   {
    "duration": 14,
    "start_time": "2024-04-11T16:53:59.018Z"
   },
   {
    "duration": 6,
    "start_time": "2024-04-11T16:54:30.886Z"
   },
   {
    "duration": 15,
    "start_time": "2024-04-11T16:54:36.145Z"
   },
   {
    "duration": 6,
    "start_time": "2024-04-11T16:54:51.020Z"
   },
   {
    "duration": 6,
    "start_time": "2024-04-11T16:54:56.907Z"
   },
   {
    "duration": 7,
    "start_time": "2024-04-11T16:55:01.249Z"
   },
   {
    "duration": 6,
    "start_time": "2024-04-11T16:55:14.390Z"
   },
   {
    "duration": 14,
    "start_time": "2024-04-11T16:55:24.770Z"
   },
   {
    "duration": 11,
    "start_time": "2024-04-11T16:56:11.632Z"
   },
   {
    "duration": 11,
    "start_time": "2024-04-11T16:56:56.942Z"
   },
   {
    "duration": 8,
    "start_time": "2024-04-11T16:57:09.291Z"
   },
   {
    "duration": 17,
    "start_time": "2024-04-11T16:58:20.678Z"
   },
   {
    "duration": 18,
    "start_time": "2024-04-11T16:59:22.690Z"
   },
   {
    "duration": 587,
    "start_time": "2024-04-11T16:59:29.117Z"
   },
   {
    "duration": 234,
    "start_time": "2024-04-11T16:59:29.705Z"
   },
   {
    "duration": 27,
    "start_time": "2024-04-11T16:59:29.940Z"
   },
   {
    "duration": 13,
    "start_time": "2024-04-11T16:59:29.969Z"
   },
   {
    "duration": 34,
    "start_time": "2024-04-11T16:59:29.984Z"
   },
   {
    "duration": 37,
    "start_time": "2024-04-11T16:59:30.020Z"
   },
   {
    "duration": 54,
    "start_time": "2024-04-11T16:59:30.058Z"
   },
   {
    "duration": 41,
    "start_time": "2024-04-11T16:59:30.113Z"
   },
   {
    "duration": 81,
    "start_time": "2024-04-11T16:59:30.156Z"
   },
   {
    "duration": 61,
    "start_time": "2024-04-11T16:59:30.239Z"
   },
   {
    "duration": 120,
    "start_time": "2024-04-11T16:59:30.302Z"
   },
   {
    "duration": 38,
    "start_time": "2024-04-11T16:59:30.424Z"
   },
   {
    "duration": 74,
    "start_time": "2024-04-11T16:59:30.463Z"
   },
   {
    "duration": 155,
    "start_time": "2024-04-11T16:59:30.541Z"
   },
   {
    "duration": 27,
    "start_time": "2024-04-11T16:59:30.697Z"
   },
   {
    "duration": 48,
    "start_time": "2024-04-11T16:59:30.726Z"
   },
   {
    "duration": 44,
    "start_time": "2024-04-11T16:59:30.776Z"
   },
   {
    "duration": 52,
    "start_time": "2024-04-11T16:59:30.821Z"
   },
   {
    "duration": 34,
    "start_time": "2024-04-11T16:59:30.874Z"
   },
   {
    "duration": 57,
    "start_time": "2024-04-11T16:59:30.909Z"
   },
   {
    "duration": 47,
    "start_time": "2024-04-11T16:59:30.968Z"
   },
   {
    "duration": 52,
    "start_time": "2024-04-11T16:59:31.016Z"
   },
   {
    "duration": 43,
    "start_time": "2024-04-11T16:59:31.070Z"
   },
   {
    "duration": 52,
    "start_time": "2024-04-11T16:59:31.114Z"
   },
   {
    "duration": 15,
    "start_time": "2024-04-11T16:59:31.167Z"
   },
   {
    "duration": 58,
    "start_time": "2024-04-11T16:59:31.183Z"
   },
   {
    "duration": 4,
    "start_time": "2024-04-11T17:08:08.591Z"
   },
   {
    "duration": 14,
    "start_time": "2024-04-11T17:08:26.135Z"
   },
   {
    "duration": 587,
    "start_time": "2024-04-11T17:08:55.940Z"
   },
   {
    "duration": 226,
    "start_time": "2024-04-11T17:08:56.528Z"
   },
   {
    "duration": 27,
    "start_time": "2024-04-11T17:08:56.755Z"
   },
   {
    "duration": 12,
    "start_time": "2024-04-11T17:08:56.784Z"
   },
   {
    "duration": 47,
    "start_time": "2024-04-11T17:08:56.798Z"
   },
   {
    "duration": 21,
    "start_time": "2024-04-11T17:08:56.846Z"
   },
   {
    "duration": 26,
    "start_time": "2024-04-11T17:08:56.869Z"
   },
   {
    "duration": 4,
    "start_time": "2024-04-11T17:08:56.897Z"
   },
   {
    "duration": 21,
    "start_time": "2024-04-11T17:08:56.902Z"
   },
   {
    "duration": 39,
    "start_time": "2024-04-11T17:08:56.924Z"
   },
   {
    "duration": 19,
    "start_time": "2024-04-11T17:08:56.964Z"
   },
   {
    "duration": 5,
    "start_time": "2024-04-11T17:08:56.984Z"
   },
   {
    "duration": 74,
    "start_time": "2024-04-11T17:08:56.990Z"
   },
   {
    "duration": 10,
    "start_time": "2024-04-11T17:08:57.067Z"
   },
   {
    "duration": 22,
    "start_time": "2024-04-11T17:08:57.078Z"
   },
   {
    "duration": 15,
    "start_time": "2024-04-11T17:08:57.101Z"
   },
   {
    "duration": 17,
    "start_time": "2024-04-11T17:08:57.117Z"
   },
   {
    "duration": 29,
    "start_time": "2024-04-11T17:08:57.135Z"
   },
   {
    "duration": 10,
    "start_time": "2024-04-11T17:08:57.165Z"
   },
   {
    "duration": 29,
    "start_time": "2024-04-11T17:08:57.176Z"
   },
   {
    "duration": 46,
    "start_time": "2024-04-11T17:08:57.206Z"
   },
   {
    "duration": 10,
    "start_time": "2024-04-11T17:08:57.254Z"
   },
   {
    "duration": 10,
    "start_time": "2024-04-11T17:08:57.265Z"
   },
   {
    "duration": 17,
    "start_time": "2024-04-11T17:08:57.276Z"
   },
   {
    "duration": 8,
    "start_time": "2024-04-11T17:08:57.294Z"
   },
   {
    "duration": 41,
    "start_time": "2024-04-11T17:08:57.303Z"
   },
   {
    "duration": 15,
    "start_time": "2024-04-11T17:28:21.654Z"
   },
   {
    "duration": 619,
    "start_time": "2024-04-11T17:28:27.731Z"
   },
   {
    "duration": 277,
    "start_time": "2024-04-11T17:28:28.352Z"
   },
   {
    "duration": 28,
    "start_time": "2024-04-11T17:28:28.630Z"
   },
   {
    "duration": 12,
    "start_time": "2024-04-11T17:28:28.660Z"
   },
   {
    "duration": 35,
    "start_time": "2024-04-11T17:28:28.674Z"
   },
   {
    "duration": 40,
    "start_time": "2024-04-11T17:28:28.710Z"
   },
   {
    "duration": 11,
    "start_time": "2024-04-11T17:28:28.751Z"
   },
   {
    "duration": 10,
    "start_time": "2024-04-11T17:28:28.764Z"
   },
   {
    "duration": 26,
    "start_time": "2024-04-11T17:28:28.775Z"
   },
   {
    "duration": 22,
    "start_time": "2024-04-11T17:28:28.803Z"
   },
   {
    "duration": 32,
    "start_time": "2024-04-11T17:28:28.826Z"
   },
   {
    "duration": 4,
    "start_time": "2024-04-11T17:28:28.859Z"
   },
   {
    "duration": 13,
    "start_time": "2024-04-11T17:28:28.865Z"
   },
   {
    "duration": 10,
    "start_time": "2024-04-11T17:28:28.879Z"
   },
   {
    "duration": 3,
    "start_time": "2024-04-11T17:28:28.890Z"
   },
   {
    "duration": 10,
    "start_time": "2024-04-11T17:28:28.894Z"
   },
   {
    "duration": 41,
    "start_time": "2024-04-11T17:28:28.905Z"
   },
   {
    "duration": 18,
    "start_time": "2024-04-11T17:28:28.948Z"
   },
   {
    "duration": 9,
    "start_time": "2024-04-11T17:28:28.967Z"
   },
   {
    "duration": 20,
    "start_time": "2024-04-11T17:28:28.978Z"
   },
   {
    "duration": 15,
    "start_time": "2024-04-11T17:28:29.000Z"
   },
   {
    "duration": 37,
    "start_time": "2024-04-11T17:28:29.017Z"
   },
   {
    "duration": 10,
    "start_time": "2024-04-11T17:28:29.056Z"
   },
   {
    "duration": 15,
    "start_time": "2024-04-11T17:28:29.068Z"
   },
   {
    "duration": 6,
    "start_time": "2024-04-11T17:28:29.085Z"
   },
   {
    "duration": 17,
    "start_time": "2024-04-11T17:28:29.093Z"
   },
   {
    "duration": 4,
    "start_time": "2024-04-11T17:32:20.111Z"
   },
   {
    "duration": 44,
    "start_time": "2024-04-11T17:32:47.165Z"
   },
   {
    "duration": 4,
    "start_time": "2024-04-11T17:33:03.833Z"
   },
   {
    "duration": 3,
    "start_time": "2024-04-11T17:34:10.691Z"
   },
   {
    "duration": 4,
    "start_time": "2024-04-11T17:34:11.004Z"
   },
   {
    "duration": 4,
    "start_time": "2024-04-11T17:34:11.257Z"
   },
   {
    "duration": 13,
    "start_time": "2024-04-11T17:34:18.326Z"
   },
   {
    "duration": 15,
    "start_time": "2024-04-11T17:35:02.560Z"
   },
   {
    "duration": 24,
    "start_time": "2024-04-11T17:35:07.831Z"
   },
   {
    "duration": 24,
    "start_time": "2024-04-11T17:35:19.335Z"
   },
   {
    "duration": 23,
    "start_time": "2024-04-11T17:36:20.241Z"
   },
   {
    "duration": 68,
    "start_time": "2024-04-11T17:39:20.906Z"
   },
   {
    "duration": 14,
    "start_time": "2024-04-11T17:39:25.069Z"
   },
   {
    "duration": 4,
    "start_time": "2024-04-11T17:39:31.655Z"
   },
   {
    "duration": 10,
    "start_time": "2024-04-11T17:39:37.622Z"
   },
   {
    "duration": 582,
    "start_time": "2024-04-11T17:39:45.963Z"
   },
   {
    "duration": 262,
    "start_time": "2024-04-11T17:39:46.547Z"
   },
   {
    "duration": 26,
    "start_time": "2024-04-11T17:39:46.811Z"
   },
   {
    "duration": 12,
    "start_time": "2024-04-11T17:39:46.839Z"
   },
   {
    "duration": 44,
    "start_time": "2024-04-11T17:39:46.852Z"
   },
   {
    "duration": 24,
    "start_time": "2024-04-11T17:39:46.898Z"
   },
   {
    "duration": 24,
    "start_time": "2024-04-11T17:39:46.924Z"
   },
   {
    "duration": 4,
    "start_time": "2024-04-11T17:39:46.950Z"
   },
   {
    "duration": 22,
    "start_time": "2024-04-11T17:39:46.955Z"
   },
   {
    "duration": 21,
    "start_time": "2024-04-11T17:39:46.978Z"
   },
   {
    "duration": 19,
    "start_time": "2024-04-11T17:39:47.001Z"
   },
   {
    "duration": 25,
    "start_time": "2024-04-11T17:39:47.021Z"
   },
   {
    "duration": 13,
    "start_time": "2024-04-11T17:39:47.047Z"
   },
   {
    "duration": 10,
    "start_time": "2024-04-11T17:39:47.063Z"
   },
   {
    "duration": 4,
    "start_time": "2024-04-11T17:39:47.074Z"
   },
   {
    "duration": 20,
    "start_time": "2024-04-11T17:39:47.079Z"
   },
   {
    "duration": 15,
    "start_time": "2024-04-11T17:39:47.100Z"
   },
   {
    "duration": 35,
    "start_time": "2024-04-11T17:39:47.116Z"
   },
   {
    "duration": 11,
    "start_time": "2024-04-11T17:39:47.152Z"
   },
   {
    "duration": 23,
    "start_time": "2024-04-11T17:39:47.165Z"
   },
   {
    "duration": 17,
    "start_time": "2024-04-11T17:39:47.190Z"
   },
   {
    "duration": 22,
    "start_time": "2024-04-11T17:39:47.209Z"
   },
   {
    "duration": 12,
    "start_time": "2024-04-11T17:39:47.244Z"
   },
   {
    "duration": 32,
    "start_time": "2024-04-11T17:39:47.258Z"
   },
   {
    "duration": 5,
    "start_time": "2024-04-11T17:39:47.292Z"
   },
   {
    "duration": 16,
    "start_time": "2024-04-11T17:39:47.298Z"
   },
   {
    "duration": 3,
    "start_time": "2024-04-11T17:39:47.316Z"
   },
   {
    "duration": 5,
    "start_time": "2024-04-11T17:39:47.320Z"
   },
   {
    "duration": 3,
    "start_time": "2024-04-11T17:39:47.327Z"
   },
   {
    "duration": 34,
    "start_time": "2024-04-11T17:39:47.332Z"
   },
   {
    "duration": 9,
    "start_time": "2024-04-11T17:39:47.367Z"
   },
   {
    "duration": 6,
    "start_time": "2024-04-11T18:04:08.996Z"
   },
   {
    "duration": 16,
    "start_time": "2024-04-11T18:04:11.916Z"
   },
   {
    "duration": 18,
    "start_time": "2024-04-11T18:04:46.386Z"
   },
   {
    "duration": 19,
    "start_time": "2024-04-11T18:04:56.996Z"
   },
   {
    "duration": 591,
    "start_time": "2024-04-11T18:05:02.779Z"
   },
   {
    "duration": 251,
    "start_time": "2024-04-11T18:05:03.372Z"
   },
   {
    "duration": 28,
    "start_time": "2024-04-11T18:05:03.625Z"
   },
   {
    "duration": 13,
    "start_time": "2024-04-11T18:05:03.655Z"
   },
   {
    "duration": 52,
    "start_time": "2024-04-11T18:05:03.670Z"
   },
   {
    "duration": 21,
    "start_time": "2024-04-11T18:05:03.723Z"
   },
   {
    "duration": 17,
    "start_time": "2024-04-11T18:05:03.745Z"
   },
   {
    "duration": 13,
    "start_time": "2024-04-11T18:05:03.763Z"
   },
   {
    "duration": 36,
    "start_time": "2024-04-11T18:05:03.778Z"
   },
   {
    "duration": 25,
    "start_time": "2024-04-11T18:05:03.817Z"
   },
   {
    "duration": 20,
    "start_time": "2024-04-11T18:05:03.843Z"
   },
   {
    "duration": 4,
    "start_time": "2024-04-11T18:05:03.864Z"
   },
   {
    "duration": 39,
    "start_time": "2024-04-11T18:05:03.870Z"
   },
   {
    "duration": 18,
    "start_time": "2024-04-11T18:05:03.911Z"
   },
   {
    "duration": 20,
    "start_time": "2024-04-11T18:05:03.930Z"
   },
   {
    "duration": 24,
    "start_time": "2024-04-11T18:05:03.951Z"
   },
   {
    "duration": 20,
    "start_time": "2024-04-11T18:05:03.977Z"
   },
   {
    "duration": 26,
    "start_time": "2024-04-11T18:05:03.999Z"
   },
   {
    "duration": 23,
    "start_time": "2024-04-11T18:05:04.027Z"
   },
   {
    "duration": 37,
    "start_time": "2024-04-11T18:05:04.051Z"
   },
   {
    "duration": 43,
    "start_time": "2024-04-11T18:05:04.089Z"
   },
   {
    "duration": 35,
    "start_time": "2024-04-11T18:05:04.133Z"
   },
   {
    "duration": 25,
    "start_time": "2024-04-11T18:05:04.169Z"
   },
   {
    "duration": 38,
    "start_time": "2024-04-11T18:05:04.195Z"
   },
   {
    "duration": 8,
    "start_time": "2024-04-11T18:05:04.235Z"
   },
   {
    "duration": 50,
    "start_time": "2024-04-11T18:05:04.245Z"
   },
   {
    "duration": 31,
    "start_time": "2024-04-11T18:05:04.296Z"
   },
   {
    "duration": 30,
    "start_time": "2024-04-11T18:05:04.330Z"
   },
   {
    "duration": 13,
    "start_time": "2024-04-11T18:05:04.362Z"
   },
   {
    "duration": 73,
    "start_time": "2024-04-11T18:05:04.377Z"
   },
   {
    "duration": 27,
    "start_time": "2024-04-11T18:05:04.451Z"
   },
   {
    "duration": 34,
    "start_time": "2024-04-11T18:05:04.479Z"
   },
   {
    "duration": 19,
    "start_time": "2024-04-11T18:06:14.679Z"
   },
   {
    "duration": 21,
    "start_time": "2024-04-11T18:06:37.106Z"
   },
   {
    "duration": 3,
    "start_time": "2024-04-11T18:06:41.193Z"
   },
   {
    "duration": 194,
    "start_time": "2024-04-11T18:06:41.198Z"
   },
   {
    "duration": 21,
    "start_time": "2024-04-11T18:06:41.394Z"
   },
   {
    "duration": 12,
    "start_time": "2024-04-11T18:06:41.416Z"
   },
   {
    "duration": 33,
    "start_time": "2024-04-11T18:06:41.429Z"
   },
   {
    "duration": 20,
    "start_time": "2024-04-11T18:06:41.463Z"
   },
   {
    "duration": 10,
    "start_time": "2024-04-11T18:06:41.484Z"
   },
   {
    "duration": 4,
    "start_time": "2024-04-11T18:06:41.496Z"
   },
   {
    "duration": 23,
    "start_time": "2024-04-11T18:06:41.502Z"
   },
   {
    "duration": 23,
    "start_time": "2024-04-11T18:06:41.544Z"
   },
   {
    "duration": 19,
    "start_time": "2024-04-11T18:06:41.568Z"
   },
   {
    "duration": 4,
    "start_time": "2024-04-11T18:06:41.588Z"
   },
   {
    "duration": 13,
    "start_time": "2024-04-11T18:06:41.594Z"
   },
   {
    "duration": 10,
    "start_time": "2024-04-11T18:06:41.608Z"
   },
   {
    "duration": 6,
    "start_time": "2024-04-11T18:06:41.645Z"
   },
   {
    "duration": 7,
    "start_time": "2024-04-11T18:06:41.652Z"
   },
   {
    "duration": 12,
    "start_time": "2024-04-11T18:06:41.660Z"
   },
   {
    "duration": 27,
    "start_time": "2024-04-11T18:06:41.673Z"
   },
   {
    "duration": 13,
    "start_time": "2024-04-11T18:06:41.702Z"
   },
   {
    "duration": 39,
    "start_time": "2024-04-11T18:06:41.717Z"
   },
   {
    "duration": 15,
    "start_time": "2024-04-11T18:06:41.758Z"
   },
   {
    "duration": 10,
    "start_time": "2024-04-11T18:06:41.775Z"
   },
   {
    "duration": 11,
    "start_time": "2024-04-11T18:06:41.786Z"
   },
   {
    "duration": 26,
    "start_time": "2024-04-11T18:06:41.798Z"
   },
   {
    "duration": 21,
    "start_time": "2024-04-11T18:06:41.825Z"
   },
   {
    "duration": 32,
    "start_time": "2024-04-11T18:06:41.847Z"
   },
   {
    "duration": 14,
    "start_time": "2024-04-11T18:06:41.881Z"
   },
   {
    "duration": 13,
    "start_time": "2024-04-11T18:06:41.896Z"
   },
   {
    "duration": 6,
    "start_time": "2024-04-11T18:06:41.910Z"
   },
   {
    "duration": 38,
    "start_time": "2024-04-11T18:06:41.918Z"
   },
   {
    "duration": 10,
    "start_time": "2024-04-11T18:06:41.957Z"
   },
   {
    "duration": 24,
    "start_time": "2024-04-11T18:06:41.969Z"
   },
   {
    "duration": 2,
    "start_time": "2024-04-11T18:07:33.633Z"
   },
   {
    "duration": 238,
    "start_time": "2024-04-11T18:07:33.637Z"
   },
   {
    "duration": 23,
    "start_time": "2024-04-11T18:07:33.876Z"
   },
   {
    "duration": 12,
    "start_time": "2024-04-11T18:07:33.900Z"
   },
   {
    "duration": 34,
    "start_time": "2024-04-11T18:07:33.914Z"
   },
   {
    "duration": 19,
    "start_time": "2024-04-11T18:07:33.949Z"
   },
   {
    "duration": 10,
    "start_time": "2024-04-11T18:07:33.970Z"
   },
   {
    "duration": 3,
    "start_time": "2024-04-11T18:07:33.981Z"
   },
   {
    "duration": 25,
    "start_time": "2024-04-11T18:07:33.986Z"
   },
   {
    "duration": 38,
    "start_time": "2024-04-11T18:07:34.012Z"
   },
   {
    "duration": 19,
    "start_time": "2024-04-11T18:07:34.052Z"
   },
   {
    "duration": 4,
    "start_time": "2024-04-11T18:07:34.072Z"
   },
   {
    "duration": 15,
    "start_time": "2024-04-11T18:07:34.079Z"
   },
   {
    "duration": 20,
    "start_time": "2024-04-11T18:07:34.095Z"
   },
   {
    "duration": 4,
    "start_time": "2024-04-11T18:07:34.116Z"
   },
   {
    "duration": 26,
    "start_time": "2024-04-11T18:07:34.122Z"
   },
   {
    "duration": 11,
    "start_time": "2024-04-11T18:07:34.149Z"
   },
   {
    "duration": 15,
    "start_time": "2024-04-11T18:07:34.161Z"
   },
   {
    "duration": 8,
    "start_time": "2024-04-11T18:07:34.178Z"
   },
   {
    "duration": 15,
    "start_time": "2024-04-11T18:07:34.187Z"
   },
   {
    "duration": 43,
    "start_time": "2024-04-11T18:07:34.203Z"
   },
   {
    "duration": 9,
    "start_time": "2024-04-11T18:07:34.247Z"
   },
   {
    "duration": 22,
    "start_time": "2024-04-11T18:07:34.258Z"
   },
   {
    "duration": 14,
    "start_time": "2024-04-11T18:07:34.281Z"
   },
   {
    "duration": 5,
    "start_time": "2024-04-11T18:07:34.296Z"
   },
   {
    "duration": 16,
    "start_time": "2024-04-11T18:07:34.302Z"
   },
   {
    "duration": 4,
    "start_time": "2024-04-11T18:07:34.319Z"
   },
   {
    "duration": 21,
    "start_time": "2024-04-11T18:07:34.324Z"
   },
   {
    "duration": 6,
    "start_time": "2024-04-11T18:07:34.346Z"
   },
   {
    "duration": 25,
    "start_time": "2024-04-11T18:07:34.353Z"
   },
   {
    "duration": 28,
    "start_time": "2024-04-11T18:07:34.380Z"
   },
   {
    "duration": 40,
    "start_time": "2024-04-11T18:07:34.409Z"
   },
   {
    "duration": 19,
    "start_time": "2024-04-11T18:07:45.269Z"
   },
   {
    "duration": 3,
    "start_time": "2024-04-11T18:07:55.369Z"
   },
   {
    "duration": 155,
    "start_time": "2024-04-11T18:07:55.374Z"
   },
   {
    "duration": 22,
    "start_time": "2024-04-11T18:07:55.531Z"
   },
   {
    "duration": 11,
    "start_time": "2024-04-11T18:07:55.554Z"
   },
   {
    "duration": 32,
    "start_time": "2024-04-11T18:07:55.567Z"
   },
   {
    "duration": 20,
    "start_time": "2024-04-11T18:07:55.600Z"
   },
   {
    "duration": 30,
    "start_time": "2024-04-11T18:07:55.621Z"
   },
   {
    "duration": 4,
    "start_time": "2024-04-11T18:07:55.652Z"
   },
   {
    "duration": 17,
    "start_time": "2024-04-11T18:07:55.658Z"
   },
   {
    "duration": 23,
    "start_time": "2024-04-11T18:07:55.676Z"
   },
   {
    "duration": 19,
    "start_time": "2024-04-11T18:07:55.700Z"
   },
   {
    "duration": 27,
    "start_time": "2024-04-11T18:07:55.721Z"
   },
   {
    "duration": 15,
    "start_time": "2024-04-11T18:07:55.750Z"
   },
   {
    "duration": 10,
    "start_time": "2024-04-11T18:07:55.766Z"
   },
   {
    "duration": 4,
    "start_time": "2024-04-11T18:07:55.777Z"
   },
   {
    "duration": 5,
    "start_time": "2024-04-11T18:07:55.782Z"
   },
   {
    "duration": 12,
    "start_time": "2024-04-11T18:07:55.788Z"
   },
   {
    "duration": 50,
    "start_time": "2024-04-11T18:07:55.802Z"
   },
   {
    "duration": 9,
    "start_time": "2024-04-11T18:07:55.853Z"
   },
   {
    "duration": 20,
    "start_time": "2024-04-11T18:07:55.863Z"
   },
   {
    "duration": 15,
    "start_time": "2024-04-11T18:07:55.884Z"
   },
   {
    "duration": 9,
    "start_time": "2024-04-11T18:07:55.900Z"
   },
   {
    "duration": 35,
    "start_time": "2024-04-11T18:07:55.910Z"
   },
   {
    "duration": 14,
    "start_time": "2024-04-11T18:07:55.946Z"
   },
   {
    "duration": 5,
    "start_time": "2024-04-11T18:07:55.962Z"
   },
   {
    "duration": 26,
    "start_time": "2024-04-11T18:07:55.968Z"
   },
   {
    "duration": 7,
    "start_time": "2024-04-11T18:07:55.995Z"
   },
   {
    "duration": 7,
    "start_time": "2024-04-11T18:07:56.003Z"
   },
   {
    "duration": 4,
    "start_time": "2024-04-11T18:07:56.011Z"
   },
   {
    "duration": 33,
    "start_time": "2024-04-11T18:07:56.016Z"
   },
   {
    "duration": 10,
    "start_time": "2024-04-11T18:07:56.050Z"
   },
   {
    "duration": 24,
    "start_time": "2024-04-11T18:07:56.062Z"
   },
   {
    "duration": 23,
    "start_time": "2024-04-11T18:34:00.806Z"
   },
   {
    "duration": 17,
    "start_time": "2024-04-11T18:36:05.243Z"
   },
   {
    "duration": 11,
    "start_time": "2024-04-11T18:37:31.930Z"
   },
   {
    "duration": 18,
    "start_time": "2024-04-11T18:37:35.943Z"
   },
   {
    "duration": 66,
    "start_time": "2024-04-11T18:38:37.946Z"
   },
   {
    "duration": 86,
    "start_time": "2024-04-11T18:38:47.293Z"
   },
   {
    "duration": 74,
    "start_time": "2024-04-11T18:39:04.427Z"
   },
   {
    "duration": 8,
    "start_time": "2024-04-11T18:39:34.266Z"
   },
   {
    "duration": 6,
    "start_time": "2024-04-11T18:39:43.690Z"
   },
   {
    "duration": 109,
    "start_time": "2024-04-11T18:39:46.169Z"
   },
   {
    "duration": 7,
    "start_time": "2024-04-11T18:42:17.782Z"
   },
   {
    "duration": 6,
    "start_time": "2024-04-11T18:42:24.515Z"
   },
   {
    "duration": 3,
    "start_time": "2024-04-11T18:43:32.698Z"
   },
   {
    "duration": 4,
    "start_time": "2024-04-11T18:43:34.982Z"
   },
   {
    "duration": 3,
    "start_time": "2024-04-11T18:43:41.608Z"
   },
   {
    "duration": 4,
    "start_time": "2024-04-11T18:43:53.416Z"
   },
   {
    "duration": 8,
    "start_time": "2024-04-11T18:45:41.580Z"
   },
   {
    "duration": 4,
    "start_time": "2024-04-11T18:46:49.798Z"
   },
   {
    "duration": 4,
    "start_time": "2024-04-11T18:46:58.956Z"
   },
   {
    "duration": 4,
    "start_time": "2024-04-11T18:47:01.992Z"
   },
   {
    "duration": 4,
    "start_time": "2024-04-11T18:47:27.748Z"
   },
   {
    "duration": 4,
    "start_time": "2024-04-11T18:47:49.895Z"
   },
   {
    "duration": 4,
    "start_time": "2024-04-11T18:47:55.685Z"
   },
   {
    "duration": 5,
    "start_time": "2024-04-11T18:48:00.730Z"
   },
   {
    "duration": 4,
    "start_time": "2024-04-11T18:48:04.234Z"
   },
   {
    "duration": 4,
    "start_time": "2024-04-11T18:48:06.869Z"
   },
   {
    "duration": 5,
    "start_time": "2024-04-11T18:49:02.967Z"
   },
   {
    "duration": 4,
    "start_time": "2024-04-11T18:51:02.633Z"
   },
   {
    "duration": 16,
    "start_time": "2024-04-11T19:00:22.197Z"
   },
   {
    "duration": 5,
    "start_time": "2024-04-11T19:00:30.045Z"
   },
   {
    "duration": 44,
    "start_time": "2024-04-11T19:00:37.706Z"
   },
   {
    "duration": 5,
    "start_time": "2024-04-11T19:00:39.740Z"
   },
   {
    "duration": 5,
    "start_time": "2024-04-11T19:00:49.360Z"
   },
   {
    "duration": 5,
    "start_time": "2024-04-11T19:01:00.308Z"
   },
   {
    "duration": 5,
    "start_time": "2024-04-11T19:01:03.657Z"
   },
   {
    "duration": 5,
    "start_time": "2024-04-11T19:01:09.767Z"
   },
   {
    "duration": 43,
    "start_time": "2024-04-11T19:02:02.237Z"
   },
   {
    "duration": 5,
    "start_time": "2024-04-11T19:02:10.779Z"
   },
   {
    "duration": 4,
    "start_time": "2024-04-11T19:02:20.563Z"
   },
   {
    "duration": 3,
    "start_time": "2024-04-11T19:02:26.896Z"
   },
   {
    "duration": 5,
    "start_time": "2024-04-11T19:02:31.110Z"
   },
   {
    "duration": 4,
    "start_time": "2024-04-11T19:02:35.878Z"
   },
   {
    "duration": 4,
    "start_time": "2024-04-11T19:03:35.622Z"
   },
   {
    "duration": 4,
    "start_time": "2024-04-11T19:03:49.878Z"
   },
   {
    "duration": 4,
    "start_time": "2024-04-11T19:04:12.962Z"
   },
   {
    "duration": 4,
    "start_time": "2024-04-11T19:04:26.462Z"
   },
   {
    "duration": 80,
    "start_time": "2024-04-12T13:55:27.244Z"
   },
   {
    "duration": 4,
    "start_time": "2024-04-12T13:55:35.943Z"
   },
   {
    "duration": 4,
    "start_time": "2024-04-12T13:58:41.293Z"
   },
   {
    "duration": 833,
    "start_time": "2024-04-12T13:58:52.090Z"
   },
   {
    "duration": 251,
    "start_time": "2024-04-12T13:58:52.925Z"
   },
   {
    "duration": 29,
    "start_time": "2024-04-12T13:58:53.177Z"
   },
   {
    "duration": 25,
    "start_time": "2024-04-12T13:58:53.207Z"
   },
   {
    "duration": 109,
    "start_time": "2024-04-12T13:58:53.234Z"
   },
   {
    "duration": 26,
    "start_time": "2024-04-12T13:58:53.344Z"
   },
   {
    "duration": 21,
    "start_time": "2024-04-12T13:58:53.372Z"
   },
   {
    "duration": 30,
    "start_time": "2024-04-12T13:58:53.394Z"
   },
   {
    "duration": 58,
    "start_time": "2024-04-12T13:58:53.426Z"
   },
   {
    "duration": 42,
    "start_time": "2024-04-12T13:58:53.486Z"
   },
   {
    "duration": 36,
    "start_time": "2024-04-12T13:58:53.529Z"
   },
   {
    "duration": 6,
    "start_time": "2024-04-12T13:58:53.567Z"
   },
   {
    "duration": 75,
    "start_time": "2024-04-12T13:58:53.575Z"
   },
   {
    "duration": 53,
    "start_time": "2024-04-12T13:58:53.655Z"
   },
   {
    "duration": 32,
    "start_time": "2024-04-12T13:58:53.709Z"
   },
   {
    "duration": 40,
    "start_time": "2024-04-12T13:58:53.743Z"
   },
   {
    "duration": 51,
    "start_time": "2024-04-12T13:58:53.785Z"
   },
   {
    "duration": 19,
    "start_time": "2024-04-12T13:58:53.838Z"
   },
   {
    "duration": 19,
    "start_time": "2024-04-12T13:58:53.859Z"
   },
   {
    "duration": 47,
    "start_time": "2024-04-12T13:58:53.879Z"
   },
   {
    "duration": 63,
    "start_time": "2024-04-12T13:58:53.928Z"
   },
   {
    "duration": 38,
    "start_time": "2024-04-12T13:58:53.992Z"
   },
   {
    "duration": 47,
    "start_time": "2024-04-12T13:58:54.032Z"
   },
   {
    "duration": 46,
    "start_time": "2024-04-12T13:58:54.081Z"
   },
   {
    "duration": 39,
    "start_time": "2024-04-12T13:58:54.129Z"
   },
   {
    "duration": 67,
    "start_time": "2024-04-12T13:58:54.170Z"
   },
   {
    "duration": 102,
    "start_time": "2024-04-12T13:58:54.239Z"
   },
   {
    "duration": 78,
    "start_time": "2024-04-12T13:58:54.343Z"
   },
   {
    "duration": 60,
    "start_time": "2024-04-12T13:58:54.422Z"
   },
   {
    "duration": 75,
    "start_time": "2024-04-12T13:58:54.483Z"
   },
   {
    "duration": 16,
    "start_time": "2024-04-12T13:58:54.560Z"
   },
   {
    "duration": 29,
    "start_time": "2024-04-12T13:58:54.578Z"
   },
   {
    "duration": 54,
    "start_time": "2024-04-12T13:58:54.609Z"
   },
   {
    "duration": 17,
    "start_time": "2024-04-12T13:58:54.665Z"
   },
   {
    "duration": 147,
    "start_time": "2024-04-12T13:58:54.683Z"
   },
   {
    "duration": 5,
    "start_time": "2024-04-12T13:58:54.831Z"
   },
   {
    "duration": 21,
    "start_time": "2024-04-12T13:58:54.837Z"
   },
   {
    "duration": 43,
    "start_time": "2024-04-12T13:58:54.860Z"
   },
   {
    "duration": 13,
    "start_time": "2024-04-12T13:59:15.087Z"
   },
   {
    "duration": 9,
    "start_time": "2024-04-12T13:59:31.051Z"
   },
   {
    "duration": 31,
    "start_time": "2024-04-12T13:59:35.019Z"
   },
   {
    "duration": 836,
    "start_time": "2024-04-12T17:26:46.014Z"
   },
   {
    "duration": 276,
    "start_time": "2024-04-12T17:26:46.852Z"
   },
   {
    "duration": 32,
    "start_time": "2024-04-12T17:26:47.129Z"
   },
   {
    "duration": 14,
    "start_time": "2024-04-12T17:26:47.163Z"
   },
   {
    "duration": 40,
    "start_time": "2024-04-12T17:26:47.179Z"
   },
   {
    "duration": 23,
    "start_time": "2024-04-12T17:26:47.221Z"
   },
   {
    "duration": 33,
    "start_time": "2024-04-12T17:26:47.245Z"
   },
   {
    "duration": 5,
    "start_time": "2024-04-12T17:26:47.280Z"
   },
   {
    "duration": 30,
    "start_time": "2024-04-12T17:26:47.287Z"
   },
   {
    "duration": 26,
    "start_time": "2024-04-12T17:26:47.319Z"
   },
   {
    "duration": 39,
    "start_time": "2024-04-12T17:26:47.347Z"
   },
   {
    "duration": 14,
    "start_time": "2024-04-12T17:26:47.388Z"
   },
   {
    "duration": 29,
    "start_time": "2024-04-12T17:26:47.403Z"
   },
   {
    "duration": 12,
    "start_time": "2024-04-12T17:26:47.435Z"
   },
   {
    "duration": 4,
    "start_time": "2024-04-12T17:26:47.449Z"
   },
   {
    "duration": 11,
    "start_time": "2024-04-12T17:26:47.454Z"
   },
   {
    "duration": 11,
    "start_time": "2024-04-12T17:26:47.472Z"
   },
   {
    "duration": 32,
    "start_time": "2024-04-12T17:26:47.484Z"
   },
   {
    "duration": 10,
    "start_time": "2024-04-12T17:26:47.518Z"
   },
   {
    "duration": 30,
    "start_time": "2024-04-12T17:26:47.530Z"
   },
   {
    "duration": 26,
    "start_time": "2024-04-12T17:26:47.562Z"
   },
   {
    "duration": 11,
    "start_time": "2024-04-12T17:26:47.590Z"
   },
   {
    "duration": 13,
    "start_time": "2024-04-12T17:26:47.602Z"
   },
   {
    "duration": 18,
    "start_time": "2024-04-12T17:26:47.617Z"
   },
   {
    "duration": 40,
    "start_time": "2024-04-12T17:26:47.637Z"
   },
   {
    "duration": 19,
    "start_time": "2024-04-12T17:26:47.679Z"
   },
   {
    "duration": 4,
    "start_time": "2024-04-12T17:26:47.700Z"
   },
   {
    "duration": 10,
    "start_time": "2024-04-12T17:26:47.706Z"
   },
   {
    "duration": 8,
    "start_time": "2024-04-12T17:26:47.717Z"
   },
   {
    "duration": 47,
    "start_time": "2024-04-12T17:26:47.727Z"
   },
   {
    "duration": 13,
    "start_time": "2024-04-12T17:26:47.776Z"
   },
   {
    "duration": 60,
    "start_time": "2024-04-12T17:26:47.790Z"
   },
   {
    "duration": 14,
    "start_time": "2024-04-12T17:26:47.852Z"
   },
   {
    "duration": 5,
    "start_time": "2024-04-12T17:26:47.868Z"
   },
   {
    "duration": 173,
    "start_time": "2024-04-12T17:26:47.875Z"
   },
   {
    "duration": 6,
    "start_time": "2024-04-12T17:26:48.050Z"
   },
   {
    "duration": 17,
    "start_time": "2024-04-12T17:26:48.058Z"
   },
   {
    "duration": 63,
    "start_time": "2024-04-12T17:26:48.077Z"
   },
   {
    "duration": 4,
    "start_time": "2024-04-12T17:27:16.486Z"
   },
   {
    "duration": 25,
    "start_time": "2024-04-12T17:27:32.486Z"
   },
   {
    "duration": 23,
    "start_time": "2024-04-12T17:28:10.545Z"
   },
   {
    "duration": 6,
    "start_time": "2024-04-12T17:29:26.520Z"
   },
   {
    "duration": 3,
    "start_time": "2024-04-12T17:29:43.072Z"
   },
   {
    "duration": 286,
    "start_time": "2024-04-12T17:29:43.077Z"
   },
   {
    "duration": 28,
    "start_time": "2024-04-12T17:29:43.365Z"
   },
   {
    "duration": 18,
    "start_time": "2024-04-12T17:29:43.395Z"
   },
   {
    "duration": 60,
    "start_time": "2024-04-12T17:29:43.415Z"
   },
   {
    "duration": 25,
    "start_time": "2024-04-12T17:29:43.477Z"
   },
   {
    "duration": 16,
    "start_time": "2024-04-12T17:29:43.504Z"
   },
   {
    "duration": 5,
    "start_time": "2024-04-12T17:29:43.522Z"
   },
   {
    "duration": 47,
    "start_time": "2024-04-12T17:29:43.528Z"
   },
   {
    "duration": 27,
    "start_time": "2024-04-12T17:29:43.577Z"
   },
   {
    "duration": 22,
    "start_time": "2024-04-12T17:29:43.605Z"
   },
   {
    "duration": 6,
    "start_time": "2024-04-12T17:29:43.629Z"
   },
   {
    "duration": 44,
    "start_time": "2024-04-12T17:29:43.638Z"
   },
   {
    "duration": 13,
    "start_time": "2024-04-12T17:29:43.683Z"
   },
   {
    "duration": 4,
    "start_time": "2024-04-12T17:29:43.697Z"
   },
   {
    "duration": 6,
    "start_time": "2024-04-12T17:29:43.703Z"
   },
   {
    "duration": 14,
    "start_time": "2024-04-12T17:29:43.710Z"
   },
   {
    "duration": 48,
    "start_time": "2024-04-12T17:29:43.725Z"
   },
   {
    "duration": 11,
    "start_time": "2024-04-12T17:29:43.775Z"
   },
   {
    "duration": 20,
    "start_time": "2024-04-12T17:29:43.788Z"
   },
   {
    "duration": 6,
    "start_time": "2024-04-12T17:29:54.337Z"
   },
   {
    "duration": 7,
    "start_time": "2024-04-12T17:32:23.353Z"
   },
   {
    "duration": 929,
    "start_time": "2024-04-12T17:32:34.766Z"
   },
   {
    "duration": 8,
    "start_time": "2024-04-12T17:32:48.762Z"
   },
   {
    "duration": 5,
    "start_time": "2024-04-12T17:32:50.092Z"
   },
   {
    "duration": 9,
    "start_time": "2024-04-12T17:32:57.990Z"
   },
   {
    "duration": 9,
    "start_time": "2024-04-12T17:33:09.935Z"
   },
   {
    "duration": 9,
    "start_time": "2024-04-12T17:33:17.100Z"
   },
   {
    "duration": 74,
    "start_time": "2024-04-12T17:35:52.618Z"
   },
   {
    "duration": 55,
    "start_time": "2024-04-12T17:36:01.790Z"
   },
   {
    "duration": 15,
    "start_time": "2024-04-12T17:36:03.132Z"
   },
   {
    "duration": 3,
    "start_time": "2024-04-12T17:36:27.853Z"
   },
   {
    "duration": 3,
    "start_time": "2024-04-12T17:36:28.214Z"
   },
   {
    "duration": 9,
    "start_time": "2024-04-12T17:37:58.523Z"
   },
   {
    "duration": 9,
    "start_time": "2024-04-12T17:37:58.986Z"
   },
   {
    "duration": 20,
    "start_time": "2024-04-12T17:38:53.264Z"
   },
   {
    "duration": 17,
    "start_time": "2024-04-12T17:39:20.698Z"
   },
   {
    "duration": 8,
    "start_time": "2024-04-12T17:39:23.223Z"
   },
   {
    "duration": 17,
    "start_time": "2024-04-12T17:39:31.057Z"
   },
   {
    "duration": 10,
    "start_time": "2024-04-12T17:39:31.632Z"
   },
   {
    "duration": 18,
    "start_time": "2024-04-12T17:40:24.265Z"
   },
   {
    "duration": 24,
    "start_time": "2024-04-12T17:40:39.620Z"
   },
   {
    "duration": 23,
    "start_time": "2024-04-12T17:42:29.445Z"
   },
   {
    "duration": 3,
    "start_time": "2024-04-12T17:42:36.042Z"
   },
   {
    "duration": 276,
    "start_time": "2024-04-12T17:42:36.047Z"
   },
   {
    "duration": 27,
    "start_time": "2024-04-12T17:42:36.325Z"
   },
   {
    "duration": 14,
    "start_time": "2024-04-12T17:42:36.354Z"
   },
   {
    "duration": 45,
    "start_time": "2024-04-12T17:42:36.370Z"
   },
   {
    "duration": 22,
    "start_time": "2024-04-12T17:42:36.417Z"
   },
   {
    "duration": 15,
    "start_time": "2024-04-12T17:42:36.441Z"
   },
   {
    "duration": 20,
    "start_time": "2024-04-12T17:42:36.457Z"
   },
   {
    "duration": 21,
    "start_time": "2024-04-12T17:42:36.479Z"
   },
   {
    "duration": 26,
    "start_time": "2024-04-12T17:42:36.502Z"
   },
   {
    "duration": 47,
    "start_time": "2024-04-12T17:42:36.530Z"
   },
   {
    "duration": 6,
    "start_time": "2024-04-12T17:42:36.578Z"
   },
   {
    "duration": 21,
    "start_time": "2024-04-12T17:42:36.587Z"
   },
   {
    "duration": 17,
    "start_time": "2024-04-12T17:42:36.610Z"
   },
   {
    "duration": 5,
    "start_time": "2024-04-12T17:42:36.630Z"
   },
   {
    "duration": 37,
    "start_time": "2024-04-12T17:42:36.637Z"
   },
   {
    "duration": 16,
    "start_time": "2024-04-12T17:42:36.676Z"
   },
   {
    "duration": 32,
    "start_time": "2024-04-12T17:42:36.694Z"
   },
   {
    "duration": 10,
    "start_time": "2024-04-12T17:42:36.728Z"
   },
   {
    "duration": 33,
    "start_time": "2024-04-12T17:42:36.740Z"
   },
   {
    "duration": 30,
    "start_time": "2024-04-12T17:42:36.774Z"
   },
   {
    "duration": 23,
    "start_time": "2024-04-12T17:42:38.640Z"
   },
   {
    "duration": 8,
    "start_time": "2024-04-12T17:43:05.120Z"
   },
   {
    "duration": 31,
    "start_time": "2024-04-12T17:44:19.699Z"
   },
   {
    "duration": 4,
    "start_time": "2024-04-12T17:44:29.619Z"
   },
   {
    "duration": 23,
    "start_time": "2024-04-12T17:45:12.960Z"
   },
   {
    "duration": 24,
    "start_time": "2024-04-12T17:45:24.646Z"
   },
   {
    "duration": 28,
    "start_time": "2024-04-12T17:45:44.142Z"
   },
   {
    "duration": 3,
    "start_time": "2024-04-12T17:45:51.114Z"
   },
   {
    "duration": 416,
    "start_time": "2024-04-12T17:45:51.119Z"
   },
   {
    "duration": 28,
    "start_time": "2024-04-12T17:45:51.536Z"
   },
   {
    "duration": 17,
    "start_time": "2024-04-12T17:45:51.565Z"
   },
   {
    "duration": 61,
    "start_time": "2024-04-12T17:45:51.586Z"
   },
   {
    "duration": 25,
    "start_time": "2024-04-12T17:45:51.649Z"
   },
   {
    "duration": 15,
    "start_time": "2024-04-12T17:45:51.676Z"
   },
   {
    "duration": 6,
    "start_time": "2024-04-12T17:45:51.692Z"
   },
   {
    "duration": 22,
    "start_time": "2024-04-12T17:45:51.699Z"
   },
   {
    "duration": 53,
    "start_time": "2024-04-12T17:45:51.722Z"
   },
   {
    "duration": 26,
    "start_time": "2024-04-12T17:45:51.777Z"
   },
   {
    "duration": 32,
    "start_time": "2024-04-12T17:45:51.805Z"
   },
   {
    "duration": 61,
    "start_time": "2024-04-12T17:45:51.840Z"
   },
   {
    "duration": 34,
    "start_time": "2024-04-12T17:45:51.902Z"
   },
   {
    "duration": 31,
    "start_time": "2024-04-12T17:45:51.937Z"
   },
   {
    "duration": 39,
    "start_time": "2024-04-12T17:45:51.970Z"
   },
   {
    "duration": 53,
    "start_time": "2024-04-12T17:45:52.011Z"
   },
   {
    "duration": 72,
    "start_time": "2024-04-12T17:45:52.067Z"
   },
   {
    "duration": 55,
    "start_time": "2024-04-12T17:45:52.140Z"
   },
   {
    "duration": 67,
    "start_time": "2024-04-12T17:45:52.197Z"
   },
   {
    "duration": 33,
    "start_time": "2024-04-12T17:45:52.265Z"
   },
   {
    "duration": 63,
    "start_time": "2024-04-12T17:45:52.300Z"
   },
   {
    "duration": 24,
    "start_time": "2024-04-12T17:45:53.907Z"
   },
   {
    "duration": 15,
    "start_time": "2024-04-12T17:46:33.590Z"
   },
   {
    "duration": 4,
    "start_time": "2024-04-12T17:46:43.651Z"
   },
   {
    "duration": 3,
    "start_time": "2024-04-12T17:46:57.616Z"
   },
   {
    "duration": 327,
    "start_time": "2024-04-12T17:46:57.621Z"
   },
   {
    "duration": 27,
    "start_time": "2024-04-12T17:46:57.950Z"
   },
   {
    "duration": 15,
    "start_time": "2024-04-12T17:46:57.979Z"
   },
   {
    "duration": 39,
    "start_time": "2024-04-12T17:46:57.997Z"
   },
   {
    "duration": 50,
    "start_time": "2024-04-12T17:46:58.037Z"
   },
   {
    "duration": 13,
    "start_time": "2024-04-12T17:46:58.089Z"
   },
   {
    "duration": 6,
    "start_time": "2024-04-12T17:46:58.104Z"
   },
   {
    "duration": 30,
    "start_time": "2024-04-12T17:46:58.112Z"
   },
   {
    "duration": 48,
    "start_time": "2024-04-12T17:46:58.144Z"
   },
   {
    "duration": 22,
    "start_time": "2024-04-12T17:46:58.194Z"
   },
   {
    "duration": 5,
    "start_time": "2024-04-12T17:46:58.218Z"
   },
   {
    "duration": 16,
    "start_time": "2024-04-12T17:46:58.226Z"
   },
   {
    "duration": 35,
    "start_time": "2024-04-12T17:46:58.243Z"
   },
   {
    "duration": 4,
    "start_time": "2024-04-12T17:46:58.281Z"
   },
   {
    "duration": 7,
    "start_time": "2024-04-12T17:46:58.287Z"
   },
   {
    "duration": 11,
    "start_time": "2024-04-12T17:46:58.295Z"
   },
   {
    "duration": 19,
    "start_time": "2024-04-12T17:46:58.308Z"
   },
   {
    "duration": 47,
    "start_time": "2024-04-12T17:46:58.328Z"
   },
   {
    "duration": 9,
    "start_time": "2024-04-12T17:46:58.377Z"
   },
   {
    "duration": 6,
    "start_time": "2024-04-12T17:46:58.388Z"
   },
   {
    "duration": 31,
    "start_time": "2024-04-12T17:46:58.395Z"
   },
   {
    "duration": 45,
    "start_time": "2024-04-12T17:46:58.428Z"
   },
   {
    "duration": 5,
    "start_time": "2024-04-12T17:46:59.850Z"
   },
   {
    "duration": 15,
    "start_time": "2024-04-12T17:47:03.532Z"
   },
   {
    "duration": 4,
    "start_time": "2024-04-12T17:47:05.565Z"
   },
   {
    "duration": 19,
    "start_time": "2024-04-12T17:49:12.177Z"
   },
   {
    "duration": 4,
    "start_time": "2024-04-12T17:49:30.341Z"
   },
   {
    "duration": 15,
    "start_time": "2024-04-12T17:51:11.301Z"
   },
   {
    "duration": 13,
    "start_time": "2024-04-12T17:51:26.798Z"
   },
   {
    "duration": 10,
    "start_time": "2024-04-12T17:51:37.839Z"
   },
   {
    "duration": 8,
    "start_time": "2024-04-12T17:52:25.200Z"
   },
   {
    "duration": 2492,
    "start_time": "2024-04-12T17:52:26.274Z"
   },
   {
    "duration": 5,
    "start_time": "2024-04-12T17:52:51.240Z"
   },
   {
    "duration": 26,
    "start_time": "2024-04-12T17:52:51.909Z"
   },
   {
    "duration": 4,
    "start_time": "2024-04-12T17:53:03.499Z"
   },
   {
    "duration": 5,
    "start_time": "2024-04-12T17:53:11.283Z"
   },
   {
    "duration": 3,
    "start_time": "2024-04-12T17:55:19.547Z"
   },
   {
    "duration": 439,
    "start_time": "2024-04-12T17:55:19.553Z"
   },
   {
    "duration": 29,
    "start_time": "2024-04-12T17:55:19.994Z"
   },
   {
    "duration": 16,
    "start_time": "2024-04-12T17:55:20.025Z"
   },
   {
    "duration": 62,
    "start_time": "2024-04-12T17:55:20.043Z"
   },
   {
    "duration": 26,
    "start_time": "2024-04-12T17:55:20.107Z"
   },
   {
    "duration": 29,
    "start_time": "2024-04-12T17:55:20.135Z"
   },
   {
    "duration": 9,
    "start_time": "2024-04-12T17:55:20.165Z"
   },
   {
    "duration": 26,
    "start_time": "2024-04-12T17:55:20.175Z"
   },
   {
    "duration": 28,
    "start_time": "2024-04-12T17:55:20.202Z"
   },
   {
    "duration": 49,
    "start_time": "2024-04-12T17:55:20.231Z"
   },
   {
    "duration": 5,
    "start_time": "2024-04-12T17:55:20.282Z"
   },
   {
    "duration": 20,
    "start_time": "2024-04-12T17:55:20.290Z"
   },
   {
    "duration": 13,
    "start_time": "2024-04-12T17:55:20.311Z"
   },
   {
    "duration": 4,
    "start_time": "2024-04-12T17:55:20.326Z"
   },
   {
    "duration": 42,
    "start_time": "2024-04-12T17:55:20.331Z"
   },
   {
    "duration": 11,
    "start_time": "2024-04-12T17:55:20.375Z"
   },
   {
    "duration": 37,
    "start_time": "2024-04-12T17:55:20.388Z"
   },
   {
    "duration": 11,
    "start_time": "2024-04-12T17:55:20.427Z"
   },
   {
    "duration": 33,
    "start_time": "2024-04-12T17:55:20.440Z"
   },
   {
    "duration": 7,
    "start_time": "2024-04-12T17:55:20.475Z"
   },
   {
    "duration": 25,
    "start_time": "2024-04-12T17:55:20.484Z"
   },
   {
    "duration": 24,
    "start_time": "2024-04-12T17:55:20.511Z"
   },
   {
    "duration": 40,
    "start_time": "2024-04-12T17:55:20.536Z"
   },
   {
    "duration": 21,
    "start_time": "2024-04-12T17:55:20.578Z"
   },
   {
    "duration": 11,
    "start_time": "2024-04-12T17:55:20.601Z"
   },
   {
    "duration": 15,
    "start_time": "2024-04-12T17:55:20.614Z"
   },
   {
    "duration": 49,
    "start_time": "2024-04-12T17:55:20.631Z"
   },
   {
    "duration": 35,
    "start_time": "2024-04-12T17:55:20.682Z"
   },
   {
    "duration": 24,
    "start_time": "2024-04-12T17:55:20.719Z"
   },
   {
    "duration": 22,
    "start_time": "2024-04-12T17:55:20.745Z"
   },
   {
    "duration": 1251,
    "start_time": "2024-04-12T17:55:20.769Z"
   },
   {
    "duration": 0,
    "start_time": "2024-04-12T17:55:22.022Z"
   },
   {
    "duration": 0,
    "start_time": "2024-04-12T17:55:22.023Z"
   },
   {
    "duration": 0,
    "start_time": "2024-04-12T17:55:22.024Z"
   },
   {
    "duration": 0,
    "start_time": "2024-04-12T17:55:22.025Z"
   },
   {
    "duration": 0,
    "start_time": "2024-04-12T17:55:22.026Z"
   },
   {
    "duration": 0,
    "start_time": "2024-04-12T17:55:22.028Z"
   },
   {
    "duration": 0,
    "start_time": "2024-04-12T17:55:22.029Z"
   },
   {
    "duration": 0,
    "start_time": "2024-04-12T17:55:22.030Z"
   },
   {
    "duration": 0,
    "start_time": "2024-04-12T17:55:22.030Z"
   },
   {
    "duration": 0,
    "start_time": "2024-04-12T17:55:22.032Z"
   },
   {
    "duration": 0,
    "start_time": "2024-04-12T17:55:22.032Z"
   },
   {
    "duration": 3,
    "start_time": "2024-04-12T17:55:36.330Z"
   },
   {
    "duration": 433,
    "start_time": "2024-04-12T17:55:36.335Z"
   },
   {
    "duration": 27,
    "start_time": "2024-04-12T17:55:36.769Z"
   },
   {
    "duration": 15,
    "start_time": "2024-04-12T17:55:36.797Z"
   },
   {
    "duration": 59,
    "start_time": "2024-04-12T17:55:36.814Z"
   },
   {
    "duration": 23,
    "start_time": "2024-04-12T17:55:36.875Z"
   },
   {
    "duration": 13,
    "start_time": "2024-04-12T17:55:36.899Z"
   },
   {
    "duration": 23,
    "start_time": "2024-04-12T17:55:36.913Z"
   },
   {
    "duration": 20,
    "start_time": "2024-04-12T17:55:36.937Z"
   },
   {
    "duration": 30,
    "start_time": "2024-04-12T17:55:36.974Z"
   },
   {
    "duration": 34,
    "start_time": "2024-04-12T17:55:37.007Z"
   },
   {
    "duration": 30,
    "start_time": "2024-04-12T17:55:37.044Z"
   },
   {
    "duration": 43,
    "start_time": "2024-04-12T17:55:37.078Z"
   },
   {
    "duration": 39,
    "start_time": "2024-04-12T17:55:37.122Z"
   },
   {
    "duration": 27,
    "start_time": "2024-04-12T17:55:37.163Z"
   },
   {
    "duration": 27,
    "start_time": "2024-04-12T17:55:37.192Z"
   },
   {
    "duration": 25,
    "start_time": "2024-04-12T17:55:37.221Z"
   },
   {
    "duration": 26,
    "start_time": "2024-04-12T17:55:37.248Z"
   },
   {
    "duration": 11,
    "start_time": "2024-04-12T17:55:37.276Z"
   },
   {
    "duration": 28,
    "start_time": "2024-04-12T17:55:37.289Z"
   },
   {
    "duration": 34,
    "start_time": "2024-04-12T17:55:37.318Z"
   },
   {
    "duration": 39,
    "start_time": "2024-04-12T17:55:37.353Z"
   },
   {
    "duration": 23,
    "start_time": "2024-04-12T17:55:37.394Z"
   },
   {
    "duration": 17,
    "start_time": "2024-04-12T17:55:37.418Z"
   },
   {
    "duration": 51,
    "start_time": "2024-04-12T17:55:37.437Z"
   },
   {
    "duration": 19,
    "start_time": "2024-04-12T17:55:37.490Z"
   },
   {
    "duration": 26,
    "start_time": "2024-04-12T17:55:37.511Z"
   },
   {
    "duration": 51,
    "start_time": "2024-04-12T17:55:37.539Z"
   },
   {
    "duration": 26,
    "start_time": "2024-04-12T17:55:37.591Z"
   },
   {
    "duration": 33,
    "start_time": "2024-04-12T17:55:37.618Z"
   },
   {
    "duration": 12,
    "start_time": "2024-04-12T17:55:37.653Z"
   },
   {
    "duration": 87,
    "start_time": "2024-04-12T17:55:37.668Z"
   },
   {
    "duration": 20,
    "start_time": "2024-04-12T17:55:37.757Z"
   },
   {
    "duration": 0,
    "start_time": "2024-04-12T17:55:37.779Z"
   },
   {
    "duration": 0,
    "start_time": "2024-04-12T17:55:37.781Z"
   },
   {
    "duration": 0,
    "start_time": "2024-04-12T17:55:37.783Z"
   },
   {
    "duration": 0,
    "start_time": "2024-04-12T17:55:37.784Z"
   },
   {
    "duration": 1,
    "start_time": "2024-04-12T17:55:37.786Z"
   },
   {
    "duration": 0,
    "start_time": "2024-04-12T17:55:37.787Z"
   },
   {
    "duration": 0,
    "start_time": "2024-04-12T17:55:37.789Z"
   },
   {
    "duration": 0,
    "start_time": "2024-04-12T17:55:37.790Z"
   },
   {
    "duration": 0,
    "start_time": "2024-04-12T17:55:37.792Z"
   },
   {
    "duration": 0,
    "start_time": "2024-04-12T17:55:37.793Z"
   },
   {
    "duration": 13,
    "start_time": "2024-04-12T17:56:23.610Z"
   },
   {
    "duration": 3,
    "start_time": "2024-04-12T17:56:37.321Z"
   },
   {
    "duration": 231,
    "start_time": "2024-04-12T17:56:37.326Z"
   },
   {
    "duration": 27,
    "start_time": "2024-04-12T17:56:37.559Z"
   },
   {
    "duration": 13,
    "start_time": "2024-04-12T17:56:37.588Z"
   },
   {
    "duration": 40,
    "start_time": "2024-04-12T17:56:37.603Z"
   },
   {
    "duration": 35,
    "start_time": "2024-04-12T17:56:37.646Z"
   },
   {
    "duration": 13,
    "start_time": "2024-04-12T17:56:37.683Z"
   },
   {
    "duration": 7,
    "start_time": "2024-04-12T17:56:37.698Z"
   },
   {
    "duration": 28,
    "start_time": "2024-04-12T17:56:37.707Z"
   },
   {
    "duration": 52,
    "start_time": "2024-04-12T17:56:37.737Z"
   },
   {
    "duration": 24,
    "start_time": "2024-04-12T17:56:37.791Z"
   },
   {
    "duration": 7,
    "start_time": "2024-04-12T17:56:37.816Z"
   },
   {
    "duration": 24,
    "start_time": "2024-04-12T17:56:37.824Z"
   },
   {
    "duration": 14,
    "start_time": "2024-04-12T17:56:37.872Z"
   },
   {
    "duration": 5,
    "start_time": "2024-04-12T17:56:37.888Z"
   },
   {
    "duration": 10,
    "start_time": "2024-04-12T17:56:37.894Z"
   },
   {
    "duration": 33,
    "start_time": "2024-04-12T17:56:37.905Z"
   },
   {
    "duration": 25,
    "start_time": "2024-04-12T17:56:37.940Z"
   },
   {
    "duration": 17,
    "start_time": "2024-04-12T17:56:37.967Z"
   },
   {
    "duration": 17,
    "start_time": "2024-04-12T17:56:37.986Z"
   },
   {
    "duration": 11,
    "start_time": "2024-04-12T17:56:38.004Z"
   },
   {
    "duration": 33,
    "start_time": "2024-04-12T17:56:38.016Z"
   },
   {
    "duration": 30,
    "start_time": "2024-04-12T17:56:38.050Z"
   },
   {
    "duration": 14,
    "start_time": "2024-04-12T17:56:38.081Z"
   },
   {
    "duration": 21,
    "start_time": "2024-04-12T17:56:38.096Z"
   },
   {
    "duration": 11,
    "start_time": "2024-04-12T17:56:38.119Z"
   },
   {
    "duration": 7,
    "start_time": "2024-04-12T17:56:38.131Z"
   },
   {
    "duration": 55,
    "start_time": "2024-04-12T17:56:38.139Z"
   },
   {
    "duration": 11,
    "start_time": "2024-04-12T17:56:38.195Z"
   },
   {
    "duration": 11,
    "start_time": "2024-04-12T17:56:38.207Z"
   },
   {
    "duration": 7,
    "start_time": "2024-04-12T17:56:38.219Z"
   },
   {
    "duration": 56,
    "start_time": "2024-04-12T17:56:38.228Z"
   },
   {
    "duration": 13,
    "start_time": "2024-04-12T17:56:38.286Z"
   },
   {
    "duration": 9,
    "start_time": "2024-04-12T17:56:38.300Z"
   },
   {
    "duration": 17,
    "start_time": "2024-04-12T17:56:38.310Z"
   },
   {
    "duration": 20,
    "start_time": "2024-04-12T17:56:38.329Z"
   },
   {
    "duration": 34,
    "start_time": "2024-04-12T17:56:38.351Z"
   },
   {
    "duration": 26,
    "start_time": "2024-04-12T17:56:38.388Z"
   },
   {
    "duration": 6,
    "start_time": "2024-04-12T17:56:38.415Z"
   },
   {
    "duration": 157,
    "start_time": "2024-04-12T17:56:38.423Z"
   },
   {
    "duration": 5,
    "start_time": "2024-04-12T17:56:38.583Z"
   },
   {
    "duration": 7,
    "start_time": "2024-04-12T17:56:38.590Z"
   },
   {
    "duration": 36,
    "start_time": "2024-04-12T17:56:38.599Z"
   },
   {
    "duration": 9,
    "start_time": "2024-04-12T18:00:38.800Z"
   },
   {
    "duration": 19,
    "start_time": "2024-04-12T18:01:06.668Z"
   },
   {
    "duration": 21,
    "start_time": "2024-04-12T18:01:18.246Z"
   },
   {
    "duration": 19,
    "start_time": "2024-04-12T18:01:22.463Z"
   },
   {
    "duration": 14,
    "start_time": "2024-04-12T18:01:47.157Z"
   },
   {
    "duration": 15,
    "start_time": "2024-04-12T18:02:11.435Z"
   },
   {
    "duration": 7,
    "start_time": "2024-04-12T18:02:23.292Z"
   },
   {
    "duration": 15,
    "start_time": "2024-04-12T18:02:32.885Z"
   },
   {
    "duration": 8,
    "start_time": "2024-04-12T18:02:40.843Z"
   },
   {
    "duration": 3,
    "start_time": "2024-04-12T18:03:00.828Z"
   },
   {
    "duration": 345,
    "start_time": "2024-04-12T18:03:00.833Z"
   },
   {
    "duration": 30,
    "start_time": "2024-04-12T18:03:01.180Z"
   },
   {
    "duration": 62,
    "start_time": "2024-04-12T18:03:01.212Z"
   },
   {
    "duration": 74,
    "start_time": "2024-04-12T18:03:01.276Z"
   },
   {
    "duration": 66,
    "start_time": "2024-04-12T18:03:01.352Z"
   },
   {
    "duration": 123,
    "start_time": "2024-04-12T18:03:01.420Z"
   },
   {
    "duration": 116,
    "start_time": "2024-04-12T18:03:01.545Z"
   },
   {
    "duration": 64,
    "start_time": "2024-04-12T18:03:01.662Z"
   },
   {
    "duration": 188,
    "start_time": "2024-04-12T18:03:01.727Z"
   },
   {
    "duration": 47,
    "start_time": "2024-04-12T18:03:01.917Z"
   },
   {
    "duration": 29,
    "start_time": "2024-04-12T18:03:01.965Z"
   },
   {
    "duration": 56,
    "start_time": "2024-04-12T18:03:01.997Z"
   },
   {
    "duration": 48,
    "start_time": "2024-04-12T18:03:02.055Z"
   },
   {
    "duration": 62,
    "start_time": "2024-04-12T18:03:02.104Z"
   },
   {
    "duration": 31,
    "start_time": "2024-04-12T18:03:02.168Z"
   },
   {
    "duration": 54,
    "start_time": "2024-04-12T18:03:02.201Z"
   },
   {
    "duration": 35,
    "start_time": "2024-04-12T18:03:02.257Z"
   },
   {
    "duration": 10,
    "start_time": "2024-04-12T18:03:02.294Z"
   },
   {
    "duration": 33,
    "start_time": "2024-04-12T18:03:02.305Z"
   },
   {
    "duration": 9,
    "start_time": "2024-04-12T18:03:02.340Z"
   },
   {
    "duration": 26,
    "start_time": "2024-04-12T18:03:02.350Z"
   },
   {
    "duration": 23,
    "start_time": "2024-04-12T18:03:02.378Z"
   },
   {
    "duration": 12,
    "start_time": "2024-04-12T18:03:02.403Z"
   },
   {
    "duration": 53,
    "start_time": "2024-04-12T18:03:02.417Z"
   },
   {
    "duration": 11,
    "start_time": "2024-04-12T18:03:02.472Z"
   },
   {
    "duration": 27,
    "start_time": "2024-04-12T18:03:02.484Z"
   },
   {
    "duration": 56,
    "start_time": "2024-04-12T18:03:02.512Z"
   },
   {
    "duration": 26,
    "start_time": "2024-04-12T18:03:02.570Z"
   },
   {
    "duration": 18,
    "start_time": "2024-04-12T18:03:02.598Z"
   },
   {
    "duration": 19,
    "start_time": "2024-04-12T18:03:02.617Z"
   },
   {
    "duration": 77,
    "start_time": "2024-04-12T18:03:02.637Z"
   },
   {
    "duration": 14,
    "start_time": "2024-04-12T18:03:02.716Z"
   },
   {
    "duration": 19,
    "start_time": "2024-04-12T18:03:02.732Z"
   },
   {
    "duration": 51,
    "start_time": "2024-04-12T18:03:02.753Z"
   },
   {
    "duration": 29,
    "start_time": "2024-04-12T18:03:02.806Z"
   },
   {
    "duration": 25,
    "start_time": "2024-04-12T18:03:02.838Z"
   },
   {
    "duration": 166,
    "start_time": "2024-04-12T18:03:02.865Z"
   },
   {
    "duration": 5,
    "start_time": "2024-04-12T18:03:03.033Z"
   },
   {
    "duration": 26,
    "start_time": "2024-04-12T18:03:03.039Z"
   },
   {
    "duration": 48,
    "start_time": "2024-04-12T18:03:03.067Z"
   },
   {
    "duration": 15,
    "start_time": "2024-04-12T18:03:41.028Z"
   },
   {
    "duration": 25,
    "start_time": "2024-04-12T18:03:44.013Z"
   },
   {
    "duration": 19,
    "start_time": "2024-04-12T18:03:48.023Z"
   },
   {
    "duration": 15,
    "start_time": "2024-04-12T18:03:53.303Z"
   },
   {
    "duration": 18,
    "start_time": "2024-04-12T18:08:01.348Z"
   },
   {
    "duration": 3,
    "start_time": "2024-04-12T18:08:05.247Z"
   },
   {
    "duration": 273,
    "start_time": "2024-04-12T18:08:05.252Z"
   },
   {
    "duration": 27,
    "start_time": "2024-04-12T18:08:05.526Z"
   },
   {
    "duration": 15,
    "start_time": "2024-04-12T18:08:05.554Z"
   },
   {
    "duration": 47,
    "start_time": "2024-04-12T18:08:05.570Z"
   },
   {
    "duration": 78,
    "start_time": "2024-04-12T18:08:05.618Z"
   },
   {
    "duration": 12,
    "start_time": "2024-04-12T18:08:05.698Z"
   },
   {
    "duration": 13,
    "start_time": "2024-04-12T18:08:05.711Z"
   },
   {
    "duration": 31,
    "start_time": "2024-04-12T18:08:05.726Z"
   },
   {
    "duration": 34,
    "start_time": "2024-04-12T18:08:05.759Z"
   },
   {
    "duration": 22,
    "start_time": "2024-04-12T18:08:05.795Z"
   },
   {
    "duration": 5,
    "start_time": "2024-04-12T18:08:05.818Z"
   },
   {
    "duration": 19,
    "start_time": "2024-04-12T18:08:05.825Z"
   },
   {
    "duration": 32,
    "start_time": "2024-04-12T18:08:05.846Z"
   },
   {
    "duration": 4,
    "start_time": "2024-04-12T18:08:05.880Z"
   },
   {
    "duration": 7,
    "start_time": "2024-04-12T18:08:05.886Z"
   },
   {
    "duration": 13,
    "start_time": "2024-04-12T18:08:05.894Z"
   },
   {
    "duration": 29,
    "start_time": "2024-04-12T18:08:05.909Z"
   },
   {
    "duration": 35,
    "start_time": "2024-04-12T18:08:05.939Z"
   },
   {
    "duration": 9,
    "start_time": "2024-04-12T18:08:05.976Z"
   },
   {
    "duration": 6,
    "start_time": "2024-04-12T18:08:05.987Z"
   },
   {
    "duration": 23,
    "start_time": "2024-04-12T18:08:05.995Z"
   },
   {
    "duration": 27,
    "start_time": "2024-04-12T18:08:06.020Z"
   },
   {
    "duration": 35,
    "start_time": "2024-04-12T18:08:06.051Z"
   },
   {
    "duration": 26,
    "start_time": "2024-04-12T18:08:06.088Z"
   },
   {
    "duration": 32,
    "start_time": "2024-04-12T18:08:06.116Z"
   },
   {
    "duration": 6,
    "start_time": "2024-04-12T18:08:06.150Z"
   },
   {
    "duration": 33,
    "start_time": "2024-04-12T18:08:06.158Z"
   },
   {
    "duration": 21,
    "start_time": "2024-04-12T18:08:06.193Z"
   },
   {
    "duration": 28,
    "start_time": "2024-04-12T18:08:06.216Z"
   },
   {
    "duration": 4,
    "start_time": "2024-04-12T18:08:06.246Z"
   },
   {
    "duration": 48,
    "start_time": "2024-04-12T18:08:06.252Z"
   },
   {
    "duration": 14,
    "start_time": "2024-04-12T18:08:06.302Z"
   },
   {
    "duration": 33,
    "start_time": "2024-04-12T18:08:06.318Z"
   },
   {
    "duration": 28,
    "start_time": "2024-04-12T18:08:06.353Z"
   },
   {
    "duration": 1303,
    "start_time": "2024-04-12T18:08:06.383Z"
   },
   {
    "duration": 0,
    "start_time": "2024-04-12T18:08:07.687Z"
   },
   {
    "duration": 0,
    "start_time": "2024-04-12T18:08:07.689Z"
   },
   {
    "duration": 0,
    "start_time": "2024-04-12T18:08:07.690Z"
   },
   {
    "duration": 0,
    "start_time": "2024-04-12T18:08:07.691Z"
   },
   {
    "duration": 0,
    "start_time": "2024-04-12T18:08:07.692Z"
   },
   {
    "duration": 13,
    "start_time": "2024-04-12T18:08:45.946Z"
   },
   {
    "duration": 84,
    "start_time": "2024-04-12T18:10:14.918Z"
   },
   {
    "duration": 6,
    "start_time": "2024-04-12T18:10:23.076Z"
   },
   {
    "duration": 132,
    "start_time": "2024-04-12T18:14:51.432Z"
   },
   {
    "duration": 148,
    "start_time": "2024-04-12T18:16:41.061Z"
   },
   {
    "duration": 5,
    "start_time": "2024-04-12T18:16:58.550Z"
   },
   {
    "duration": 5,
    "start_time": "2024-04-12T18:17:41.904Z"
   },
   {
    "duration": 5,
    "start_time": "2024-04-12T18:20:39.806Z"
   },
   {
    "duration": 6,
    "start_time": "2024-04-12T18:20:44.371Z"
   },
   {
    "duration": 4,
    "start_time": "2024-04-12T18:21:04.020Z"
   },
   {
    "duration": 5,
    "start_time": "2024-04-12T18:21:08.483Z"
   },
   {
    "duration": 5,
    "start_time": "2024-04-12T18:21:36.024Z"
   },
   {
    "duration": 106,
    "start_time": "2024-04-12T18:21:44.201Z"
   },
   {
    "duration": 5,
    "start_time": "2024-04-12T18:21:47.740Z"
   },
   {
    "duration": 5,
    "start_time": "2024-04-12T18:22:01.661Z"
   },
   {
    "duration": 6,
    "start_time": "2024-04-12T18:23:22.482Z"
   },
   {
    "duration": 5,
    "start_time": "2024-04-12T18:24:30.646Z"
   },
   {
    "duration": 5,
    "start_time": "2024-04-12T18:25:44.060Z"
   },
   {
    "duration": 4,
    "start_time": "2024-04-12T19:37:06.019Z"
   },
   {
    "duration": 25,
    "start_time": "2024-04-12T19:37:15.071Z"
   },
   {
    "duration": 5,
    "start_time": "2024-04-12T19:39:13.231Z"
   },
   {
    "duration": 5,
    "start_time": "2024-04-12T19:41:20.340Z"
   },
   {
    "duration": 22,
    "start_time": "2024-04-12T19:41:22.371Z"
   },
   {
    "duration": 5,
    "start_time": "2024-04-12T19:42:13.623Z"
   },
   {
    "duration": 24,
    "start_time": "2024-04-12T19:42:14.498Z"
   },
   {
    "duration": 47,
    "start_time": "2024-04-13T07:26:40.367Z"
   },
   {
    "duration": 818,
    "start_time": "2024-04-13T07:26:49.603Z"
   },
   {
    "duration": 305,
    "start_time": "2024-04-13T07:26:50.423Z"
   },
   {
    "duration": 29,
    "start_time": "2024-04-13T07:26:50.729Z"
   },
   {
    "duration": 35,
    "start_time": "2024-04-13T07:26:50.759Z"
   },
   {
    "duration": 53,
    "start_time": "2024-04-13T07:26:50.797Z"
   },
   {
    "duration": 21,
    "start_time": "2024-04-13T07:26:50.852Z"
   },
   {
    "duration": 54,
    "start_time": "2024-04-13T07:26:50.875Z"
   },
   {
    "duration": 23,
    "start_time": "2024-04-13T07:26:50.931Z"
   },
   {
    "duration": 45,
    "start_time": "2024-04-13T07:26:50.956Z"
   },
   {
    "duration": 44,
    "start_time": "2024-04-13T07:26:51.003Z"
   },
   {
    "duration": 48,
    "start_time": "2024-04-13T07:26:51.049Z"
   },
   {
    "duration": 12,
    "start_time": "2024-04-13T07:26:51.099Z"
   },
   {
    "duration": 65,
    "start_time": "2024-04-13T07:26:51.113Z"
   },
   {
    "duration": 44,
    "start_time": "2024-04-13T07:26:51.181Z"
   },
   {
    "duration": 7,
    "start_time": "2024-04-13T07:26:51.227Z"
   },
   {
    "duration": 45,
    "start_time": "2024-04-13T07:26:51.235Z"
   },
   {
    "duration": 40,
    "start_time": "2024-04-13T07:26:51.282Z"
   },
   {
    "duration": 38,
    "start_time": "2024-04-13T07:26:51.324Z"
   },
   {
    "duration": 22,
    "start_time": "2024-04-13T07:26:51.363Z"
   },
   {
    "duration": 30,
    "start_time": "2024-04-13T07:26:51.386Z"
   },
   {
    "duration": 40,
    "start_time": "2024-04-13T07:26:51.417Z"
   },
   {
    "duration": 51,
    "start_time": "2024-04-13T07:26:51.458Z"
   },
   {
    "duration": 45,
    "start_time": "2024-04-13T07:26:51.511Z"
   },
   {
    "duration": 46,
    "start_time": "2024-04-13T07:26:51.558Z"
   },
   {
    "duration": 47,
    "start_time": "2024-04-13T07:26:51.606Z"
   },
   {
    "duration": 12,
    "start_time": "2024-04-13T07:26:51.655Z"
   },
   {
    "duration": 22,
    "start_time": "2024-04-13T07:26:51.669Z"
   },
   {
    "duration": 57,
    "start_time": "2024-04-13T07:26:51.693Z"
   },
   {
    "duration": 8,
    "start_time": "2024-04-13T07:26:51.751Z"
   },
   {
    "duration": 32,
    "start_time": "2024-04-13T07:26:51.761Z"
   },
   {
    "duration": 42,
    "start_time": "2024-04-13T07:26:51.794Z"
   },
   {
    "duration": 89,
    "start_time": "2024-04-13T07:26:51.838Z"
   },
   {
    "duration": 12,
    "start_time": "2024-04-13T07:26:51.929Z"
   },
   {
    "duration": 31,
    "start_time": "2024-04-13T07:26:51.942Z"
   },
   {
    "duration": 39,
    "start_time": "2024-04-13T07:26:51.975Z"
   },
   {
    "duration": 44,
    "start_time": "2024-04-13T07:26:53.585Z"
   },
   {
    "duration": 13,
    "start_time": "2024-04-13T07:27:12.181Z"
   },
   {
    "duration": 14,
    "start_time": "2024-04-13T07:27:17.862Z"
   },
   {
    "duration": 28,
    "start_time": "2024-04-13T07:27:38.352Z"
   },
   {
    "duration": 27,
    "start_time": "2024-04-13T07:29:51.007Z"
   },
   {
    "duration": 13,
    "start_time": "2024-04-13T07:29:55.272Z"
   },
   {
    "duration": 13,
    "start_time": "2024-04-13T07:30:03.132Z"
   },
   {
    "duration": 2,
    "start_time": "2024-04-13T07:30:53.062Z"
   },
   {
    "duration": 238,
    "start_time": "2024-04-13T07:30:53.066Z"
   },
   {
    "duration": 23,
    "start_time": "2024-04-13T07:30:53.305Z"
   },
   {
    "duration": 13,
    "start_time": "2024-04-13T07:30:53.330Z"
   },
   {
    "duration": 35,
    "start_time": "2024-04-13T07:30:53.344Z"
   },
   {
    "duration": 20,
    "start_time": "2024-04-13T07:30:53.381Z"
   },
   {
    "duration": 11,
    "start_time": "2024-04-13T07:30:53.402Z"
   },
   {
    "duration": 18,
    "start_time": "2024-04-13T07:30:53.415Z"
   },
   {
    "duration": 29,
    "start_time": "2024-04-13T07:30:53.434Z"
   },
   {
    "duration": 35,
    "start_time": "2024-04-13T07:30:53.464Z"
   },
   {
    "duration": 21,
    "start_time": "2024-04-13T07:30:53.501Z"
   },
   {
    "duration": 5,
    "start_time": "2024-04-13T07:30:53.524Z"
   },
   {
    "duration": 34,
    "start_time": "2024-04-13T07:30:53.532Z"
   },
   {
    "duration": 39,
    "start_time": "2024-04-13T07:30:53.567Z"
   },
   {
    "duration": 4,
    "start_time": "2024-04-13T07:30:53.608Z"
   },
   {
    "duration": 12,
    "start_time": "2024-04-13T07:30:53.613Z"
   },
   {
    "duration": 18,
    "start_time": "2024-04-13T07:30:53.626Z"
   },
   {
    "duration": 18,
    "start_time": "2024-04-13T07:30:53.646Z"
   },
   {
    "duration": 9,
    "start_time": "2024-04-13T07:30:53.666Z"
   },
   {
    "duration": 11,
    "start_time": "2024-04-13T07:30:53.677Z"
   },
   {
    "duration": 13,
    "start_time": "2024-04-13T07:30:53.689Z"
   },
   {
    "duration": 30,
    "start_time": "2024-04-13T07:30:53.704Z"
   },
   {
    "duration": 30,
    "start_time": "2024-04-13T07:30:53.736Z"
   },
   {
    "duration": 12,
    "start_time": "2024-04-13T07:30:53.768Z"
   },
   {
    "duration": 18,
    "start_time": "2024-04-13T07:30:53.782Z"
   },
   {
    "duration": 9,
    "start_time": "2024-04-13T07:30:53.802Z"
   },
   {
    "duration": 15,
    "start_time": "2024-04-13T07:30:53.813Z"
   },
   {
    "duration": 42,
    "start_time": "2024-04-13T07:30:53.830Z"
   },
   {
    "duration": 3,
    "start_time": "2024-04-13T07:30:53.874Z"
   },
   {
    "duration": 12,
    "start_time": "2024-04-13T07:30:53.878Z"
   },
   {
    "duration": 8,
    "start_time": "2024-04-13T07:30:53.891Z"
   },
   {
    "duration": 54,
    "start_time": "2024-04-13T07:30:53.900Z"
   },
   {
    "duration": 10,
    "start_time": "2024-04-13T07:30:53.956Z"
   },
   {
    "duration": 13,
    "start_time": "2024-04-13T07:30:53.968Z"
   },
   {
    "duration": 16,
    "start_time": "2024-04-13T07:30:53.983Z"
   },
   {
    "duration": 32,
    "start_time": "2024-04-13T07:30:54.000Z"
   },
   {
    "duration": 15,
    "start_time": "2024-04-13T07:30:57.355Z"
   },
   {
    "duration": 15,
    "start_time": "2024-04-13T07:31:04.913Z"
   },
   {
    "duration": 5,
    "start_time": "2024-04-13T07:31:52.091Z"
   },
   {
    "duration": 149,
    "start_time": "2024-04-13T07:32:11.531Z"
   },
   {
    "duration": 6,
    "start_time": "2024-04-13T07:32:18.513Z"
   },
   {
    "duration": 4,
    "start_time": "2024-04-13T07:34:06.050Z"
   },
   {
    "duration": 136,
    "start_time": "2024-04-13T07:34:36.829Z"
   },
   {
    "duration": 153,
    "start_time": "2024-04-13T07:37:59.229Z"
   },
   {
    "duration": 4,
    "start_time": "2024-04-13T07:39:17.502Z"
   },
   {
    "duration": 24,
    "start_time": "2024-04-13T07:39:17.975Z"
   },
   {
    "duration": 43,
    "start_time": "2024-04-13T07:41:30.282Z"
   },
   {
    "duration": 42,
    "start_time": "2024-04-13T07:41:32.502Z"
   },
   {
    "duration": 11,
    "start_time": "2024-04-13T07:41:37.745Z"
   },
   {
    "duration": 4,
    "start_time": "2024-04-13T07:42:15.660Z"
   },
   {
    "duration": 7,
    "start_time": "2024-04-13T07:42:25.073Z"
   },
   {
    "duration": 13,
    "start_time": "2024-04-13T07:42:29.237Z"
   },
   {
    "duration": 5,
    "start_time": "2024-04-13T07:43:38.685Z"
   },
   {
    "duration": 5,
    "start_time": "2024-04-13T07:43:45.841Z"
   },
   {
    "duration": 5,
    "start_time": "2024-04-13T07:43:49.123Z"
   },
   {
    "duration": 51,
    "start_time": "2024-04-13T07:43:52.257Z"
   },
   {
    "duration": 5,
    "start_time": "2024-04-13T07:43:55.064Z"
   },
   {
    "duration": 309,
    "start_time": "2024-04-13T07:44:24.893Z"
   },
   {
    "duration": 5,
    "start_time": "2024-04-13T07:44:29.258Z"
   },
   {
    "duration": 16,
    "start_time": "2024-04-13T07:44:33.240Z"
   },
   {
    "duration": 6,
    "start_time": "2024-04-13T07:44:41.757Z"
   },
   {
    "duration": 14,
    "start_time": "2024-04-13T07:50:59.115Z"
   },
   {
    "duration": 2,
    "start_time": "2024-04-13T07:51:04.484Z"
   },
   {
    "duration": 237,
    "start_time": "2024-04-13T07:51:04.488Z"
   },
   {
    "duration": 26,
    "start_time": "2024-04-13T07:51:04.727Z"
   },
   {
    "duration": 30,
    "start_time": "2024-04-13T07:51:04.755Z"
   },
   {
    "duration": 61,
    "start_time": "2024-04-13T07:51:04.787Z"
   },
   {
    "duration": 21,
    "start_time": "2024-04-13T07:51:04.849Z"
   },
   {
    "duration": 40,
    "start_time": "2024-04-13T07:51:04.871Z"
   },
   {
    "duration": 16,
    "start_time": "2024-04-13T07:51:04.912Z"
   },
   {
    "duration": 29,
    "start_time": "2024-04-13T07:51:04.929Z"
   },
   {
    "duration": 41,
    "start_time": "2024-04-13T07:51:04.959Z"
   },
   {
    "duration": 35,
    "start_time": "2024-04-13T07:51:05.001Z"
   },
   {
    "duration": 13,
    "start_time": "2024-04-13T07:51:05.037Z"
   },
   {
    "duration": 55,
    "start_time": "2024-04-13T07:51:05.051Z"
   },
   {
    "duration": 36,
    "start_time": "2024-04-13T07:51:05.109Z"
   },
   {
    "duration": 35,
    "start_time": "2024-04-13T07:51:05.147Z"
   },
   {
    "duration": 43,
    "start_time": "2024-04-13T07:51:05.183Z"
   },
   {
    "duration": 41,
    "start_time": "2024-04-13T07:51:05.228Z"
   },
   {
    "duration": 20,
    "start_time": "2024-04-13T07:51:05.270Z"
   },
   {
    "duration": 30,
    "start_time": "2024-04-13T07:51:05.291Z"
   },
   {
    "duration": 26,
    "start_time": "2024-04-13T07:51:05.323Z"
   },
   {
    "duration": 22,
    "start_time": "2024-04-13T07:51:05.350Z"
   },
   {
    "duration": 49,
    "start_time": "2024-04-13T07:51:05.373Z"
   },
   {
    "duration": 49,
    "start_time": "2024-04-13T07:51:05.423Z"
   },
   {
    "duration": 57,
    "start_time": "2024-04-13T07:51:05.473Z"
   },
   {
    "duration": 37,
    "start_time": "2024-04-13T07:51:05.532Z"
   },
   {
    "duration": 20,
    "start_time": "2024-04-13T07:51:05.570Z"
   },
   {
    "duration": 27,
    "start_time": "2024-04-13T07:51:05.591Z"
   },
   {
    "duration": 56,
    "start_time": "2024-04-13T07:51:05.620Z"
   },
   {
    "duration": 24,
    "start_time": "2024-04-13T07:51:05.677Z"
   },
   {
    "duration": 53,
    "start_time": "2024-04-13T07:51:05.702Z"
   },
   {
    "duration": 42,
    "start_time": "2024-04-13T07:51:05.757Z"
   },
   {
    "duration": 114,
    "start_time": "2024-04-13T07:51:05.801Z"
   },
   {
    "duration": 23,
    "start_time": "2024-04-13T07:51:05.917Z"
   },
   {
    "duration": 41,
    "start_time": "2024-04-13T07:51:05.942Z"
   },
   {
    "duration": 47,
    "start_time": "2024-04-13T07:51:05.985Z"
   },
   {
    "duration": 74,
    "start_time": "2024-04-13T07:51:06.034Z"
   },
   {
    "duration": 18,
    "start_time": "2024-04-13T07:51:06.110Z"
   },
   {
    "duration": 45,
    "start_time": "2024-04-13T07:51:06.129Z"
   },
   {
    "duration": 24,
    "start_time": "2024-04-13T07:51:06.175Z"
   },
   {
    "duration": 166,
    "start_time": "2024-04-13T07:51:06.201Z"
   },
   {
    "duration": 5,
    "start_time": "2024-04-13T07:51:06.370Z"
   },
   {
    "duration": 24,
    "start_time": "2024-04-13T07:51:06.376Z"
   },
   {
    "duration": 49,
    "start_time": "2024-04-13T07:51:06.401Z"
   },
   {
    "duration": 24,
    "start_time": "2024-04-13T07:51:06.451Z"
   },
   {
    "duration": 13,
    "start_time": "2024-04-13T07:52:19.658Z"
   },
   {
    "duration": 14,
    "start_time": "2024-04-13T07:52:46.778Z"
   },
   {
    "duration": 6,
    "start_time": "2024-04-13T07:53:33.222Z"
   },
   {
    "duration": 4,
    "start_time": "2024-04-13T07:54:20.581Z"
   },
   {
    "duration": 6,
    "start_time": "2024-04-13T07:54:25.443Z"
   },
   {
    "duration": 10,
    "start_time": "2024-04-13T07:54:47.552Z"
   },
   {
    "duration": 6,
    "start_time": "2024-04-13T07:55:01.356Z"
   },
   {
    "duration": 11,
    "start_time": "2024-04-13T07:55:04.730Z"
   },
   {
    "duration": 8,
    "start_time": "2024-04-13T07:55:11.171Z"
   },
   {
    "duration": 13,
    "start_time": "2024-04-13T08:01:22.922Z"
   },
   {
    "duration": 9,
    "start_time": "2024-04-13T08:05:43.664Z"
   },
   {
    "duration": 647,
    "start_time": "2024-04-13T08:27:43.401Z"
   },
   {
    "duration": 305,
    "start_time": "2024-04-13T08:27:44.050Z"
   },
   {
    "duration": 31,
    "start_time": "2024-04-13T08:27:44.357Z"
   },
   {
    "duration": 14,
    "start_time": "2024-04-13T08:27:44.390Z"
   },
   {
    "duration": 55,
    "start_time": "2024-04-13T08:27:44.406Z"
   },
   {
    "duration": 25,
    "start_time": "2024-04-13T08:27:44.463Z"
   },
   {
    "duration": 20,
    "start_time": "2024-04-13T08:27:44.491Z"
   },
   {
    "duration": 25,
    "start_time": "2024-04-13T08:27:44.513Z"
   },
   {
    "duration": 43,
    "start_time": "2024-04-13T08:27:44.539Z"
   },
   {
    "duration": 39,
    "start_time": "2024-04-13T08:27:44.585Z"
   },
   {
    "duration": 22,
    "start_time": "2024-04-13T08:27:44.625Z"
   },
   {
    "duration": 18,
    "start_time": "2024-04-13T08:27:44.648Z"
   },
   {
    "duration": 63,
    "start_time": "2024-04-13T08:27:44.668Z"
   },
   {
    "duration": 29,
    "start_time": "2024-04-13T08:27:44.733Z"
   },
   {
    "duration": 45,
    "start_time": "2024-04-13T08:27:44.764Z"
   },
   {
    "duration": 44,
    "start_time": "2024-04-13T08:27:44.811Z"
   },
   {
    "duration": 53,
    "start_time": "2024-04-13T08:27:44.856Z"
   },
   {
    "duration": 43,
    "start_time": "2024-04-13T08:27:44.910Z"
   },
   {
    "duration": 30,
    "start_time": "2024-04-13T08:27:44.955Z"
   },
   {
    "duration": 38,
    "start_time": "2024-04-13T08:27:44.987Z"
   },
   {
    "duration": 68,
    "start_time": "2024-04-13T08:27:45.027Z"
   },
   {
    "duration": 38,
    "start_time": "2024-04-13T08:27:45.097Z"
   },
   {
    "duration": 97,
    "start_time": "2024-04-13T08:27:45.137Z"
   },
   {
    "duration": 6,
    "start_time": "2024-04-13T08:33:54.032Z"
   },
   {
    "duration": 13,
    "start_time": "2024-04-13T08:34:08.930Z"
   },
   {
    "duration": 2,
    "start_time": "2024-04-13T08:34:13.330Z"
   },
   {
    "duration": 231,
    "start_time": "2024-04-13T08:34:13.334Z"
   },
   {
    "duration": 35,
    "start_time": "2024-04-13T08:34:13.567Z"
   },
   {
    "duration": 12,
    "start_time": "2024-04-13T08:34:13.604Z"
   },
   {
    "duration": 72,
    "start_time": "2024-04-13T08:34:13.618Z"
   },
   {
    "duration": 20,
    "start_time": "2024-04-13T08:34:13.692Z"
   },
   {
    "duration": 11,
    "start_time": "2024-04-13T08:34:13.714Z"
   },
   {
    "duration": 15,
    "start_time": "2024-04-13T08:34:13.726Z"
   },
   {
    "duration": 43,
    "start_time": "2024-04-13T08:34:13.743Z"
   },
   {
    "duration": 24,
    "start_time": "2024-04-13T08:34:13.788Z"
   },
   {
    "duration": 19,
    "start_time": "2024-04-13T08:34:13.814Z"
   },
   {
    "duration": 4,
    "start_time": "2024-04-13T08:34:13.835Z"
   },
   {
    "duration": 42,
    "start_time": "2024-04-13T08:34:13.840Z"
   },
   {
    "duration": 12,
    "start_time": "2024-04-13T08:34:13.885Z"
   },
   {
    "duration": 31,
    "start_time": "2024-04-13T08:34:13.898Z"
   },
   {
    "duration": 6,
    "start_time": "2024-04-13T08:34:13.930Z"
   },
   {
    "duration": 55,
    "start_time": "2024-04-13T08:34:13.938Z"
   },
   {
    "duration": 23,
    "start_time": "2024-04-13T08:34:13.994Z"
   },
   {
    "duration": 13,
    "start_time": "2024-04-13T08:34:14.019Z"
   },
   {
    "duration": 12,
    "start_time": "2024-04-13T08:34:16.556Z"
   },
   {
    "duration": 5,
    "start_time": "2024-04-13T08:34:30.855Z"
   },
   {
    "duration": 3,
    "start_time": "2024-04-13T08:35:22.929Z"
   },
   {
    "duration": 223,
    "start_time": "2024-04-13T08:35:22.934Z"
   },
   {
    "duration": 37,
    "start_time": "2024-04-13T08:35:23.159Z"
   },
   {
    "duration": 13,
    "start_time": "2024-04-13T08:35:23.197Z"
   },
   {
    "duration": 54,
    "start_time": "2024-04-13T08:35:23.212Z"
   },
   {
    "duration": 24,
    "start_time": "2024-04-13T08:35:23.268Z"
   },
   {
    "duration": 12,
    "start_time": "2024-04-13T08:35:23.293Z"
   },
   {
    "duration": 12,
    "start_time": "2024-04-13T08:35:23.306Z"
   },
   {
    "duration": 31,
    "start_time": "2024-04-13T08:35:23.319Z"
   },
   {
    "duration": 32,
    "start_time": "2024-04-13T08:35:23.351Z"
   },
   {
    "duration": 20,
    "start_time": "2024-04-13T08:35:23.385Z"
   },
   {
    "duration": 4,
    "start_time": "2024-04-13T08:35:23.407Z"
   },
   {
    "duration": 18,
    "start_time": "2024-04-13T08:35:23.413Z"
   },
   {
    "duration": 35,
    "start_time": "2024-04-13T08:35:23.434Z"
   },
   {
    "duration": 54,
    "start_time": "2024-04-13T08:35:23.471Z"
   },
   {
    "duration": 19,
    "start_time": "2024-04-13T08:35:23.526Z"
   },
   {
    "duration": 33,
    "start_time": "2024-04-13T08:35:23.546Z"
   },
   {
    "duration": 35,
    "start_time": "2024-04-13T08:35:23.581Z"
   },
   {
    "duration": 12,
    "start_time": "2024-04-13T08:35:23.617Z"
   },
   {
    "duration": 16,
    "start_time": "2024-04-13T08:35:23.631Z"
   },
   {
    "duration": 17,
    "start_time": "2024-04-13T08:35:23.649Z"
   },
   {
    "duration": 6,
    "start_time": "2024-04-13T08:35:23.668Z"
   },
   {
    "duration": 35,
    "start_time": "2024-04-13T08:35:23.676Z"
   },
   {
    "duration": 7,
    "start_time": "2024-04-13T08:43:03.270Z"
   },
   {
    "duration": 4,
    "start_time": "2024-04-13T08:43:28.046Z"
   },
   {
    "duration": 7,
    "start_time": "2024-04-13T08:43:31.940Z"
   },
   {
    "duration": 10,
    "start_time": "2024-04-13T08:43:37.820Z"
   },
   {
    "duration": 19,
    "start_time": "2024-04-13T08:43:48.887Z"
   },
   {
    "duration": 13,
    "start_time": "2024-04-13T08:43:51.131Z"
   },
   {
    "duration": 7,
    "start_time": "2024-04-13T08:43:57.806Z"
   },
   {
    "duration": 16,
    "start_time": "2024-04-13T08:43:59.627Z"
   },
   {
    "duration": 11,
    "start_time": "2024-04-13T08:46:24.122Z"
   },
   {
    "duration": 13,
    "start_time": "2024-04-13T08:46:38.930Z"
   },
   {
    "duration": 11,
    "start_time": "2024-04-13T08:46:54.130Z"
   },
   {
    "duration": 11,
    "start_time": "2024-04-13T08:46:58.522Z"
   },
   {
    "duration": 9,
    "start_time": "2024-04-13T08:49:37.778Z"
   },
   {
    "duration": 22,
    "start_time": "2024-04-13T08:49:41.450Z"
   },
   {
    "duration": 8,
    "start_time": "2024-04-13T08:50:21.869Z"
   },
   {
    "duration": 14,
    "start_time": "2024-04-13T08:50:25.212Z"
   },
   {
    "duration": 3,
    "start_time": "2024-04-13T08:55:33.870Z"
   },
   {
    "duration": 270,
    "start_time": "2024-04-13T08:55:33.874Z"
   },
   {
    "duration": 25,
    "start_time": "2024-04-13T08:55:34.145Z"
   },
   {
    "duration": 14,
    "start_time": "2024-04-13T08:55:34.172Z"
   },
   {
    "duration": 53,
    "start_time": "2024-04-13T08:55:34.187Z"
   },
   {
    "duration": 25,
    "start_time": "2024-04-13T08:55:34.241Z"
   },
   {
    "duration": 22,
    "start_time": "2024-04-13T08:55:34.267Z"
   },
   {
    "duration": 29,
    "start_time": "2024-04-13T08:55:34.291Z"
   },
   {
    "duration": 40,
    "start_time": "2024-04-13T08:55:34.322Z"
   },
   {
    "duration": 46,
    "start_time": "2024-04-13T08:55:34.363Z"
   },
   {
    "duration": 21,
    "start_time": "2024-04-13T08:55:34.411Z"
   },
   {
    "duration": 20,
    "start_time": "2024-04-13T08:55:34.434Z"
   },
   {
    "duration": 34,
    "start_time": "2024-04-13T08:55:34.457Z"
   },
   {
    "duration": 59,
    "start_time": "2024-04-13T08:55:34.493Z"
   },
   {
    "duration": 31,
    "start_time": "2024-04-13T08:55:34.554Z"
   },
   {
    "duration": 22,
    "start_time": "2024-04-13T08:55:34.587Z"
   },
   {
    "duration": 34,
    "start_time": "2024-04-13T08:55:34.610Z"
   },
   {
    "duration": 40,
    "start_time": "2024-04-13T08:55:34.646Z"
   },
   {
    "duration": 27,
    "start_time": "2024-04-13T08:55:34.688Z"
   },
   {
    "duration": 45,
    "start_time": "2024-04-13T08:55:34.717Z"
   },
   {
    "duration": 11,
    "start_time": "2024-04-13T08:55:34.764Z"
   },
   {
    "duration": 20,
    "start_time": "2024-04-13T08:55:34.776Z"
   },
   {
    "duration": 67,
    "start_time": "2024-04-13T08:55:34.797Z"
   },
   {
    "duration": 30,
    "start_time": "2024-04-13T08:55:34.867Z"
   },
   {
    "duration": 39,
    "start_time": "2024-04-13T08:55:34.899Z"
   },
   {
    "duration": 14,
    "start_time": "2024-04-13T08:55:34.940Z"
   },
   {
    "duration": 32,
    "start_time": "2024-04-13T08:55:34.956Z"
   },
   {
    "duration": 34,
    "start_time": "2024-04-13T08:55:34.990Z"
   },
   {
    "duration": 67,
    "start_time": "2024-04-13T08:55:35.025Z"
   },
   {
    "duration": 12,
    "start_time": "2024-04-13T08:55:35.094Z"
   },
   {
    "duration": 45,
    "start_time": "2024-04-13T08:55:35.108Z"
   },
   {
    "duration": 48,
    "start_time": "2024-04-13T08:55:35.155Z"
   },
   {
    "duration": 34,
    "start_time": "2024-04-13T08:55:35.205Z"
   },
   {
    "duration": 16,
    "start_time": "2024-04-13T08:58:10.201Z"
   },
   {
    "duration": 4,
    "start_time": "2024-04-13T08:58:23.438Z"
   },
   {
    "duration": 3,
    "start_time": "2024-04-13T09:04:26.910Z"
   },
   {
    "duration": 239,
    "start_time": "2024-04-13T09:04:26.915Z"
   },
   {
    "duration": 24,
    "start_time": "2024-04-13T09:04:27.156Z"
   },
   {
    "duration": 13,
    "start_time": "2024-04-13T09:04:27.181Z"
   },
   {
    "duration": 39,
    "start_time": "2024-04-13T09:04:27.196Z"
   },
   {
    "duration": 36,
    "start_time": "2024-04-13T09:04:27.237Z"
   },
   {
    "duration": 14,
    "start_time": "2024-04-13T09:04:27.274Z"
   },
   {
    "duration": 10,
    "start_time": "2024-04-13T09:04:27.290Z"
   },
   {
    "duration": 22,
    "start_time": "2024-04-13T09:04:27.301Z"
   },
   {
    "duration": 50,
    "start_time": "2024-04-13T09:04:27.325Z"
   },
   {
    "duration": 21,
    "start_time": "2024-04-13T09:04:27.376Z"
   },
   {
    "duration": 5,
    "start_time": "2024-04-13T09:04:27.398Z"
   },
   {
    "duration": 16,
    "start_time": "2024-04-13T09:04:27.405Z"
   },
   {
    "duration": 10,
    "start_time": "2024-04-13T09:04:27.423Z"
   },
   {
    "duration": 34,
    "start_time": "2024-04-13T09:04:27.435Z"
   },
   {
    "duration": 13,
    "start_time": "2024-04-13T09:04:27.471Z"
   },
   {
    "duration": 28,
    "start_time": "2024-04-13T09:04:27.485Z"
   },
   {
    "duration": 24,
    "start_time": "2024-04-13T09:04:27.514Z"
   },
   {
    "duration": 34,
    "start_time": "2024-04-13T09:04:27.540Z"
   },
   {
    "duration": 22,
    "start_time": "2024-04-13T09:04:27.575Z"
   },
   {
    "duration": 9,
    "start_time": "2024-04-13T09:04:27.599Z"
   },
   {
    "duration": 9,
    "start_time": "2024-04-13T09:04:27.610Z"
   },
   {
    "duration": 46,
    "start_time": "2024-04-13T09:04:27.620Z"
   },
   {
    "duration": 4,
    "start_time": "2024-04-13T09:04:27.668Z"
   },
   {
    "duration": 18,
    "start_time": "2024-04-13T09:04:27.673Z"
   },
   {
    "duration": 7,
    "start_time": "2024-04-13T09:04:27.693Z"
   },
   {
    "duration": 62,
    "start_time": "2024-04-13T09:04:27.702Z"
   },
   {
    "duration": 12,
    "start_time": "2024-04-13T09:04:27.766Z"
   },
   {
    "duration": 45,
    "start_time": "2024-04-13T09:04:27.780Z"
   },
   {
    "duration": 17,
    "start_time": "2024-04-13T09:04:27.827Z"
   },
   {
    "duration": 10,
    "start_time": "2024-04-13T09:06:00.451Z"
   },
   {
    "duration": 10,
    "start_time": "2024-04-13T09:06:06.018Z"
   },
   {
    "duration": 10,
    "start_time": "2024-04-13T09:06:09.526Z"
   },
   {
    "duration": 14,
    "start_time": "2024-04-13T09:07:51.358Z"
   },
   {
    "duration": 11,
    "start_time": "2024-04-13T09:08:18.415Z"
   },
   {
    "duration": 4,
    "start_time": "2024-04-13T09:16:59.781Z"
   },
   {
    "duration": 8,
    "start_time": "2024-04-13T09:17:02.335Z"
   },
   {
    "duration": 8,
    "start_time": "2024-04-13T09:17:25.836Z"
   },
   {
    "duration": 5,
    "start_time": "2024-04-13T09:17:51.052Z"
   },
   {
    "duration": 5,
    "start_time": "2024-04-13T09:18:20.179Z"
   },
   {
    "duration": 4,
    "start_time": "2024-04-13T09:18:26.155Z"
   },
   {
    "duration": 4,
    "start_time": "2024-04-13T09:18:28.252Z"
   },
   {
    "duration": 97,
    "start_time": "2024-04-13T09:18:47.818Z"
   },
   {
    "duration": 10,
    "start_time": "2024-04-13T09:18:50.826Z"
   },
   {
    "duration": 4,
    "start_time": "2024-04-13T09:19:12.416Z"
   },
   {
    "duration": 5,
    "start_time": "2024-04-13T09:19:26.385Z"
   },
   {
    "duration": 93,
    "start_time": "2024-04-13T09:20:10.249Z"
   },
   {
    "duration": 128,
    "start_time": "2024-04-13T09:20:25.437Z"
   },
   {
    "duration": 5,
    "start_time": "2024-04-13T09:29:45.744Z"
   },
   {
    "duration": 4,
    "start_time": "2024-04-13T09:34:35.096Z"
   },
   {
    "duration": 20,
    "start_time": "2024-04-13T09:39:36.657Z"
   },
   {
    "duration": 17,
    "start_time": "2024-04-13T09:40:28.030Z"
   },
   {
    "duration": 18,
    "start_time": "2024-04-13T09:40:42.761Z"
   },
   {
    "duration": 7,
    "start_time": "2024-04-13T09:40:55.175Z"
   },
   {
    "duration": 16,
    "start_time": "2024-04-13T09:40:57.956Z"
   },
   {
    "duration": 4,
    "start_time": "2024-04-13T09:41:01.476Z"
   },
   {
    "duration": 18,
    "start_time": "2024-04-13T09:41:05.412Z"
   },
   {
    "duration": 21,
    "start_time": "2024-04-13T09:41:15.906Z"
   },
   {
    "duration": 14,
    "start_time": "2024-04-13T09:41:20.097Z"
   },
   {
    "duration": 4,
    "start_time": "2024-04-13T09:45:18.805Z"
   },
   {
    "duration": 7,
    "start_time": "2024-04-13T09:45:24.437Z"
   },
   {
    "duration": 8,
    "start_time": "2024-04-13T09:45:35.100Z"
   },
   {
    "duration": 17,
    "start_time": "2024-04-13T09:45:38.939Z"
   },
   {
    "duration": 16,
    "start_time": "2024-04-13T09:45:44.095Z"
   },
   {
    "duration": 17,
    "start_time": "2024-04-13T09:46:04.853Z"
   },
   {
    "duration": 12,
    "start_time": "2024-04-13T09:46:21.440Z"
   },
   {
    "duration": 29,
    "start_time": "2024-04-13T09:49:02.951Z"
   },
   {
    "duration": 5,
    "start_time": "2024-04-13T09:49:15.987Z"
   },
   {
    "duration": 5,
    "start_time": "2024-04-13T09:49:20.359Z"
   },
   {
    "duration": 4,
    "start_time": "2024-04-13T09:49:31.352Z"
   },
   {
    "duration": 138,
    "start_time": "2024-04-13T09:50:11.287Z"
   },
   {
    "duration": 4,
    "start_time": "2024-04-13T09:50:16.712Z"
   },
   {
    "duration": 5,
    "start_time": "2024-04-13T09:52:13.856Z"
   },
   {
    "duration": 4,
    "start_time": "2024-04-13T09:53:42.456Z"
   },
   {
    "duration": 5,
    "start_time": "2024-04-13T09:53:44.580Z"
   },
   {
    "duration": 5,
    "start_time": "2024-04-13T09:53:46.725Z"
   },
   {
    "duration": 5,
    "start_time": "2024-04-13T09:53:54.081Z"
   },
   {
    "duration": 4,
    "start_time": "2024-04-13T09:55:52.151Z"
   },
   {
    "duration": 27,
    "start_time": "2024-04-13T09:56:00.395Z"
   },
   {
    "duration": 31,
    "start_time": "2024-04-13T09:57:17.641Z"
   },
   {
    "duration": 3,
    "start_time": "2024-04-13T09:57:23.400Z"
   },
   {
    "duration": 317,
    "start_time": "2024-04-13T09:57:23.405Z"
   },
   {
    "duration": 27,
    "start_time": "2024-04-13T09:57:23.724Z"
   },
   {
    "duration": 26,
    "start_time": "2024-04-13T09:57:23.753Z"
   },
   {
    "duration": 55,
    "start_time": "2024-04-13T09:57:23.781Z"
   },
   {
    "duration": 20,
    "start_time": "2024-04-13T09:57:23.837Z"
   },
   {
    "duration": 28,
    "start_time": "2024-04-13T09:57:23.858Z"
   },
   {
    "duration": 26,
    "start_time": "2024-04-13T09:57:23.887Z"
   },
   {
    "duration": 41,
    "start_time": "2024-04-13T09:57:23.915Z"
   },
   {
    "duration": 90,
    "start_time": "2024-04-13T09:57:23.957Z"
   },
   {
    "duration": 20,
    "start_time": "2024-04-13T09:57:24.048Z"
   },
   {
    "duration": 22,
    "start_time": "2024-04-13T09:57:24.069Z"
   },
   {
    "duration": 26,
    "start_time": "2024-04-13T09:57:24.093Z"
   },
   {
    "duration": 32,
    "start_time": "2024-04-13T09:57:24.121Z"
   },
   {
    "duration": 26,
    "start_time": "2024-04-13T09:57:24.154Z"
   },
   {
    "duration": 35,
    "start_time": "2024-04-13T09:57:24.182Z"
   },
   {
    "duration": 49,
    "start_time": "2024-04-13T09:57:24.219Z"
   },
   {
    "duration": 41,
    "start_time": "2024-04-13T09:57:24.270Z"
   },
   {
    "duration": 28,
    "start_time": "2024-04-13T09:57:24.312Z"
   },
   {
    "duration": 43,
    "start_time": "2024-04-13T09:57:24.341Z"
   },
   {
    "duration": 35,
    "start_time": "2024-04-13T09:57:24.385Z"
   },
   {
    "duration": 26,
    "start_time": "2024-04-13T09:57:24.422Z"
   },
   {
    "duration": 62,
    "start_time": "2024-04-13T09:57:24.449Z"
   },
   {
    "duration": 21,
    "start_time": "2024-04-13T09:57:24.512Z"
   },
   {
    "duration": 41,
    "start_time": "2024-04-13T09:57:24.535Z"
   },
   {
    "duration": 27,
    "start_time": "2024-04-13T09:57:24.578Z"
   },
   {
    "duration": 73,
    "start_time": "2024-04-13T09:57:24.607Z"
   },
   {
    "duration": 11,
    "start_time": "2024-04-13T09:57:24.682Z"
   },
   {
    "duration": 41,
    "start_time": "2024-04-13T09:57:24.695Z"
   },
   {
    "duration": 37,
    "start_time": "2024-04-13T09:57:24.738Z"
   },
   {
    "duration": 22,
    "start_time": "2024-04-13T09:57:24.777Z"
   },
   {
    "duration": 44,
    "start_time": "2024-04-13T09:57:24.801Z"
   },
   {
    "duration": 28,
    "start_time": "2024-04-13T09:57:24.847Z"
   },
   {
    "duration": 38,
    "start_time": "2024-04-13T09:57:24.876Z"
   },
   {
    "duration": 46,
    "start_time": "2024-04-13T09:57:24.915Z"
   },
   {
    "duration": 52,
    "start_time": "2024-04-13T09:57:24.963Z"
   },
   {
    "duration": 39,
    "start_time": "2024-04-13T09:57:25.018Z"
   },
   {
    "duration": 28,
    "start_time": "2024-04-13T09:57:25.058Z"
   },
   {
    "duration": 53,
    "start_time": "2024-04-13T09:57:25.088Z"
   },
   {
    "duration": 179,
    "start_time": "2024-04-13T09:57:25.143Z"
   },
   {
    "duration": 6,
    "start_time": "2024-04-13T09:57:25.324Z"
   },
   {
    "duration": 45,
    "start_time": "2024-04-13T09:57:25.331Z"
   },
   {
    "duration": 62,
    "start_time": "2024-04-13T09:57:25.377Z"
   },
   {
    "duration": 7,
    "start_time": "2024-04-13T12:11:24.887Z"
   },
   {
    "duration": 8,
    "start_time": "2024-04-13T12:11:28.505Z"
   },
   {
    "duration": 51,
    "start_time": "2024-04-13T12:12:08.355Z"
   },
   {
    "duration": 3,
    "start_time": "2024-04-13T12:12:14.910Z"
   },
   {
    "duration": 4,
    "start_time": "2024-04-13T12:12:33.606Z"
   },
   {
    "duration": 3,
    "start_time": "2024-04-13T12:12:40.203Z"
   },
   {
    "duration": 4,
    "start_time": "2024-04-13T12:17:00.387Z"
   },
   {
    "duration": 25,
    "start_time": "2024-04-13T12:19:44.652Z"
   },
   {
    "duration": 5,
    "start_time": "2024-04-13T12:20:55.353Z"
   },
   {
    "duration": 4,
    "start_time": "2024-04-13T12:21:01.289Z"
   },
   {
    "duration": 5,
    "start_time": "2024-04-13T12:21:34.101Z"
   },
   {
    "duration": 7,
    "start_time": "2024-04-13T12:22:52.381Z"
   },
   {
    "duration": 5,
    "start_time": "2024-04-13T12:23:27.202Z"
   },
   {
    "duration": 6,
    "start_time": "2024-04-13T12:24:53.300Z"
   },
   {
    "duration": 4,
    "start_time": "2024-04-13T12:24:59.016Z"
   },
   {
    "duration": 3,
    "start_time": "2024-04-13T12:25:16.167Z"
   },
   {
    "duration": 3,
    "start_time": "2024-04-13T12:33:58.177Z"
   },
   {
    "duration": 7,
    "start_time": "2024-04-13T12:34:27.044Z"
   },
   {
    "duration": 25,
    "start_time": "2024-04-13T12:34:32.234Z"
   },
   {
    "duration": 3,
    "start_time": "2024-04-13T12:34:51.497Z"
   },
   {
    "duration": 24,
    "start_time": "2024-04-13T12:34:52.548Z"
   },
   {
    "duration": 32,
    "start_time": "2024-04-13T12:35:13.642Z"
   },
   {
    "duration": 18,
    "start_time": "2024-04-13T12:35:47.207Z"
   },
   {
    "duration": 18,
    "start_time": "2024-04-13T12:35:49.549Z"
   },
   {
    "duration": 5,
    "start_time": "2024-04-13T12:36:06.471Z"
   },
   {
    "duration": 46,
    "start_time": "2024-04-13T12:36:28.822Z"
   },
   {
    "duration": 4,
    "start_time": "2024-04-13T12:36:39.956Z"
   },
   {
    "duration": 4,
    "start_time": "2024-04-13T12:42:43.696Z"
   },
   {
    "duration": 4,
    "start_time": "2024-04-13T12:43:19.001Z"
   },
   {
    "duration": 4,
    "start_time": "2024-04-13T12:43:54.556Z"
   },
   {
    "duration": 4,
    "start_time": "2024-04-13T12:44:00.733Z"
   },
   {
    "duration": 5,
    "start_time": "2024-04-13T12:44:20.436Z"
   },
   {
    "duration": 4,
    "start_time": "2024-04-13T12:44:29.270Z"
   },
   {
    "duration": 45,
    "start_time": "2024-04-13T12:45:05.139Z"
   },
   {
    "duration": 5,
    "start_time": "2024-04-13T12:45:09.782Z"
   },
   {
    "duration": 5,
    "start_time": "2024-04-13T12:45:26.322Z"
   },
   {
    "duration": 4,
    "start_time": "2024-04-13T12:45:32.685Z"
   },
   {
    "duration": 3,
    "start_time": "2024-04-13T12:45:36.774Z"
   },
   {
    "duration": 5,
    "start_time": "2024-04-13T12:45:48.313Z"
   },
   {
    "duration": 5,
    "start_time": "2024-04-13T12:46:18.414Z"
   },
   {
    "duration": 7,
    "start_time": "2024-04-13T12:46:39.835Z"
   },
   {
    "duration": 4,
    "start_time": "2024-04-13T12:46:51.269Z"
   },
   {
    "duration": 4,
    "start_time": "2024-04-13T12:56:57.662Z"
   },
   {
    "duration": 4,
    "start_time": "2024-04-13T12:57:08.858Z"
   },
   {
    "duration": 441,
    "start_time": "2024-04-13T13:03:43.714Z"
   },
   {
    "duration": 5,
    "start_time": "2024-04-13T13:04:49.015Z"
   },
   {
    "duration": 5,
    "start_time": "2024-04-13T13:04:51.726Z"
   },
   {
    "duration": 4,
    "start_time": "2024-04-13T13:04:54.141Z"
   },
   {
    "duration": 5,
    "start_time": "2024-04-13T13:06:51.095Z"
   },
   {
    "duration": 5,
    "start_time": "2024-04-13T13:07:15.262Z"
   },
   {
    "duration": 5,
    "start_time": "2024-04-13T13:07:20.579Z"
   },
   {
    "duration": 5,
    "start_time": "2024-04-13T13:07:24.714Z"
   },
   {
    "duration": 5,
    "start_time": "2024-04-13T13:37:55.360Z"
   },
   {
    "duration": 73,
    "start_time": "2024-04-13T13:38:41.256Z"
   },
   {
    "duration": 56,
    "start_time": "2024-04-13T13:38:47.832Z"
   },
   {
    "duration": 61,
    "start_time": "2024-04-13T13:38:54.116Z"
   },
   {
    "duration": 4,
    "start_time": "2024-04-13T13:39:00.098Z"
   },
   {
    "duration": 4,
    "start_time": "2024-04-13T13:39:05.112Z"
   },
   {
    "duration": 4,
    "start_time": "2024-04-13T13:39:07.235Z"
   },
   {
    "duration": 3,
    "start_time": "2024-04-13T13:39:11.176Z"
   },
   {
    "duration": 3,
    "start_time": "2024-04-13T13:39:33.415Z"
   },
   {
    "duration": 5,
    "start_time": "2024-04-13T13:39:35.901Z"
   },
   {
    "duration": 3,
    "start_time": "2024-04-13T13:39:38.280Z"
   },
   {
    "duration": 5,
    "start_time": "2024-04-13T13:39:40.233Z"
   },
   {
    "duration": 3,
    "start_time": "2024-04-13T13:39:42.153Z"
   },
   {
    "duration": 5,
    "start_time": "2024-04-13T13:40:14.158Z"
   },
   {
    "duration": 3,
    "start_time": "2024-04-13T13:40:31.937Z"
   },
   {
    "duration": 3,
    "start_time": "2024-04-13T13:40:56.119Z"
   },
   {
    "duration": 3,
    "start_time": "2024-04-13T13:41:30.890Z"
   },
   {
    "duration": 32,
    "start_time": "2024-04-13T13:42:40.893Z"
   },
   {
    "duration": 19,
    "start_time": "2024-04-13T13:43:17.508Z"
   },
   {
    "duration": 20,
    "start_time": "2024-04-13T13:44:15.213Z"
   },
   {
    "duration": 33,
    "start_time": "2024-04-13T13:44:19.986Z"
   },
   {
    "duration": 19,
    "start_time": "2024-04-13T13:44:41.253Z"
   },
   {
    "duration": 5,
    "start_time": "2024-04-13T13:48:38.628Z"
   },
   {
    "duration": 4,
    "start_time": "2024-04-13T13:48:52.954Z"
   },
   {
    "duration": 4,
    "start_time": "2024-04-13T13:49:47.490Z"
   },
   {
    "duration": 4,
    "start_time": "2024-04-13T13:50:41.412Z"
   },
   {
    "duration": 32,
    "start_time": "2024-04-13T14:12:11.543Z"
   },
   {
    "duration": 22,
    "start_time": "2024-04-13T14:22:05.803Z"
   },
   {
    "duration": 3,
    "start_time": "2024-04-13T14:26:04.613Z"
   },
   {
    "duration": 28,
    "start_time": "2024-04-13T14:26:39.003Z"
   },
   {
    "duration": 21,
    "start_time": "2024-04-13T14:36:38.092Z"
   },
   {
    "duration": 5,
    "start_time": "2024-04-13T14:37:49.603Z"
   },
   {
    "duration": 33,
    "start_time": "2024-04-13T14:40:02.415Z"
   },
   {
    "duration": 21,
    "start_time": "2024-04-13T14:40:15.978Z"
   },
   {
    "duration": 21,
    "start_time": "2024-04-13T14:40:41.677Z"
   },
   {
    "duration": 1061,
    "start_time": "2024-04-13T14:44:29.990Z"
   },
   {
    "duration": 297,
    "start_time": "2024-04-13T14:44:31.053Z"
   },
   {
    "duration": 29,
    "start_time": "2024-04-13T14:44:31.352Z"
   },
   {
    "duration": 104,
    "start_time": "2024-04-13T14:44:31.383Z"
   },
   {
    "duration": 118,
    "start_time": "2024-04-13T14:44:31.489Z"
   },
   {
    "duration": 72,
    "start_time": "2024-04-13T14:44:31.609Z"
   },
   {
    "duration": 67,
    "start_time": "2024-04-13T14:44:31.683Z"
   },
   {
    "duration": 28,
    "start_time": "2024-04-13T14:44:31.751Z"
   },
   {
    "duration": 90,
    "start_time": "2024-04-13T14:44:31.781Z"
   },
   {
    "duration": 67,
    "start_time": "2024-04-13T14:44:31.872Z"
   },
   {
    "duration": 50,
    "start_time": "2024-04-13T14:44:31.941Z"
   },
   {
    "duration": 46,
    "start_time": "2024-04-13T14:44:31.993Z"
   },
   {
    "duration": 55,
    "start_time": "2024-04-13T14:44:32.041Z"
   },
   {
    "duration": 32,
    "start_time": "2024-04-13T14:44:32.098Z"
   },
   {
    "duration": 30,
    "start_time": "2024-04-13T14:44:32.132Z"
   },
   {
    "duration": 22,
    "start_time": "2024-04-13T14:44:32.163Z"
   },
   {
    "duration": 36,
    "start_time": "2024-04-13T14:44:32.186Z"
   },
   {
    "duration": 32,
    "start_time": "2024-04-13T14:44:32.224Z"
   },
   {
    "duration": 47,
    "start_time": "2024-04-13T14:44:32.258Z"
   },
   {
    "duration": 34,
    "start_time": "2024-04-13T14:44:32.307Z"
   },
   {
    "duration": 19,
    "start_time": "2024-04-13T14:44:32.342Z"
   },
   {
    "duration": 36,
    "start_time": "2024-04-13T14:44:32.362Z"
   },
   {
    "duration": 49,
    "start_time": "2024-04-13T14:44:32.400Z"
   },
   {
    "duration": 7,
    "start_time": "2024-04-13T14:44:32.451Z"
   },
   {
    "duration": 10,
    "start_time": "2024-04-13T14:44:32.459Z"
   },
   {
    "duration": 14,
    "start_time": "2024-04-13T14:44:32.470Z"
   },
   {
    "duration": 51,
    "start_time": "2024-04-13T14:44:32.485Z"
   },
   {
    "duration": 11,
    "start_time": "2024-04-13T14:44:32.537Z"
   },
   {
    "duration": 30,
    "start_time": "2024-04-13T14:44:32.550Z"
   },
   {
    "duration": 40,
    "start_time": "2024-04-13T14:44:32.582Z"
   },
   {
    "duration": 50,
    "start_time": "2024-04-13T14:44:32.623Z"
   },
   {
    "duration": 22,
    "start_time": "2024-04-13T14:44:32.674Z"
   },
   {
    "duration": 17,
    "start_time": "2024-04-13T14:44:32.698Z"
   },
   {
    "duration": 21,
    "start_time": "2024-04-13T14:44:32.717Z"
   },
   {
    "duration": 21,
    "start_time": "2024-04-13T14:44:32.740Z"
   },
   {
    "duration": 14,
    "start_time": "2024-04-13T14:44:32.763Z"
   },
   {
    "duration": 39,
    "start_time": "2024-04-13T14:44:32.779Z"
   },
   {
    "duration": 6,
    "start_time": "2024-04-13T14:44:32.820Z"
   },
   {
    "duration": 9,
    "start_time": "2024-04-13T14:44:32.828Z"
   },
   {
    "duration": 162,
    "start_time": "2024-04-13T14:44:32.839Z"
   },
   {
    "duration": 5,
    "start_time": "2024-04-13T14:44:33.005Z"
   },
   {
    "duration": 6,
    "start_time": "2024-04-13T14:44:33.011Z"
   },
   {
    "duration": 49,
    "start_time": "2024-04-13T14:44:33.019Z"
   },
   {
    "duration": 4,
    "start_time": "2024-04-13T14:44:33.069Z"
   },
   {
    "duration": 14,
    "start_time": "2024-04-13T14:44:33.074Z"
   },
   {
    "duration": 27,
    "start_time": "2024-04-13T14:44:33.090Z"
   },
   {
    "duration": 12,
    "start_time": "2024-04-13T14:44:33.119Z"
   },
   {
    "duration": 21,
    "start_time": "2024-04-13T14:44:44.140Z"
   },
   {
    "duration": 4,
    "start_time": "2024-04-13T14:45:05.101Z"
   },
   {
    "duration": 4,
    "start_time": "2024-04-13T14:46:13.928Z"
   },
   {
    "duration": 114,
    "start_time": "2024-04-13T14:48:40.328Z"
   },
   {
    "duration": 3,
    "start_time": "2024-04-13T14:48:48.742Z"
   },
   {
    "duration": 27,
    "start_time": "2024-04-13T14:48:49.848Z"
   },
   {
    "duration": 5,
    "start_time": "2024-04-13T14:49:01.452Z"
   },
   {
    "duration": 4,
    "start_time": "2024-04-13T14:53:37.026Z"
   },
   {
    "duration": 4,
    "start_time": "2024-04-13T14:53:51.449Z"
   },
   {
    "duration": 24,
    "start_time": "2024-04-13T15:50:09.257Z"
   },
   {
    "duration": 13,
    "start_time": "2024-04-13T15:50:31.788Z"
   },
   {
    "duration": 6,
    "start_time": "2024-04-13T15:56:02.226Z"
   },
   {
    "duration": 3,
    "start_time": "2024-04-13T15:58:25.402Z"
   },
   {
    "duration": 388,
    "start_time": "2024-04-13T15:58:25.407Z"
   },
   {
    "duration": 28,
    "start_time": "2024-04-13T15:58:25.797Z"
   },
   {
    "duration": 15,
    "start_time": "2024-04-13T15:58:25.827Z"
   },
   {
    "duration": 47,
    "start_time": "2024-04-13T15:58:25.844Z"
   },
   {
    "duration": 26,
    "start_time": "2024-04-13T15:58:25.893Z"
   },
   {
    "duration": 15,
    "start_time": "2024-04-13T15:58:25.921Z"
   },
   {
    "duration": 29,
    "start_time": "2024-04-13T15:58:25.937Z"
   },
   {
    "duration": 27,
    "start_time": "2024-04-13T15:58:25.967Z"
   },
   {
    "duration": 29,
    "start_time": "2024-04-13T15:58:25.996Z"
   },
   {
    "duration": 40,
    "start_time": "2024-04-13T15:58:26.027Z"
   },
   {
    "duration": 5,
    "start_time": "2024-04-13T15:58:26.069Z"
   },
   {
    "duration": 45,
    "start_time": "2024-04-13T15:58:26.076Z"
   },
   {
    "duration": 13,
    "start_time": "2024-04-13T15:58:26.122Z"
   },
   {
    "duration": 21,
    "start_time": "2024-04-13T15:58:26.137Z"
   },
   {
    "duration": 25,
    "start_time": "2024-04-13T15:58:26.159Z"
   },
   {
    "duration": 11,
    "start_time": "2024-04-13T15:58:26.186Z"
   },
   {
    "duration": 17,
    "start_time": "2024-04-13T15:58:26.199Z"
   },
   {
    "duration": 10,
    "start_time": "2024-04-13T15:58:26.217Z"
   },
   {
    "duration": 5,
    "start_time": "2024-04-13T15:58:26.228Z"
   },
   {
    "duration": 24,
    "start_time": "2024-04-13T15:58:26.266Z"
   },
   {
    "duration": 8,
    "start_time": "2024-04-13T15:58:26.292Z"
   },
   {
    "duration": 18,
    "start_time": "2024-04-13T15:58:26.301Z"
   },
   {
    "duration": 8,
    "start_time": "2024-04-13T15:58:26.320Z"
   },
   {
    "duration": 50,
    "start_time": "2024-04-13T15:58:26.330Z"
   },
   {
    "duration": 10,
    "start_time": "2024-04-13T15:58:26.382Z"
   },
   {
    "duration": 789,
    "start_time": "2024-04-13T16:03:15.526Z"
   },
   {
    "duration": 2,
    "start_time": "2024-04-13T16:04:02.651Z"
   },
   {
    "duration": 261,
    "start_time": "2024-04-13T16:04:02.655Z"
   },
   {
    "duration": 26,
    "start_time": "2024-04-13T16:04:02.917Z"
   },
   {
    "duration": 13,
    "start_time": "2024-04-13T16:04:02.945Z"
   },
   {
    "duration": 37,
    "start_time": "2024-04-13T16:04:02.959Z"
   },
   {
    "duration": 20,
    "start_time": "2024-04-13T16:04:02.997Z"
   },
   {
    "duration": 12,
    "start_time": "2024-04-13T16:04:03.019Z"
   },
   {
    "duration": 10,
    "start_time": "2024-04-13T16:04:03.032Z"
   },
   {
    "duration": 37,
    "start_time": "2024-04-13T16:04:03.044Z"
   },
   {
    "duration": 24,
    "start_time": "2024-04-13T16:04:03.083Z"
   },
   {
    "duration": 21,
    "start_time": "2024-04-13T16:04:03.109Z"
   },
   {
    "duration": 6,
    "start_time": "2024-04-13T16:04:03.132Z"
   },
   {
    "duration": 23,
    "start_time": "2024-04-13T16:04:03.165Z"
   },
   {
    "duration": 12,
    "start_time": "2024-04-13T16:04:03.190Z"
   },
   {
    "duration": 21,
    "start_time": "2024-04-13T16:04:03.204Z"
   },
   {
    "duration": 50,
    "start_time": "2024-04-13T16:04:03.227Z"
   },
   {
    "duration": 12,
    "start_time": "2024-04-13T16:04:03.278Z"
   },
   {
    "duration": 24,
    "start_time": "2024-04-13T16:04:03.291Z"
   },
   {
    "duration": 9,
    "start_time": "2024-04-13T16:04:03.316Z"
   },
   {
    "duration": 24,
    "start_time": "2024-04-13T16:04:03.327Z"
   },
   {
    "duration": 32,
    "start_time": "2024-04-13T16:04:03.353Z"
   },
   {
    "duration": 26,
    "start_time": "2024-04-13T16:04:03.387Z"
   },
   {
    "duration": 17,
    "start_time": "2024-04-13T16:04:03.415Z"
   },
   {
    "duration": 20,
    "start_time": "2024-04-13T16:04:03.436Z"
   },
   {
    "duration": 54,
    "start_time": "2024-04-13T16:04:03.458Z"
   },
   {
    "duration": 12,
    "start_time": "2024-04-13T16:04:03.513Z"
   },
   {
    "duration": 24,
    "start_time": "2024-04-13T16:04:03.526Z"
   },
   {
    "duration": 13,
    "start_time": "2024-04-13T16:04:03.564Z"
   },
   {
    "duration": 16,
    "start_time": "2024-04-13T16:04:03.579Z"
   },
   {
    "duration": 11,
    "start_time": "2024-04-13T16:04:03.597Z"
   },
   {
    "duration": 8,
    "start_time": "2024-04-13T16:04:03.609Z"
   },
   {
    "duration": 6,
    "start_time": "2024-04-13T16:04:03.618Z"
   },
   {
    "duration": 41,
    "start_time": "2024-04-13T16:04:03.626Z"
   },
   {
    "duration": 12,
    "start_time": "2024-04-13T16:04:03.669Z"
   },
   {
    "duration": 34,
    "start_time": "2024-04-13T16:04:03.683Z"
   },
   {
    "duration": 4,
    "start_time": "2024-04-13T16:04:03.718Z"
   },
   {
    "duration": 7,
    "start_time": "2024-04-13T16:04:03.724Z"
   },
   {
    "duration": 155,
    "start_time": "2024-04-13T16:04:03.732Z"
   },
   {
    "duration": 4,
    "start_time": "2024-04-13T16:04:03.889Z"
   },
   {
    "duration": 21,
    "start_time": "2024-04-13T16:04:03.895Z"
   },
   {
    "duration": 27,
    "start_time": "2024-04-13T16:04:03.918Z"
   },
   {
    "duration": 3,
    "start_time": "2024-04-13T16:04:03.946Z"
   },
   {
    "duration": 23,
    "start_time": "2024-04-13T16:04:03.950Z"
   },
   {
    "duration": 11,
    "start_time": "2024-04-13T16:04:03.975Z"
   },
   {
    "duration": 10,
    "start_time": "2024-04-13T16:04:03.987Z"
   },
   {
    "duration": 22,
    "start_time": "2024-04-13T16:04:03.998Z"
   },
   {
    "duration": 44,
    "start_time": "2024-04-13T16:04:04.022Z"
   },
   {
    "duration": 26,
    "start_time": "2024-04-13T16:04:04.067Z"
   },
   {
    "duration": 38,
    "start_time": "2024-04-13T16:04:04.095Z"
   },
   {
    "duration": 42,
    "start_time": "2024-04-13T16:04:04.135Z"
   },
   {
    "duration": 4,
    "start_time": "2024-04-13T16:04:04.178Z"
   },
   {
    "duration": 20,
    "start_time": "2024-04-13T16:04:04.183Z"
   },
   {
    "duration": 22,
    "start_time": "2024-04-13T16:15:45.163Z"
   },
   {
    "duration": 5,
    "start_time": "2024-04-13T16:23:36.652Z"
   },
   {
    "duration": 3,
    "start_time": "2024-04-13T16:24:07.666Z"
   },
   {
    "duration": 22,
    "start_time": "2024-04-13T16:24:08.725Z"
   },
   {
    "duration": 5,
    "start_time": "2024-04-13T16:24:12.625Z"
   },
   {
    "duration": 40,
    "start_time": "2024-04-13T16:25:15.273Z"
   },
   {
    "duration": 22,
    "start_time": "2024-04-13T16:39:09.310Z"
   },
   {
    "duration": 36,
    "start_time": "2024-04-13T16:41:03.115Z"
   },
   {
    "duration": 3,
    "start_time": "2024-04-13T17:00:22.670Z"
   },
   {
    "duration": 22,
    "start_time": "2024-04-13T17:00:26.215Z"
   },
   {
    "duration": 5,
    "start_time": "2024-04-13T17:01:04.950Z"
   },
   {
    "duration": 4,
    "start_time": "2024-04-13T17:01:16.008Z"
   },
   {
    "duration": 3,
    "start_time": "2024-04-13T17:16:18.939Z"
   },
   {
    "duration": 381,
    "start_time": "2024-04-13T17:16:18.944Z"
   },
   {
    "duration": 25,
    "start_time": "2024-04-13T17:16:19.326Z"
   },
   {
    "duration": 13,
    "start_time": "2024-04-13T17:16:19.353Z"
   },
   {
    "duration": 36,
    "start_time": "2024-04-13T17:16:19.368Z"
   },
   {
    "duration": 22,
    "start_time": "2024-04-13T17:16:19.405Z"
   },
   {
    "duration": 12,
    "start_time": "2024-04-13T17:16:19.428Z"
   },
   {
    "duration": 5,
    "start_time": "2024-04-13T17:16:19.466Z"
   },
   {
    "duration": 23,
    "start_time": "2024-04-13T17:16:19.472Z"
   },
   {
    "duration": 24,
    "start_time": "2024-04-13T17:16:19.496Z"
   },
   {
    "duration": 20,
    "start_time": "2024-04-13T17:16:19.522Z"
   },
   {
    "duration": 5,
    "start_time": "2024-04-13T17:16:19.565Z"
   },
   {
    "duration": 22,
    "start_time": "2024-04-13T17:16:19.572Z"
   },
   {
    "duration": 11,
    "start_time": "2024-04-13T17:16:19.595Z"
   },
   {
    "duration": 19,
    "start_time": "2024-04-13T17:16:19.608Z"
   },
   {
    "duration": 45,
    "start_time": "2024-04-13T17:16:19.629Z"
   },
   {
    "duration": 11,
    "start_time": "2024-04-13T17:16:19.676Z"
   },
   {
    "duration": 19,
    "start_time": "2024-04-13T17:16:19.689Z"
   },
   {
    "duration": 9,
    "start_time": "2024-04-13T17:16:19.709Z"
   },
   {
    "duration": 9,
    "start_time": "2024-04-13T17:16:19.720Z"
   },
   {
    "duration": 47,
    "start_time": "2024-04-13T17:16:19.731Z"
   },
   {
    "duration": 4,
    "start_time": "2024-04-13T17:16:19.779Z"
   },
   {
    "duration": 7,
    "start_time": "2024-04-13T17:16:19.785Z"
   },
   {
    "duration": 12,
    "start_time": "2024-04-13T17:16:19.793Z"
   },
   {
    "duration": 82,
    "start_time": "2024-04-13T17:16:19.807Z"
   },
   {
    "duration": 11,
    "start_time": "2024-04-13T17:16:19.891Z"
   },
   {
    "duration": 25,
    "start_time": "2024-04-13T17:16:19.904Z"
   },
   {
    "duration": 18,
    "start_time": "2024-04-13T17:16:19.930Z"
   },
   {
    "duration": 24,
    "start_time": "2024-04-13T17:16:19.950Z"
   },
   {
    "duration": 9,
    "start_time": "2024-04-13T17:16:19.976Z"
   },
   {
    "duration": 23,
    "start_time": "2024-04-13T17:16:19.987Z"
   },
   {
    "duration": 12,
    "start_time": "2024-04-13T17:16:20.012Z"
   },
   {
    "duration": 23,
    "start_time": "2024-04-13T17:16:20.025Z"
   },
   {
    "duration": 15,
    "start_time": "2024-04-13T17:16:20.050Z"
   },
   {
    "duration": 43,
    "start_time": "2024-04-13T17:16:20.067Z"
   },
   {
    "duration": 4,
    "start_time": "2024-04-13T17:16:20.112Z"
   },
   {
    "duration": 7,
    "start_time": "2024-04-13T17:16:20.120Z"
   },
   {
    "duration": 149,
    "start_time": "2024-04-13T17:16:20.129Z"
   },
   {
    "duration": 5,
    "start_time": "2024-04-13T17:16:20.280Z"
   },
   {
    "duration": 24,
    "start_time": "2024-04-13T17:16:20.287Z"
   },
   {
    "duration": 53,
    "start_time": "2024-04-13T17:16:20.312Z"
   },
   {
    "duration": 17,
    "start_time": "2024-04-13T17:16:20.367Z"
   },
   {
    "duration": 24,
    "start_time": "2024-04-13T17:16:20.386Z"
   },
   {
    "duration": 19,
    "start_time": "2024-04-13T17:16:20.412Z"
   },
   {
    "duration": 8,
    "start_time": "2024-04-13T17:16:20.432Z"
   },
   {
    "duration": 38,
    "start_time": "2024-04-13T17:16:20.442Z"
   },
   {
    "duration": 12,
    "start_time": "2024-04-13T17:16:20.481Z"
   },
   {
    "duration": 12,
    "start_time": "2024-04-13T17:16:20.494Z"
   },
   {
    "duration": 25,
    "start_time": "2024-04-13T17:16:20.508Z"
   },
   {
    "duration": 29,
    "start_time": "2024-04-13T17:16:20.535Z"
   },
   {
    "duration": 4,
    "start_time": "2024-04-13T17:16:20.566Z"
   },
   {
    "duration": 8,
    "start_time": "2024-04-13T17:16:20.572Z"
   },
   {
    "duration": 33,
    "start_time": "2024-04-13T17:18:55.795Z"
   },
   {
    "duration": 3,
    "start_time": "2024-04-13T17:18:59.295Z"
   },
   {
    "duration": 233,
    "start_time": "2024-04-13T17:18:59.300Z"
   },
   {
    "duration": 26,
    "start_time": "2024-04-13T17:18:59.534Z"
   },
   {
    "duration": 13,
    "start_time": "2024-04-13T17:18:59.562Z"
   },
   {
    "duration": 40,
    "start_time": "2024-04-13T17:18:59.577Z"
   },
   {
    "duration": 21,
    "start_time": "2024-04-13T17:18:59.618Z"
   },
   {
    "duration": 30,
    "start_time": "2024-04-13T17:18:59.640Z"
   },
   {
    "duration": 16,
    "start_time": "2024-04-13T17:18:59.671Z"
   },
   {
    "duration": 42,
    "start_time": "2024-04-13T17:18:59.689Z"
   },
   {
    "duration": 31,
    "start_time": "2024-04-13T17:18:59.733Z"
   },
   {
    "duration": 19,
    "start_time": "2024-04-13T17:18:59.766Z"
   },
   {
    "duration": 5,
    "start_time": "2024-04-13T17:18:59.787Z"
   },
   {
    "duration": 32,
    "start_time": "2024-04-13T17:18:59.793Z"
   },
   {
    "duration": 11,
    "start_time": "2024-04-13T17:18:59.826Z"
   },
   {
    "duration": 41,
    "start_time": "2024-04-13T17:18:59.839Z"
   },
   {
    "duration": 22,
    "start_time": "2024-04-13T17:18:59.881Z"
   },
   {
    "duration": 32,
    "start_time": "2024-04-13T17:18:59.905Z"
   },
   {
    "duration": 30,
    "start_time": "2024-04-13T17:18:59.938Z"
   },
   {
    "duration": 10,
    "start_time": "2024-04-13T17:18:59.969Z"
   },
   {
    "duration": 10,
    "start_time": "2024-04-13T17:18:59.980Z"
   },
   {
    "duration": 60,
    "start_time": "2024-04-13T17:18:59.991Z"
   },
   {
    "duration": 52,
    "start_time": "2024-04-13T17:19:00.053Z"
   },
   {
    "duration": 52,
    "start_time": "2024-04-13T17:19:00.107Z"
   },
   {
    "duration": 55,
    "start_time": "2024-04-13T17:19:00.163Z"
   },
   {
    "duration": 118,
    "start_time": "2024-04-13T17:19:00.220Z"
   },
   {
    "duration": 29,
    "start_time": "2024-04-13T17:19:00.340Z"
   },
   {
    "duration": 95,
    "start_time": "2024-04-13T17:19:00.372Z"
   },
   {
    "duration": 44,
    "start_time": "2024-04-13T17:19:00.469Z"
   },
   {
    "duration": 53,
    "start_time": "2024-04-13T17:19:00.515Z"
   },
   {
    "duration": 60,
    "start_time": "2024-04-13T17:19:00.570Z"
   },
   {
    "duration": 118,
    "start_time": "2024-04-13T17:19:00.631Z"
   },
   {
    "duration": 70,
    "start_time": "2024-04-13T17:19:00.752Z"
   },
   {
    "duration": 73,
    "start_time": "2024-04-13T17:19:00.823Z"
   },
   {
    "duration": 76,
    "start_time": "2024-04-13T17:19:00.897Z"
   },
   {
    "duration": 95,
    "start_time": "2024-04-13T17:19:00.975Z"
   },
   {
    "duration": 10,
    "start_time": "2024-04-13T17:19:01.072Z"
   },
   {
    "duration": 42,
    "start_time": "2024-04-13T17:19:01.084Z"
   },
   {
    "duration": 187,
    "start_time": "2024-04-13T17:19:01.128Z"
   },
   {
    "duration": 5,
    "start_time": "2024-04-13T17:19:01.317Z"
   },
   {
    "duration": 52,
    "start_time": "2024-04-13T17:19:01.323Z"
   },
   {
    "duration": 64,
    "start_time": "2024-04-13T17:19:01.377Z"
   },
   {
    "duration": 36,
    "start_time": "2024-04-13T17:19:01.442Z"
   },
   {
    "duration": 47,
    "start_time": "2024-04-13T17:19:01.480Z"
   },
   {
    "duration": 55,
    "start_time": "2024-04-13T17:19:01.529Z"
   },
   {
    "duration": 3,
    "start_time": "2024-04-13T17:20:23.556Z"
   },
   {
    "duration": 284,
    "start_time": "2024-04-13T17:20:23.562Z"
   },
   {
    "duration": 25,
    "start_time": "2024-04-13T17:20:23.847Z"
   },
   {
    "duration": 13,
    "start_time": "2024-04-13T17:20:23.874Z"
   },
   {
    "duration": 40,
    "start_time": "2024-04-13T17:20:23.889Z"
   },
   {
    "duration": 38,
    "start_time": "2024-04-13T17:20:23.931Z"
   },
   {
    "duration": 12,
    "start_time": "2024-04-13T17:20:23.971Z"
   },
   {
    "duration": 8,
    "start_time": "2024-04-13T17:20:23.984Z"
   },
   {
    "duration": 20,
    "start_time": "2024-04-13T17:20:23.993Z"
   },
   {
    "duration": 23,
    "start_time": "2024-04-13T17:20:24.014Z"
   },
   {
    "duration": 44,
    "start_time": "2024-04-13T17:20:24.039Z"
   },
   {
    "duration": 4,
    "start_time": "2024-04-13T17:20:24.085Z"
   },
   {
    "duration": 23,
    "start_time": "2024-04-13T17:20:24.092Z"
   },
   {
    "duration": 12,
    "start_time": "2024-04-13T17:20:24.117Z"
   },
   {
    "duration": 49,
    "start_time": "2024-04-13T17:20:24.130Z"
   },
   {
    "duration": 21,
    "start_time": "2024-04-13T17:20:24.181Z"
   },
   {
    "duration": 15,
    "start_time": "2024-04-13T17:20:24.204Z"
   },
   {
    "duration": 34,
    "start_time": "2024-04-13T17:20:24.221Z"
   },
   {
    "duration": 16,
    "start_time": "2024-04-13T17:20:24.257Z"
   },
   {
    "duration": 14,
    "start_time": "2024-04-13T17:20:24.275Z"
   },
   {
    "duration": 55,
    "start_time": "2024-04-13T17:20:24.291Z"
   },
   {
    "duration": 9,
    "start_time": "2024-04-13T17:20:24.347Z"
   },
   {
    "duration": 10,
    "start_time": "2024-04-13T17:20:24.358Z"
   },
   {
    "duration": 8,
    "start_time": "2024-04-13T17:20:24.369Z"
   },
   {
    "duration": 62,
    "start_time": "2024-04-13T17:20:24.378Z"
   },
   {
    "duration": 9,
    "start_time": "2024-04-13T17:20:24.442Z"
   },
   {
    "duration": 20,
    "start_time": "2024-04-13T17:20:24.453Z"
   },
   {
    "duration": 11,
    "start_time": "2024-04-13T17:20:24.475Z"
   },
   {
    "duration": 16,
    "start_time": "2024-04-13T17:20:24.488Z"
   },
   {
    "duration": 17,
    "start_time": "2024-04-13T17:20:24.505Z"
   },
   {
    "duration": 17,
    "start_time": "2024-04-13T17:20:24.523Z"
   },
   {
    "duration": 8,
    "start_time": "2024-04-13T17:20:24.541Z"
   },
   {
    "duration": 21,
    "start_time": "2024-04-13T17:20:24.550Z"
   },
   {
    "duration": 11,
    "start_time": "2024-04-13T17:20:24.573Z"
   },
   {
    "duration": 37,
    "start_time": "2024-04-13T17:20:24.586Z"
   },
   {
    "duration": 5,
    "start_time": "2024-04-13T17:20:24.624Z"
   },
   {
    "duration": 10,
    "start_time": "2024-04-13T17:20:24.633Z"
   },
   {
    "duration": 173,
    "start_time": "2024-04-13T17:20:24.645Z"
   },
   {
    "duration": 4,
    "start_time": "2024-04-13T17:20:24.820Z"
   },
   {
    "duration": 8,
    "start_time": "2024-04-13T17:20:24.826Z"
   },
   {
    "duration": 10,
    "start_time": "2024-04-13T17:20:24.836Z"
   },
   {
    "duration": 36,
    "start_time": "2024-04-13T17:20:24.848Z"
   },
   {
    "duration": 6,
    "start_time": "2024-04-13T17:20:24.885Z"
   },
   {
    "duration": 20,
    "start_time": "2024-04-13T17:20:24.892Z"
   },
   {
    "duration": 39,
    "start_time": "2024-04-13T17:20:24.913Z"
   },
   {
    "duration": 10,
    "start_time": "2024-04-13T17:20:24.953Z"
   },
   {
    "duration": 13,
    "start_time": "2024-04-13T17:20:24.965Z"
   },
   {
    "duration": 15,
    "start_time": "2024-04-13T17:20:24.979Z"
   },
   {
    "duration": 37,
    "start_time": "2024-04-13T17:20:24.996Z"
   },
   {
    "duration": 21,
    "start_time": "2024-04-13T17:20:25.035Z"
   },
   {
    "duration": 16,
    "start_time": "2024-04-13T17:20:25.058Z"
   },
   {
    "duration": 21,
    "start_time": "2024-04-13T17:22:56.707Z"
   },
   {
    "duration": 4,
    "start_time": "2024-04-13T17:46:33.549Z"
   },
   {
    "duration": 237,
    "start_time": "2024-04-13T17:46:33.555Z"
   },
   {
    "duration": 25,
    "start_time": "2024-04-13T17:46:33.793Z"
   },
   {
    "duration": 14,
    "start_time": "2024-04-13T17:46:33.819Z"
   },
   {
    "duration": 41,
    "start_time": "2024-04-13T17:46:33.834Z"
   },
   {
    "duration": 21,
    "start_time": "2024-04-13T17:46:33.877Z"
   },
   {
    "duration": 11,
    "start_time": "2024-04-13T17:46:33.900Z"
   },
   {
    "duration": 7,
    "start_time": "2024-04-13T17:46:33.912Z"
   },
   {
    "duration": 27,
    "start_time": "2024-04-13T17:46:33.921Z"
   },
   {
    "duration": 24,
    "start_time": "2024-04-13T17:46:33.966Z"
   },
   {
    "duration": 20,
    "start_time": "2024-04-13T17:46:33.992Z"
   },
   {
    "duration": 5,
    "start_time": "2024-04-13T17:46:34.014Z"
   },
   {
    "duration": 45,
    "start_time": "2024-04-13T17:46:34.021Z"
   },
   {
    "duration": 13,
    "start_time": "2024-04-13T17:46:34.067Z"
   },
   {
    "duration": 22,
    "start_time": "2024-04-13T17:46:34.081Z"
   },
   {
    "duration": 23,
    "start_time": "2024-04-13T17:46:34.104Z"
   },
   {
    "duration": 40,
    "start_time": "2024-04-13T17:46:34.128Z"
   },
   {
    "duration": 19,
    "start_time": "2024-04-13T17:46:34.169Z"
   },
   {
    "duration": 18,
    "start_time": "2024-04-13T17:46:34.189Z"
   },
   {
    "duration": 13,
    "start_time": "2024-04-13T17:46:34.209Z"
   },
   {
    "duration": 33,
    "start_time": "2024-04-13T17:46:34.224Z"
   },
   {
    "duration": 9,
    "start_time": "2024-04-13T17:46:34.258Z"
   },
   {
    "duration": 8,
    "start_time": "2024-04-13T17:46:34.268Z"
   },
   {
    "duration": 7,
    "start_time": "2024-04-13T17:46:34.277Z"
   },
   {
    "duration": 67,
    "start_time": "2024-04-13T17:46:34.285Z"
   },
   {
    "duration": 11,
    "start_time": "2024-04-13T17:46:34.353Z"
   },
   {
    "duration": 23,
    "start_time": "2024-04-13T17:46:34.365Z"
   },
   {
    "duration": 12,
    "start_time": "2024-04-13T17:46:34.390Z"
   },
   {
    "duration": 9,
    "start_time": "2024-04-13T17:46:34.403Z"
   },
   {
    "duration": 10,
    "start_time": "2024-04-13T17:46:34.413Z"
   },
   {
    "duration": 11,
    "start_time": "2024-04-13T17:46:34.424Z"
   },
   {
    "duration": 29,
    "start_time": "2024-04-13T17:46:34.436Z"
   },
   {
    "duration": 12,
    "start_time": "2024-04-13T17:46:34.467Z"
   },
   {
    "duration": 12,
    "start_time": "2024-04-13T17:46:34.480Z"
   },
   {
    "duration": 31,
    "start_time": "2024-04-13T17:46:34.494Z"
   },
   {
    "duration": 5,
    "start_time": "2024-04-13T17:46:34.527Z"
   },
   {
    "duration": 32,
    "start_time": "2024-04-13T17:46:34.535Z"
   },
   {
    "duration": 154,
    "start_time": "2024-04-13T17:46:34.569Z"
   },
   {
    "duration": 6,
    "start_time": "2024-04-13T17:46:34.725Z"
   },
   {
    "duration": 32,
    "start_time": "2024-04-13T17:46:34.732Z"
   },
   {
    "duration": 7,
    "start_time": "2024-04-13T17:46:34.766Z"
   },
   {
    "duration": 23,
    "start_time": "2024-04-13T17:46:34.775Z"
   },
   {
    "duration": 14,
    "start_time": "2024-04-13T17:46:34.800Z"
   },
   {
    "duration": 8,
    "start_time": "2024-04-13T17:46:34.815Z"
   },
   {
    "duration": 23,
    "start_time": "2024-04-13T17:46:34.825Z"
   },
   {
    "duration": 7,
    "start_time": "2024-04-13T17:46:34.850Z"
   },
   {
    "duration": 5,
    "start_time": "2024-04-13T17:46:34.865Z"
   },
   {
    "duration": 8,
    "start_time": "2024-04-13T17:46:34.871Z"
   },
   {
    "duration": 25,
    "start_time": "2024-04-13T17:46:34.880Z"
   },
   {
    "duration": 4,
    "start_time": "2024-04-13T17:46:34.907Z"
   },
   {
    "duration": 7,
    "start_time": "2024-04-13T17:46:34.912Z"
   },
   {
    "duration": 16,
    "start_time": "2024-04-13T17:47:38.363Z"
   },
   {
    "duration": 5,
    "start_time": "2024-04-13T17:49:12.113Z"
   },
   {
    "duration": 57,
    "start_time": "2024-04-13T17:50:21.096Z"
   },
   {
    "duration": 5,
    "start_time": "2024-04-13T17:50:26.157Z"
   },
   {
    "duration": 4,
    "start_time": "2024-04-13T17:50:42.860Z"
   },
   {
    "duration": 7,
    "start_time": "2024-04-13T17:51:04.293Z"
   },
   {
    "duration": 43,
    "start_time": "2024-04-13T17:51:30.135Z"
   },
   {
    "duration": 45,
    "start_time": "2024-04-13T17:51:44.869Z"
   },
   {
    "duration": 49,
    "start_time": "2024-04-13T17:52:31.210Z"
   },
   {
    "duration": 12,
    "start_time": "2024-04-13T17:52:36.385Z"
   },
   {
    "duration": 6,
    "start_time": "2024-04-13T17:52:47.821Z"
   },
   {
    "duration": 7,
    "start_time": "2024-04-13T17:53:01.280Z"
   },
   {
    "duration": 9,
    "start_time": "2024-04-13T17:54:14.036Z"
   },
   {
    "duration": 9,
    "start_time": "2024-04-13T17:54:20.861Z"
   },
   {
    "duration": 10,
    "start_time": "2024-04-13T17:54:26.683Z"
   },
   {
    "duration": 6,
    "start_time": "2024-04-13T17:54:34.165Z"
   },
   {
    "duration": 10,
    "start_time": "2024-04-13T17:54:36.216Z"
   },
   {
    "duration": 9,
    "start_time": "2024-04-13T17:54:59.385Z"
   },
   {
    "duration": 114,
    "start_time": "2024-04-13T17:55:20.561Z"
   },
   {
    "duration": 130,
    "start_time": "2024-04-13T17:55:34.189Z"
   },
   {
    "duration": 173,
    "start_time": "2024-04-13T17:57:33.764Z"
   },
   {
    "duration": 215,
    "start_time": "2024-04-13T17:57:36.296Z"
   },
   {
    "duration": 9,
    "start_time": "2024-04-13T18:00:29.034Z"
   },
   {
    "duration": 156,
    "start_time": "2024-04-13T18:02:29.885Z"
   },
   {
    "duration": 148,
    "start_time": "2024-04-13T18:02:32.392Z"
   },
   {
    "duration": 134,
    "start_time": "2024-04-13T18:02:39.835Z"
   },
   {
    "duration": 121,
    "start_time": "2024-04-13T18:02:44.025Z"
   },
   {
    "duration": 128,
    "start_time": "2024-04-13T18:02:49.236Z"
   },
   {
    "duration": 128,
    "start_time": "2024-04-13T18:03:10.897Z"
   },
   {
    "duration": 17,
    "start_time": "2024-04-13T18:59:29.404Z"
   },
   {
    "duration": 15,
    "start_time": "2024-04-13T19:00:28.139Z"
   },
   {
    "duration": 7,
    "start_time": "2024-04-13T19:01:26.457Z"
   },
   {
    "duration": 5,
    "start_time": "2024-04-13T19:02:26.067Z"
   },
   {
    "duration": 6,
    "start_time": "2024-04-13T19:02:41.926Z"
   },
   {
    "duration": 10,
    "start_time": "2024-04-13T19:02:43.602Z"
   },
   {
    "duration": 8,
    "start_time": "2024-04-13T19:02:51.421Z"
   },
   {
    "duration": 6,
    "start_time": "2024-04-13T19:03:05.614Z"
   },
   {
    "duration": 17,
    "start_time": "2024-04-13T19:03:31.393Z"
   },
   {
    "duration": 17,
    "start_time": "2024-04-13T19:03:47.987Z"
   },
   {
    "duration": 3,
    "start_time": "2024-04-13T19:04:31.154Z"
   },
   {
    "duration": 3,
    "start_time": "2024-04-13T19:04:34.652Z"
   },
   {
    "duration": 12,
    "start_time": "2024-04-13T19:04:38.999Z"
   },
   {
    "duration": 6,
    "start_time": "2024-04-13T19:05:19.926Z"
   },
   {
    "duration": 6,
    "start_time": "2024-04-13T19:05:28.605Z"
   },
   {
    "duration": 6,
    "start_time": "2024-04-13T19:06:18.845Z"
   },
   {
    "duration": 9,
    "start_time": "2024-04-13T19:06:36.707Z"
   },
   {
    "duration": 8,
    "start_time": "2024-04-13T19:07:47.707Z"
   },
   {
    "duration": 121,
    "start_time": "2024-04-13T19:08:27.081Z"
   },
   {
    "duration": 152,
    "start_time": "2024-04-13T19:08:56.954Z"
   },
   {
    "duration": 166,
    "start_time": "2024-04-13T19:21:31.781Z"
   },
   {
    "duration": 156,
    "start_time": "2024-04-13T19:25:10.163Z"
   },
   {
    "duration": 12,
    "start_time": "2024-04-13T19:25:46.441Z"
   },
   {
    "duration": 7,
    "start_time": "2024-04-13T19:25:51.611Z"
   },
   {
    "duration": 119,
    "start_time": "2024-04-13T19:26:02.110Z"
   },
   {
    "duration": 11,
    "start_time": "2024-04-13T19:26:12.096Z"
   },
   {
    "duration": 145,
    "start_time": "2024-04-13T19:26:12.661Z"
   },
   {
    "duration": 252,
    "start_time": "2024-04-13T19:26:26.451Z"
   },
   {
    "duration": 9,
    "start_time": "2024-04-13T19:26:46.801Z"
   },
   {
    "duration": 10,
    "start_time": "2024-04-13T19:26:50.354Z"
   },
   {
    "duration": 7,
    "start_time": "2024-04-13T19:26:51.616Z"
   },
   {
    "duration": 7,
    "start_time": "2024-04-13T19:26:54.338Z"
   },
   {
    "duration": 120,
    "start_time": "2024-04-13T19:27:03.975Z"
   },
   {
    "duration": 12,
    "start_time": "2024-04-13T19:28:36.223Z"
   },
   {
    "duration": 118,
    "start_time": "2024-04-13T19:29:27.455Z"
   },
   {
    "duration": 118,
    "start_time": "2024-04-13T19:29:42.017Z"
   },
   {
    "duration": 9,
    "start_time": "2024-04-13T19:30:18.717Z"
   },
   {
    "duration": 7,
    "start_time": "2024-04-13T19:30:39.970Z"
   },
   {
    "duration": 6,
    "start_time": "2024-04-13T19:30:43.145Z"
   },
   {
    "duration": 10,
    "start_time": "2024-04-13T19:31:22.435Z"
   },
   {
    "duration": 5,
    "start_time": "2024-04-13T19:31:47.497Z"
   },
   {
    "duration": 5,
    "start_time": "2024-04-13T19:32:04.816Z"
   },
   {
    "duration": 13,
    "start_time": "2024-04-13T19:33:03.241Z"
   },
   {
    "duration": 24,
    "start_time": "2024-04-13T19:33:57.261Z"
   },
   {
    "duration": 132,
    "start_time": "2024-04-13T19:35:48.468Z"
   },
   {
    "duration": 204,
    "start_time": "2024-04-13T19:36:15.027Z"
   },
   {
    "duration": 175,
    "start_time": "2024-04-13T19:36:31.919Z"
   },
   {
    "duration": 188,
    "start_time": "2024-04-13T19:36:43.115Z"
   },
   {
    "duration": 890,
    "start_time": "2024-04-13T19:37:14.575Z"
   },
   {
    "duration": 19,
    "start_time": "2024-04-13T19:37:25.895Z"
   },
   {
    "duration": 154,
    "start_time": "2024-04-13T19:37:30.241Z"
   },
   {
    "duration": 152,
    "start_time": "2024-04-13T19:37:49.590Z"
   },
   {
    "duration": 205,
    "start_time": "2024-04-13T19:37:57.682Z"
   },
   {
    "duration": 1008,
    "start_time": "2024-04-13T19:38:02.461Z"
   },
   {
    "duration": 197,
    "start_time": "2024-04-13T19:38:05.494Z"
   },
   {
    "duration": 6,
    "start_time": "2024-04-13T19:38:29.438Z"
   },
   {
    "duration": 704,
    "start_time": "2024-04-13T19:38:36.806Z"
   },
   {
    "duration": 5,
    "start_time": "2024-04-13T19:38:39.483Z"
   },
   {
    "duration": 4,
    "start_time": "2024-04-13T19:38:45.654Z"
   },
   {
    "duration": 5,
    "start_time": "2024-04-13T19:38:54.430Z"
   },
   {
    "duration": 9,
    "start_time": "2024-04-13T19:39:09.996Z"
   },
   {
    "duration": 10,
    "start_time": "2024-04-13T19:41:45.420Z"
   },
   {
    "duration": 12,
    "start_time": "2024-04-13T19:42:04.147Z"
   },
   {
    "duration": 11,
    "start_time": "2024-04-13T19:42:06.340Z"
   },
   {
    "duration": 8,
    "start_time": "2024-04-13T19:42:13.563Z"
   },
   {
    "duration": 12,
    "start_time": "2024-04-13T19:42:20.790Z"
   },
   {
    "duration": 10,
    "start_time": "2024-04-13T19:42:31.353Z"
   },
   {
    "duration": 12,
    "start_time": "2024-04-13T19:42:38.838Z"
   },
   {
    "duration": 178,
    "start_time": "2024-04-13T19:43:54.064Z"
   },
   {
    "duration": 13,
    "start_time": "2024-04-13T19:45:25.914Z"
   },
   {
    "duration": 4,
    "start_time": "2024-04-13T19:45:28.592Z"
   },
   {
    "duration": 5,
    "start_time": "2024-04-13T19:45:33.147Z"
   },
   {
    "duration": 5,
    "start_time": "2024-04-13T19:45:38.172Z"
   },
   {
    "duration": 565,
    "start_time": "2024-04-13T19:46:24.306Z"
   },
   {
    "duration": 129,
    "start_time": "2024-04-13T19:46:51.484Z"
   },
   {
    "duration": 3,
    "start_time": "2024-04-13T19:47:55.097Z"
   },
   {
    "duration": 4,
    "start_time": "2024-04-13T19:47:59.925Z"
   },
   {
    "duration": 4,
    "start_time": "2024-04-13T19:52:10.740Z"
   },
   {
    "duration": 570,
    "start_time": "2024-04-13T19:53:01.274Z"
   },
   {
    "duration": 9,
    "start_time": "2024-04-13T19:53:30.729Z"
   },
   {
    "duration": 9,
    "start_time": "2024-04-13T19:53:34.181Z"
   },
   {
    "duration": 6,
    "start_time": "2024-04-13T19:53:57.721Z"
   },
   {
    "duration": 6,
    "start_time": "2024-04-13T19:54:01.175Z"
   },
   {
    "duration": 6,
    "start_time": "2024-04-13T19:54:03.812Z"
   },
   {
    "duration": 5,
    "start_time": "2024-04-13T19:54:49.146Z"
   },
   {
    "duration": 4,
    "start_time": "2024-04-13T19:54:53.192Z"
   },
   {
    "duration": 9,
    "start_time": "2024-04-13T19:57:52.917Z"
   },
   {
    "duration": 9,
    "start_time": "2024-04-13T19:58:00.603Z"
   },
   {
    "duration": 5,
    "start_time": "2024-04-13T19:58:15.620Z"
   },
   {
    "duration": 8,
    "start_time": "2024-04-13T19:58:19.036Z"
   },
   {
    "duration": 8,
    "start_time": "2024-04-13T19:58:21.428Z"
   },
   {
    "duration": 4,
    "start_time": "2024-04-13T19:58:27.804Z"
   },
   {
    "duration": 15,
    "start_time": "2024-04-13T19:58:42.525Z"
   },
   {
    "duration": 12,
    "start_time": "2024-04-13T19:59:11.680Z"
   },
   {
    "duration": 112,
    "start_time": "2024-04-13T20:00:18.500Z"
   },
   {
    "duration": 112,
    "start_time": "2024-04-13T20:00:33.435Z"
   },
   {
    "duration": 180,
    "start_time": "2024-04-13T20:01:22.703Z"
   },
   {
    "duration": 184,
    "start_time": "2024-04-13T20:05:29.870Z"
   },
   {
    "duration": 167,
    "start_time": "2024-04-13T20:05:44.841Z"
   },
   {
    "duration": 166,
    "start_time": "2024-04-13T20:07:26.701Z"
   },
   {
    "duration": 1364,
    "start_time": "2024-04-14T06:24:59.414Z"
   },
   {
    "duration": 280,
    "start_time": "2024-04-14T06:25:00.780Z"
   },
   {
    "duration": 31,
    "start_time": "2024-04-14T06:25:01.062Z"
   },
   {
    "duration": 15,
    "start_time": "2024-04-14T06:25:01.096Z"
   },
   {
    "duration": 102,
    "start_time": "2024-04-14T06:25:01.113Z"
   },
   {
    "duration": 42,
    "start_time": "2024-04-14T06:25:01.217Z"
   },
   {
    "duration": 31,
    "start_time": "2024-04-14T06:25:01.260Z"
   },
   {
    "duration": 35,
    "start_time": "2024-04-14T06:25:01.293Z"
   },
   {
    "duration": 47,
    "start_time": "2024-04-14T06:25:01.329Z"
   },
   {
    "duration": 51,
    "start_time": "2024-04-14T06:25:01.379Z"
   },
   {
    "duration": 35,
    "start_time": "2024-04-14T06:25:01.432Z"
   },
   {
    "duration": 44,
    "start_time": "2024-04-14T06:25:01.469Z"
   },
   {
    "duration": 166,
    "start_time": "2024-04-14T06:25:01.514Z"
   },
   {
    "duration": 51,
    "start_time": "2024-04-14T06:25:01.682Z"
   },
   {
    "duration": 68,
    "start_time": "2024-04-14T06:25:01.735Z"
   },
   {
    "duration": 211,
    "start_time": "2024-04-14T06:25:01.805Z"
   },
   {
    "duration": 151,
    "start_time": "2024-04-14T06:25:02.018Z"
   },
   {
    "duration": 122,
    "start_time": "2024-04-14T06:25:02.171Z"
   },
   {
    "duration": 50,
    "start_time": "2024-04-14T06:25:02.294Z"
   },
   {
    "duration": 56,
    "start_time": "2024-04-14T06:25:02.346Z"
   },
   {
    "duration": 87,
    "start_time": "2024-04-14T06:25:02.404Z"
   },
   {
    "duration": 171,
    "start_time": "2024-04-14T06:25:02.493Z"
   },
   {
    "duration": 53,
    "start_time": "2024-04-14T06:25:02.666Z"
   },
   {
    "duration": 29,
    "start_time": "2024-04-14T06:25:02.721Z"
   },
   {
    "duration": 98,
    "start_time": "2024-04-14T06:25:02.752Z"
   },
   {
    "duration": 19,
    "start_time": "2024-04-14T06:25:02.852Z"
   },
   {
    "duration": 40,
    "start_time": "2024-04-14T06:25:02.872Z"
   },
   {
    "duration": 93,
    "start_time": "2024-04-14T06:25:02.916Z"
   },
   {
    "duration": 168,
    "start_time": "2024-04-14T06:25:03.011Z"
   },
   {
    "duration": 33,
    "start_time": "2024-04-14T06:25:03.180Z"
   },
   {
    "duration": 32,
    "start_time": "2024-04-14T06:25:03.215Z"
   },
   {
    "duration": 15,
    "start_time": "2024-04-14T06:25:03.249Z"
   },
   {
    "duration": 16,
    "start_time": "2024-04-14T06:25:03.266Z"
   },
   {
    "duration": 47,
    "start_time": "2024-04-14T06:25:03.284Z"
   },
   {
    "duration": 60,
    "start_time": "2024-04-14T06:25:03.333Z"
   },
   {
    "duration": 6,
    "start_time": "2024-04-14T06:25:03.394Z"
   },
   {
    "duration": 12,
    "start_time": "2024-04-14T06:25:03.401Z"
   },
   {
    "duration": 185,
    "start_time": "2024-04-14T06:25:03.415Z"
   },
   {
    "duration": 7,
    "start_time": "2024-04-14T06:25:03.602Z"
   },
   {
    "duration": 33,
    "start_time": "2024-04-14T06:25:03.610Z"
   },
   {
    "duration": 26,
    "start_time": "2024-04-14T06:25:03.645Z"
   },
   {
    "duration": 7,
    "start_time": "2024-04-14T06:25:03.673Z"
   },
   {
    "duration": 8,
    "start_time": "2024-04-14T06:25:03.682Z"
   },
   {
    "duration": 30,
    "start_time": "2024-04-14T06:25:03.692Z"
   },
   {
    "duration": 10,
    "start_time": "2024-04-14T06:25:03.724Z"
   },
   {
    "duration": 14,
    "start_time": "2024-04-14T06:25:03.736Z"
   },
   {
    "duration": 6,
    "start_time": "2024-04-14T06:25:03.752Z"
   },
   {
    "duration": 24,
    "start_time": "2024-04-14T06:25:03.759Z"
   },
   {
    "duration": 21,
    "start_time": "2024-04-14T06:25:03.785Z"
   },
   {
    "duration": 8,
    "start_time": "2024-04-14T06:25:03.808Z"
   },
   {
    "duration": 16,
    "start_time": "2024-04-14T06:25:03.818Z"
   },
   {
    "duration": 29,
    "start_time": "2024-04-14T06:25:03.835Z"
   },
   {
    "duration": 178,
    "start_time": "2024-04-14T06:25:03.866Z"
   },
   {
    "duration": 11,
    "start_time": "2024-04-14T06:25:04.046Z"
   },
   {
    "duration": 150,
    "start_time": "2024-04-14T06:25:04.059Z"
   },
   {
    "duration": 7,
    "start_time": "2024-04-14T06:25:34.537Z"
   },
   {
    "duration": 17,
    "start_time": "2024-04-14T06:25:37.280Z"
   },
   {
    "duration": 125,
    "start_time": "2024-04-14T06:27:15.437Z"
   },
   {
    "duration": 4,
    "start_time": "2024-04-14T06:30:17.988Z"
   },
   {
    "duration": 293,
    "start_time": "2024-04-14T06:30:17.994Z"
   },
   {
    "duration": 34,
    "start_time": "2024-04-14T06:30:18.289Z"
   },
   {
    "duration": 14,
    "start_time": "2024-04-14T06:30:18.325Z"
   },
   {
    "duration": 81,
    "start_time": "2024-04-14T06:30:18.341Z"
   },
   {
    "duration": 87,
    "start_time": "2024-04-14T06:30:18.423Z"
   },
   {
    "duration": 72,
    "start_time": "2024-04-14T06:30:18.512Z"
   },
   {
    "duration": 7,
    "start_time": "2024-04-14T06:30:18.586Z"
   },
   {
    "duration": 27,
    "start_time": "2024-04-14T06:30:18.595Z"
   },
   {
    "duration": 29,
    "start_time": "2024-04-14T06:30:18.680Z"
   },
   {
    "duration": 24,
    "start_time": "2024-04-14T06:30:18.710Z"
   },
   {
    "duration": 6,
    "start_time": "2024-04-14T06:30:18.735Z"
   },
   {
    "duration": 55,
    "start_time": "2024-04-14T06:30:18.743Z"
   },
   {
    "duration": 18,
    "start_time": "2024-04-14T06:30:18.801Z"
   },
   {
    "duration": 24,
    "start_time": "2024-04-14T06:30:18.821Z"
   },
   {
    "duration": 54,
    "start_time": "2024-04-14T06:30:18.847Z"
   },
   {
    "duration": 15,
    "start_time": "2024-04-14T06:30:18.903Z"
   },
   {
    "duration": 31,
    "start_time": "2024-04-14T06:30:18.919Z"
   },
   {
    "duration": 9,
    "start_time": "2024-04-14T06:30:18.952Z"
   },
   {
    "duration": 24,
    "start_time": "2024-04-14T06:30:18.963Z"
   },
   {
    "duration": 43,
    "start_time": "2024-04-14T06:30:18.988Z"
   },
   {
    "duration": 4,
    "start_time": "2024-04-14T06:30:19.033Z"
   },
   {
    "duration": 4,
    "start_time": "2024-04-14T06:30:19.039Z"
   },
   {
    "duration": 5,
    "start_time": "2024-04-14T06:30:19.044Z"
   },
   {
    "duration": 82,
    "start_time": "2024-04-14T06:30:19.050Z"
   },
   {
    "duration": 12,
    "start_time": "2024-04-14T06:30:19.133Z"
   },
   {
    "duration": 45,
    "start_time": "2024-04-14T06:30:19.147Z"
   },
   {
    "duration": 21,
    "start_time": "2024-04-14T06:30:19.194Z"
   },
   {
    "duration": 12,
    "start_time": "2024-04-14T06:30:19.217Z"
   },
   {
    "duration": 13,
    "start_time": "2024-04-14T06:30:19.231Z"
   },
   {
    "duration": 35,
    "start_time": "2024-04-14T06:30:19.246Z"
   },
   {
    "duration": 5,
    "start_time": "2024-04-14T06:30:19.284Z"
   },
   {
    "duration": 25,
    "start_time": "2024-04-14T06:30:19.291Z"
   },
   {
    "duration": 15,
    "start_time": "2024-04-14T06:30:19.317Z"
   },
   {
    "duration": 61,
    "start_time": "2024-04-14T06:30:19.334Z"
   },
   {
    "duration": 6,
    "start_time": "2024-04-14T06:30:19.398Z"
   },
   {
    "duration": 6,
    "start_time": "2024-04-14T06:30:19.407Z"
   },
   {
    "duration": 197,
    "start_time": "2024-04-14T06:30:19.415Z"
   },
   {
    "duration": 5,
    "start_time": "2024-04-14T06:30:19.614Z"
   },
   {
    "duration": 8,
    "start_time": "2024-04-14T06:30:19.621Z"
   },
   {
    "duration": 4,
    "start_time": "2024-04-14T06:30:19.633Z"
   },
   {
    "duration": 5,
    "start_time": "2024-04-14T06:30:19.639Z"
   },
   {
    "duration": 3,
    "start_time": "2024-04-14T06:30:19.645Z"
   },
   {
    "duration": 49,
    "start_time": "2024-04-14T06:30:19.650Z"
   },
   {
    "duration": 7,
    "start_time": "2024-04-14T06:30:19.701Z"
   },
   {
    "duration": 8,
    "start_time": "2024-04-14T06:30:19.709Z"
   },
   {
    "duration": 6,
    "start_time": "2024-04-14T06:30:19.718Z"
   },
   {
    "duration": 24,
    "start_time": "2024-04-14T06:30:19.725Z"
   },
   {
    "duration": 31,
    "start_time": "2024-04-14T06:30:19.751Z"
   },
   {
    "duration": 11,
    "start_time": "2024-04-14T06:30:19.784Z"
   },
   {
    "duration": 9,
    "start_time": "2024-04-14T06:30:19.797Z"
   },
   {
    "duration": 15,
    "start_time": "2024-04-14T06:30:19.808Z"
   },
   {
    "duration": 142,
    "start_time": "2024-04-14T06:30:19.825Z"
   },
   {
    "duration": 14,
    "start_time": "2024-04-14T06:30:19.980Z"
   },
   {
    "duration": 142,
    "start_time": "2024-04-14T06:30:19.996Z"
   },
   {
    "duration": 9,
    "start_time": "2024-04-14T06:30:20.139Z"
   },
   {
    "duration": 178,
    "start_time": "2024-04-14T06:30:20.149Z"
   },
   {
    "duration": 7,
    "start_time": "2024-04-14T06:30:20.328Z"
   },
   {
    "duration": 14,
    "start_time": "2024-04-14T06:30:20.337Z"
   },
   {
    "duration": 33,
    "start_time": "2024-04-14T06:30:20.353Z"
   },
   {
    "duration": 234,
    "start_time": "2024-04-14T06:30:20.388Z"
   },
   {
    "duration": 9,
    "start_time": "2024-04-14T06:36:06.701Z"
   },
   {
    "duration": 123,
    "start_time": "2024-04-14T06:36:22.199Z"
   },
   {
    "duration": 12,
    "start_time": "2024-04-14T06:36:30.388Z"
   },
   {
    "duration": 8,
    "start_time": "2024-04-14T06:36:40.221Z"
   },
   {
    "duration": 8,
    "start_time": "2024-04-14T06:36:43.615Z"
   },
   {
    "duration": 181,
    "start_time": "2024-04-14T06:37:33.569Z"
   },
   {
    "duration": 10,
    "start_time": "2024-04-14T06:40:15.154Z"
   },
   {
    "duration": 8,
    "start_time": "2024-04-14T06:42:48.086Z"
   },
   {
    "duration": 161,
    "start_time": "2024-04-14T06:43:23.875Z"
   },
   {
    "duration": 113,
    "start_time": "2024-04-14T06:46:20.650Z"
   },
   {
    "duration": 9,
    "start_time": "2024-04-14T06:50:35.358Z"
   },
   {
    "duration": 101,
    "start_time": "2024-04-14T06:50:40.946Z"
   },
   {
    "duration": 86,
    "start_time": "2024-04-14T06:50:48.335Z"
   },
   {
    "duration": 4,
    "start_time": "2024-04-14T06:52:41.590Z"
   },
   {
    "duration": 14,
    "start_time": "2024-04-14T06:53:12.803Z"
   },
   {
    "duration": 36,
    "start_time": "2024-04-14T06:54:16.044Z"
   },
   {
    "duration": 3,
    "start_time": "2024-04-14T06:54:37.236Z"
   },
   {
    "duration": 370,
    "start_time": "2024-04-14T06:54:37.756Z"
   },
   {
    "duration": 9,
    "start_time": "2024-04-14T06:56:12.291Z"
   },
   {
    "duration": 8,
    "start_time": "2024-04-14T06:56:20.828Z"
   },
   {
    "duration": 248,
    "start_time": "2024-04-14T06:56:26.815Z"
   },
   {
    "duration": 135,
    "start_time": "2024-04-14T06:56:44.380Z"
   },
   {
    "duration": 134,
    "start_time": "2024-04-14T06:56:53.115Z"
   },
   {
    "duration": 133,
    "start_time": "2024-04-14T06:57:22.144Z"
   },
   {
    "duration": 126,
    "start_time": "2024-04-14T06:57:28.006Z"
   },
   {
    "duration": 157,
    "start_time": "2024-04-14T06:58:40.439Z"
   },
   {
    "duration": 126,
    "start_time": "2024-04-14T06:58:48.625Z"
   },
   {
    "duration": 162,
    "start_time": "2024-04-14T06:59:04.990Z"
   },
   {
    "duration": 160,
    "start_time": "2024-04-14T06:59:40.647Z"
   },
   {
    "duration": 11,
    "start_time": "2024-04-14T06:59:51.437Z"
   },
   {
    "duration": 85,
    "start_time": "2024-04-14T06:59:58.897Z"
   },
   {
    "duration": 131,
    "start_time": "2024-04-14T07:00:11.744Z"
   },
   {
    "duration": 362,
    "start_time": "2024-04-14T07:03:01.132Z"
   },
   {
    "duration": 248,
    "start_time": "2024-04-14T07:04:59.305Z"
   },
   {
    "duration": 281,
    "start_time": "2024-04-14T07:05:09.180Z"
   },
   {
    "duration": 282,
    "start_time": "2024-04-14T07:05:23.870Z"
   },
   {
    "duration": 377,
    "start_time": "2024-04-14T07:05:50.128Z"
   },
   {
    "duration": 278,
    "start_time": "2024-04-14T07:05:54.692Z"
   },
   {
    "duration": 296,
    "start_time": "2024-04-14T07:06:00.247Z"
   },
   {
    "duration": 10,
    "start_time": "2024-04-14T07:06:39.060Z"
   },
   {
    "duration": 257,
    "start_time": "2024-04-14T07:07:23.500Z"
   },
   {
    "duration": 242,
    "start_time": "2024-04-14T07:08:58.315Z"
   },
   {
    "duration": 273,
    "start_time": "2024-04-14T07:09:01.386Z"
   },
   {
    "duration": 293,
    "start_time": "2024-04-14T07:09:06.973Z"
   },
   {
    "duration": 9,
    "start_time": "2024-04-14T07:11:18.243Z"
   },
   {
    "duration": 263,
    "start_time": "2024-04-14T07:11:42.933Z"
   },
   {
    "duration": 273,
    "start_time": "2024-04-14T07:13:13.393Z"
   },
   {
    "duration": 239,
    "start_time": "2024-04-14T07:13:26.821Z"
   },
   {
    "duration": 282,
    "start_time": "2024-04-14T07:13:37.982Z"
   },
   {
    "duration": 262,
    "start_time": "2024-04-14T07:13:40.597Z"
   },
   {
    "duration": 303,
    "start_time": "2024-04-14T07:13:57.445Z"
   },
   {
    "duration": 266,
    "start_time": "2024-04-14T07:14:05.233Z"
   },
   {
    "duration": 289,
    "start_time": "2024-04-14T07:14:11.374Z"
   },
   {
    "duration": 274,
    "start_time": "2024-04-14T07:14:20.194Z"
   },
   {
    "duration": 293,
    "start_time": "2024-04-14T07:14:31.554Z"
   },
   {
    "duration": 425,
    "start_time": "2024-04-14T07:14:37.113Z"
   },
   {
    "duration": 231,
    "start_time": "2024-04-14T07:14:42.609Z"
   },
   {
    "duration": 303,
    "start_time": "2024-04-14T07:14:48.282Z"
   },
   {
    "duration": 283,
    "start_time": "2024-04-14T07:14:51.757Z"
   },
   {
    "duration": 287,
    "start_time": "2024-04-14T07:14:54.396Z"
   },
   {
    "duration": 285,
    "start_time": "2024-04-14T07:14:55.976Z"
   },
   {
    "duration": 230,
    "start_time": "2024-04-14T07:15:14.012Z"
   },
   {
    "duration": 266,
    "start_time": "2024-04-14T07:15:35.377Z"
   },
   {
    "duration": 244,
    "start_time": "2024-04-14T07:15:39.103Z"
   },
   {
    "duration": 239,
    "start_time": "2024-04-14T07:15:46.316Z"
   },
   {
    "duration": 249,
    "start_time": "2024-04-14T07:16:11.771Z"
   },
   {
    "duration": 199,
    "start_time": "2024-04-14T07:16:17.319Z"
   },
   {
    "duration": 252,
    "start_time": "2024-04-14T07:16:21.037Z"
   },
   {
    "duration": 279,
    "start_time": "2024-04-14T07:16:46.153Z"
   },
   {
    "duration": 270,
    "start_time": "2024-04-14T07:16:57.183Z"
   },
   {
    "duration": 324,
    "start_time": "2024-04-14T07:17:28.061Z"
   },
   {
    "duration": 308,
    "start_time": "2024-04-14T07:17:39.172Z"
   },
   {
    "duration": 251,
    "start_time": "2024-04-14T07:17:44.388Z"
   },
   {
    "duration": 284,
    "start_time": "2024-04-14T07:17:52.550Z"
   },
   {
    "duration": 269,
    "start_time": "2024-04-14T07:17:54.979Z"
   },
   {
    "duration": 223,
    "start_time": "2024-04-14T07:17:57.016Z"
   },
   {
    "duration": 421,
    "start_time": "2024-04-14T07:18:04.531Z"
   },
   {
    "duration": 216,
    "start_time": "2024-04-14T07:18:51.721Z"
   },
   {
    "duration": 142,
    "start_time": "2024-04-14T07:21:35.273Z"
   },
   {
    "duration": 141,
    "start_time": "2024-04-14T07:21:44.285Z"
   },
   {
    "duration": 146,
    "start_time": "2024-04-14T07:21:47.327Z"
   },
   {
    "duration": 152,
    "start_time": "2024-04-14T07:21:51.742Z"
   },
   {
    "duration": 148,
    "start_time": "2024-04-14T07:21:56.395Z"
   },
   {
    "duration": 167,
    "start_time": "2024-04-14T07:22:05.682Z"
   },
   {
    "duration": 146,
    "start_time": "2024-04-14T07:22:25.665Z"
   },
   {
    "duration": 72,
    "start_time": "2024-04-14T07:37:30.679Z"
   },
   {
    "duration": 3,
    "start_time": "2024-04-14T07:37:39.525Z"
   },
   {
    "duration": 4,
    "start_time": "2024-04-14T07:37:43.506Z"
   },
   {
    "duration": 96,
    "start_time": "2024-04-14T07:38:25.514Z"
   },
   {
    "duration": 2,
    "start_time": "2024-04-14T07:38:33.434Z"
   },
   {
    "duration": 4,
    "start_time": "2024-04-14T07:38:35.513Z"
   },
   {
    "duration": 8,
    "start_time": "2024-04-14T07:38:56.550Z"
   },
   {
    "duration": 3,
    "start_time": "2024-04-14T07:40:03.140Z"
   },
   {
    "duration": 8,
    "start_time": "2024-04-14T07:40:03.945Z"
   },
   {
    "duration": 3,
    "start_time": "2024-04-14T07:40:30.945Z"
   },
   {
    "duration": 8,
    "start_time": "2024-04-14T07:40:32.388Z"
   },
   {
    "duration": 2,
    "start_time": "2024-04-14T07:40:56.661Z"
   },
   {
    "duration": 8,
    "start_time": "2024-04-14T07:40:58.240Z"
   },
   {
    "duration": 4,
    "start_time": "2024-04-14T07:42:12.401Z"
   },
   {
    "duration": 9,
    "start_time": "2024-04-14T07:42:13.365Z"
   },
   {
    "duration": 3,
    "start_time": "2024-04-14T07:44:07.229Z"
   },
   {
    "duration": 9,
    "start_time": "2024-04-14T07:44:07.608Z"
   },
   {
    "duration": 11,
    "start_time": "2024-04-14T07:44:38.185Z"
   },
   {
    "duration": 7,
    "start_time": "2024-04-14T07:44:53.600Z"
   },
   {
    "duration": 5,
    "start_time": "2024-04-14T07:45:29.757Z"
   },
   {
    "duration": 10,
    "start_time": "2024-04-14T07:45:34.354Z"
   },
   {
    "duration": 11,
    "start_time": "2024-04-14T07:48:33.163Z"
   },
   {
    "duration": 12,
    "start_time": "2024-04-14T07:49:06.590Z"
   },
   {
    "duration": 8,
    "start_time": "2024-04-14T07:49:22.749Z"
   },
   {
    "duration": 18,
    "start_time": "2024-04-14T07:58:47.862Z"
   },
   {
    "duration": 7,
    "start_time": "2024-04-14T08:03:34.098Z"
   },
   {
    "duration": 19,
    "start_time": "2024-04-14T08:06:07.535Z"
   },
   {
    "duration": 20,
    "start_time": "2024-04-14T08:15:28.790Z"
   },
   {
    "duration": 8,
    "start_time": "2024-04-14T08:15:37.171Z"
   },
   {
    "duration": 7,
    "start_time": "2024-04-14T08:16:04.758Z"
   },
   {
    "duration": 17,
    "start_time": "2024-04-14T08:16:08.839Z"
   },
   {
    "duration": 8,
    "start_time": "2024-04-14T08:16:10.532Z"
   },
   {
    "duration": 6,
    "start_time": "2024-04-14T08:16:21.015Z"
   },
   {
    "duration": 7,
    "start_time": "2024-04-14T08:16:39.263Z"
   },
   {
    "duration": 12,
    "start_time": "2024-04-14T08:17:11.110Z"
   },
   {
    "duration": 7,
    "start_time": "2024-04-14T08:17:17.820Z"
   },
   {
    "duration": 7,
    "start_time": "2024-04-14T08:17:26.817Z"
   },
   {
    "duration": 6,
    "start_time": "2024-04-14T08:17:29.671Z"
   },
   {
    "duration": 10,
    "start_time": "2024-04-14T09:08:20.490Z"
   },
   {
    "duration": 22,
    "start_time": "2024-04-14T09:10:32.197Z"
   },
   {
    "duration": 25,
    "start_time": "2024-04-14T09:10:51.886Z"
   },
   {
    "duration": 8,
    "start_time": "2024-04-14T09:10:58.716Z"
   },
   {
    "duration": 6,
    "start_time": "2024-04-14T09:11:04.399Z"
   },
   {
    "duration": 8,
    "start_time": "2024-04-14T09:11:07.436Z"
   },
   {
    "duration": 7,
    "start_time": "2024-04-14T09:11:17.131Z"
   },
   {
    "duration": 92,
    "start_time": "2024-04-14T09:55:13.766Z"
   },
   {
    "duration": 1132,
    "start_time": "2024-04-14T10:03:23.831Z"
   },
   {
    "duration": 308,
    "start_time": "2024-04-14T10:03:24.964Z"
   },
   {
    "duration": 42,
    "start_time": "2024-04-14T10:03:25.273Z"
   },
   {
    "duration": 15,
    "start_time": "2024-04-14T10:03:25.318Z"
   },
   {
    "duration": 77,
    "start_time": "2024-04-14T10:03:25.335Z"
   },
   {
    "duration": 31,
    "start_time": "2024-04-14T10:03:25.415Z"
   },
   {
    "duration": 13,
    "start_time": "2024-04-14T10:03:25.448Z"
   },
   {
    "duration": 21,
    "start_time": "2024-04-14T10:03:25.463Z"
   },
   {
    "duration": 21,
    "start_time": "2024-04-14T10:03:25.486Z"
   },
   {
    "duration": 27,
    "start_time": "2024-04-14T10:03:25.508Z"
   },
   {
    "duration": 46,
    "start_time": "2024-04-14T10:03:25.536Z"
   },
   {
    "duration": 5,
    "start_time": "2024-04-14T10:03:25.584Z"
   },
   {
    "duration": 24,
    "start_time": "2024-04-14T10:03:25.592Z"
   },
   {
    "duration": 18,
    "start_time": "2024-04-14T10:03:25.618Z"
   },
   {
    "duration": 48,
    "start_time": "2024-04-14T10:03:25.639Z"
   },
   {
    "duration": 24,
    "start_time": "2024-04-14T10:03:25.689Z"
   },
   {
    "duration": 14,
    "start_time": "2024-04-14T10:03:25.714Z"
   },
   {
    "duration": 24,
    "start_time": "2024-04-14T10:03:25.729Z"
   },
   {
    "duration": 33,
    "start_time": "2024-04-14T10:03:25.754Z"
   },
   {
    "duration": 14,
    "start_time": "2024-04-14T10:03:25.789Z"
   },
   {
    "duration": 31,
    "start_time": "2024-04-14T10:03:25.804Z"
   },
   {
    "duration": 4,
    "start_time": "2024-04-14T10:03:25.836Z"
   },
   {
    "duration": 6,
    "start_time": "2024-04-14T10:03:25.842Z"
   },
   {
    "duration": 4,
    "start_time": "2024-04-14T10:03:25.849Z"
   },
   {
    "duration": 78,
    "start_time": "2024-04-14T10:03:25.855Z"
   },
   {
    "duration": 15,
    "start_time": "2024-04-14T10:03:25.935Z"
   },
   {
    "duration": 67,
    "start_time": "2024-04-14T10:03:25.952Z"
   },
   {
    "duration": 20,
    "start_time": "2024-04-14T10:03:26.022Z"
   },
   {
    "duration": 11,
    "start_time": "2024-04-14T10:03:26.044Z"
   },
   {
    "duration": 29,
    "start_time": "2024-04-14T10:03:26.057Z"
   },
   {
    "duration": 8,
    "start_time": "2024-04-14T10:03:26.087Z"
   },
   {
    "duration": 23,
    "start_time": "2024-04-14T10:03:26.096Z"
   },
   {
    "duration": 261,
    "start_time": "2024-04-14T10:03:26.121Z"
   },
   {
    "duration": 14,
    "start_time": "2024-04-14T10:03:26.384Z"
   },
   {
    "duration": 13,
    "start_time": "2024-04-14T10:03:26.400Z"
   },
   {
    "duration": 32,
    "start_time": "2024-04-14T10:03:26.415Z"
   },
   {
    "duration": 31,
    "start_time": "2024-04-14T10:03:26.449Z"
   },
   {
    "duration": 5,
    "start_time": "2024-04-14T10:03:26.482Z"
   },
   {
    "duration": 187,
    "start_time": "2024-04-14T10:03:26.489Z"
   },
   {
    "duration": 5,
    "start_time": "2024-04-14T10:03:26.683Z"
   },
   {
    "duration": 17,
    "start_time": "2024-04-14T10:03:26.689Z"
   },
   {
    "duration": 18,
    "start_time": "2024-04-14T10:03:26.708Z"
   },
   {
    "duration": 24,
    "start_time": "2024-04-14T10:03:26.728Z"
   },
   {
    "duration": 27,
    "start_time": "2024-04-14T10:03:26.754Z"
   },
   {
    "duration": 55,
    "start_time": "2024-04-14T10:03:26.783Z"
   },
   {
    "duration": 18,
    "start_time": "2024-04-14T10:03:26.839Z"
   },
   {
    "duration": 20,
    "start_time": "2024-04-14T10:03:26.859Z"
   },
   {
    "duration": 39,
    "start_time": "2024-04-14T10:03:26.881Z"
   },
   {
    "duration": 37,
    "start_time": "2024-04-14T10:03:26.922Z"
   },
   {
    "duration": 26,
    "start_time": "2024-04-14T10:03:26.961Z"
   },
   {
    "duration": 24,
    "start_time": "2024-04-14T10:03:26.989Z"
   },
   {
    "duration": 23,
    "start_time": "2024-04-14T10:03:27.016Z"
   },
   {
    "duration": 19,
    "start_time": "2024-04-14T10:03:27.040Z"
   },
   {
    "duration": 26,
    "start_time": "2024-04-14T10:03:27.061Z"
   },
   {
    "duration": 172,
    "start_time": "2024-04-14T10:03:27.089Z"
   },
   {
    "duration": 18,
    "start_time": "2024-04-14T10:03:27.263Z"
   },
   {
    "duration": 167,
    "start_time": "2024-04-14T10:03:27.283Z"
   },
   {
    "duration": 9,
    "start_time": "2024-04-14T10:03:27.452Z"
   },
   {
    "duration": 185,
    "start_time": "2024-04-14T10:03:27.463Z"
   },
   {
    "duration": 7,
    "start_time": "2024-04-14T10:03:27.649Z"
   },
   {
    "duration": 35,
    "start_time": "2024-04-14T10:03:27.657Z"
   },
   {
    "duration": 31,
    "start_time": "2024-04-14T10:03:27.694Z"
   },
   {
    "duration": 204,
    "start_time": "2024-04-14T10:03:27.727Z"
   },
   {
    "duration": 10,
    "start_time": "2024-04-14T10:03:27.933Z"
   },
   {
    "duration": 29,
    "start_time": "2024-04-14T10:03:27.945Z"
   },
   {
    "duration": 22,
    "start_time": "2024-04-14T10:03:27.977Z"
   },
   {
    "duration": 27,
    "start_time": "2024-04-14T10:03:28.001Z"
   },
   {
    "duration": 1429,
    "start_time": "2024-04-15T06:16:48.946Z"
   },
   {
    "duration": 266,
    "start_time": "2024-04-15T06:16:50.377Z"
   },
   {
    "duration": 40,
    "start_time": "2024-04-15T06:16:57.835Z"
   },
   {
    "duration": 16,
    "start_time": "2024-04-15T06:19:18.621Z"
   },
   {
    "duration": 19,
    "start_time": "2024-04-15T06:19:49.857Z"
   },
   {
    "duration": 39,
    "start_time": "2024-04-15T06:19:53.108Z"
   },
   {
    "duration": 15,
    "start_time": "2024-04-15T06:19:53.356Z"
   },
   {
    "duration": 24,
    "start_time": "2024-04-15T06:21:03.187Z"
   },
   {
    "duration": 13,
    "start_time": "2024-04-15T06:21:13.856Z"
   },
   {
    "duration": 2,
    "start_time": "2024-04-15T06:21:21.769Z"
   },
   {
    "duration": 238,
    "start_time": "2024-04-15T06:21:21.773Z"
   },
   {
    "duration": 35,
    "start_time": "2024-04-15T06:21:22.013Z"
   },
   {
    "duration": 16,
    "start_time": "2024-04-15T06:21:22.050Z"
   },
   {
    "duration": 20,
    "start_time": "2024-04-15T06:21:25.087Z"
   },
   {
    "duration": 37,
    "start_time": "2024-04-15T06:21:31.120Z"
   },
   {
    "duration": 12,
    "start_time": "2024-04-15T06:21:31.884Z"
   },
   {
    "duration": 3,
    "start_time": "2024-04-15T06:21:40.216Z"
   },
   {
    "duration": 234,
    "start_time": "2024-04-15T06:21:40.222Z"
   },
   {
    "duration": 35,
    "start_time": "2024-04-15T06:21:40.457Z"
   },
   {
    "duration": 16,
    "start_time": "2024-04-15T06:21:40.495Z"
   },
   {
    "duration": 14,
    "start_time": "2024-04-15T06:21:43.568Z"
   },
   {
    "duration": 18,
    "start_time": "2024-04-15T06:21:47.321Z"
   },
   {
    "duration": 16,
    "start_time": "2024-04-15T06:21:48.113Z"
   },
   {
    "duration": 24,
    "start_time": "2024-04-15T06:22:00.420Z"
   },
   {
    "duration": 19,
    "start_time": "2024-04-15T06:22:03.717Z"
   },
   {
    "duration": 6,
    "start_time": "2024-04-15T06:22:09.376Z"
   },
   {
    "duration": 14,
    "start_time": "2024-04-15T06:22:16.643Z"
   },
   {
    "duration": 3,
    "start_time": "2024-04-15T06:22:29.928Z"
   },
   {
    "duration": 229,
    "start_time": "2024-04-15T06:22:29.933Z"
   },
   {
    "duration": 28,
    "start_time": "2024-04-15T06:22:30.163Z"
   },
   {
    "duration": 36,
    "start_time": "2024-04-15T06:22:30.193Z"
   },
   {
    "duration": 96,
    "start_time": "2024-04-15T06:22:30.231Z"
   },
   {
    "duration": 16,
    "start_time": "2024-04-15T06:22:31.762Z"
   },
   {
    "duration": 11,
    "start_time": "2024-04-15T06:22:40.294Z"
   },
   {
    "duration": 5,
    "start_time": "2024-04-15T06:22:55.045Z"
   },
   {
    "duration": 22,
    "start_time": "2024-04-15T06:24:31.838Z"
   },
   {
    "duration": 4,
    "start_time": "2024-04-15T06:25:16.114Z"
   },
   {
    "duration": 186,
    "start_time": "2024-04-15T06:25:16.119Z"
   },
   {
    "duration": 27,
    "start_time": "2024-04-15T06:25:16.306Z"
   },
   {
    "duration": 16,
    "start_time": "2024-04-15T06:25:16.335Z"
   },
   {
    "duration": 51,
    "start_time": "2024-04-15T06:25:16.352Z"
   },
   {
    "duration": 5,
    "start_time": "2024-04-15T06:25:19.053Z"
   },
   {
    "duration": 10,
    "start_time": "2024-04-15T06:25:52.626Z"
   },
   {
    "duration": 7,
    "start_time": "2024-04-15T06:26:00.453Z"
   },
   {
    "duration": 13,
    "start_time": "2024-04-15T06:26:08.369Z"
   },
   {
    "duration": 6,
    "start_time": "2024-04-15T06:26:12.611Z"
   },
   {
    "duration": 11,
    "start_time": "2024-04-15T06:26:15.849Z"
   },
   {
    "duration": 17,
    "start_time": "2024-04-15T06:26:23.652Z"
   }
  ],
  "kernelspec": {
   "display_name": "Python 3 (ipykernel)",
   "language": "python",
   "name": "python3"
  },
  "language_info": {
   "codemirror_mode": {
    "name": "ipython",
    "version": 3
   },
   "file_extension": ".py",
   "mimetype": "text/x-python",
   "name": "python",
   "nbconvert_exporter": "python",
   "pygments_lexer": "ipython3",
   "version": "3.11.5"
  },
  "toc": {
   "base_numbering": 1,
   "nav_menu": {},
   "number_sections": true,
   "sideBar": true,
   "skip_h1_title": true,
   "title_cell": "Table of Contents",
   "title_sidebar": "Contents",
   "toc_cell": false,
   "toc_position": {},
   "toc_section_display": true,
   "toc_window_display": false
  },
  "toc-autonumbering": true,
  "toc-showcode": false,
  "toc-showmarkdowntxt": false,
  "toc-showtags": false
 },
 "nbformat": 4,
 "nbformat_minor": 4
}
